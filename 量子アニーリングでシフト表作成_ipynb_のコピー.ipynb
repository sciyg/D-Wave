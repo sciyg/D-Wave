{
  "nbformat": 4,
  "nbformat_minor": 0,
  "metadata": {
    "colab": {
      "name": "量子アニーリングでシフト表作成.ipynb のコピー",
      "provenance": [],
      "collapsed_sections": [],
      "include_colab_link": true
    },
    "kernelspec": {
      "name": "python3",
      "display_name": "Python 3"
    },
    "language_info": {
      "name": "python"
    }
  },
  "cells": [
    {
      "cell_type": "markdown",
      "metadata": {
        "id": "view-in-github",
        "colab_type": "text"
      },
      "source": [
        "<a href=\"https://colab.research.google.com/github/sciyg/D-Wave/blob/main/%E9%87%8F%E5%AD%90%E3%82%A2%E3%83%8B%E3%83%BC%E3%83%AA%E3%83%B3%E3%82%B0%E3%81%A7%E3%82%B7%E3%83%95%E3%83%88%E8%A1%A8%E4%BD%9C%E6%88%90_ipynb_%E3%81%AE%E3%82%B3%E3%83%94%E3%83%BC.ipynb\" target=\"_parent\"><img src=\"https://colab.research.google.com/assets/colab-badge.svg\" alt=\"Open In Colab\"/></a>"
      ]
    },
    {
      "cell_type": "markdown",
      "source": [
        ""
      ],
      "metadata": {
        "id": "ei03iDP0kErN"
      }
    },
    {
      "cell_type": "markdown",
      "metadata": {
        "id": "7chBHU_OXaN9"
      },
      "source": [
        "# 量子アニーリングでシフト表作成"
      ]
    },
    {
      "cell_type": "markdown",
      "metadata": {
        "id": "RJpfkI_DXk9y"
      },
      "source": [
        "以下のようなシフト表で、自動的に出勤日を決定できるようにします。\n",
        "\n",
        "0が休日で、1が出勤日とします。"
      ]
    },
    {
      "cell_type": "code",
      "metadata": {
        "id": "y9Ble7zYXnoP"
      },
      "source": [
        "# データをカレンダー表示する関数を作成\n",
        "\n",
        "import numpy as np\n",
        "import pandas as pd\n",
        "weeks = ['日', '月', '火', '水', '木', '金', '土']\n",
        "persons = ['A', 'B', 'C', 'D']\n",
        "\n",
        "# 列名\n",
        "def column_name(d):\n",
        "    return f\"{d + 1}({weeks[d % 7]})\"\n",
        "\n",
        "# 行名\n",
        "def index_name(p):\n",
        "    return persons[p]\n",
        "\n",
        "# pandasでカレンダー表示する関数\n",
        "def get_calendar(data):\n",
        "  data_df = pd.DataFrame(data)\n",
        "  data_df = data_df.astype('int')\n",
        "  data_df = data_df.rename(columns=column_name, index=index_name)\n",
        "\n",
        "  data_df = pd.concat([data_df,pd.DataFrame(data_df.sum(axis=0),columns=['出勤者数']).T])\n",
        "  data_df = pd.concat([data_df,pd.DataFrame(data_df.sum(axis=1),columns=['出勤日数'])],axis=1)  \n",
        "  return data_df"
      ],
      "execution_count": null,
      "outputs": []
    },
    {
      "cell_type": "code",
      "metadata": {
        "colab": {
          "base_uri": "https://localhost:8080/",
          "height": 238
        },
        "id": "p_v879ucXwjJ",
        "outputId": "3621330e-9a33-4996-c2d2-e06521bd589c"
      },
      "source": [
        "# データが空のシフト表を表示\n",
        "empty_data = np.zeros((4,30))\n",
        "get_calendar(empty_data)"
      ],
      "execution_count": null,
      "outputs": [
        {
          "output_type": "execute_result",
          "data": {
            "text/html": [
              "<div>\n",
              "<style scoped>\n",
              "    .dataframe tbody tr th:only-of-type {\n",
              "        vertical-align: middle;\n",
              "    }\n",
              "\n",
              "    .dataframe tbody tr th {\n",
              "        vertical-align: top;\n",
              "    }\n",
              "\n",
              "    .dataframe thead th {\n",
              "        text-align: right;\n",
              "    }\n",
              "</style>\n",
              "<table border=\"1\" class=\"dataframe\">\n",
              "  <thead>\n",
              "    <tr style=\"text-align: right;\">\n",
              "      <th></th>\n",
              "      <th>1(日)</th>\n",
              "      <th>2(月)</th>\n",
              "      <th>3(火)</th>\n",
              "      <th>4(水)</th>\n",
              "      <th>5(木)</th>\n",
              "      <th>6(金)</th>\n",
              "      <th>7(土)</th>\n",
              "      <th>8(日)</th>\n",
              "      <th>9(月)</th>\n",
              "      <th>10(火)</th>\n",
              "      <th>11(水)</th>\n",
              "      <th>12(木)</th>\n",
              "      <th>13(金)</th>\n",
              "      <th>14(土)</th>\n",
              "      <th>15(日)</th>\n",
              "      <th>16(月)</th>\n",
              "      <th>17(火)</th>\n",
              "      <th>18(水)</th>\n",
              "      <th>19(木)</th>\n",
              "      <th>20(金)</th>\n",
              "      <th>21(土)</th>\n",
              "      <th>22(日)</th>\n",
              "      <th>23(月)</th>\n",
              "      <th>24(火)</th>\n",
              "      <th>25(水)</th>\n",
              "      <th>26(木)</th>\n",
              "      <th>27(金)</th>\n",
              "      <th>28(土)</th>\n",
              "      <th>29(日)</th>\n",
              "      <th>30(月)</th>\n",
              "      <th>出勤日数</th>\n",
              "    </tr>\n",
              "  </thead>\n",
              "  <tbody>\n",
              "    <tr>\n",
              "      <th>A</th>\n",
              "      <td>0</td>\n",
              "      <td>0</td>\n",
              "      <td>0</td>\n",
              "      <td>0</td>\n",
              "      <td>0</td>\n",
              "      <td>0</td>\n",
              "      <td>0</td>\n",
              "      <td>0</td>\n",
              "      <td>0</td>\n",
              "      <td>0</td>\n",
              "      <td>0</td>\n",
              "      <td>0</td>\n",
              "      <td>0</td>\n",
              "      <td>0</td>\n",
              "      <td>0</td>\n",
              "      <td>0</td>\n",
              "      <td>0</td>\n",
              "      <td>0</td>\n",
              "      <td>0</td>\n",
              "      <td>0</td>\n",
              "      <td>0</td>\n",
              "      <td>0</td>\n",
              "      <td>0</td>\n",
              "      <td>0</td>\n",
              "      <td>0</td>\n",
              "      <td>0</td>\n",
              "      <td>0</td>\n",
              "      <td>0</td>\n",
              "      <td>0</td>\n",
              "      <td>0</td>\n",
              "      <td>0</td>\n",
              "    </tr>\n",
              "    <tr>\n",
              "      <th>B</th>\n",
              "      <td>0</td>\n",
              "      <td>0</td>\n",
              "      <td>0</td>\n",
              "      <td>0</td>\n",
              "      <td>0</td>\n",
              "      <td>0</td>\n",
              "      <td>0</td>\n",
              "      <td>0</td>\n",
              "      <td>0</td>\n",
              "      <td>0</td>\n",
              "      <td>0</td>\n",
              "      <td>0</td>\n",
              "      <td>0</td>\n",
              "      <td>0</td>\n",
              "      <td>0</td>\n",
              "      <td>0</td>\n",
              "      <td>0</td>\n",
              "      <td>0</td>\n",
              "      <td>0</td>\n",
              "      <td>0</td>\n",
              "      <td>0</td>\n",
              "      <td>0</td>\n",
              "      <td>0</td>\n",
              "      <td>0</td>\n",
              "      <td>0</td>\n",
              "      <td>0</td>\n",
              "      <td>0</td>\n",
              "      <td>0</td>\n",
              "      <td>0</td>\n",
              "      <td>0</td>\n",
              "      <td>0</td>\n",
              "    </tr>\n",
              "    <tr>\n",
              "      <th>C</th>\n",
              "      <td>0</td>\n",
              "      <td>0</td>\n",
              "      <td>0</td>\n",
              "      <td>0</td>\n",
              "      <td>0</td>\n",
              "      <td>0</td>\n",
              "      <td>0</td>\n",
              "      <td>0</td>\n",
              "      <td>0</td>\n",
              "      <td>0</td>\n",
              "      <td>0</td>\n",
              "      <td>0</td>\n",
              "      <td>0</td>\n",
              "      <td>0</td>\n",
              "      <td>0</td>\n",
              "      <td>0</td>\n",
              "      <td>0</td>\n",
              "      <td>0</td>\n",
              "      <td>0</td>\n",
              "      <td>0</td>\n",
              "      <td>0</td>\n",
              "      <td>0</td>\n",
              "      <td>0</td>\n",
              "      <td>0</td>\n",
              "      <td>0</td>\n",
              "      <td>0</td>\n",
              "      <td>0</td>\n",
              "      <td>0</td>\n",
              "      <td>0</td>\n",
              "      <td>0</td>\n",
              "      <td>0</td>\n",
              "    </tr>\n",
              "    <tr>\n",
              "      <th>D</th>\n",
              "      <td>0</td>\n",
              "      <td>0</td>\n",
              "      <td>0</td>\n",
              "      <td>0</td>\n",
              "      <td>0</td>\n",
              "      <td>0</td>\n",
              "      <td>0</td>\n",
              "      <td>0</td>\n",
              "      <td>0</td>\n",
              "      <td>0</td>\n",
              "      <td>0</td>\n",
              "      <td>0</td>\n",
              "      <td>0</td>\n",
              "      <td>0</td>\n",
              "      <td>0</td>\n",
              "      <td>0</td>\n",
              "      <td>0</td>\n",
              "      <td>0</td>\n",
              "      <td>0</td>\n",
              "      <td>0</td>\n",
              "      <td>0</td>\n",
              "      <td>0</td>\n",
              "      <td>0</td>\n",
              "      <td>0</td>\n",
              "      <td>0</td>\n",
              "      <td>0</td>\n",
              "      <td>0</td>\n",
              "      <td>0</td>\n",
              "      <td>0</td>\n",
              "      <td>0</td>\n",
              "      <td>0</td>\n",
              "    </tr>\n",
              "    <tr>\n",
              "      <th>出勤者数</th>\n",
              "      <td>0</td>\n",
              "      <td>0</td>\n",
              "      <td>0</td>\n",
              "      <td>0</td>\n",
              "      <td>0</td>\n",
              "      <td>0</td>\n",
              "      <td>0</td>\n",
              "      <td>0</td>\n",
              "      <td>0</td>\n",
              "      <td>0</td>\n",
              "      <td>0</td>\n",
              "      <td>0</td>\n",
              "      <td>0</td>\n",
              "      <td>0</td>\n",
              "      <td>0</td>\n",
              "      <td>0</td>\n",
              "      <td>0</td>\n",
              "      <td>0</td>\n",
              "      <td>0</td>\n",
              "      <td>0</td>\n",
              "      <td>0</td>\n",
              "      <td>0</td>\n",
              "      <td>0</td>\n",
              "      <td>0</td>\n",
              "      <td>0</td>\n",
              "      <td>0</td>\n",
              "      <td>0</td>\n",
              "      <td>0</td>\n",
              "      <td>0</td>\n",
              "      <td>0</td>\n",
              "      <td>0</td>\n",
              "    </tr>\n",
              "  </tbody>\n",
              "</table>\n",
              "</div>"
            ],
            "text/plain": [
              "      1(日)  2(月)  3(火)  4(水)  5(木)  ...  27(金)  28(土)  29(日)  30(月)  出勤日数\n",
              "A        0     0     0     0     0  ...      0      0      0      0     0\n",
              "B        0     0     0     0     0  ...      0      0      0      0     0\n",
              "C        0     0     0     0     0  ...      0      0      0      0     0\n",
              "D        0     0     0     0     0  ...      0      0      0      0     0\n",
              "出勤者数     0     0     0     0     0  ...      0      0      0      0     0\n",
              "\n",
              "[5 rows x 31 columns]"
            ]
          },
          "metadata": {},
          "execution_count": 161
        }
      ]
    },
    {
      "cell_type": "markdown",
      "metadata": {
        "id": "Fwr-136dYFf7"
      },
      "source": [
        "とりあえず最初に、**1日に二人が出勤する**、という制約条件だけで作ってみます。\n",
        "\n",
        "\n",
        "\n",
        "## 前提条件\n",
        "\n",
        "* 一ヶ月を30日とします\n",
        "* 1日を日曜日とします\n",
        "* 担当者を４人（A,B,C,D)とします\n",
        "\n",
        "## 定式化\n",
        "\n",
        "### 決定変数\n",
        "\n",
        "担当者 $p\\in \\{0, 1, 2, 3\\}$とし、担当者A（$p = 0$）・担当者B（$p = 1$）・担当者C（$p = 2$）・担当者D（$p = 3$）とします。\n",
        "\n",
        "日にち  $d \\in \\{0, \\cdots, 29\\}$ とし、1日（$d = 0$）、...、30日（$d = 29$）とします。\n",
        "\n",
        "担当者$p$が日にち$d$に出勤する状態を、バイナリ変数 $q_{p,d}$ を用いて表現することにします。\n",
        "\n",
        "* 例1 Aが1日に出勤の時、$q_{0,0} = 1$\n",
        "* 例2 Bが10日に休日の時、$q_{1,9} = 0$\n",
        "\n",
        "\n",
        "|担当者 \\ 日| $0$ | $1$ | ... |２９|  \n",
        "|:---:|:---:|:---:|:---:|:---:|\n",
        "|$0$| $q_{0,0}$ | $q_{0,1}$ | ... | $q_{0,29}$|\n",
        "|$1$| $q_{1,0}$ | $q_{1,1}$ | ... | $q_{1,29}$|\n",
        "|$２$| $q_{2,0}$ | $q_{2,1}$ | ... | $q_{2,29}$|\n",
        "|$3$| $q_{3,0}$ | $q_{3,1}$ | ... | $q_{3,29}$|\n",
        "\n",
        "### 制約条件\n",
        "\n",
        "１日に必ず二人が出勤するように、制約条件を設定します。\n",
        "\n",
        "$$\n",
        "\\sum_{p=0}^{Np -1}q_{p,d} = 2\n",
        "$$\n",
        "\n",
        "※ $Np$ = 4\n",
        "\n",
        "### 目的関数\n",
        "\n",
        "各担当者の出勤数の合計が同じになるように目的関数を作ります。\n",
        "この値（エネルギーと呼ばれる）が最小になるように、イジングマシンが最適化してくれます。\n",
        "\n",
        "$$\n",
        "f = (担当者Aと担当者Bの出勤数の差分)^2 + (担当者Aと担当者Cの出勤数の差分)^2 + (担当者Aと担当者Dの出勤数の差分)^2 + (担当者Bと担当者Cの出勤数の差分)^2 + (担当者Bと担当者Dの出勤数の差分)^2+ (担当者Cと担当者Dの出勤数の差分)^2\n",
        "$$\n",
        "\n",
        "$$\n",
        "= \\left(\\sum_{d=0}^{Nd-1}q_{d,0} - \\sum_{d=0}^{Nd-1}q_{d,1}\\right)^2 + \\left(\\sum_{d=0}^{Nd-1}q_{d,0} - \\sum_{d=0}^{Nd-1}q_{d,2}\\right)^2+ \\left(\\sum_{d=0}^{Nd-1}q_{d,0} - \\sum_{d=0}^{Nd-1}q_{d,3}\\right)^2+ \\left(\\sum_{d=0}^{Nd-1}q_{d,1} - \\sum_{d=0}^{Nd-1}q_{d,2}\\right)^2+ \\left(\\sum_{d=0}^{Nd-1}q_{d,1} - \\sum_{d=0}^{Nd-1}q_{d,3}\\right)^2+ \\left(\\sum_{d=0}^{Nd-1}q_{d,2} - \\sum_{d=0}^{Nd-1}q_{d,3}\\right)^2\n",
        "$$\n",
        "\n",
        "※ $Nd$ = 30\n"
      ]
    },
    {
      "cell_type": "markdown",
      "metadata": {
        "id": "skCz4IgFYcco"
      },
      "source": [
        "## 実装\n",
        "\n",
        "まず、Amplify SDKを使えるようにします。"
      ]
    },
    {
      "cell_type": "code",
      "metadata": {
        "colab": {
          "base_uri": "https://localhost:8080/"
        },
        "id": "gKOc42OtYBhB",
        "outputId": "5662dd3b-b144-4fd4-ba6c-fde75edbd932"
      },
      "source": [
        "!pip install amplify"
      ],
      "execution_count": null,
      "outputs": [
        {
          "output_type": "stream",
          "name": "stdout",
          "text": [
            "Collecting amplify\n",
            "  Downloading amplify-0.6.3-cp37-cp37m-manylinux_2_17_x86_64.manylinux2014_x86_64.whl (7.1 MB)\n",
            "\u001b[K     |████████████████████████████████| 7.1 MB 5.0 MB/s \n",
            "\u001b[?25hRequirement already satisfied: numpy in /usr/local/lib/python3.7/dist-packages (from amplify) (1.19.5)\n",
            "Installing collected packages: amplify\n",
            "Successfully installed amplify-0.6.3\n"
          ]
        }
      ]
    },
    {
      "cell_type": "code",
      "metadata": {
        "id": "dogJ7OdyX8In"
      },
      "source": [
        "from amplify import gen_symbols, BinaryPoly, Solver, decode_solution, sum_poly\n",
        "from amplify.client import FixstarsClient\n",
        "from amplify.constraint import equal_to, penalty"
      ],
      "execution_count": null,
      "outputs": []
    },
    {
      "cell_type": "markdown",
      "metadata": {
        "id": "6zmFttwUZG4l"
      },
      "source": [
        "### 決定変数\n",
        "\n",
        "バイナリー（0または1の値を取りうる）の決定変数を (Np x Nd) の配列の形式で定義します"
      ]
    },
    {
      "cell_type": "code",
      "metadata": {
        "id": "vCHDCdz8ZFQ6"
      },
      "source": [
        "# 担当者の数\n",
        "Np = 4\n",
        "\n",
        "# 月の日数\n",
        "Nd = 30\n",
        "\n",
        "q = gen_symbols(BinaryPoly, Np, Nd)"
      ],
      "execution_count": null,
      "outputs": []
    },
    {
      "cell_type": "code",
      "metadata": {
        "colab": {
          "base_uri": "https://localhost:8080/"
        },
        "id": "UX_ImTT8-9tK",
        "outputId": "70df4e07-bb7b-4ffa-bee1-d033f964fc38"
      },
      "source": [
        "q"
      ],
      "execution_count": null,
      "outputs": [
        {
          "output_type": "execute_result",
          "data": {
            "text/plain": [
              "[[  q_0,   q_1,   q_2,   q_3,   q_4,   q_5,   q_6,   q_7,   q_8,   q_9, \n",
              "   q_10,  q_11,  q_12,  q_13,  q_14,  q_15,  q_16,  q_17,  q_18,  q_19, \n",
              "   q_20,  q_21,  q_22,  q_23,  q_24,  q_25,  q_26,  q_27,  q_28,  q_29],\n",
              " [ q_30,  q_31,  q_32,  q_33,  q_34,  q_35,  q_36,  q_37,  q_38,  q_39, \n",
              "   q_40,  q_41,  q_42,  q_43,  q_44,  q_45,  q_46,  q_47,  q_48,  q_49, \n",
              "   q_50,  q_51,  q_52,  q_53,  q_54,  q_55,  q_56,  q_57,  q_58,  q_59],\n",
              " [ q_60,  q_61,  q_62,  q_63,  q_64,  q_65,  q_66,  q_67,  q_68,  q_69, \n",
              "   q_70,  q_71,  q_72,  q_73,  q_74,  q_75,  q_76,  q_77,  q_78,  q_79, \n",
              "   q_80,  q_81,  q_82,  q_83,  q_84,  q_85,  q_86,  q_87,  q_88,  q_89],\n",
              " [ q_90,  q_91,  q_92,  q_93,  q_94,  q_95,  q_96,  q_97,  q_98,  q_99, \n",
              "  q_100, q_101, q_102, q_103, q_104, q_105, q_106, q_107, q_108, q_109, \n",
              "  q_110, q_111, q_112, q_113, q_114, q_115, q_116, q_117, q_118, q_119]]"
            ]
          },
          "metadata": {},
          "execution_count": 173
        }
      ]
    },
    {
      "cell_type": "markdown",
      "metadata": {
        "id": "5fvUhFRiZ8R1"
      },
      "source": [
        "### 制約条件"
      ]
    },
    {
      "cell_type": "markdown",
      "metadata": {
        "id": "xDHyzkzZZwhE"
      },
      "source": [
        "１日に二人の 制約を作ります。"
      ]
    },
    {
      "cell_type": "code",
      "metadata": {
        "id": "Vb5bmOkCZsqH"
      },
      "source": [
        "day_constraints =  sum(\n",
        "    [equal_to(sum_poly(Np, lambda p: q[p][d]), 2) for d in range(Nd)]\n",
        ")"
      ],
      "execution_count": null,
      "outputs": []
    },
    {
      "cell_type": "code",
      "metadata": {
        "colab": {
          "base_uri": "https://localhost:8080/"
        },
        "id": "6kVJC60D63T5",
        "outputId": "c11228a7-716a-43ea-f516-fbd835f291bf"
      },
      "source": [
        "day_constraints"
      ],
      "execution_count": null,
      "outputs": [
        {
          "output_type": "execute_result",
          "data": {
            "text/plain": [
              "[(q_0 + q_30 + q_60 + q_90 == 2, 1), (q_1 + q_31 + q_61 + q_91 == 2, 1), (q_2 + q_32 + q_62 + q_92 == 2, 1), (q_3 + q_33 + q_63 + q_93 == 2, 1), (q_4 + q_34 + q_64 + q_94 == 2, 1), (q_5 + q_35 + q_65 + q_95 == 2, 1), (q_6 + q_36 + q_66 + q_96 == 2, 1), (q_7 + q_37 + q_67 + q_97 == 2, 1), (q_8 + q_38 + q_68 + q_98 == 2, 1), (q_9 + q_39 + q_69 + q_99 == 2, 1), (q_10 + q_40 + q_70 + q_100 == 2, 1), (q_11 + q_41 + q_71 + q_101 == 2, 1), (q_12 + q_42 + q_72 + q_102 == 2, 1), (q_13 + q_43 + q_73 + q_103 == 2, 1), (q_14 + q_44 + q_74 + q_104 == 2, 1), (q_15 + q_45 + q_75 + q_105 == 2, 1), (q_16 + q_46 + q_76 + q_106 == 2, 1), (q_17 + q_47 + q_77 + q_107 == 2, 1), (q_18 + q_48 + q_78 + q_108 == 2, 1), (q_19 + q_49 + q_79 + q_109 == 2, 1), (q_20 + q_50 + q_80 + q_110 == 2, 1), (q_21 + q_51 + q_81 + q_111 == 2, 1), (q_22 + q_52 + q_82 + q_112 == 2, 1), (q_23 + q_53 + q_83 + q_113 == 2, 1), (q_24 + q_54 + q_84 + q_114 == 2, 1), (q_25 + q_55 + q_85 + q_115 == 2, 1), (q_26 + q_56 + q_86 + q_116 == 2, 1), (q_27 + q_57 + q_87 + q_117 == 2, 1), (q_28 + q_58 + q_88 + q_118 == 2, 1), (q_29 + q_59 + q_89 + q_119 == 2, 1)]"
            ]
          },
          "metadata": {},
          "execution_count": 164
        }
      ]
    },
    {
      "cell_type": "markdown",
      "metadata": {
        "id": "PbuEQ1zQZ_qw"
      },
      "source": [
        "### 目的関数"
      ]
    },
    {
      "cell_type": "code",
      "metadata": {
        "id": "X4z57F3uZ0f_"
      },
      "source": [
        "cost = (sum([q[0][d] for d in range(Nd)]) - sum([q[1][d] for d in range(Nd)]))**2 \\\n",
        "     + (sum([q[0][d] for d in range(Nd)]) - sum([q[2][d] for d in range(Nd)]))**2 \\\n",
        "     + (sum([q[0][d] for d in range(Nd)]) - sum([q[3][d] for d in range(Nd)]))**2 \\\n",
        "     + (sum([q[1][d] for d in range(Nd)]) - sum([q[2][d] for d in range(Nd)]))**2 \\\n",
        "     + (sum([q[1][d] for d in range(Nd)]) - sum([q[3][d] for d in range(Nd)]))**2 \\\n",
        "     + (sum([q[2][d] for d in range(Nd)]) - sum([q[3][d] for d in range(Nd)]))**2  "
      ],
      "execution_count": null,
      "outputs": []
    },
    {
      "cell_type": "code",
      "metadata": {
        "colab": {
          "base_uri": "https://localhost:8080/"
        },
        "id": "qYTLhan52Sp8",
        "outputId": "55210bc6-5d2c-491d-9304-8046a3e39142"
      },
      "source": [
        "cost"
      ],
      "execution_count": null,
      "outputs": [
        {
          "output_type": "execute_result",
          "data": {
            "text/plain": [
              "6 q_0 q_1 + 6 q_0 q_2 + 6 q_0 q_3 + 6 q_0 q_4 + 6 q_0 q_5 + 6 q_0 q_6 + 6 q_0 q_7 + 6 q_0 q_8 + 6 q_0 q_9 + 6 q_0 q_10 + 6 q_0 q_11 + 6 q_0 q_12 + 6 q_0 q_13 + 6 q_0 q_14 + 6 q_0 q_15 + 6 q_0 q_16 + 6 q_0 q_17 + 6 q_0 q_18 + 6 q_0 q_19 + 6 q_0 q_20 + 6 q_0 q_21 + 6 q_0 q_22 + 6 q_0 q_23 + 6 q_0 q_24 + 6 q_0 q_25 + 6 q_0 q_26 + 6 q_0 q_27 + 6 q_0 q_28 + 6 q_0 q_29 - 2 q_0 q_30 - 2 q_0 q_31 - 2 q_0 q_32 - 2 q_0 q_33 - 2 q_0 q_34 - 2 q_0 q_35 - 2 q_0 q_36 - 2 q_0 q_37 - 2 q_0 q_38 - 2 q_0 q_39 - 2 q_0 q_40 - 2 q_0 q_41 - 2 q_0 q_42 - 2 q_0 q_43 - 2 q_0 q_44 - 2 q_0 q_45 - 2 q_0 q_46 - 2 q_0 q_47 - 2 q_0 q_48 - 2 q_0 q_49 - 2 q_0 q_50 - 2 q_0 q_51 - 2 q_0 q_52 - 2 q_0 q_53 - 2 q_0 q_54 - 2 q_0 q_55 - 2 q_0 q_56 - 2 q_0 q_57 - 2 q_0 q_58 - 2 q_0 q_59 - 2 q_0 q_60 - 2 q_0 q_61 - 2 q_0 q_62 - 2 q_0 q_63 - 2 q_0 q_64 - 2 q_0 q_65 - 2 q_0 q_66 - 2 q_0 q_67 - 2 q_0 q_68 - 2 q_0 q_69 - 2 q_0 q_70 - 2 q_0 q_71 - 2 q_0 q_72 - 2 q_0 q_73 - 2 q_0 q_74 - 2 q_0 q_75 - 2 q_0 q_76 - 2 q_0 q_77 - 2 q_0 q_78 - 2 q_0 q_79 - 2 q_0 q_80 - 2 q_0 q_81 - 2 q_0 q_82 - 2 q_0 q_83 - 2 q_0 q_84 - 2 q_0 q_85 - 2 q_0 q_86 - 2 q_0 q_87 - 2 q_0 q_88 - 2 q_0 q_89 - 2 q_0 q_90 - 2 q_0 q_91 - 2 q_0 q_92 - 2 q_0 q_93 - 2 q_0 q_94 - 2 q_0 q_95 - 2 q_0 q_96 - 2 q_0 q_97 - 2 q_0 q_98 - 2 q_0 q_99 - 2 q_0 q_100 - 2 q_0 q_101 - 2 q_0 q_102 - 2 q_0 q_103 - 2 q_0 q_104 - 2 q_0 q_105 - 2 q_0 q_106 - 2 q_0 q_107 - 2 q_0 q_108 - 2 q_0 q_109 - 2 q_0 q_110 - 2 q_0 q_111 - 2 q_0 q_112 - 2 q_0 q_113 - 2 q_0 q_114 - 2 q_0 q_115 - 2 q_0 q_116 - 2 q_0 q_117 - 2 q_0 q_118 - 2 q_0 q_119 + 6 q_1 q_2 + 6 q_1 q_3 + 6 q_1 q_4 + 6 q_1 q_5 + 6 q_1 q_6 + 6 q_1 q_7 + 6 q_1 q_8 + 6 q_1 q_9 + 6 q_1 q_10 + 6 q_1 q_11 + 6 q_1 q_12 + 6 q_1 q_13 + 6 q_1 q_14 + 6 q_1 q_15 + 6 q_1 q_16 + 6 q_1 q_17 + 6 q_1 q_18 + 6 q_1 q_19 + 6 q_1 q_20 + 6 q_1 q_21 + 6 q_1 q_22 + 6 q_1 q_23 + 6 q_1 q_24 + 6 q_1 q_25 + 6 q_1 q_26 + 6 q_1 q_27 + 6 q_1 q_28 + 6 q_1 q_29 - 2 q_1 q_30 - 2 q_1 q_31 - 2 q_1 q_32 - 2 q_1 q_33 - 2 q_1 q_34 - 2 q_1 q_35 - 2 q_1 q_36 - 2 q_1 q_37 - 2 q_1 q_38 - 2 q_1 q_39 - 2 q_1 q_40 - 2 q_1 q_41 - 2 q_1 q_42 - 2 q_1 q_43 - 2 q_1 q_44 - 2 q_1 q_45 - 2 q_1 q_46 - 2 q_1 q_47 - 2 q_1 q_48 - 2 q_1 q_49 - 2 q_1 q_50 - 2 q_1 q_51 - 2 q_1 q_52 - 2 q_1 q_53 - 2 q_1 q_54 - 2 q_1 q_55 - 2 q_1 q_56 - 2 q_1 q_57 - 2 q_1 q_58 - 2 q_1 q_59 - 2 q_1 q_60 - 2 q_1 q_61 - 2 q_1 q_62 - 2 q_1 q_63 - 2 q_1 q_64 - 2 q_1 q_65 - 2 q_1 q_66 - 2 q_1 q_67 - 2 q_1 q_68 - 2 q_1 q_69 - 2 q_1 q_70 - 2 q_1 q_71 - 2 q_1 q_72 - 2 q_1 q_73 - 2 q_1 q_74 - 2 q_1 q_75 - 2 q_1 q_76 - 2 q_1 q_77 - 2 q_1 q_78 - 2 q_1 q_79 - 2 q_1 q_80 - 2 q_1 q_81 - 2 q_1 q_82 - 2 q_1 q_83 - 2 q_1 q_84 - 2 q_1 q_85 - 2 q_1 q_86 - 2 q_1 q_87 - 2 q_1 q_88 - 2 q_1 q_89 - 2 q_1 q_90 - 2 q_1 q_91 - 2 q_1 q_92 - 2 q_1 q_93 - 2 q_1 q_94 - 2 q_1 q_95 - 2 q_1 q_96 - 2 q_1 q_97 - 2 q_1 q_98 - 2 q_1 q_99 - 2 q_1 q_100 - 2 q_1 q_101 - 2 q_1 q_102 - 2 q_1 q_103 - 2 q_1 q_104 - 2 q_1 q_105 - 2 q_1 q_106 - 2 q_1 q_107 - 2 q_1 q_108 - 2 q_1 q_109 - 2 q_1 q_110 - 2 q_1 q_111 - 2 q_1 q_112 - 2 q_1 q_113 - 2 q_1 q_114 - 2 q_1 q_115 - 2 q_1 q_116 - 2 q_1 q_117 - 2 q_1 q_118 - 2 q_1 q_119 + 6 q_2 q_3 + 6 q_2 q_4 + 6 q_2 q_5 + 6 q_2 q_6 + 6 q_2 q_7 + 6 q_2 q_8 + 6 q_2 q_9 + 6 q_2 q_10 + 6 q_2 q_11 + 6 q_2 q_12 + 6 q_2 q_13 + 6 q_2 q_14 + 6 q_2 q_15 + 6 q_2 q_16 + 6 q_2 q_17 + 6 q_2 q_18 + 6 q_2 q_19 + 6 q_2 q_20 + 6 q_2 q_21 + 6 q_2 q_22 + 6 q_2 q_23 + 6 q_2 q_24 + 6 q_2 q_25 + 6 q_2 q_26 + 6 q_2 q_27 + 6 q_2 q_28 + 6 q_2 q_29 - 2 q_2 q_30 - 2 q_2 q_31 - 2 q_2 q_32 - 2 q_2 q_33 - 2 q_2 q_34 - 2 q_2 q_35 - 2 q_2 q_36 - 2 q_2 q_37 - 2 q_2 q_38 - 2 q_2 q_39 - 2 q_2 q_40 - 2 q_2 q_41 - 2 q_2 q_42 - 2 q_2 q_43 - 2 q_2 q_44 - 2 q_2 q_45 - 2 q_2 q_46 - 2 q_2 q_47 - 2 q_2 q_48 - 2 q_2 q_49 - 2 q_2 q_50 - 2 q_2 q_51 - 2 q_2 q_52 - 2 q_2 q_53 - 2 q_2 q_54 - 2 q_2 q_55 - 2 q_2 q_56 - 2 q_2 q_57 - 2 q_2 q_58 - 2 q_2 q_59 - 2 q_2 q_60 - 2 q_2 q_61 - 2 q_2 q_62 - 2 q_2 q_63 - 2 q_2 q_64 - 2 q_2 q_65 - 2 q_2 q_66 - 2 q_2 q_67 - 2 q_2 q_68 - 2 q_2 q_69 - 2 q_2 q_70 - 2 q_2 q_71 - 2 q_2 q_72 - 2 q_2 q_73 - 2 q_2 q_74 - 2 q_2 q_75 - 2 q_2 q_76 - 2 q_2 q_77 - 2 q_2 q_78 - 2 q_2 q_79 - 2 q_2 q_80 - 2 q_2 q_81 - 2 q_2 q_82 - 2 q_2 q_83 - 2 q_2 q_84 - 2 q_2 q_85 - 2 q_2 q_86 - 2 q_2 q_87 - 2 q_2 q_88 - 2 q_2 q_89 - 2 q_2 q_90 - 2 q_2 q_91 - 2 q_2 q_92 - 2 q_2 q_93 - 2 q_2 q_94 - 2 q_2 q_95 - 2 q_2 q_96 - 2 q_2 q_97 - 2 q_2 q_98 - 2 q_2 q_99 - 2 q_2 q_100 - 2 q_2 q_101 - 2 q_2 q_102 - 2 q_2 q_103 - 2 q_2 q_104 - 2 q_2 q_105 - 2 q_2 q_106 - 2 q_2 q_107 - 2 q_2 q_108 - 2 q_2 q_109 - 2 q_2 q_110 - 2 q_2 q_111 - 2 q_2 q_112 - 2 q_2 q_113 - 2 q_2 q_114 - 2 q_2 q_115 - 2 q_2 q_116 - 2 q_2 q_117 - 2 q_2 q_118 - 2 q_2 q_119 + 6 q_3 q_4 + 6 q_3 q_5 + 6 q_3 q_6 + 6 q_3 q_7 + 6 q_3 q_8 + 6 q_3 q_9 + 6 q_3 q_10 + 6 q_3 q_11 + 6 q_3 q_12 + 6 q_3 q_13 + 6 q_3 q_14 + 6 q_3 q_15 + 6 q_3 q_16 + 6 q_3 q_17 + 6 q_3 q_18 + 6 q_3 q_19 + 6 q_3 q_20 + 6 q_3 q_21 + 6 q_3 q_22 + 6 q_3 q_23 + 6 q_3 q_24 + 6 q_3 q_25 + 6 q_3 q_26 + 6 q_3 q_27 + 6 q_3 q_28 + 6 q_3 q_29 - 2 q_3 q_30 - 2 q_3 q_31 - 2 q_3 q_32 - 2 q_3 q_33 - 2 q_3 q_34 - 2 q_3 q_35 - 2 q_3 q_36 - 2 q_3 q_37 - 2 q_3 q_38 - 2 q_3 q_39 - 2 q_3 q_40 - 2 q_3 q_41 - 2 q_3 q_42 - 2 q_3 q_43 - 2 q_3 q_44 - 2 q_3 q_45 - 2 q_3 q_46 - 2 q_3 q_47 - 2 q_3 q_48 - 2 q_3 q_49 - 2 q_3 q_50 - 2 q_3 q_51 - 2 q_3 q_52 - 2 q_3 q_53 - 2 q_3 q_54 - 2 q_3 q_55 - 2 q_3 q_56 - 2 q_3 q_57 - 2 q_3 q_58 - 2 q_3 q_59 - 2 q_3 q_60 - 2 q_3 q_61 - 2 q_3 q_62 - 2 q_3 q_63 - 2 q_3 q_64 - 2 q_3 q_65 - 2 q_3 q_66 - 2 q_3 q_67 - 2 q_3 q_68 - 2 q_3 q_69 - 2 q_3 q_70 - 2 q_3 q_71 - 2 q_3 q_72 - 2 q_3 q_73 - 2 q_3 q_74 - 2 q_3 q_75 - 2 q_3 q_76 - 2 q_3 q_77 - 2 q_3 q_78 - 2 q_3 q_79 - 2 q_3 q_80 - 2 q_3 q_81 - 2 q_3 q_82 - 2 q_3 q_83 - 2 q_3 q_84 - 2 q_3 q_85 - 2 q_3 q_86 - 2 q_3 q_87 - 2 q_3 q_88 - 2 q_3 q_89 - 2 q_3 q_90 - 2 q_3 q_91 - 2 q_3 q_92 - 2 q_3 q_93 - 2 q_3 q_94 - 2 q_3 q_95 - 2 q_3 q_96 - 2 q_3 q_97 - 2 q_3 q_98 - 2 q_3 q_99 - 2 q_3 q_100 - 2 q_3 q_101 - 2 q_3 q_102 - 2 q_3 q_103 - 2 q_3 q_104 - 2 q_3 q_105 - 2 q_3 q_106 - 2 q_3 q_107 - 2 q_3 q_108 - 2 q_3 q_109 - 2 q_3 q_110 - 2 q_3 q_111 - 2 q_3 q_112 - 2 q_3 q_113 - 2 q_3 q_114 - 2 q_3 q_115 - 2 q_3 q_116 - 2 q_3 q_117 - 2 q_3 q_118 - 2 q_3 q_119 + 6 q_4 q_5 + 6 q_4 q_6 + 6 q_4 q_7 + 6 q_4 q_8 + 6 q_4 q_9 + 6 q_4 q_10 + 6 q_4 q_11 + 6 q_4 q_12 + 6 q_4 q_13 + 6 q_4 q_14 + 6 q_4 q_15 + 6 q_4 q_16 + 6 q_4 q_17 + 6 q_4 q_18 + 6 q_4 q_19 + 6 q_4 q_20 + 6 q_4 q_21 + 6 q_4 q_22 + 6 q_4 q_23 + 6 q_4 q_24 + 6 q_4 q_25 + 6 q_4 q_26 + 6 q_4 q_27 + 6 q_4 q_28 + 6 q_4 q_29 - 2 q_4 q_30 - 2 q_4 q_31 - 2 q_4 q_32 - 2 q_4 q_33 - 2 q_4 q_34 - 2 q_4 q_35 - 2 q_4 q_36 - 2 q_4 q_37 - 2 q_4 q_38 - 2 q_4 q_39 - 2 q_4 q_40 - 2 q_4 q_41 - 2 q_4 q_42 - 2 q_4 q_43 - 2 q_4 q_44 - 2 q_4 q_45 - 2 q_4 q_46 - 2 q_4 q_47 - 2 q_4 q_48 - 2 q_4 q_49 - 2 q_4 q_50 - 2 q_4 q_51 - 2 q_4 q_52 - 2 q_4 q_53 - 2 q_4 q_54 - 2 q_4 q_55 - 2 q_4 q_56 - 2 q_4 q_57 - 2 q_4 q_58 - 2 q_4 q_59 - 2 q_4 q_60 - 2 q_4 q_61 - 2 q_4 q_62 - 2 q_4 q_63 - 2 q_4 q_64 - 2 q_4 q_65 - 2 q_4 q_66 - 2 q_4 q_67 - 2 q_4 q_68 - 2 q_4 q_69 - 2 q_4 q_70 - 2 q_4 q_71 - 2 q_4 q_72 - 2 q_4 q_73 - 2 q_4 q_74 - 2 q_4 q_75 - 2 q_4 q_76 - 2 q_4 q_77 - 2 q_4 q_78 - 2 q_4 q_79 - 2 q_4 q_80 - 2 q_4 q_81 - 2 q_4 q_82 - 2 q_4 q_83 - 2 q_4 q_84 - 2 q_4 q_85 - 2 q_4 q_86 - 2 q_4 q_87 - 2 q_4 q_88 - 2 q_4 q_89 - 2 q_4 q_90 - 2 q_4 q_91 - 2 q_4 q_92 - 2 q_4 q_93 - 2 q_4 q_94 - 2 q_4 q_95 - 2 q_4 q_96 - 2 q_4 q_97 - 2 q_4 q_98 - 2 q_4 q_99 - 2 q_4 q_100 - 2 q_4 q_101 - 2 q_4 q_102 - 2 q_4 q_103 - 2 q_4 q_104 - 2 q_4 q_105 - 2 q_4 q_106 - 2 q_4 q_107 - 2 q_4 q_108 - 2 q_4 q_109 - 2 q_4 q_110 - 2 q_4 q_111 - 2 q_4 q_112 - 2 q_4 q_113 - 2 q_4 q_114 - 2 q_4 q_115 - 2 q_4 q_116 - 2 q_4 q_117 - 2 q_4 q_118 - 2 q_4 q_119 + 6 q_5 q_6 + 6 q_5 q_7 + 6 q_5 q_8 + 6 q_5 q_9 + 6 q_5 q_10 + 6 q_5 q_11 + 6 q_5 q_12 + 6 q_5 q_13 + 6 q_5 q_14 + 6 q_5 q_15 + 6 q_5 q_16 + 6 q_5 q_17 + 6 q_5 q_18 + 6 q_5 q_19 + 6 q_5 q_20 + 6 q_5 q_21 + 6 q_5 q_22 + 6 q_5 q_23 + 6 q_5 q_24 + 6 q_5 q_25 + 6 q_5 q_26 + 6 q_5 q_27 + 6 q_5 q_28 + 6 q_5 q_29 - 2 q_5 q_30 - 2 q_5 q_31 - 2 q_5 q_32 - 2 q_5 q_33 - 2 q_5 q_34 - 2 q_5 q_35 - 2 q_5 q_36 - 2 q_5 q_37 - 2 q_5 q_38 - 2 q_5 q_39 - 2 q_5 q_40 - 2 q_5 q_41 - 2 q_5 q_42 - 2 q_5 q_43 - 2 q_5 q_44 - 2 q_5 q_45 - 2 q_5 q_46 - 2 q_5 q_47 - 2 q_5 q_48 - 2 q_5 q_49 - 2 q_5 q_50 - 2 q_5 q_51 - 2 q_5 q_52 - 2 q_5 q_53 - 2 q_5 q_54 - 2 q_5 q_55 - 2 q_5 q_56 - 2 q_5 q_57 - 2 q_5 q_58 - 2 q_5 q_59 - 2 q_5 q_60 - 2 q_5 q_61 - 2 q_5 q_62 - 2 q_5 q_63 - 2 q_5 q_64 - 2 q_5 q_65 - 2 q_5 q_66 - 2 q_5 q_67 - 2 q_5 q_68 - 2 q_5 q_69 - 2 q_5 q_70 - 2 q_5 q_71 - 2 q_5 q_72 - 2 q_5 q_73 - 2 q_5 q_74 - 2 q_5 q_75 - 2 q_5 q_76 - 2 q_5 q_77 - 2 q_5 q_78 - 2 q_5 q_79 - 2 q_5 q_80 - 2 q_5 q_81 - 2 q_5 q_82 - 2 q_5 q_83 - 2 q_5 q_84 - 2 q_5 q_85 - 2 q_5 q_86 - 2 q_5 q_87 - 2 q_5 q_88 - 2 q_5 q_89 - 2 q_5 q_90 - 2 q_5 q_91 - 2 q_5 q_92 - 2 q_5 q_93 - 2 q_5 q_94 - 2 q_5 q_95 - 2 q_5 q_96 - 2 q_5 q_97 - 2 q_5 q_98 - 2 q_5 q_99 - 2 q_5 q_100 - 2 q_5 q_101 - 2 q_5 q_102 - 2 q_5 q_103 - 2 q_5 q_104 - 2 q_5 q_105 - 2 q_5 q_106 - 2 q_5 q_107 - 2 q_5 q_108 - 2 q_5 q_109 - 2 q_5 q_110 - 2 q_5 q_111 - 2 q_5 q_112 - 2 q_5 q_113 - 2 q_5 q_114 - 2 q_5 q_115 - 2 q_5 q_116 - 2 q_5 q_117 - 2 q_5 q_118 - 2 q_5 q_119 + 6 q_6 q_7 + 6 q_6 q_8 + 6 q_6 q_9 + 6 q_6 q_10 + 6 q_6 q_11 + 6 q_6 q_12 + 6 q_6 q_13 + 6 q_6 q_14 + 6 q_6 q_15 + 6 q_6 q_16 + 6 q_6 q_17 + 6 q_6 q_18 + 6 q_6 q_19 + 6 q_6 q_20 + 6 q_6 q_21 + 6 q_6 q_22 + 6 q_6 q_23 + 6 q_6 q_24 + 6 q_6 q_25 + 6 q_6 q_26 + 6 q_6 q_27 + 6 q_6 q_28 + 6 q_6 q_29 - 2 q_6 q_30 - 2 q_6 q_31 - 2 q_6 q_32 - 2 q_6 q_33 - 2 q_6 q_34 - 2 q_6 q_35 - 2 q_6 q_36 - 2 q_6 q_37 - 2 q_6 q_38 - 2 q_6 q_39 - 2 q_6 q_40 - 2 q_6 q_41 - 2 q_6 q_42 - 2 q_6 q_43 - 2 q_6 q_44 - 2 q_6 q_45 - 2 q_6 q_46 - 2 q_6 q_47 - 2 q_6 q_48 - 2 q_6 q_49 - 2 q_6 q_50 - 2 q_6 q_51 - 2 q_6 q_52 - 2 q_6 q_53 - 2 q_6 q_54 - 2 q_6 q_55 - 2 q_6 q_56 - 2 q_6 q_57 - 2 q_6 q_58 - 2 q_6 q_59 - 2 q_6 q_60 - 2 q_6 q_61 - 2 q_6 q_62 - 2 q_6 q_63 - 2 q_6 q_64 - 2 q_6 q_65 - 2 q_6 q_66 - 2 q_6 q_67 - 2 q_6 q_68 - 2 q_6 q_69 - 2 q_6 q_70 - 2 q_6 q_71 - 2 q_6 q_72 - 2 q_6 q_73 - 2 q_6 q_74 - 2 q_6 q_75 - 2 q_6 q_76 - 2 q_6 q_77 - 2 q_6 q_78 - 2 q_6 q_79 - 2 q_6 q_80 - 2 q_6 q_81 - 2 q_6 q_82 - 2 q_6 q_83 - 2 q_6 q_84 - 2 q_6 q_85 - 2 q_6 q_86 - 2 q_6 q_87 - 2 q_6 q_88 - 2 q_6 q_89 - 2 q_6 q_90 - 2 q_6 q_91 - 2 q_6 q_92 - 2 q_6 q_93 - 2 q_6 q_94 - 2 q_6 q_95 - 2 q_6 q_96 - 2 q_6 q_97 - 2 q_6 q_98 - 2 q_6 q_99 - 2 q_6 q_100 - 2 q_6 q_101 - 2 q_6 q_102 - 2 q_6 q_103 - 2 q_6 q_104 - 2 q_6 q_105 - 2 q_6 q_106 - 2 q_6 q_107 - 2 q_6 q_108 - 2 q_6 q_109 - 2 q_6 q_110 - 2 q_6 q_111 - 2 q_6 q_112 - 2 q_6 q_113 - 2 q_6 q_114 - 2 q_6 q_115 - 2 q_6 q_116 - 2 q_6 q_117 - 2 q_6 q_118 - 2 q_6 q_119 + 6 q_7 q_8 + 6 q_7 q_9 + 6 q_7 q_10 + 6 q_7 q_11 + 6 q_7 q_12 + 6 q_7 q_13 + 6 q_7 q_14 + 6 q_7 q_15 + 6 q_7 q_16 + 6 q_7 q_17 + 6 q_7 q_18 + 6 q_7 q_19 + 6 q_7 q_20 + 6 q_7 q_21 + 6 q_7 q_22 + 6 q_7 q_23 + 6 q_7 q_24 + 6 q_7 q_25 + 6 q_7 q_26 + 6 q_7 q_27 + 6 q_7 q_28 + 6 q_7 q_29 - 2 q_7 q_30 - 2 q_7 q_31 - 2 q_7 q_32 - 2 q_7 q_33 - 2 q_7 q_34 - 2 q_7 q_35 - 2 q_7 q_36 - 2 q_7 q_37 - 2 q_7 q_38 - 2 q_7 q_39 - 2 q_7 q_40 - 2 q_7 q_41 - 2 q_7 q_42 - 2 q_7 q_43 - 2 q_7 q_44 - 2 q_7 q_45 - 2 q_7 q_46 - 2 q_7 q_47 - 2 q_7 q_48 - 2 q_7 q_49 - 2 q_7 q_50 - 2 q_7 q_51 - 2 q_7 q_52 - 2 q_7 q_53 - 2 q_7 q_54 - 2 q_7 q_55 - 2 q_7 q_56 - 2 q_7 q_57 - 2 q_7 q_58 - 2 q_7 q_59 - 2 q_7 q_60 - 2 q_7 q_61 - 2 q_7 q_62 - 2 q_7 q_63 - 2 q_7 q_64 - 2 q_7 q_65 - 2 q_7 q_66 - 2 q_7 q_67 - 2 q_7 q_68 - 2 q_7 q_69 - 2 q_7 q_70 - 2 q_7 q_71 - 2 q_7 q_72 - 2 q_7 q_73 - 2 q_7 q_74 - 2 q_7 q_75 - 2 q_7 q_76 - 2 q_7 q_77 - 2 q_7 q_78 - 2 q_7 q_79 - 2 q_7 q_80 - 2 q_7 q_81 - 2 q_7 q_82 - 2 q_7 q_83 - 2 q_7 q_84 - 2 q_7 q_85 - 2 q_7 q_86 - 2 q_7 q_87 - 2 q_7 q_88 - 2 q_7 q_89 - 2 q_7 q_90 - 2 q_7 q_91 - 2 q_7 q_92 - 2 q_7 q_93 - 2 q_7 q_94 - 2 q_7 q_95 - 2 q_7 q_96 - 2 q_7 q_97 - 2 q_7 q_98 - 2 q_7 q_99 - 2 q_7 q_100 - 2 q_7 q_101 - 2 q_7 q_102 - 2 q_7 q_103 - 2 q_7 q_104 - 2 q_7 q_105 - 2 q_7 q_106 - 2 q_7 q_107 - 2 q_7 q_108 - 2 q_7 q_109 - 2 q_7 q_110 - 2 q_7 q_111 - 2 q_7 q_112 - 2 q_7 q_113 - 2 q_7 q_114 - 2 q_7 q_115 - 2 q_7 q_116 - 2 q_7 q_117 - 2 q_7 q_118 - 2 q_7 q_119 + 6 q_8 q_9 + 6 q_8 q_10 + 6 q_8 q_11 + 6 q_8 q_12 + 6 q_8 q_13 + 6 q_8 q_14 + 6 q_8 q_15 + 6 q_8 q_16 + 6 q_8 q_17 + 6 q_8 q_18 + 6 q_8 q_19 + 6 q_8 q_20 + 6 q_8 q_21 + 6 q_8 q_22 + 6 q_8 q_23 + 6 q_8 q_24 + 6 q_8 q_25 + 6 q_8 q_26 + 6 q_8 q_27 + 6 q_8 q_28 + 6 q_8 q_29 - 2 q_8 q_30 - 2 q_8 q_31 - 2 q_8 q_32 - 2 q_8 q_33 - 2 q_8 q_34 - 2 q_8 q_35 - 2 q_8 q_36 - 2 q_8 q_37 - 2 q_8 q_38 - 2 q_8 q_39 - 2 q_8 q_40 - 2 q_8 q_41 - 2 q_8 q_42 - 2 q_8 q_43 - 2 q_8 q_44 - 2 q_8 q_45 - 2 q_8 q_46 - 2 q_8 q_47 - 2 q_8 q_48 - 2 q_8 q_49 - 2 q_8 q_50 - 2 q_8 q_51 - 2 q_8 q_52 - 2 q_8 q_53 - 2 q_8 q_54 - 2 q_8 q_55 - 2 q_8 q_56 - 2 q_8 q_57 - 2 q_8 q_58 - 2 q_8 q_59 - 2 q_8 q_60 - 2 q_8 q_61 - 2 q_8 q_62 - 2 q_8 q_63 - 2 q_8 q_64 - 2 q_8 q_65 - 2 q_8 q_66 - 2 q_8 q_67 - 2 q_8 q_68 - 2 q_8 q_69 - 2 q_8 q_70 - 2 q_8 q_71 - 2 q_8 q_72 - 2 q_8 q_73 - 2 q_8 q_74 - 2 q_8 q_75 - 2 q_8 q_76 - 2 q_8 q_77 - 2 q_8 q_78 - 2 q_8 q_79 - 2 q_8 q_80 - 2 q_8 q_81 - 2 q_8 q_82 - 2 q_8 q_83 - 2 q_8 q_84 - 2 q_8 q_85 - 2 q_8 q_86 - 2 q_8 q_87 - 2 q_8 q_88 - 2 q_8 q_89 - 2 q_8 q_90 - 2 q_8 q_91 - 2 q_8 q_92 - 2 q_8 q_93 - 2 q_8 q_94 - 2 q_8 q_95 - 2 q_8 q_96 - 2 q_8 q_97 - 2 q_8 q_98 - 2 q_8 q_99 - 2 q_8 q_100 - 2 q_8 q_101 - 2 q_8 q_102 - 2 q_8 q_103 - 2 q_8 q_104 - 2 q_8 q_105 - 2 q_8 q_106 - 2 q_8 q_107 - 2 q_8 q_108 - 2 q_8 q_109 - 2 q_8 q_110 - 2 q_8 q_111 - 2 q_8 q_112 - 2 q_8 q_113 - 2 q_8 q_114 - 2 q_8 q_115 - 2 q_8 q_116 - 2 q_8 q_117 - 2 q_8 q_118 - 2 q_8 q_119 + 6 q_9 q_10 + 6 q_9 q_11 + 6 q_9 q_12 + 6 q_9 q_13 + 6 q_9 q_14 + 6 q_9 q_15 + 6 q_9 q_16 + 6 q_9 q_17 + 6 q_9 q_18 + 6 q_9 q_19 + 6 q_9 q_20 + 6 q_9 q_21 + 6 q_9 q_22 + 6 q_9 q_23 + 6 q_9 q_24 + 6 q_9 q_25 + 6 q_9 q_26 + 6 q_9 q_27 + 6 q_9 q_28 + 6 q_9 q_29 - 2 q_9 q_30 - 2 q_9 q_31 - 2 q_9 q_32 - 2 q_9 q_33 - 2 q_9 q_34 - 2 q_9 q_35 - 2 q_9 q_36 - 2 q_9 q_37 - 2 q_9 q_38 - 2 q_9 q_39 - 2 q_9 q_40 - 2 q_9 q_41 - 2 q_9 q_42 - 2 q_9 q_43 - 2 q_9 q_44 - 2 q_9 q_45 - 2 q_9 q_46 - 2 q_9 q_47 - 2 q_9 q_48 - 2 q_9 q_49 - 2 q_9 q_50 - 2 q_9 q_51 - 2 q_9 q_52 - 2 q_9 q_53 - 2 q_9 q_54 - 2 q_9 q_55 - 2 q_9 q_56 - 2 q_9 q_57 - 2 q_9 q_58 - 2 q_9 q_59 - 2 q_9 q_60 - 2 q_9 q_61 - 2 q_9 q_62 - 2 q_9 q_63 - 2 q_9 q_64 - 2 q_9 q_65 - 2 q_9 q_66 - 2 q_9 q_67 - 2 q_9 q_68 - 2 q_9 q_69 - 2 q_9 q_70 - 2 q_9 q_71 - 2 q_9 q_72 - 2 q_9 q_73 - 2 q_9 q_74 - 2 q_9 q_75 - 2 q_9 q_76 - 2 q_9 q_77 - 2 q_9 q_78 - 2 q_9 q_79 - 2 q_9 q_80 - 2 q_9 q_81 - 2 q_9 q_82 - 2 q_9 q_83 - 2 q_9 q_84 - 2 q_9 q_85 - 2 q_9 q_86 - 2 q_9 q_87 - 2 q_9 q_88 - 2 q_9 q_89 - 2 q_9 q_90 - 2 q_9 q_91 - 2 q_9 q_92 - 2 q_9 q_93 - 2 q_9 q_94 - 2 q_9 q_95 - 2 q_9 q_96 - 2 q_9 q_97 - 2 q_9 q_98 - 2 q_9 q_99 - 2 q_9 q_100 - 2 q_9 q_101 - 2 q_9 q_102 - 2 q_9 q_103 - 2 q_9 q_104 - 2 q_9 q_105 - 2 q_9 q_106 - 2 q_9 q_107 - 2 q_9 q_108 - 2 q_9 q_109 - 2 q_9 q_110 - 2 q_9 q_111 - 2 q_9 q_112 - 2 q_9 q_113 - 2 q_9 q_114 - 2 q_9 q_115 - 2 q_9 q_116 - 2 q_9 q_117 - 2 q_9 q_118 - 2 q_9 q_119 + 6 q_10 q_11 + 6 q_10 q_12 + 6 q_10 q_13 + 6 q_10 q_14 + 6 q_10 q_15 + 6 q_10 q_16 + 6 q_10 q_17 + 6 q_10 q_18 + 6 q_10 q_19 + 6 q_10 q_20 + 6 q_10 q_21 + 6 q_10 q_22 + 6 q_10 q_23 + 6 q_10 q_24 + 6 q_10 q_25 + 6 q_10 q_26 + 6 q_10 q_27 + 6 q_10 q_28 + 6 q_10 q_29 - 2 q_10 q_30 - 2 q_10 q_31 - 2 q_10 q_32 - 2 q_10 q_33 - 2 q_10 q_34 - 2 q_10 q_35 - 2 q_10 q_36 - 2 q_10 q_37 - 2 q_10 q_38 - 2 q_10 q_39 - 2 q_10 q_40 - 2 q_10 q_41 - 2 q_10 q_42 - 2 q_10 q_43 - 2 q_10 q_44 - 2 q_10 q_45 - 2 q_10 q_46 - 2 q_10 q_47 - 2 q_10 q_48 - 2 q_10 q_49 - 2 q_10 q_50 - 2 q_10 q_51 - 2 q_10 q_52 - 2 q_10 q_53 - 2 q_10 q_54 - 2 q_10 q_55 - 2 q_10 q_56 - 2 q_10 q_57 - 2 q_10 q_58 - 2 q_10 q_59 - 2 q_10 q_60 - 2 q_10 q_61 - 2 q_10 q_62 - 2 q_10 q_63 - 2 q_10 q_64 - 2 q_10 q_65 - 2 q_10 q_66 - 2 q_10 q_67 - 2 q_10 q_68 - 2 q_10 q_69 - 2 q_10 q_70 - 2 q_10 q_71 - 2 q_10 q_72 - 2 q_10 q_73 - 2 q_10 q_74 - 2 q_10 q_75 - 2 q_10 q_76 - 2 q_10 q_77 - 2 q_10 q_78 - 2 q_10 q_79 - 2 q_10 q_80 - 2 q_10 q_81 - 2 q_10 q_82 - 2 q_10 q_83 - 2 q_10 q_84 - 2 q_10 q_85 - 2 q_10 q_86 - 2 q_10 q_87 - 2 q_10 q_88 - 2 q_10 q_89 - 2 q_10 q_90 - 2 q_10 q_91 - 2 q_10 q_92 - 2 q_10 q_93 - 2 q_10 q_94 - 2 q_10 q_95 - 2 q_10 q_96 - 2 q_10 q_97 - 2 q_10 q_98 - 2 q_10 q_99 - 2 q_10 q_100 - 2 q_10 q_101 - 2 q_10 q_102 - 2 q_10 q_103 - 2 q_10 q_104 - 2 q_10 q_105 - 2 q_10 q_106 - 2 q_10 q_107 - 2 q_10 q_108 - 2 q_10 q_109 - 2 q_10 q_110 - 2 q_10 q_111 - 2 q_10 q_112 - 2 q_10 q_113 - 2 q_10 q_114 - 2 q_10 q_115 - 2 q_10 q_116 - 2 q_10 q_117 - 2 q_10 q_118 - 2 q_10 q_119 + 6 q_11 q_12 + 6 q_11 q_13 + 6 q_11 q_14 + 6 q_11 q_15 + 6 q_11 q_16 + 6 q_11 q_17 + 6 q_11 q_18 + 6 q_11 q_19 + 6 q_11 q_20 + 6 q_11 q_21 + 6 q_11 q_22 + 6 q_11 q_23 + 6 q_11 q_24 + 6 q_11 q_25 + 6 q_11 q_26 + 6 q_11 q_27 + 6 q_11 q_28 + 6 q_11 q_29 - 2 q_11 q_30 - 2 q_11 q_31 - 2 q_11 q_32 - 2 q_11 q_33 - 2 q_11 q_34 - 2 q_11 q_35 - 2 q_11 q_36 - 2 q_11 q_37 - 2 q_11 q_38 - 2 q_11 q_39 - 2 q_11 q_40 - 2 q_11 q_41 - 2 q_11 q_42 - 2 q_11 q_43 - 2 q_11 q_44 - 2 q_11 q_45 - 2 q_11 q_46 - 2 q_11 q_47 - 2 q_11 q_48 - 2 q_11 q_49 - 2 q_11 q_50 - 2 q_11 q_51 - 2 q_11 q_52 - 2 q_11 q_53 - 2 q_11 q_54 - 2 q_11 q_55 - 2 q_11 q_56 - 2 q_11 q_57 - 2 q_11 q_58 - 2 q_11 q_59 - 2 q_11 q_60 - 2 q_11 q_61 - 2 q_11 q_62 - 2 q_11 q_63 - 2 q_11 q_64 - 2 q_11 q_65 - 2 q_11 q_66 - 2 q_11 q_67 - 2 q_11 q_68 - 2 q_11 q_69 - 2 q_11 q_70 - 2 q_11 q_71 - 2 q_11 q_72 - 2 q_11 q_73 - 2 q_11 q_74 - 2 q_11 q_75 - 2 q_11 q_76 - 2 q_11 q_77 - 2 q_11 q_78 - 2 q_11 q_79 - 2 q_11 q_80 - 2 q_11 q_81 - 2 q_11 q_82 - 2 q_11 q_83 - 2 q_11 q_84 - 2 q_11 q_85 - 2 q_11 q_86 - 2 q_11 q_87 - 2 q_11 q_88 - 2 q_11 q_89 - 2 q_11 q_90 - 2 q_11 q_91 - 2 q_11 q_92 - 2 q_11 q_93 - 2 q_11 q_94 - 2 q_11 q_95 - 2 q_11 q_96 - 2 q_11 q_97 - 2 q_11 q_98 - 2 q_11 q_99 - 2 q_11 q_100 - 2 q_11 q_101 - 2 q_11 q_102 - 2 q_11 q_103 - 2 q_11 q_104 - 2 q_11 q_105 - 2 q_11 q_106 - 2 q_11 q_107 - 2 q_11 q_108 - 2 q_11 q_109 - 2 q_11 q_110 - 2 q_11 q_111 - 2 q_11 q_112 - 2 q_11 q_113 - 2 q_11 q_114 - 2 q_11 q_115 - 2 q_11 q_116 - 2 q_11 q_117 - 2 q_11 q_118 - 2 q_11 q_119 + 6 q_12 q_13 + 6 q_12 q_14 + 6 q_12 q_15 + 6 q_12 q_16 + 6 q_12 q_17 + 6 q_12 q_18 + 6 q_12 q_19 + 6 q_12 q_20 + 6 q_12 q_21 + 6 q_12 q_22 + 6 q_12 q_23 + 6 q_12 q_24 + 6 q_12 q_25 + 6 q_12 q_26 + 6 q_12 q_27 + 6 q_12 q_28 + 6 q_12 q_29 - 2 q_12 q_30 - 2 q_12 q_31 - 2 q_12 q_32 - 2 q_12 q_33 - 2 q_12 q_34 - 2 q_12 q_35 - 2 q_12 q_36 - 2 q_12 q_37 - 2 q_12 q_38 - 2 q_12 q_39 - 2 q_12 q_40 - 2 q_12 q_41 - 2 q_12 q_42 - 2 q_12 q_43 - 2 q_12 q_44 - 2 q_12 q_45 - 2 q_12 q_46 - 2 q_12 q_47 - 2 q_12 q_48 - 2 q_12 q_49 - 2 q_12 q_50 - 2 q_12 q_51 - 2 q_12 q_52 - 2 q_12 q_53 - 2 q_12 q_54 - 2 q_12 q_55 - 2 q_12 q_56 - 2 q_12 q_57 - 2 q_12 q_58 - 2 q_12 q_59 - 2 q_12 q_60 - 2 q_12 q_61 - 2 q_12 q_62 - 2 q_12 q_63 - 2 q_12 q_64 - 2 q_12 q_65 - 2 q_12 q_66 - 2 q_12 q_67 - 2 q_12 q_68 - 2 q_12 q_69 - 2 q_12 q_70 - 2 q_12 q_71 - 2 q_12 q_72 - 2 q_12 q_73 - 2 q_12 q_74 - 2 q_12 q_75 - 2 q_12 q_76 - 2 q_12 q_77 - 2 q_12 q_78 - 2 q_12 q_79 - 2 q_12 q_80 - 2 q_12 q_81 - 2 q_12 q_82 - 2 q_12 q_83 - 2 q_12 q_84 - 2 q_12 q_85 - 2 q_12 q_86 - 2 q_12 q_87 - 2 q_12 q_88 - 2 q_12 q_89 - 2 q_12 q_90 - 2 q_12 q_91 - 2 q_12 q_92 - 2 q_12 q_93 - 2 q_12 q_94 - 2 q_12 q_95 - 2 q_12 q_96 - 2 q_12 q_97 - 2 q_12 q_98 - 2 q_12 q_99 - 2 q_12 q_100 - 2 q_12 q_101 - 2 q_12 q_102 - 2 q_12 q_103 - 2 q_12 q_104 - 2 q_12 q_105 - 2 q_12 q_106 - 2 q_12 q_107 - 2 q_12 q_108 - 2 q_12 q_109 - 2 q_12 q_110 - 2 q_12 q_111 - 2 q_12 q_112 - 2 q_12 q_113 - 2 q_12 q_114 - 2 q_12 q_115 - 2 q_12 q_116 - 2 q_12 q_117 - 2 q_12 q_118 - 2 q_12 q_119 + 6 q_13 q_14 + 6 q_13 q_15 + 6 q_13 q_16 + 6 q_13 q_17 + 6 q_13 q_18 + 6 q_13 q_19 + 6 q_13 q_20 + 6 q_13 q_21 + 6 q_13 q_22 + 6 q_13 q_23 + 6 q_13 q_24 + 6 q_13 q_25 + 6 q_13 q_26 + 6 q_13 q_27 + 6 q_13 q_28 + 6 q_13 q_29 - 2 q_13 q_30 - 2 q_13 q_31 - 2 q_13 q_32 - 2 q_13 q_33 - 2 q_13 q_34 - 2 q_13 q_35 - 2 q_13 q_36 - 2 q_13 q_37 - 2 q_13 q_38 - 2 q_13 q_39 - 2 q_13 q_40 - 2 q_13 q_41 - 2 q_13 q_42 - 2 q_13 q_43 - 2 q_13 q_44 - 2 q_13 q_45 - 2 q_13 q_46 - 2 q_13 q_47 - 2 q_13 q_48 - 2 q_13 q_49 - 2 q_13 q_50 - 2 q_13 q_51 - 2 q_13 q_52 - 2 q_13 q_53 - 2 q_13 q_54 - 2 q_13 q_55 - 2 q_13 q_56 - 2 q_13 q_57 - 2 q_13 q_58 - 2 q_13 q_59 - 2 q_13 q_60 - 2 q_13 q_61 - 2 q_13 q_62 - 2 q_13 q_63 - 2 q_13 q_64 - 2 q_13 q_65 - 2 q_13 q_66 - 2 q_13 q_67 - 2 q_13 q_68 - 2 q_13 q_69 - 2 q_13 q_70 - 2 q_13 q_71 - 2 q_13 q_72 - 2 q_13 q_73 - 2 q_13 q_74 - 2 q_13 q_75 - 2 q_13 q_76 - 2 q_13 q_77 - 2 q_13 q_78 - 2 q_13 q_79 - 2 q_13 q_80 - 2 q_13 q_81 - 2 q_13 q_82 - 2 q_13 q_83 - 2 q_13 q_84 - 2 q_13 q_85 - 2 q_13 q_86 - 2 q_13 q_87 - 2 q_13 q_88 - 2 q_13 q_89 - 2 q_13 q_90 - 2 q_13 q_91 - 2 q_13 q_92 - 2 q_13 q_93 - 2 q_13 q_94 - 2 q_13 q_95 - 2 q_13 q_96 - 2 q_13 q_97 - 2 q_13 q_98 - 2 q_13 q_99 - 2 q_13 q_100 - 2 q_13 q_101 - 2 q_13 q_102 - 2 q_13 q_103 - 2 q_13 q_104 - 2 q_13 q_105 - 2 q_13 q_106 - 2 q_13 q_107 - 2 q_13 q_108 - 2 q_13 q_109 - 2 q_13 q_110 - 2 q_13 q_111 - 2 q_13 q_112 - 2 q_13 q_113 - 2 q_13 q_114 - 2 q_13 q_115 - 2 q_13 q_116 - 2 q_13 q_117 - 2 q_13 q_118 - 2 q_13 q_119 + 6 q_14 q_15 + 6 q_14 q_16 + 6 q_14 q_17 + 6 q_14 q_18 + 6 q_14 q_19 + 6 q_14 q_20 + 6 q_14 q_21 + 6 q_14 q_22 + 6 q_14 q_23 + 6 q_14 q_24 + 6 q_14 q_25 + 6 q_14 q_26 + 6 q_14 q_27 + 6 q_14 q_28 + 6 q_14 q_29 - 2 q_14 q_30 - 2 q_14 q_31 - 2 q_14 q_32 - 2 q_14 q_33 - 2 q_14 q_34 - 2 q_14 q_35 - 2 q_14 q_36 - 2 q_14 q_37 - 2 q_14 q_38 - 2 q_14 q_39 - 2 q_14 q_40 - 2 q_14 q_41 - 2 q_14 q_42 - 2 q_14 q_43 - 2 q_14 q_44 - 2 q_14 q_45 - 2 q_14 q_46 - 2 q_14 q_47 - 2 q_14 q_48 - 2 q_14 q_49 - 2 q_14 q_50 - 2 q_14 q_51 - 2 q_14 q_52 - 2 q_14 q_53 - 2 q_14 q_54 - 2 q_14 q_55 - 2 q_14 q_56 - 2 q_14 q_57 - 2 q_14 q_58 - 2 q_14 q_59 - 2 q_14 q_60 - 2 q_14 q_61 - 2 q_14 q_62 - 2 q_14 q_63 - 2 q_14 q_64 - 2 q_14 q_65 - 2 q_14 q_66 - 2 q_14 q_67 - 2 q_14 q_68 - 2 q_14 q_69 - 2 q_14 q_70 - 2 q_14 q_71 - 2 q_14 q_72 - 2 q_14 q_73 - 2 q_14 q_74 - 2 q_14 q_75 - 2 q_14 q_76 - 2 q_14 q_77 - 2 q_14 q_78 - 2 q_14 q_79 - 2 q_14 q_80 - 2 q_14 q_81 - 2 q_14 q_82 - 2 q_14 q_83 - 2 q_14 q_84 - 2 q_14 q_85 - 2 q_14 q_86 - 2 q_14 q_87 - 2 q_14 q_88 - 2 q_14 q_89 - 2 q_14 q_90 - 2 q_14 q_91 - 2 q_14 q_92 - 2 q_14 q_93 - 2 q_14 q_94 - 2 q_14 q_95 - 2 q_14 q_96 - 2 q_14 q_97 - 2 q_14 q_98 - 2 q_14 q_99 - 2 q_14 q_100 - 2 q_14 q_101 - 2 q_14 q_102 - 2 q_14 q_103 - 2 q_14 q_104 - 2 q_14 q_105 - 2 q_14 q_106 - 2 q_14 q_107 - 2 q_14 q_108 - 2 q_14 q_109 - 2 q_14 q_110 - 2 q_14 q_111 - 2 q_14 q_112 - 2 q_14 q_113 - 2 q_14 q_114 - 2 q_14 q_115 - 2 q_14 q_116 - 2 q_14 q_117 - 2 q_14 q_118 - 2 q_14 q_119 + 6 q_15 q_16 + 6 q_15 q_17 + 6 q_15 q_18 + 6 q_15 q_19 + 6 q_15 q_20 + 6 q_15 q_21 + 6 q_15 q_22 + 6 q_15 q_23 + 6 q_15 q_24 + 6 q_15 q_25 + 6 q_15 q_26 + 6 q_15 q_27 + 6 q_15 q_28 + 6 q_15 q_29 - 2 q_15 q_30 - 2 q_15 q_31 - 2 q_15 q_32 - 2 q_15 q_33 - 2 q_15 q_34 - 2 q_15 q_35 - 2 q_15 q_36 - 2 q_15 q_37 - 2 q_15 q_38 - 2 q_15 q_39 - 2 q_15 q_40 - 2 q_15 q_41 - 2 q_15 q_42 - 2 q_15 q_43 - 2 q_15 q_44 - 2 q_15 q_45 - 2 q_15 q_46 - 2 q_15 q_47 - 2 q_15 q_48 - 2 q_15 q_49 - 2 q_15 q_50 - 2 q_15 q_51 - 2 q_15 q_52 - 2 q_15 q_53 - 2 q_15 q_54 - 2 q_15 q_55 - 2 q_15 q_56 - 2 q_15 q_57 - 2 q_15 q_58 - 2 q_15 q_59 - 2 q_15 q_60 - 2 q_15 q_61 - 2 q_15 q_62 - 2 q_15 q_63 - 2 q_15 q_64 - 2 q_15 q_65 - 2 q_15 q_66 - 2 q_15 q_67 - 2 q_15 q_68 - 2 q_15 q_69 - 2 q_15 q_70 - 2 q_15 q_71 - 2 q_15 q_72 - 2 q_15 q_73 - 2 q_15 q_74 - 2 q_15 q_75 - 2 q_15 q_76 - 2 q_15 q_77 - 2 q_15 q_78 - 2 q_15 q_79 - 2 q_15 q_80 - 2 q_15 q_81 - 2 q_15 q_82 - 2 q_15 q_83 - 2 q_15 q_84 - 2 q_15 q_85 - 2 q_15 q_86 - 2 q_15 q_87 - 2 q_15 q_88 - 2 q_15 q_89 - 2 q_15 q_90 - 2 q_15 q_91 - 2 q_15 q_92 - 2 q_15 q_93 - 2 q_15 q_94 - 2 q_15 q_95 - 2 q_15 q_96 - 2 q_15 q_97 - 2 q_15 q_98 - 2 q_15 q_99 - 2 q_15 q_100 - 2 q_15 q_101 - 2 q_15 q_102 - 2 q_15 q_103 - 2 q_15 q_104 - 2 q_15 q_105 - 2 q_15 q_106 - 2 q_15 q_107 - 2 q_15 q_108 - 2 q_15 q_109 - 2 q_15 q_110 - 2 q_15 q_111 - 2 q_15 q_112 - 2 q_15 q_113 - 2 q_15 q_114 - 2 q_15 q_115 - 2 q_15 q_116 - 2 q_15 q_117 - 2 q_15 q_118 - 2 q_15 q_119 + 6 q_16 q_17 + 6 q_16 q_18 + 6 q_16 q_19 + 6 q_16 q_20 + 6 q_16 q_21 + 6 q_16 q_22 + 6 q_16 q_23 + 6 q_16 q_24 + 6 q_16 q_25 + 6 q_16 q_26 + 6 q_16 q_27 + 6 q_16 q_28 + 6 q_16 q_29 - 2 q_16 q_30 - 2 q_16 q_31 - 2 q_16 q_32 - 2 q_16 q_33 - 2 q_16 q_34 - 2 q_16 q_35 - 2 q_16 q_36 - 2 q_16 q_37 - 2 q_16 q_38 - 2 q_16 q_39 - 2 q_16 q_40 - 2 q_16 q_41 - 2 q_16 q_42 - 2 q_16 q_43 - 2 q_16 q_44 - 2 q_16 q_45 - 2 q_16 q_46 - 2 q_16 q_47 - 2 q_16 q_48 - 2 q_16 q_49 - 2 q_16 q_50 - 2 q_16 q_51 - 2 q_16 q_52 - 2 q_16 q_53 - 2 q_16 q_54 - 2 q_16 q_55 - 2 q_16 q_56 - 2 q_16 q_57 - 2 q_16 q_58 - 2 q_16 q_59 - 2 q_16 q_60 - 2 q_16 q_61 - 2 q_16 q_62 - 2 q_16 q_63 - 2 q_16 q_64 - 2 q_16 q_65 - 2 q_16 q_66 - 2 q_16 q_67 - 2 q_16 q_68 - 2 q_16 q_69 - 2 q_16 q_70 - 2 q_16 q_71 - 2 q_16 q_72 - 2 q_16 q_73 - 2 q_16 q_74 - 2 q_16 q_75 - 2 q_16 q_76 - 2 q_16 q_77 - 2 q_16 q_78 - 2 q_16 q_79 - 2 q_16 q_80 - 2 q_16 q_81 - 2 q_16 q_82 - 2 q_16 q_83 - 2 q_16 q_84 - 2 q_16 q_85 - 2 q_16 q_86 - 2 q_16 q_87 - 2 q_16 q_88 - 2 q_16 q_89 - 2 q_16 q_90 - 2 q_16 q_91 - 2 q_16 q_92 - 2 q_16 q_93 - 2 q_16 q_94 - 2 q_16 q_95 - 2 q_16 q_96 - 2 q_16 q_97 - 2 q_16 q_98 - 2 q_16 q_99 - 2 q_16 q_100 - 2 q_16 q_101 - 2 q_16 q_102 - 2 q_16 q_103 - 2 q_16 q_104 - 2 q_16 q_105 - 2 q_16 q_106 - 2 q_16 q_107 - 2 q_16 q_108 - 2 q_16 q_109 - 2 q_16 q_110 - 2 q_16 q_111 - 2 q_16 q_112 - 2 q_16 q_113 - 2 q_16 q_114 - 2 q_16 q_115 - 2 q_16 q_116 - 2 q_16 q_117 - 2 q_16 q_118 - 2 q_16 q_119 + 6 q_17 q_18 + 6 q_17 q_19 + 6 q_17 q_20 + 6 q_17 q_21 + 6 q_17 q_22 + 6 q_17 q_23 + 6 q_17 q_24 + 6 q_17 q_25 + 6 q_17 q_26 + 6 q_17 q_27 + 6 q_17 q_28 + 6 q_17 q_29 - 2 q_17 q_30 - 2 q_17 q_31 - 2 q_17 q_32 - 2 q_17 q_33 - 2 q_17 q_34 - 2 q_17 q_35 - 2 q_17 q_36 - 2 q_17 q_37 - 2 q_17 q_38 - 2 q_17 q_39 - 2 q_17 q_40 - 2 q_17 q_41 - 2 q_17 q_42 - 2 q_17 q_43 - 2 q_17 q_44 - 2 q_17 q_45 - 2 q_17 q_46 - 2 q_17 q_47 - 2 q_17 q_48 - 2 q_17 q_49 - 2 q_17 q_50 - 2 q_17 q_51 - 2 q_17 q_52 - 2 q_17 q_53 - 2 q_17 q_54 - 2 q_17 q_55 - 2 q_17 q_56 - 2 q_17 q_57 - 2 q_17 q_58 - 2 q_17 q_59 - 2 q_17 q_60 - 2 q_17 q_61 - 2 q_17 q_62 - 2 q_17 q_63 - 2 q_17 q_64 - 2 q_17 q_65 - 2 q_17 q_66 - 2 q_17 q_67 - 2 q_17 q_68 - 2 q_17 q_69 - 2 q_17 q_70 - 2 q_17 q_71 - 2 q_17 q_72 - 2 q_17 q_73 - 2 q_17 q_74 - 2 q_17 q_75 - 2 q_17 q_76 - 2 q_17 q_77 - 2 q_17 q_78 - 2 q_17 q_79 - 2 q_17 q_80 - 2 q_17 q_81 - 2 q_17 q_82 - 2 q_17 q_83 - 2 q_17 q_84 - 2 q_17 q_85 - 2 q_17 q_86 - 2 q_17 q_87 - 2 q_17 q_88 - 2 q_17 q_89 - 2 q_17 q_90 - 2 q_17 q_91 - 2 q_17 q_92 - 2 q_17 q_93 - 2 q_17 q_94 - 2 q_17 q_95 - 2 q_17 q_96 - 2 q_17 q_97 - 2 q_17 q_98 - 2 q_17 q_99 - 2 q_17 q_100 - 2 q_17 q_101 - 2 q_17 q_102 - 2 q_17 q_103 - 2 q_17 q_104 - 2 q_17 q_105 - 2 q_17 q_106 - 2 q_17 q_107 - 2 q_17 q_108 - 2 q_17 q_109 - 2 q_17 q_110 - 2 q_17 q_111 - 2 q_17 q_112 - 2 q_17 q_113 - 2 q_17 q_114 - 2 q_17 q_115 - 2 q_17 q_116 - 2 q_17 q_117 - 2 q_17 q_118 - 2 q_17 q_119 + 6 q_18 q_19 + 6 q_18 q_20 + 6 q_18 q_21 + 6 q_18 q_22 + 6 q_18 q_23 + 6 q_18 q_24 + 6 q_18 q_25 + 6 q_18 q_26 + 6 q_18 q_27 + 6 q_18 q_28 + 6 q_18 q_29 - 2 q_18 q_30 - 2 q_18 q_31 - 2 q_18 q_32 - 2 q_18 q_33 - 2 q_18 q_34 - 2 q_18 q_35 - 2 q_18 q_36 - 2 q_18 q_37 - 2 q_18 q_38 - 2 q_18 q_39 - 2 q_18 q_40 - 2 q_18 q_41 - 2 q_18 q_42 - 2 q_18 q_43 - 2 q_18 q_44 - 2 q_18 q_45 - 2 q_18 q_46 - 2 q_18 q_47 - 2 q_18 q_48 - 2 q_18 q_49 - 2 q_18 q_50 - 2 q_18 q_51 - 2 q_18 q_52 - 2 q_18 q_53 - 2 q_18 q_54 - 2 q_18 q_55 - 2 q_18 q_56 - 2 q_18 q_57 - 2 q_18 q_58 - 2 q_18 q_59 - 2 q_18 q_60 - 2 q_18 q_61 - 2 q_18 q_62 - 2 q_18 q_63 - 2 q_18 q_64 - 2 q_18 q_65 - 2 q_18 q_66 - 2 q_18 q_67 - 2 q_18 q_68 - 2 q_18 q_69 - 2 q_18 q_70 - 2 q_18 q_71 - 2 q_18 q_72 - 2 q_18 q_73 - 2 q_18 q_74 - 2 q_18 q_75 - 2 q_18 q_76 - 2 q_18 q_77 - 2 q_18 q_78 - 2 q_18 q_79 - 2 q_18 q_80 - 2 q_18 q_81 - 2 q_18 q_82 - 2 q_18 q_83 - 2 q_18 q_84 - 2 q_18 q_85 - 2 q_18 q_86 - 2 q_18 q_87 - 2 q_18 q_88 - 2 q_18 q_89 - 2 q_18 q_90 - 2 q_18 q_91 - 2 q_18 q_92 - 2 q_18 q_93 - 2 q_18 q_94 - 2 q_18 q_95 - 2 q_18 q_96 - 2 q_18 q_97 - 2 q_18 q_98 - 2 q_18 q_99 - 2 q_18 q_100 - 2 q_18 q_101 - 2 q_18 q_102 - 2 q_18 q_103 - 2 q_18 q_104 - 2 q_18 q_105 - 2 q_18 q_106 - 2 q_18 q_107 - 2 q_18 q_108 - 2 q_18 q_109 - 2 q_18 q_110 - 2 q_18 q_111 - 2 q_18 q_112 - 2 q_18 q_113 - 2 q_18 q_114 - 2 q_18 q_115 - 2 q_18 q_116 - 2 q_18 q_117 - 2 q_18 q_118 - 2 q_18 q_119 + 6 q_19 q_20 + 6 q_19 q_21 + 6 q_19 q_22 + 6 q_19 q_23 + 6 q_19 q_24 + 6 q_19 q_25 + 6 q_19 q_26 + 6 q_19 q_27 + 6 q_19 q_28 + 6 q_19 q_29 - 2 q_19 q_30 - 2 q_19 q_31 - 2 q_19 q_32 - 2 q_19 q_33 - 2 q_19 q_34 - 2 q_19 q_35 - 2 q_19 q_36 - 2 q_19 q_37 - 2 q_19 q_38 - 2 q_19 q_39 - 2 q_19 q_40 - 2 q_19 q_41 - 2 q_19 q_42 - 2 q_19 q_43 - 2 q_19 q_44 - 2 q_19 q_45 - 2 q_19 q_46 - 2 q_19 q_47 - 2 q_19 q_48 - 2 q_19 q_49 - 2 q_19 q_50 - 2 q_19 q_51 - 2 q_19 q_52 - 2 q_19 q_53 - 2 q_19 q_54 - 2 q_19 q_55 - 2 q_19 q_56 - 2 q_19 q_57 - 2 q_19 q_58 - 2 q_19 q_59 - 2 q_19 q_60 - 2 q_19 q_61 - 2 q_19 q_62 - 2 q_19 q_63 - 2 q_19 q_64 - 2 q_19 q_65 - 2 q_19 q_66 - 2 q_19 q_67 - 2 q_19 q_68 - 2 q_19 q_69 - 2 q_19 q_70 - 2 q_19 q_71 - 2 q_19 q_72 - 2 q_19 q_73 - 2 q_19 q_74 - 2 q_19 q_75 - 2 q_19 q_76 - 2 q_19 q_77 - 2 q_19 q_78 - 2 q_19 q_79 - 2 q_19 q_80 - 2 q_19 q_81 - 2 q_19 q_82 - 2 q_19 q_83 - 2 q_19 q_84 - 2 q_19 q_85 - 2 q_19 q_86 - 2 q_19 q_87 - 2 q_19 q_88 - 2 q_19 q_89 - 2 q_19 q_90 - 2 q_19 q_91 - 2 q_19 q_92 - 2 q_19 q_93 - 2 q_19 q_94 - 2 q_19 q_95 - 2 q_19 q_96 - 2 q_19 q_97 - 2 q_19 q_98 - 2 q_19 q_99 - 2 q_19 q_100 - 2 q_19 q_101 - 2 q_19 q_102 - 2 q_19 q_103 - 2 q_19 q_104 - 2 q_19 q_105 - 2 q_19 q_106 - 2 q_19 q_107 - 2 q_19 q_108 - 2 q_19 q_109 - 2 q_19 q_110 - 2 q_19 q_111 - 2 q_19 q_112 - 2 q_19 q_113 - 2 q_19 q_114 - 2 q_19 q_115 - 2 q_19 q_116 - 2 q_19 q_117 - 2 q_19 q_118 - 2 q_19 q_119 + 6 q_20 q_21 + 6 q_20 q_22 + 6 q_20 q_23 + 6 q_20 q_24 + 6 q_20 q_25 + 6 q_20 q_26 + 6 q_20 q_27 + 6 q_20 q_28 + 6 q_20 q_29 - 2 q_20 q_30 - 2 q_20 q_31 - 2 q_20 q_32 - 2 q_20 q_33 - 2 q_20 q_34 - 2 q_20 q_35 - 2 q_20 q_36 - 2 q_20 q_37 - 2 q_20 q_38 - 2 q_20 q_39 - 2 q_20 q_40 - 2 q_20 q_41 - 2 q_20 q_42 - 2 q_20 q_43 - 2 q_20 q_44 - 2 q_20 q_45 - 2 q_20 q_46 - 2 q_20 q_47 - 2 q_20 q_48 - 2 q_20 q_49 - 2 q_20 q_50 - 2 q_20 q_51 - 2 q_20 q_52 - 2 q_20 q_53 - 2 q_20 q_54 - 2 q_20 q_55 - 2 q_20 q_56 - 2 q_20 q_57 - 2 q_20 q_58 - 2 q_20 q_59 - 2 q_20 q_60 - 2 q_20 q_61 - 2 q_20 q_62 - 2 q_20 q_63 - 2 q_20 q_64 - 2 q_20 q_65 - 2 q_20 q_66 - 2 q_20 q_67 - 2 q_20 q_68 - 2 q_20 q_69 - 2 q_20 q_70 - 2 q_20 q_71 - 2 q_20 q_72 - 2 q_20 q_73 - 2 q_20 q_74 - 2 q_20 q_75 - 2 q_20 q_76 - 2 q_20 q_77 - 2 q_20 q_78 - 2 q_20 q_79 - 2 q_20 q_80 - 2 q_20 q_81 - 2 q_20 q_82 - 2 q_20 q_83 - 2 q_20 q_84 - 2 q_20 q_85 - 2 q_20 q_86 - 2 q_20 q_87 - 2 q_20 q_88 - 2 q_20 q_89 - 2 q_20 q_90 - 2 q_20 q_91 - 2 q_20 q_92 - 2 q_20 q_93 - 2 q_20 q_94 - 2 q_20 q_95 - 2 q_20 q_96 - 2 q_20 q_97 - 2 q_20 q_98 - 2 q_20 q_99 - 2 q_20 q_100 - 2 q_20 q_101 - 2 q_20 q_102 - 2 q_20 q_103 - 2 q_20 q_104 - 2 q_20 q_105 - 2 q_20 q_106 - 2 q_20 q_107 - 2 q_20 q_108 - 2 q_20 q_109 - 2 q_20 q_110 - 2 q_20 q_111 - 2 q_20 q_112 - 2 q_20 q_113 - 2 q_20 q_114 - 2 q_20 q_115 - 2 q_20 q_116 - 2 q_20 q_117 - 2 q_20 q_118 - 2 q_20 q_119 + 6 q_21 q_22 + 6 q_21 q_23 + 6 q_21 q_24 + 6 q_21 q_25 + 6 q_21 q_26 + 6 q_21 q_27 + 6 q_21 q_28 + 6 q_21 q_29 - 2 q_21 q_30 - 2 q_21 q_31 - 2 q_21 q_32 - 2 q_21 q_33 - 2 q_21 q_34 - 2 q_21 q_35 - 2 q_21 q_36 - 2 q_21 q_37 - 2 q_21 q_38 - 2 q_21 q_39 - 2 q_21 q_40 - 2 q_21 q_41 - 2 q_21 q_42 - 2 q_21 q_43 - 2 q_21 q_44 - 2 q_21 q_45 - 2 q_21 q_46 - 2 q_21 q_47 - 2 q_21 q_48 - 2 q_21 q_49 - 2 q_21 q_50 - 2 q_21 q_51 - 2 q_21 q_52 - 2 q_21 q_53 - 2 q_21 q_54 - 2 q_21 q_55 - 2 q_21 q_56 - 2 q_21 q_57 - 2 q_21 q_58 - 2 q_21 q_59 - 2 q_21 q_60 - 2 q_21 q_61 - 2 q_21 q_62 - 2 q_21 q_63 - 2 q_21 q_64 - 2 q_21 q_65 - 2 q_21 q_66 - 2 q_21 q_67 - 2 q_21 q_68 - 2 q_21 q_69 - 2 q_21 q_70 - 2 q_21 q_71 - 2 q_21 q_72 - 2 q_21 q_73 - 2 q_21 q_74 - 2 q_21 q_75 - 2 q_21 q_76 - 2 q_21 q_77 - 2 q_21 q_78 - 2 q_21 q_79 - 2 q_21 q_80 - 2 q_21 q_81 - 2 q_21 q_82 - 2 q_21 q_83 - 2 q_21 q_84 - 2 q_21 q_85 - 2 q_21 q_86 - 2 q_21 q_87 - 2 q_21 q_88 - 2 q_21 q_89 - 2 q_21 q_90 - 2 q_21 q_91 - 2 q_21 q_92 - 2 q_21 q_93 - 2 q_21 q_94 - 2 q_21 q_95 - 2 q_21 q_96 - 2 q_21 q_97 - 2 q_21 q_98 - 2 q_21 q_99 - 2 q_21 q_100 - 2 q_21 q_101 - 2 q_21 q_102 - 2 q_21 q_103 - 2 q_21 q_104 - 2 q_21 q_105 - 2 q_21 q_106 - 2 q_21 q_107 - 2 q_21 q_108 - 2 q_21 q_109 - 2 q_21 q_110 - 2 q_21 q_111 - 2 q_21 q_112 - 2 q_21 q_113 - 2 q_21 q_114 - 2 q_21 q_115 - 2 q_21 q_116 - 2 q_21 q_117 - 2 q_21 q_118 - 2 q_21 q_119 + 6 q_22 q_23 + 6 q_22 q_24 + 6 q_22 q_25 + 6 q_22 q_26 + 6 q_22 q_27 + 6 q_22 q_28 + 6 q_22 q_29 - 2 q_22 q_30 - 2 q_22 q_31 - 2 q_22 q_32 - 2 q_22 q_33 - 2 q_22 q_34 - 2 q_22 q_35 - 2 q_22 q_36 - 2 q_22 q_37 - 2 q_22 q_38 - 2 q_22 q_39 - 2 q_22 q_40 - 2 q_22 q_41 - 2 q_22 q_42 - 2 q_22 q_43 - 2 q_22 q_44 - 2 q_22 q_45 - 2 q_22 q_46 - 2 q_22 q_47 - 2 q_22 q_48 - 2 q_22 q_49 - 2 q_22 q_50 - 2 q_22 q_51 - 2 q_22 q_52 - 2 q_22 q_53 - 2 q_22 q_54 - 2 q_22 q_55 - 2 q_22 q_56 - 2 q_22 q_57 - 2 q_22 q_58 - 2 q_22 q_59 - 2 q_22 q_60 - 2 q_22 q_61 - 2 q_22 q_62 - 2 q_22 q_63 - 2 q_22 q_64 - 2 q_22 q_65 - 2 q_22 q_66 - 2 q_22 q_67 - 2 q_22 q_68 - 2 q_22 q_69 - 2 q_22 q_70 - 2 q_22 q_71 - 2 q_22 q_72 - 2 q_22 q_73 - 2 q_22 q_74 - 2 q_22 q_75 - 2 q_22 q_76 - 2 q_22 q_77 - 2 q_22 q_78 - 2 q_22 q_79 - 2 q_22 q_80 - 2 q_22 q_81 - 2 q_22 q_82 - 2 q_22 q_83 - 2 q_22 q_84 - 2 q_22 q_85 - 2 q_22 q_86 - 2 q_22 q_87 - 2 q_22 q_88 - 2 q_22 q_89 - 2 q_22 q_90 - 2 q_22 q_91 - 2 q_22 q_92 - 2 q_22 q_93 - 2 q_22 q_94 - 2 q_22 q_95 - 2 q_22 q_96 - 2 q_22 q_97 - 2 q_22 q_98 - 2 q_22 q_99 - 2 q_22 q_100 - 2 q_22 q_101 - 2 q_22 q_102 - 2 q_22 q_103 - 2 q_22 q_104 - 2 q_22 q_105 - 2 q_22 q_106 - 2 q_22 q_107 - 2 q_22 q_108 - 2 q_22 q_109 - 2 q_22 q_110 - 2 q_22 q_111 - 2 q_22 q_112 - 2 q_22 q_113 - 2 q_22 q_114 - 2 q_22 q_115 - 2 q_22 q_116 - 2 q_22 q_117 - 2 q_22 q_118 - 2 q_22 q_119 + 6 q_23 q_24 + 6 q_23 q_25 + 6 q_23 q_26 + 6 q_23 q_27 + 6 q_23 q_28 + 6 q_23 q_29 - 2 q_23 q_30 - 2 q_23 q_31 - 2 q_23 q_32 - 2 q_23 q_33 - 2 q_23 q_34 - 2 q_23 q_35 - 2 q_23 q_36 - 2 q_23 q_37 - 2 q_23 q_38 - 2 q_23 q_39 - 2 q_23 q_40 - 2 q_23 q_41 - 2 q_23 q_42 - 2 q_23 q_43 - 2 q_23 q_44 - 2 q_23 q_45 - 2 q_23 q_46 - 2 q_23 q_47 - 2 q_23 q_48 - 2 q_23 q_49 - 2 q_23 q_50 - 2 q_23 q_51 - 2 q_23 q_52 - 2 q_23 q_53 - 2 q_23 q_54 - 2 q_23 q_55 - 2 q_23 q_56 - 2 q_23 q_57 - 2 q_23 q_58 - 2 q_23 q_59 - 2 q_23 q_60 - 2 q_23 q_61 - 2 q_23 q_62 - 2 q_23 q_63 - 2 q_23 q_64 - 2 q_23 q_65 - 2 q_23 q_66 - 2 q_23 q_67 - 2 q_23 q_68 - 2 q_23 q_69 - 2 q_23 q_70 - 2 q_23 q_71 - 2 q_23 q_72 - 2 q_23 q_73 - 2 q_23 q_74 - 2 q_23 q_75 - 2 q_23 q_76 - 2 q_23 q_77 - 2 q_23 q_78 - 2 q_23 q_79 - 2 q_23 q_80 - 2 q_23 q_81 - 2 q_23 q_82 - 2 q_23 q_83 - 2 q_23 q_84 - 2 q_23 q_85 - 2 q_23 q_86 - 2 q_23 q_87 - 2 q_23 q_88 - 2 q_23 q_89 - 2 q_23 q_90 - 2 q_23 q_91 - 2 q_23 q_92 - 2 q_23 q_93 - 2 q_23 q_94 - 2 q_23 q_95 - 2 q_23 q_96 - 2 q_23 q_97 - 2 q_23 q_98 - 2 q_23 q_99 - 2 q_23 q_100 - 2 q_23 q_101 - 2 q_23 q_102 - 2 q_23 q_103 - 2 q_23 q_104 - 2 q_23 q_105 - 2 q_23 q_106 - 2 q_23 q_107 - 2 q_23 q_108 - 2 q_23 q_109 - 2 q_23 q_110 - 2 q_23 q_111 - 2 q_23 q_112 - 2 q_23 q_113 - 2 q_23 q_114 - 2 q_23 q_115 - 2 q_23 q_116 - 2 q_23 q_117 - 2 q_23 q_118 - 2 q_23 q_119 + 6 q_24 q_25 + 6 q_24 q_26 + 6 q_24 q_27 + 6 q_24 q_28 + 6 q_24 q_29 - 2 q_24 q_30 - 2 q_24 q_31 - 2 q_24 q_32 - 2 q_24 q_33 - 2 q_24 q_34 - 2 q_24 q_35 - 2 q_24 q_36 - 2 q_24 q_37 - 2 q_24 q_38 - 2 q_24 q_39 - 2 q_24 q_40 - 2 q_24 q_41 - 2 q_24 q_42 - 2 q_24 q_43 - 2 q_24 q_44 - 2 q_24 q_45 - 2 q_24 q_46 - 2 q_24 q_47 - 2 q_24 q_48 - 2 q_24 q_49 - 2 q_24 q_50 - 2 q_24 q_51 - 2 q_24 q_52 - 2 q_24 q_53 - 2 q_24 q_54 - 2 q_24 q_55 - 2 q_24 q_56 - 2 q_24 q_57 - 2 q_24 q_58 - 2 q_24 q_59 - 2 q_24 q_60 - 2 q_24 q_61 - 2 q_24 q_62 - 2 q_24 q_63 - 2 q_24 q_64 - 2 q_24 q_65 - 2 q_24 q_66 - 2 q_24 q_67 - 2 q_24 q_68 - 2 q_24 q_69 - 2 q_24 q_70 - 2 q_24 q_71 - 2 q_24 q_72 - 2 q_24 q_73 - 2 q_24 q_74 - 2 q_24 q_75 - 2 q_24 q_76 - 2 q_24 q_77 - 2 q_24 q_78 - 2 q_24 q_79 - 2 q_24 q_80 - 2 q_24 q_81 - 2 q_24 q_82 - 2 q_24 q_83 - 2 q_24 q_84 - 2 q_24 q_85 - 2 q_24 q_86 - 2 q_24 q_87 - 2 q_24 q_88 - 2 q_24 q_89 - 2 q_24 q_90 - 2 q_24 q_91 - 2 q_24 q_92 - 2 q_24 q_93 - 2 q_24 q_94 - 2 q_24 q_95 - 2 q_24 q_96 - 2 q_24 q_97 - 2 q_24 q_98 - 2 q_24 q_99 - 2 q_24 q_100 - 2 q_24 q_101 - 2 q_24 q_102 - 2 q_24 q_103 - 2 q_24 q_104 - 2 q_24 q_105 - 2 q_24 q_106 - 2 q_24 q_107 - 2 q_24 q_108 - 2 q_24 q_109 - 2 q_24 q_110 - 2 q_24 q_111 - 2 q_24 q_112 - 2 q_24 q_113 - 2 q_24 q_114 - 2 q_24 q_115 - 2 q_24 q_116 - 2 q_24 q_117 - 2 q_24 q_118 - 2 q_24 q_119 + 6 q_25 q_26 + 6 q_25 q_27 + 6 q_25 q_28 + 6 q_25 q_29 - 2 q_25 q_30 - 2 q_25 q_31 - 2 q_25 q_32 - 2 q_25 q_33 - 2 q_25 q_34 - 2 q_25 q_35 - 2 q_25 q_36 - 2 q_25 q_37 - 2 q_25 q_38 - 2 q_25 q_39 - 2 q_25 q_40 - 2 q_25 q_41 - 2 q_25 q_42 - 2 q_25 q_43 - 2 q_25 q_44 - 2 q_25 q_45 - 2 q_25 q_46 - 2 q_25 q_47 - 2 q_25 q_48 - 2 q_25 q_49 - 2 q_25 q_50 - 2 q_25 q_51 - 2 q_25 q_52 - 2 q_25 q_53 - 2 q_25 q_54 - 2 q_25 q_55 - 2 q_25 q_56 - 2 q_25 q_57 - 2 q_25 q_58 - 2 q_25 q_59 - 2 q_25 q_60 - 2 q_25 q_61 - 2 q_25 q_62 - 2 q_25 q_63 - 2 q_25 q_64 - 2 q_25 q_65 - 2 q_25 q_66 - 2 q_25 q_67 - 2 q_25 q_68 - 2 q_25 q_69 - 2 q_25 q_70 - 2 q_25 q_71 - 2 q_25 q_72 - 2 q_25 q_73 - 2 q_25 q_74 - 2 q_25 q_75 - 2 q_25 q_76 - 2 q_25 q_77 - 2 q_25 q_78 - 2 q_25 q_79 - 2 q_25 q_80 - 2 q_25 q_81 - 2 q_25 q_82 - 2 q_25 q_83 - 2 q_25 q_84 - 2 q_25 q_85 - 2 q_25 q_86 - 2 q_25 q_87 - 2 q_25 q_88 - 2 q_25 q_89 - 2 q_25 q_90 - 2 q_25 q_91 - 2 q_25 q_92 - 2 q_25 q_93 - 2 q_25 q_94 - 2 q_25 q_95 - 2 q_25 q_96 - 2 q_25 q_97 - 2 q_25 q_98 - 2 q_25 q_99 - 2 q_25 q_100 - 2 q_25 q_101 - 2 q_25 q_102 - 2 q_25 q_103 - 2 q_25 q_104 - 2 q_25 q_105 - 2 q_25 q_106 - 2 q_25 q_107 - 2 q_25 q_108 - 2 q_25 q_109 - 2 q_25 q_110 - 2 q_25 q_111 - 2 q_25 q_112 - 2 q_25 q_113 - 2 q_25 q_114 - 2 q_25 q_115 - 2 q_25 q_116 - 2 q_25 q_117 - 2 q_25 q_118 - 2 q_25 q_119 + 6 q_26 q_27 + 6 q_26 q_28 + 6 q_26 q_29 - 2 q_26 q_30 - 2 q_26 q_31 - 2 q_26 q_32 - 2 q_26 q_33 - 2 q_26 q_34 - 2 q_26 q_35 - 2 q_26 q_36 - 2 q_26 q_37 - 2 q_26 q_38 - 2 q_26 q_39 - 2 q_26 q_40 - 2 q_26 q_41 - 2 q_26 q_42 - 2 q_26 q_43 - 2 q_26 q_44 - 2 q_26 q_45 - 2 q_26 q_46 - 2 q_26 q_47 - 2 q_26 q_48 - 2 q_26 q_49 - 2 q_26 q_50 - 2 q_26 q_51 - 2 q_26 q_52 - 2 q_26 q_53 - 2 q_26 q_54 - 2 q_26 q_55 - 2 q_26 q_56 - 2 q_26 q_57 - 2 q_26 q_58 - 2 q_26 q_59 - 2 q_26 q_60 - 2 q_26 q_61 - 2 q_26 q_62 - 2 q_26 q_63 - 2 q_26 q_64 - 2 q_26 q_65 - 2 q_26 q_66 - 2 q_26 q_67 - 2 q_26 q_68 - 2 q_26 q_69 - 2 q_26 q_70 - 2 q_26 q_71 - 2 q_26 q_72 - 2 q_26 q_73 - 2 q_26 q_74 - 2 q_26 q_75 - 2 q_26 q_76 - 2 q_26 q_77 - 2 q_26 q_78 - 2 q_26 q_79 - 2 q_26 q_80 - 2 q_26 q_81 - 2 q_26 q_82 - 2 q_26 q_83 - 2 q_26 q_84 - 2 q_26 q_85 - 2 q_26 q_86 - 2 q_26 q_87 - 2 q_26 q_88 - 2 q_26 q_89 - 2 q_26 q_90 - 2 q_26 q_91 - 2 q_26 q_92 - 2 q_26 q_93 - 2 q_26 q_94 - 2 q_26 q_95 - 2 q_26 q_96 - 2 q_26 q_97 - 2 q_26 q_98 - 2 q_26 q_99 - 2 q_26 q_100 - 2 q_26 q_101 - 2 q_26 q_102 - 2 q_26 q_103 - 2 q_26 q_104 - 2 q_26 q_105 - 2 q_26 q_106 - 2 q_26 q_107 - 2 q_26 q_108 - 2 q_26 q_109 - 2 q_26 q_110 - 2 q_26 q_111 - 2 q_26 q_112 - 2 q_26 q_113 - 2 q_26 q_114 - 2 q_26 q_115 - 2 q_26 q_116 - 2 q_26 q_117 - 2 q_26 q_118 - 2 q_26 q_119 + 6 q_27 q_28 + 6 q_27 q_29 - 2 q_27 q_30 - 2 q_27 q_31 - 2 q_27 q_32 - 2 q_27 q_33 - 2 q_27 q_34 - 2 q_27 q_35 - 2 q_27 q_36 - 2 q_27 q_37 - 2 q_27 q_38 - 2 q_27 q_39 - 2 q_27 q_40 - 2 q_27 q_41 - 2 q_27 q_42 - 2 q_27 q_43 - 2 q_27 q_44 - 2 q_27 q_45 - 2 q_27 q_46 - 2 q_27 q_47 - 2 q_27 q_48 - 2 q_27 q_49 - 2 q_27 q_50 - 2 q_27 q_51 - 2 q_27 q_52 - 2 q_27 q_53 - 2 q_27 q_54 - 2 q_27 q_55 - 2 q_27 q_56 - 2 q_27 q_57 - 2 q_27 q_58 - 2 q_27 q_59 - 2 q_27 q_60 - 2 q_27 q_61 - 2 q_27 q_62 - 2 q_27 q_63 - 2 q_27 q_64 - 2 q_27 q_65 - 2 q_27 q_66 - 2 q_27 q_67 - 2 q_27 q_68 - 2 q_27 q_69 - 2 q_27 q_70 - 2 q_27 q_71 - 2 q_27 q_72 - 2 q_27 q_73 - 2 q_27 q_74 - 2 q_27 q_75 - 2 q_27 q_76 - 2 q_27 q_77 - 2 q_27 q_78 - 2 q_27 q_79 - 2 q_27 q_80 - 2 q_27 q_81 - 2 q_27 q_82 - 2 q_27 q_83 - 2 q_27 q_84 - 2 q_27 q_85 - 2 q_27 q_86 - 2 q_27 q_87 - 2 q_27 q_88 - 2 q_27 q_89 - 2 q_27 q_90 - 2 q_27 q_91 - 2 q_27 q_92 - 2 q_27 q_93 - 2 q_27 q_94 - 2 q_27 q_95 - 2 q_27 q_96 - 2 q_27 q_97 - 2 q_27 q_98 - 2 q_27 q_99 - 2 q_27 q_100 - 2 q_27 q_101 - 2 q_27 q_102 - 2 q_27 q_103 - 2 q_27 q_104 - 2 q_27 q_105 - 2 q_27 q_106 - 2 q_27 q_107 - 2 q_27 q_108 - 2 q_27 q_109 - 2 q_27 q_110 - 2 q_27 q_111 - 2 q_27 q_112 - 2 q_27 q_113 - 2 q_27 q_114 - 2 q_27 q_115 - 2 q_27 q_116 - 2 q_27 q_117 - 2 q_27 q_118 - 2 q_27 q_119 + 6 q_28 q_29 - 2 q_28 q_30 - 2 q_28 q_31 - 2 q_28 q_32 - 2 q_28 q_33 - 2 q_28 q_34 - 2 q_28 q_35 - 2 q_28 q_36 - 2 q_28 q_37 - 2 q_28 q_38 - 2 q_28 q_39 - 2 q_28 q_40 - 2 q_28 q_41 - 2 q_28 q_42 - 2 q_28 q_43 - 2 q_28 q_44 - 2 q_28 q_45 - 2 q_28 q_46 - 2 q_28 q_47 - 2 q_28 q_48 - 2 q_28 q_49 - 2 q_28 q_50 - 2 q_28 q_51 - 2 q_28 q_52 - 2 q_28 q_53 - 2 q_28 q_54 - 2 q_28 q_55 - 2 q_28 q_56 - 2 q_28 q_57 - 2 q_28 q_58 - 2 q_28 q_59 - 2 q_28 q_60 - 2 q_28 q_61 - 2 q_28 q_62 - 2 q_28 q_63 - 2 q_28 q_64 - 2 q_28 q_65 - 2 q_28 q_66 - 2 q_28 q_67 - 2 q_28 q_68 - 2 q_28 q_69 - 2 q_28 q_70 - 2 q_28 q_71 - 2 q_28 q_72 - 2 q_28 q_73 - 2 q_28 q_74 - 2 q_28 q_75 - 2 q_28 q_76 - 2 q_28 q_77 - 2 q_28 q_78 - 2 q_28 q_79 - 2 q_28 q_80 - 2 q_28 q_81 - 2 q_28 q_82 - 2 q_28 q_83 - 2 q_28 q_84 - 2 q_28 q_85 - 2 q_28 q_86 - 2 q_28 q_87 - 2 q_28 q_88 - 2 q_28 q_89 - 2 q_28 q_90 - 2 q_28 q_91 - 2 q_28 q_92 - 2 q_28 q_93 - 2 q_28 q_94 - 2 q_28 q_95 - 2 q_28 q_96 - 2 q_28 q_97 - 2 q_28 q_98 - 2 q_28 q_99 - 2 q_28 q_100 - 2 q_28 q_101 - 2 q_28 q_102 - 2 q_28 q_103 - 2 q_28 q_104 - 2 q_28 q_105 - 2 q_28 q_106 - 2 q_28 q_107 - 2 q_28 q_108 - 2 q_28 q_109 - 2 q_28 q_110 - 2 q_28 q_111 - 2 q_28 q_112 - 2 q_28 q_113 - 2 q_28 q_114 - 2 q_28 q_115 - 2 q_28 q_116 - 2 q_28 q_117 - 2 q_28 q_118 - 2 q_28 q_119 - 2 q_29 q_30 - 2 q_29 q_31 - 2 q_29 q_32 - 2 q_29 q_33 - 2 q_29 q_34 - 2 q_29 q_35 - 2 q_29 q_36 - 2 q_29 q_37 - 2 q_29 q_38 - 2 q_29 q_39 - 2 q_29 q_40 - 2 q_29 q_41 - 2 q_29 q_42 - 2 q_29 q_43 - 2 q_29 q_44 - 2 q_29 q_45 - 2 q_29 q_46 - 2 q_29 q_47 - 2 q_29 q_48 - 2 q_29 q_49 - 2 q_29 q_50 - 2 q_29 q_51 - 2 q_29 q_52 - 2 q_29 q_53 - 2 q_29 q_54 - 2 q_29 q_55 - 2 q_29 q_56 - 2 q_29 q_57 - 2 q_29 q_58 - 2 q_29 q_59 - 2 q_29 q_60 - 2 q_29 q_61 - 2 q_29 q_62 - 2 q_29 q_63 - 2 q_29 q_64 - 2 q_29 q_65 - 2 q_29 q_66 - 2 q_29 q_67 - 2 q_29 q_68 - 2 q_29 q_69 - 2 q_29 q_70 - 2 q_29 q_71 - 2 q_29 q_72 - 2 q_29 q_73 - 2 q_29 q_74 - 2 q_29 q_75 - 2 q_29 q_76 - 2 q_29 q_77 - 2 q_29 q_78 - 2 q_29 q_79 - 2 q_29 q_80 - 2 q_29 q_81 - 2 q_29 q_82 - 2 q_29 q_83 - 2 q_29 q_84 - 2 q_29 q_85 - 2 q_29 q_86 - 2 q_29 q_87 - 2 q_29 q_88 - 2 q_29 q_89 - 2 q_29 q_90 - 2 q_29 q_91 - 2 q_29 q_92 - 2 q_29 q_93 - 2 q_29 q_94 - 2 q_29 q_95 - 2 q_29 q_96 - 2 q_29 q_97 - 2 q_29 q_98 - 2 q_29 q_99 - 2 q_29 q_100 - 2 q_29 q_101 - 2 q_29 q_102 - 2 q_29 q_103 - 2 q_29 q_104 - 2 q_29 q_105 - 2 q_29 q_106 - 2 q_29 q_107 - 2 q_29 q_108 - 2 q_29 q_109 - 2 q_29 q_110 - 2 q_29 q_111 - 2 q_29 q_112 - 2 q_29 q_113 - 2 q_29 q_114 - 2 q_29 q_115 - 2 q_29 q_116 - 2 q_29 q_117 - 2 q_29 q_118 - 2 q_29 q_119 + 6 q_30 q_31 + 6 q_30 q_32 + 6 q_30 q_33 + 6 q_30 q_34 + 6 q_30 q_35 + 6 q_30 q_36 + 6 q_30 q_37 + 6 q_30 q_38 + 6 q_30 q_39 + 6 q_30 q_40 + 6 q_30 q_41 + 6 q_30 q_42 + 6 q_30 q_43 + 6 q_30 q_44 + 6 q_30 q_45 + 6 q_30 q_46 + 6 q_30 q_47 + 6 q_30 q_48 + 6 q_30 q_49 + 6 q_30 q_50 + 6 q_30 q_51 + 6 q_30 q_52 + 6 q_30 q_53 + 6 q_30 q_54 + 6 q_30 q_55 + 6 q_30 q_56 + 6 q_30 q_57 + 6 q_30 q_58 + 6 q_30 q_59 - 2 q_30 q_60 - 2 q_30 q_61 - 2 q_30 q_62 - 2 q_30 q_63 - 2 q_30 q_64 - 2 q_30 q_65 - 2 q_30 q_66 - 2 q_30 q_67 - 2 q_30 q_68 - 2 q_30 q_69 - 2 q_30 q_70 - 2 q_30 q_71 - 2 q_30 q_72 - 2 q_30 q_73 - 2 q_30 q_74 - 2 q_30 q_75 - 2 q_30 q_76 - 2 q_30 q_77 - 2 q_30 q_78 - 2 q_30 q_79 - 2 q_30 q_80 - 2 q_30 q_81 - 2 q_30 q_82 - 2 q_30 q_83 - 2 q_30 q_84 - 2 q_30 q_85 - 2 q_30 q_86 - 2 q_30 q_87 - 2 q_30 q_88 - 2 q_30 q_89 - 2 q_30 q_90 - 2 q_30 q_91 - 2 q_30 q_92 - 2 q_30 q_93 - 2 q_30 q_94 - 2 q_30 q_95 - 2 q_30 q_96 - 2 q_30 q_97 - 2 q_30 q_98 - 2 q_30 q_99 - 2 q_30 q_100 - 2 q_30 q_101 - 2 q_30 q_102 - 2 q_30 q_103 - 2 q_30 q_104 - 2 q_30 q_105 - 2 q_30 q_106 - 2 q_30 q_107 - 2 q_30 q_108 - 2 q_30 q_109 - 2 q_30 q_110 - 2 q_30 q_111 - 2 q_30 q_112 - 2 q_30 q_113 - 2 q_30 q_114 - 2 q_30 q_115 - 2 q_30 q_116 - 2 q_30 q_117 - 2 q_30 q_118 - 2 q_30 q_119 + 6 q_31 q_32 + 6 q_31 q_33 + 6 q_31 q_34 + 6 q_31 q_35 + 6 q_31 q_36 + 6 q_31 q_37 + 6 q_31 q_38 + 6 q_31 q_39 + 6 q_31 q_40 + 6 q_31 q_41 + 6 q_31 q_42 + 6 q_31 q_43 + 6 q_31 q_44 + 6 q_31 q_45 + 6 q_31 q_46 + 6 q_31 q_47 + 6 q_31 q_48 + 6 q_31 q_49 + 6 q_31 q_50 + 6 q_31 q_51 + 6 q_31 q_52 + 6 q_31 q_53 + 6 q_31 q_54 + 6 q_31 q_55 + 6 q_31 q_56 + 6 q_31 q_57 + 6 q_31 q_58 + 6 q_31 q_59 - 2 q_31 q_60 - 2 q_31 q_61 - 2 q_31 q_62 - 2 q_31 q_63 - 2 q_31 q_64 - 2 q_31 q_65 - 2 q_31 q_66 - 2 q_31 q_67 - 2 q_31 q_68 - 2 q_31 q_69 - 2 q_31 q_70 - 2 q_31 q_71 - 2 q_31 q_72 - 2 q_31 q_73 - 2 q_31 q_74 - 2 q_31 q_75 - 2 q_31 q_76 - 2 q_31 q_77 - 2 q_31 q_78 - 2 q_31 q_79 - 2 q_31 q_80 - 2 q_31 q_81 - 2 q_31 q_82 - 2 q_31 q_83 - 2 q_31 q_84 - 2 q_31 q_85 - 2 q_31 q_86 - 2 q_31 q_87 - 2 q_31 q_88 - 2 q_31 q_89 - 2 q_31 q_90 - 2 q_31 q_91 - 2 q_31 q_92 - 2 q_31 q_93 - 2 q_31 q_94 - 2 q_31 q_95 - 2 q_31 q_96 - 2 q_31 q_97 - 2 q_31 q_98 - 2 q_31 q_99 - 2 q_31 q_100 - 2 q_31 q_101 - 2 q_31 q_102 - 2 q_31 q_103 - 2 q_31 q_104 - 2 q_31 q_105 - 2 q_31 q_106 - 2 q_31 q_107 - 2 q_31 q_108 - 2 q_31 q_109 - 2 q_31 q_110 - 2 q_31 q_111 - 2 q_31 q_112 - 2 q_31 q_113 - 2 q_31 q_114 - 2 q_31 q_115 - 2 q_31 q_116 - 2 q_31 q_117 - 2 q_31 q_118 - 2 q_31 q_119 + 6 q_32 q_33 + 6 q_32 q_34 + 6 q_32 q_35 + 6 q_32 q_36 + 6 q_32 q_37 + 6 q_32 q_38 + 6 q_32 q_39 + 6 q_32 q_40 + 6 q_32 q_41 + 6 q_32 q_42 + 6 q_32 q_43 + 6 q_32 q_44 + 6 q_32 q_45 + 6 q_32 q_46 + 6 q_32 q_47 + 6 q_32 q_48 + 6 q_32 q_49 + 6 q_32 q_50 + 6 q_32 q_51 + 6 q_32 q_52 + 6 q_32 q_53 + 6 q_32 q_54 + 6 q_32 q_55 + 6 q_32 q_56 + 6 q_32 q_57 + 6 q_32 q_58 + 6 q_32 q_59 - 2 q_32 q_60 - 2 q_32 q_61 - 2 q_32 q_62 - 2 q_32 q_63 - 2 q_32 q_64 - 2 q_32 q_65 - 2 q_32 q_66 - 2 q_32 q_67 - 2 q_32 q_68 - 2 q_32 q_69 - 2 q_32 q_70 - 2 q_32 q_71 - 2 q_32 q_72 - 2 q_32 q_73 - 2 q_32 q_74 - 2 q_32 q_75 - 2 q_32 q_76 - 2 q_32 q_77 - 2 q_32 q_78 - 2 q_32 q_79 - 2 q_32 q_80 - 2 q_32 q_81 - 2 q_32 q_82 - 2 q_32 q_83 - 2 q_32 q_84 - 2 q_32 q_85 - 2 q_32 q_86 - 2 q_32 q_87 - 2 q_32 q_88 - 2 q_32 q_89 - 2 q_32 q_90 - 2 q_32 q_91 - 2 q_32 q_92 - 2 q_32 q_93 - 2 q_32 q_94 - 2 q_32 q_95 - 2 q_32 q_96 - 2 q_32 q_97 - 2 q_32 q_98 - 2 q_32 q_99 - 2 q_32 q_100 - 2 q_32 q_101 - 2 q_32 q_102 - 2 q_32 q_103 - 2 q_32 q_104 - 2 q_32 q_105 - 2 q_32 q_106 - 2 q_32 q_107 - 2 q_32 q_108 - 2 q_32 q_109 - 2 q_32 q_110 - 2 q_32 q_111 - 2 q_32 q_112 - 2 q_32 q_113 - 2 q_32 q_114 - 2 q_32 q_115 - 2 q_32 q_116 - 2 q_32 q_117 - 2 q_32 q_118 - 2 q_32 q_119 + 6 q_33 q_34 + 6 q_33 q_35 + 6 q_33 q_36 + 6 q_33 q_37 + 6 q_33 q_38 + 6 q_33 q_39 + 6 q_33 q_40 + 6 q_33 q_41 + 6 q_33 q_42 + 6 q_33 q_43 + 6 q_33 q_44 + 6 q_33 q_45 + 6 q_33 q_46 + 6 q_33 q_47 + 6 q_33 q_48 + 6 q_33 q_49 + 6 q_33 q_50 + 6 q_33 q_51 + 6 q_33 q_52 + 6 q_33 q_53 + 6 q_33 q_54 + 6 q_33 q_55 + 6 q_33 q_56 + 6 q_33 q_57 + 6 q_33 q_58 + 6 q_33 q_59 - 2 q_33 q_60 - 2 q_33 q_61 - 2 q_33 q_62 - 2 q_33 q_63 - 2 q_33 q_64 - 2 q_33 q_65 - 2 q_33 q_66 - 2 q_33 q_67 - 2 q_33 q_68 - 2 q_33 q_69 - 2 q_33 q_70 - 2 q_33 q_71 - 2 q_33 q_72 - 2 q_33 q_73 - 2 q_33 q_74 - 2 q_33 q_75 - 2 q_33 q_76 - 2 q_33 q_77 - 2 q_33 q_78 - 2 q_33 q_79 - 2 q_33 q_80 - 2 q_33 q_81 - 2 q_33 q_82 - 2 q_33 q_83 - 2 q_33 q_84 - 2 q_33 q_85 - 2 q_33 q_86 - 2 q_33 q_87 - 2 q_33 q_88 - 2 q_33 q_89 - 2 q_33 q_90 - 2 q_33 q_91 - 2 q_33 q_92 - 2 q_33 q_93 - 2 q_33 q_94 - 2 q_33 q_95 - 2 q_33 q_96 - 2 q_33 q_97 - 2 q_33 q_98 - 2 q_33 q_99 - 2 q_33 q_100 - 2 q_33 q_101 - 2 q_33 q_102 - 2 q_33 q_103 - 2 q_33 q_104 - 2 q_33 q_105 - 2 q_33 q_106 - 2 q_33 q_107 - 2 q_33 q_108 - 2 q_33 q_109 - 2 q_33 q_110 - 2 q_33 q_111 - 2 q_33 q_112 - 2 q_33 q_113 - 2 q_33 q_114 - 2 q_33 q_115 - 2 q_33 q_116 - 2 q_33 q_117 - 2 q_33 q_118 - 2 q_33 q_119 + 6 q_34 q_35 + 6 q_34 q_36 + 6 q_34 q_37 + 6 q_34 q_38 + 6 q_34 q_39 + 6 q_34 q_40 + 6 q_34 q_41 + 6 q_34 q_42 + 6 q_34 q_43 + 6 q_34 q_44 + 6 q_34 q_45 + 6 q_34 q_46 + 6 q_34 q_47 + 6 q_34 q_48 + 6 q_34 q_49 + 6 q_34 q_50 + 6 q_34 q_51 + 6 q_34 q_52 + 6 q_34 q_53 + 6 q_34 q_54 + 6 q_34 q_55 + 6 q_34 q_56 + 6 q_34 q_57 + 6 q_34 q_58 + 6 q_34 q_59 - 2 q_34 q_60 - 2 q_34 q_61 - 2 q_34 q_62 - 2 q_34 q_63 - 2 q_34 q_64 - 2 q_34 q_65 - 2 q_34 q_66 - 2 q_34 q_67 - 2 q_34 q_68 - 2 q_34 q_69 - 2 q_34 q_70 - 2 q_34 q_71 - 2 q_34 q_72 - 2 q_34 q_73 - 2 q_34 q_74 - 2 q_34 q_75 - 2 q_34 q_76 - 2 q_34 q_77 - 2 q_34 q_78 - 2 q_34 q_79 - 2 q_34 q_80 - 2 q_34 q_81 - 2 q_34 q_82 - 2 q_34 q_83 - 2 q_34 q_84 - 2 q_34 q_85 - 2 q_34 q_86 - 2 q_34 q_87 - 2 q_34 q_88 - 2 q_34 q_89 - 2 q_34 q_90 - 2 q_34 q_91 - 2 q_34 q_92 - 2 q_34 q_93 - 2 q_34 q_94 - 2 q_34 q_95 - 2 q_34 q_96 - 2 q_34 q_97 - 2 q_34 q_98 - 2 q_34 q_99 - 2 q_34 q_100 - 2 q_34 q_101 - 2 q_34 q_102 - 2 q_34 q_103 - 2 q_34 q_104 - 2 q_34 q_105 - 2 q_34 q_106 - 2 q_34 q_107 - 2 q_34 q_108 - 2 q_34 q_109 - 2 q_34 q_110 - 2 q_34 q_111 - 2 q_34 q_112 - 2 q_34 q_113 - 2 q_34 q_114 - 2 q_34 q_115 - 2 q_34 q_116 - 2 q_34 q_117 - 2 q_34 q_118 - 2 q_34 q_119 + 6 q_35 q_36 + 6 q_35 q_37 + 6 q_35 q_38 + 6 q_35 q_39 + 6 q_35 q_40 + 6 q_35 q_41 + 6 q_35 q_42 + 6 q_35 q_43 + 6 q_35 q_44 + 6 q_35 q_45 + 6 q_35 q_46 + 6 q_35 q_47 + 6 q_35 q_48 + 6 q_35 q_49 + 6 q_35 q_50 + 6 q_35 q_51 + 6 q_35 q_52 + 6 q_35 q_53 + 6 q_35 q_54 + 6 q_35 q_55 + 6 q_35 q_56 + 6 q_35 q_57 + 6 q_35 q_58 + 6 q_35 q_59 - 2 q_35 q_60 - 2 q_35 q_61 - 2 q_35 q_62 - 2 q_35 q_63 - 2 q_35 q_64 - 2 q_35 q_65 - 2 q_35 q_66 - 2 q_35 q_67 - 2 q_35 q_68 - 2 q_35 q_69 - 2 q_35 q_70 - 2 q_35 q_71 - 2 q_35 q_72 - 2 q_35 q_73 - 2 q_35 q_74 - 2 q_35 q_75 - 2 q_35 q_76 - 2 q_35 q_77 - 2 q_35 q_78 - 2 q_35 q_79 - 2 q_35 q_80 - 2 q_35 q_81 - 2 q_35 q_82 - 2 q_35 q_83 - 2 q_35 q_84 - 2 q_35 q_85 - 2 q_35 q_86 - 2 q_35 q_87 - 2 q_35 q_88 - 2 q_35 q_89 - 2 q_35 q_90 - 2 q_35 q_91 - 2 q_35 q_92 - 2 q_35 q_93 - 2 q_35 q_94 - 2 q_35 q_95 - 2 q_35 q_96 - 2 q_35 q_97 - 2 q_35 q_98 - 2 q_35 q_99 - 2 q_35 q_100 - 2 q_35 q_101 - 2 q_35 q_102 - 2 q_35 q_103 - 2 q_35 q_104 - 2 q_35 q_105 - 2 q_35 q_106 - 2 q_35 q_107 - 2 q_35 q_108 - 2 q_35 q_109 - 2 q_35 q_110 - 2 q_35 q_111 - 2 q_35 q_112 - 2 q_35 q_113 - 2 q_35 q_114 - 2 q_35 q_115 - 2 q_35 q_116 - 2 q_35 q_117 - 2 q_35 q_118 - 2 q_35 q_119 + 6 q_36 q_37 + 6 q_36 q_38 + 6 q_36 q_39 + 6 q_36 q_40 + 6 q_36 q_41 + 6 q_36 q_42 + 6 q_36 q_43 + 6 q_36 q_44 + 6 q_36 q_45 + 6 q_36 q_46 + 6 q_36 q_47 + 6 q_36 q_48 + 6 q_36 q_49 + 6 q_36 q_50 + 6 q_36 q_51 + 6 q_36 q_52 + 6 q_36 q_53 + 6 q_36 q_54 + 6 q_36 q_55 + 6 q_36 q_56 + 6 q_36 q_57 + 6 q_36 q_58 + 6 q_36 q_59 - 2 q_36 q_60 - 2 q_36 q_61 - 2 q_36 q_62 - 2 q_36 q_63 - 2 q_36 q_64 - 2 q_36 q_65 - 2 q_36 q_66 - 2 q_36 q_67 - 2 q_36 q_68 - 2 q_36 q_69 - 2 q_36 q_70 - 2 q_36 q_71 - 2 q_36 q_72 - 2 q_36 q_73 - 2 q_36 q_74 - 2 q_36 q_75 - 2 q_36 q_76 - 2 q_36 q_77 - 2 q_36 q_78 - 2 q_36 q_79 - 2 q_36 q_80 - 2 q_36 q_81 - 2 q_36 q_82 - 2 q_36 q_83 - 2 q_36 q_84 - 2 q_36 q_85 - 2 q_36 q_86 - 2 q_36 q_87 - 2 q_36 q_88 - 2 q_36 q_89 - 2 q_36 q_90 - 2 q_36 q_91 - 2 q_36 q_92 - 2 q_36 q_93 - 2 q_36 q_94 - 2 q_36 q_95 - 2 q_36 q_96 - 2 q_36 q_97 - 2 q_36 q_98 - 2 q_36 q_99 - 2 q_36 q_100 - 2 q_36 q_101 - 2 q_36 q_102 - 2 q_36 q_103 - 2 q_36 q_104 - 2 q_36 q_105 - 2 q_36 q_106 - 2 q_36 q_107 - 2 q_36 q_108 - 2 q_36 q_109 - 2 q_36 q_110 - 2 q_36 q_111 - 2 q_36 q_112 - 2 q_36 q_113 - 2 q_36 q_114 - 2 q_36 q_115 - 2 q_36 q_116 - 2 q_36 q_117 - 2 q_36 q_118 - 2 q_36 q_119 + 6 q_37 q_38 + 6 q_37 q_39 + 6 q_37 q_40 + 6 q_37 q_41 + 6 q_37 q_42 + 6 q_37 q_43 + 6 q_37 q_44 + 6 q_37 q_45 + 6 q_37 q_46 + 6 q_37 q_47 + 6 q_37 q_48 + 6 q_37 q_49 + 6 q_37 q_50 + 6 q_37 q_51 + 6 q_37 q_52 + 6 q_37 q_53 + 6 q_37 q_54 + 6 q_37 q_55 + 6 q_37 q_56 + 6 q_37 q_57 + 6 q_37 q_58 + 6 q_37 q_59 - 2 q_37 q_60 - 2 q_37 q_61 - 2 q_37 q_62 - 2 q_37 q_63 - 2 q_37 q_64 - 2 q_37 q_65 - 2 q_37 q_66 - 2 q_37 q_67 - 2 q_37 q_68 - 2 q_37 q_69 - 2 q_37 q_70 - 2 q_37 q_71 - 2 q_37 q_72 - 2 q_37 q_73 - 2 q_37 q_74 - 2 q_37 q_75 - 2 q_37 q_76 - 2 q_37 q_77 - 2 q_37 q_78 - 2 q_37 q_79 - 2 q_37 q_80 - 2 q_37 q_81 - 2 q_37 q_82 - 2 q_37 q_83 - 2 q_37 q_84 - 2 q_37 q_85 - 2 q_37 q_86 - 2 q_37 q_87 - 2 q_37 q_88 - 2 q_37 q_89 - 2 q_37 q_90 - 2 q_37 q_91 - 2 q_37 q_92 - 2 q_37 q_93 - 2 q_37 q_94 - 2 q_37 q_95 - 2 q_37 q_96 - 2 q_37 q_97 - 2 q_37 q_98 - 2 q_37 q_99 - 2 q_37 q_100 - 2 q_37 q_101 - 2 q_37 q_102 - 2 q_37 q_103 - 2 q_37 q_104 - 2 q_37 q_105 - 2 q_37 q_106 - 2 q_37 q_107 - 2 q_37 q_108 - 2 q_37 q_109 - 2 q_37 q_110 - 2 q_37 q_111 - 2 q_37 q_112 - 2 q_37 q_113 - 2 q_37 q_114 - 2 q_37 q_115 - 2 q_37 q_116 - 2 q_37 q_117 - 2 q_37 q_118 - 2 q_37 q_119 + 6 q_38 q_39 + 6 q_38 q_40 + 6 q_38 q_41 + 6 q_38 q_42 + 6 q_38 q_43 + 6 q_38 q_44 + 6 q_38 q_45 + 6 q_38 q_46 + 6 q_38 q_47 + 6 q_38 q_48 + 6 q_38 q_49 + 6 q_38 q_50 + 6 q_38 q_51 + 6 q_38 q_52 + 6 q_38 q_53 + 6 q_38 q_54 + 6 q_38 q_55 + 6 q_38 q_56 + 6 q_38 q_57 + 6 q_38 q_58 + 6 q_38 q_59 - 2 q_38 q_60 - 2 q_38 q_61 - 2 q_38 q_62 - 2 q_38 q_63 - 2 q_38 q_64 - 2 q_38 q_65 - 2 q_38 q_66 - 2 q_38 q_67 - 2 q_38 q_68 - 2 q_38 q_69 - 2 q_38 q_70 - 2 q_38 q_71 - 2 q_38 q_72 - 2 q_38 q_73 - 2 q_38 q_74 - 2 q_38 q_75 - 2 q_38 q_76 - 2 q_38 q_77 - 2 q_38 q_78 - 2 q_38 q_79 - 2 q_38 q_80 - 2 q_38 q_81 - 2 q_38 q_82 - 2 q_38 q_83 - 2 q_38 q_84 - 2 q_38 q_85 - 2 q_38 q_86 - 2 q_38 q_87 - 2 q_38 q_88 - 2 q_38 q_89 - 2 q_38 q_90 - 2 q_38 q_91 - 2 q_38 q_92 - 2 q_38 q_93 - 2 q_38 q_94 - 2 q_38 q_95 - 2 q_38 q_96 - 2 q_38 q_97 - 2 q_38 q_98 - 2 q_38 q_99 - 2 q_38 q_100 - 2 q_38 q_101 - 2 q_38 q_102 - 2 q_38 q_103 - 2 q_38 q_104 - 2 q_38 q_105 - 2 q_38 q_106 - 2 q_38 q_107 - 2 q_38 q_108 - 2 q_38 q_109 - 2 q_38 q_110 - 2 q_38 q_111 - 2 q_38 q_112 - 2 q_38 q_113 - 2 q_38 q_114 - 2 q_38 q_115 - 2 q_38 q_116 - 2 q_38 q_117 - 2 q_38 q_118 - 2 q_38 q_119 + 6 q_39 q_40 + 6 q_39 q_41 + 6 q_39 q_42 + 6 q_39 q_43 + 6 q_39 q_44 + 6 q_39 q_45 + 6 q_39 q_46 + 6 q_39 q_47 + 6 q_39 q_48 + 6 q_39 q_49 + 6 q_39 q_50 + 6 q_39 q_51 + 6 q_39 q_52 + 6 q_39 q_53 + 6 q_39 q_54 + 6 q_39 q_55 + 6 q_39 q_56 + 6 q_39 q_57 + 6 q_39 q_58 + 6 q_39 q_59 - 2 q_39 q_60 - 2 q_39 q_61 - 2 q_39 q_62 - 2 q_39 q_63 - 2 q_39 q_64 - 2 q_39 q_65 - 2 q_39 q_66 - 2 q_39 q_67 - 2 q_39 q_68 - 2 q_39 q_69 - 2 q_39 q_70 - 2 q_39 q_71 - 2 q_39 q_72 - 2 q_39 q_73 - 2 q_39 q_74 - 2 q_39 q_75 - 2 q_39 q_76 - 2 q_39 q_77 - 2 q_39 q_78 - 2 q_39 q_79 - 2 q_39 q_80 - 2 q_39 q_81 - 2 q_39 q_82 - 2 q_39 q_83 - 2 q_39 q_84 - 2 q_39 q_85 - 2 q_39 q_86 - 2 q_39 q_87 - 2 q_39 q_88 - 2 q_39 q_89 - 2 q_39 q_90 - 2 q_39 q_91 - 2 q_39 q_92 - 2 q_39 q_93 - 2 q_39 q_94 - 2 q_39 q_95 - 2 q_39 q_96 - 2 q_39 q_97 - 2 q_39 q_98 - 2 q_39 q_99 - 2 q_39 q_100 - 2 q_39 q_101 - 2 q_39 q_102 - 2 q_39 q_103 - 2 q_39 q_104 - 2 q_39 q_105 - 2 q_39 q_106 - 2 q_39 q_107 - 2 q_39 q_108 - 2 q_39 q_109 - 2 q_39 q_110 - 2 q_39 q_111 - 2 q_39 q_112 - 2 q_39 q_113 - 2 q_39 q_114 - 2 q_39 q_115 - 2 q_39 q_116 - 2 q_39 q_117 - 2 q_39 q_118 - 2 q_39 q_119 + 6 q_40 q_41 + 6 q_40 q_42 + 6 q_40 q_43 + 6 q_40 q_44 + 6 q_40 q_45 + 6 q_40 q_46 + 6 q_40 q_47 + 6 q_40 q_48 + 6 q_40 q_49 + 6 q_40 q_50 + 6 q_40 q_51 + 6 q_40 q_52 + 6 q_40 q_53 + 6 q_40 q_54 + 6 q_40 q_55 + 6 q_40 q_56 + 6 q_40 q_57 + 6 q_40 q_58 + 6 q_40 q_59 - 2 q_40 q_60 - 2 q_40 q_61 - 2 q_40 q_62 - 2 q_40 q_63 - 2 q_40 q_64 - 2 q_40 q_65 - 2 q_40 q_66 - 2 q_40 q_67 - 2 q_40 q_68 - 2 q_40 q_69 - 2 q_40 q_70 - 2 q_40 q_71 - 2 q_40 q_72 - 2 q_40 q_73 - 2 q_40 q_74 - 2 q_40 q_75 - 2 q_40 q_76 - 2 q_40 q_77 - 2 q_40 q_78 - 2 q_40 q_79 - 2 q_40 q_80 - 2 q_40 q_81 - 2 q_40 q_82 - 2 q_40 q_83 - 2 q_40 q_84 - 2 q_40 q_85 - 2 q_40 q_86 - 2 q_40 q_87 - 2 q_40 q_88 - 2 q_40 q_89 - 2 q_40 q_90 - 2 q_40 q_91 - 2 q_40 q_92 - 2 q_40 q_93 - 2 q_40 q_94 - 2 q_40 q_95 - 2 q_40 q_96 - 2 q_40 q_97 - 2 q_40 q_98 - 2 q_40 q_99 - 2 q_40 q_100 - 2 q_40 q_101 - 2 q_40 q_102 - 2 q_40 q_103 - 2 q_40 q_104 - 2 q_40 q_105 - 2 q_40 q_106 - 2 q_40 q_107 - 2 q_40 q_108 - 2 q_40 q_109 - 2 q_40 q_110 - 2 q_40 q_111 - 2 q_40 q_112 - 2 q_40 q_113 - 2 q_40 q_114 - 2 q_40 q_115 - 2 q_40 q_116 - 2 q_40 q_117 - 2 q_40 q_118 - 2 q_40 q_119 + 6 q_41 q_42 + 6 q_41 q_43 + 6 q_41 q_44 + 6 q_41 q_45 + 6 q_41 q_46 + 6 q_41 q_47 + 6 q_41 q_48 + 6 q_41 q_49 + 6 q_41 q_50 + 6 q_41 q_51 + 6 q_41 q_52 + 6 q_41 q_53 + 6 q_41 q_54 + 6 q_41 q_55 + 6 q_41 q_56 + 6 q_41 q_57 + 6 q_41 q_58 + 6 q_41 q_59 - 2 q_41 q_60 - 2 q_41 q_61 - 2 q_41 q_62 - 2 q_41 q_63 - 2 q_41 q_64 - 2 q_41 q_65 - 2 q_41 q_66 - 2 q_41 q_67 - 2 q_41 q_68 - 2 q_41 q_69 - 2 q_41 q_70 - 2 q_41 q_71 - 2 q_41 q_72 - 2 q_41 q_73 - 2 q_41 q_74 - 2 q_41 q_75 - 2 q_41 q_76 - 2 q_41 q_77 - 2 q_41 q_78 - 2 q_41 q_79 - 2 q_41 q_80 - 2 q_41 q_81 - 2 q_41 q_82 - 2 q_41 q_83 - 2 q_41 q_84 - 2 q_41 q_85 - 2 q_41 q_86 - 2 q_41 q_87 - 2 q_41 q_88 - 2 q_41 q_89 - 2 q_41 q_90 - 2 q_41 q_91 - 2 q_41 q_92 - 2 q_41 q_93 - 2 q_41 q_94 - 2 q_41 q_95 - 2 q_41 q_96 - 2 q_41 q_97 - 2 q_41 q_98 - 2 q_41 q_99 - 2 q_41 q_100 - 2 q_41 q_101 - 2 q_41 q_102 - 2 q_41 q_103 - 2 q_41 q_104 - 2 q_41 q_105 - 2 q_41 q_106 - 2 q_41 q_107 - 2 q_41 q_108 - 2 q_41 q_109 - 2 q_41 q_110 - 2 q_41 q_111 - 2 q_41 q_112 - 2 q_41 q_113 - 2 q_41 q_114 - 2 q_41 q_115 - 2 q_41 q_116 - 2 q_41 q_117 - 2 q_41 q_118 - 2 q_41 q_119 + 6 q_42 q_43 + 6 q_42 q_44 + 6 q_42 q_45 + 6 q_42 q_46 + 6 q_42 q_47 + 6 q_42 q_48 + 6 q_42 q_49 + 6 q_42 q_50 + 6 q_42 q_51 + 6 q_42 q_52 + 6 q_42 q_53 + 6 q_42 q_54 + 6 q_42 q_55 + 6 q_42 q_56 + 6 q_42 q_57 + 6 q_42 q_58 + 6 q_42 q_59 - 2 q_42 q_60 - 2 q_42 q_61 - 2 q_42 q_62 - 2 q_42 q_63 - 2 q_42 q_64 - 2 q_42 q_65 - 2 q_42 q_66 - 2 q_42 q_67 - 2 q_42 q_68 - 2 q_42 q_69 - 2 q_42 q_70 - 2 q_42 q_71 - 2 q_42 q_72 - 2 q_42 q_73 - 2 q_42 q_74 - 2 q_42 q_75 - 2 q_42 q_76 - 2 q_42 q_77 - 2 q_42 q_78 - 2 q_42 q_79 - 2 q_42 q_80 - 2 q_42 q_81 - 2 q_42 q_82 - 2 q_42 q_83 - 2 q_42 q_84 - 2 q_42 q_85 - 2 q_42 q_86 - 2 q_42 q_87 - 2 q_42 q_88 - 2 q_42 q_89 - 2 q_42 q_90 - 2 q_42 q_91 - 2 q_42 q_92 - 2 q_42 q_93 - 2 q_42 q_94 - 2 q_42 q_95 - 2 q_42 q_96 - 2 q_42 q_97 - 2 q_42 q_98 - 2 q_42 q_99 - 2 q_42 q_100 - 2 q_42 q_101 - 2 q_42 q_102 - 2 q_42 q_103 - 2 q_42 q_104 - 2 q_42 q_105 - 2 q_42 q_106 - 2 q_42 q_107 - 2 q_42 q_108 - 2 q_42 q_109 - 2 q_42 q_110 - 2 q_42 q_111 - 2 q_42 q_112 - 2 q_42 q_113 - 2 q_42 q_114 - 2 q_42 q_115 - 2 q_42 q_116 - 2 q_42 q_117 - 2 q_42 q_118 - 2 q_42 q_119 + 6 q_43 q_44 + 6 q_43 q_45 + 6 q_43 q_46 + 6 q_43 q_47 + 6 q_43 q_48 + 6 q_43 q_49 + 6 q_43 q_50 + 6 q_43 q_51 + 6 q_43 q_52 + 6 q_43 q_53 + 6 q_43 q_54 + 6 q_43 q_55 + 6 q_43 q_56 + 6 q_43 q_57 + 6 q_43 q_58 + 6 q_43 q_59 - 2 q_43 q_60 - 2 q_43 q_61 - 2 q_43 q_62 - 2 q_43 q_63 - 2 q_43 q_64 - 2 q_43 q_65 - 2 q_43 q_66 - 2 q_43 q_67 - 2 q_43 q_68 - 2 q_43 q_69 - 2 q_43 q_70 - 2 q_43 q_71 - 2 q_43 q_72 - 2 q_43 q_73 - 2 q_43 q_74 - 2 q_43 q_75 - 2 q_43 q_76 - 2 q_43 q_77 - 2 q_43 q_78 - 2 q_43 q_79 - 2 q_43 q_80 - 2 q_43 q_81 - 2 q_43 q_82 - 2 q_43 q_83 - 2 q_43 q_84 - 2 q_43 q_85 - 2 q_43 q_86 - 2 q_43 q_87 - 2 q_43 q_88 - 2 q_43 q_89 - 2 q_43 q_90 - 2 q_43 q_91 - 2 q_43 q_92 - 2 q_43 q_93 - 2 q_43 q_94 - 2 q_43 q_95 - 2 q_43 q_96 - 2 q_43 q_97 - 2 q_43 q_98 - 2 q_43 q_99 - 2 q_43 q_100 - 2 q_43 q_101 - 2 q_43 q_102 - 2 q_43 q_103 - 2 q_43 q_104 - 2 q_43 q_105 - 2 q_43 q_106 - 2 q_43 q_107 - 2 q_43 q_108 - 2 q_43 q_109 - 2 q_43 q_110 - 2 q_43 q_111 - 2 q_43 q_112 - 2 q_43 q_113 - 2 q_43 q_114 - 2 q_43 q_115 - 2 q_43 q_116 - 2 q_43 q_117 - 2 q_43 q_118 - 2 q_43 q_119 + 6 q_44 q_45 + 6 q_44 q_46 + 6 q_44 q_47 + 6 q_44 q_48 + 6 q_44 q_49 + 6 q_44 q_50 + 6 q_44 q_51 + 6 q_44 q_52 + 6 q_44 q_53 + 6 q_44 q_54 + 6 q_44 q_55 + 6 q_44 q_56 + 6 q_44 q_57 + 6 q_44 q_58 + 6 q_44 q_59 - 2 q_44 q_60 - 2 q_44 q_61 - 2 q_44 q_62 - 2 q_44 q_63 - 2 q_44 q_64 - 2 q_44 q_65 - 2 q_44 q_66 - 2 q_44 q_67 - 2 q_44 q_68 - 2 q_44 q_69 - 2 q_44 q_70 - 2 q_44 q_71 - 2 q_44 q_72 - 2 q_44 q_73 - 2 q_44 q_74 - 2 q_44 q_75 - 2 q_44 q_76 - 2 q_44 q_77 - 2 q_44 q_78 - 2 q_44 q_79 - 2 q_44 q_80 - 2 q_44 q_81 - 2 q_44 q_82 - 2 q_44 q_83 - 2 q_44 q_84 - 2 q_44 q_85 - 2 q_44 q_86 - 2 q_44 q_87 - 2 q_44 q_88 - 2 q_44 q_89 - 2 q_44 q_90 - 2 q_44 q_91 - 2 q_44 q_92 - 2 q_44 q_93 - 2 q_44 q_94 - 2 q_44 q_95 - 2 q_44 q_96 - 2 q_44 q_97 - 2 q_44 q_98 - 2 q_44 q_99 - 2 q_44 q_100 - 2 q_44 q_101 - 2 q_44 q_102 - 2 q_44 q_103 - 2 q_44 q_104 - 2 q_44 q_105 - 2 q_44 q_106 - 2 q_44 q_107 - 2 q_44 q_108 - 2 q_44 q_109 - 2 q_44 q_110 - 2 q_44 q_111 - 2 q_44 q_112 - 2 q_44 q_113 - 2 q_44 q_114 - 2 q_44 q_115 - 2 q_44 q_116 - 2 q_44 q_117 - 2 q_44 q_118 - 2 q_44 q_119 + 6 q_45 q_46 + 6 q_45 q_47 + 6 q_45 q_48 + 6 q_45 q_49 + 6 q_45 q_50 + 6 q_45 q_51 + 6 q_45 q_52 + 6 q_45 q_53 + 6 q_45 q_54 + 6 q_45 q_55 + 6 q_45 q_56 + 6 q_45 q_57 + 6 q_45 q_58 + 6 q_45 q_59 - 2 q_45 q_60 - 2 q_45 q_61 - 2 q_45 q_62 - 2 q_45 q_63 - 2 q_45 q_64 - 2 q_45 q_65 - 2 q_45 q_66 - 2 q_45 q_67 - 2 q_45 q_68 - 2 q_45 q_69 - 2 q_45 q_70 - 2 q_45 q_71 - 2 q_45 q_72 - 2 q_45 q_73 - 2 q_45 q_74 - 2 q_45 q_75 - 2 q_45 q_76 - 2 q_45 q_77 - 2 q_45 q_78 - 2 q_45 q_79 - 2 q_45 q_80 - 2 q_45 q_81 - 2 q_45 q_82 - 2 q_45 q_83 - 2 q_45 q_84 - 2 q_45 q_85 - 2 q_45 q_86 - 2 q_45 q_87 - 2 q_45 q_88 - 2 q_45 q_89 - 2 q_45 q_90 - 2 q_45 q_91 - 2 q_45 q_92 - 2 q_45 q_93 - 2 q_45 q_94 - 2 q_45 q_95 - 2 q_45 q_96 - 2 q_45 q_97 - 2 q_45 q_98 - 2 q_45 q_99 - 2 q_45 q_100 - 2 q_45 q_101 - 2 q_45 q_102 - 2 q_45 q_103 - 2 q_45 q_104 - 2 q_45 q_105 - 2 q_45 q_106 - 2 q_45 q_107 - 2 q_45 q_108 - 2 q_45 q_109 - 2 q_45 q_110 - 2 q_45 q_111 - 2 q_45 q_112 - 2 q_45 q_113 - 2 q_45 q_114 - 2 q_45 q_115 - 2 q_45 q_116 - 2 q_45 q_117 - 2 q_45 q_118 - 2 q_45 q_119 + 6 q_46 q_47 + 6 q_46 q_48 + 6 q_46 q_49 + 6 q_46 q_50 + 6 q_46 q_51 + 6 q_46 q_52 + 6 q_46 q_53 + 6 q_46 q_54 + 6 q_46 q_55 + 6 q_46 q_56 + 6 q_46 q_57 + 6 q_46 q_58 + 6 q_46 q_59 - 2 q_46 q_60 - 2 q_46 q_61 - 2 q_46 q_62 - 2 q_46 q_63 - 2 q_46 q_64 - 2 q_46 q_65 - 2 q_46 q_66 - 2 q_46 q_67 - 2 q_46 q_68 - 2 q_46 q_69 - 2 q_46 q_70 - 2 q_46 q_71 - 2 q_46 q_72 - 2 q_46 q_73 - 2 q_46 q_74 - 2 q_46 q_75 - 2 q_46 q_76 - 2 q_46 q_77 - 2 q_46 q_78 - 2 q_46 q_79 - 2 q_46 q_80 - 2 q_46 q_81 - 2 q_46 q_82 - 2 q_46 q_83 - 2 q_46 q_84 - 2 q_46 q_85 - 2 q_46 q_86 - 2 q_46 q_87 - 2 q_46 q_88 - 2 q_46 q_89 - 2 q_46 q_90 - 2 q_46 q_91 - 2 q_46 q_92 - 2 q_46 q_93 - 2 q_46 q_94 - 2 q_46 q_95 - 2 q_46 q_96 - 2 q_46 q_97 - 2 q_46 q_98 - 2 q_46 q_99 - 2 q_46 q_100 - 2 q_46 q_101 - 2 q_46 q_102 - 2 q_46 q_103 - 2 q_46 q_104 - 2 q_46 q_105 - 2 q_46 q_106 - 2 q_46 q_107 - 2 q_46 q_108 - 2 q_46 q_109 - 2 q_46 q_110 - 2 q_46 q_111 - 2 q_46 q_112 - 2 q_46 q_113 - 2 q_46 q_114 - 2 q_46 q_115 - 2 q_46 q_116 - 2 q_46 q_117 - 2 q_46 q_118 - 2 q_46 q_119 + 6 q_47 q_48 + 6 q_47 q_49 + 6 q_47 q_50 + 6 q_47 q_51 + 6 q_47 q_52 + 6 q_47 q_53 + 6 q_47 q_54 + 6 q_47 q_55 + 6 q_47 q_56 + 6 q_47 q_57 + 6 q_47 q_58 + 6 q_47 q_59 - 2 q_47 q_60 - 2 q_47 q_61 - 2 q_47 q_62 - 2 q_47 q_63 - 2 q_47 q_64 - 2 q_47 q_65 - 2 q_47 q_66 - 2 q_47 q_67 - 2 q_47 q_68 - 2 q_47 q_69 - 2 q_47 q_70 - 2 q_47 q_71 - 2 q_47 q_72 - 2 q_47 q_73 - 2 q_47 q_74 - 2 q_47 q_75 - 2 q_47 q_76 - 2 q_47 q_77 - 2 q_47 q_78 - 2 q_47 q_79 - 2 q_47 q_80 - 2 q_47 q_81 - 2 q_47 q_82 - 2 q_47 q_83 - 2 q_47 q_84 - 2 q_47 q_85 - 2 q_47 q_86 - 2 q_47 q_87 - 2 q_47 q_88 - 2 q_47 q_89 - 2 q_47 q_90 - 2 q_47 q_91 - 2 q_47 q_92 - 2 q_47 q_93 - 2 q_47 q_94 - 2 q_47 q_95 - 2 q_47 q_96 - 2 q_47 q_97 - 2 q_47 q_98 - 2 q_47 q_99 - 2 q_47 q_100 - 2 q_47 q_101 - 2 q_47 q_102 - 2 q_47 q_103 - 2 q_47 q_104 - 2 q_47 q_105 - 2 q_47 q_106 - 2 q_47 q_107 - 2 q_47 q_108 - 2 q_47 q_109 - 2 q_47 q_110 - 2 q_47 q_111 - 2 q_47 q_112 - 2 q_47 q_113 - 2 q_47 q_114 - 2 q_47 q_115 - 2 q_47 q_116 - 2 q_47 q_117 - 2 q_47 q_118 - 2 q_47 q_119 + 6 q_48 q_49 + 6 q_48 q_50 + 6 q_48 q_51 + 6 q_48 q_52 + 6 q_48 q_53 + 6 q_48 q_54 + 6 q_48 q_55 + 6 q_48 q_56 + 6 q_48 q_57 + 6 q_48 q_58 + 6 q_48 q_59 - 2 q_48 q_60 - 2 q_48 q_61 - 2 q_48 q_62 - 2 q_48 q_63 - 2 q_48 q_64 - 2 q_48 q_65 - 2 q_48 q_66 - 2 q_48 q_67 - 2 q_48 q_68 - 2 q_48 q_69 - 2 q_48 q_70 - 2 q_48 q_71 - 2 q_48 q_72 - 2 q_48 q_73 - 2 q_48 q_74 - 2 q_48 q_75 - 2 q_48 q_76 - 2 q_48 q_77 - 2 q_48 q_78 - 2 q_48 q_79 - 2 q_48 q_80 - 2 q_48 q_81 - 2 q_48 q_82 - 2 q_48 q_83 - 2 q_48 q_84 - 2 q_48 q_85 - 2 q_48 q_86 - 2 q_48 q_87 - 2 q_48 q_88 - 2 q_48 q_89 - 2 q_48 q_90 - 2 q_48 q_91 - 2 q_48 q_92 - 2 q_48 q_93 - 2 q_48 q_94 - 2 q_48 q_95 - 2 q_48 q_96 - 2 q_48 q_97 - 2 q_48 q_98 - 2 q_48 q_99 - 2 q_48 q_100 - 2 q_48 q_101 - 2 q_48 q_102 - 2 q_48 q_103 - 2 q_48 q_104 - 2 q_48 q_105 - 2 q_48 q_106 - 2 q_48 q_107 - 2 q_48 q_108 - 2 q_48 q_109 - 2 q_48 q_110 - 2 q_48 q_111 - 2 q_48 q_112 - 2 q_48 q_113 - 2 q_48 q_114 - 2 q_48 q_115 - 2 q_48 q_116 - 2 q_48 q_117 - 2 q_48 q_118 - 2 q_48 q_119 + 6 q_49 q_50 + 6 q_49 q_51 + 6 q_49 q_52 + 6 q_49 q_53 + 6 q_49 q_54 + 6 q_49 q_55 + 6 q_49 q_56 + 6 q_49 q_57 + 6 q_49 q_58 + 6 q_49 q_59 - 2 q_49 q_60 - 2 q_49 q_61 - 2 q_49 q_62 - 2 q_49 q_63 - 2 q_49 q_64 - 2 q_49 q_65 - 2 q_49 q_66 - 2 q_49 q_67 - 2 q_49 q_68 - 2 q_49 q_69 - 2 q_49 q_70 - 2 q_49 q_71 - 2 q_49 q_72 - 2 q_49 q_73 - 2 q_49 q_74 - 2 q_49 q_75 - 2 q_49 q_76 - 2 q_49 q_77 - 2 q_49 q_78 - 2 q_49 q_79 - 2 q_49 q_80 - 2 q_49 q_81 - 2 q_49 q_82 - 2 q_49 q_83 - 2 q_49 q_84 - 2 q_49 q_85 - 2 q_49 q_86 - 2 q_49 q_87 - 2 q_49 q_88 - 2 q_49 q_89 - 2 q_49 q_90 - 2 q_49 q_91 - 2 q_49 q_92 - 2 q_49 q_93 - 2 q_49 q_94 - 2 q_49 q_95 - 2 q_49 q_96 - 2 q_49 q_97 - 2 q_49 q_98 - 2 q_49 q_99 - 2 q_49 q_100 - 2 q_49 q_101 - 2 q_49 q_102 - 2 q_49 q_103 - 2 q_49 q_104 - 2 q_49 q_105 - 2 q_49 q_106 - 2 q_49 q_107 - 2 q_49 q_108 - 2 q_49 q_109 - 2 q_49 q_110 - 2 q_49 q_111 - 2 q_49 q_112 - 2 q_49 q_113 - 2 q_49 q_114 - 2 q_49 q_115 - 2 q_49 q_116 - 2 q_49 q_117 - 2 q_49 q_118 - 2 q_49 q_119 + 6 q_50 q_51 + 6 q_50 q_52 + 6 q_50 q_53 + 6 q_50 q_54 + 6 q_50 q_55 + 6 q_50 q_56 + 6 q_50 q_57 + 6 q_50 q_58 + 6 q_50 q_59 - 2 q_50 q_60 - 2 q_50 q_61 - 2 q_50 q_62 - 2 q_50 q_63 - 2 q_50 q_64 - 2 q_50 q_65 - 2 q_50 q_66 - 2 q_50 q_67 - 2 q_50 q_68 - 2 q_50 q_69 - 2 q_50 q_70 - 2 q_50 q_71 - 2 q_50 q_72 - 2 q_50 q_73 - 2 q_50 q_74 - 2 q_50 q_75 - 2 q_50 q_76 - 2 q_50 q_77 - 2 q_50 q_78 - 2 q_50 q_79 - 2 q_50 q_80 - 2 q_50 q_81 - 2 q_50 q_82 - 2 q_50 q_83 - 2 q_50 q_84 - 2 q_50 q_85 - 2 q_50 q_86 - 2 q_50 q_87 - 2 q_50 q_88 - 2 q_50 q_89 - 2 q_50 q_90 - 2 q_50 q_91 - 2 q_50 q_92 - 2 q_50 q_93 - 2 q_50 q_94 - 2 q_50 q_95 - 2 q_50 q_96 - 2 q_50 q_97 - 2 q_50 q_98 - 2 q_50 q_99 - 2 q_50 q_100 - 2 q_50 q_101 - 2 q_50 q_102 - 2 q_50 q_103 - 2 q_50 q_104 - 2 q_50 q_105 - 2 q_50 q_106 - 2 q_50 q_107 - 2 q_50 q_108 - 2 q_50 q_109 - 2 q_50 q_110 - 2 q_50 q_111 - 2 q_50 q_112 - 2 q_50 q_113 - 2 q_50 q_114 - 2 q_50 q_115 - 2 q_50 q_116 - 2 q_50 q_117 - 2 q_50 q_118 - 2 q_50 q_119 + 6 q_51 q_52 + 6 q_51 q_53 + 6 q_51 q_54 + 6 q_51 q_55 + 6 q_51 q_56 + 6 q_51 q_57 + 6 q_51 q_58 + 6 q_51 q_59 - 2 q_51 q_60 - 2 q_51 q_61 - 2 q_51 q_62 - 2 q_51 q_63 - 2 q_51 q_64 - 2 q_51 q_65 - 2 q_51 q_66 - 2 q_51 q_67 - 2 q_51 q_68 - 2 q_51 q_69 - 2 q_51 q_70 - 2 q_51 q_71 - 2 q_51 q_72 - 2 q_51 q_73 - 2 q_51 q_74 - 2 q_51 q_75 - 2 q_51 q_76 - 2 q_51 q_77 - 2 q_51 q_78 - 2 q_51 q_79 - 2 q_51 q_80 - 2 q_51 q_81 - 2 q_51 q_82 - 2 q_51 q_83 - 2 q_51 q_84 - 2 q_51 q_85 - 2 q_51 q_86 - 2 q_51 q_87 - 2 q_51 q_88 - 2 q_51 q_89 - 2 q_51 q_90 - 2 q_51 q_91 - 2 q_51 q_92 - 2 q_51 q_93 - 2 q_51 q_94 - 2 q_51 q_95 - 2 q_51 q_96 - 2 q_51 q_97 - 2 q_51 q_98 - 2 q_51 q_99 - 2 q_51 q_100 - 2 q_51 q_101 - 2 q_51 q_102 - 2 q_51 q_103 - 2 q_51 q_104 - 2 q_51 q_105 - 2 q_51 q_106 - 2 q_51 q_107 - 2 q_51 q_108 - 2 q_51 q_109 - 2 q_51 q_110 - 2 q_51 q_111 - 2 q_51 q_112 - 2 q_51 q_113 - 2 q_51 q_114 - 2 q_51 q_115 - 2 q_51 q_116 - 2 q_51 q_117 - 2 q_51 q_118 - 2 q_51 q_119 + 6 q_52 q_53 + 6 q_52 q_54 + 6 q_52 q_55 + 6 q_52 q_56 + 6 q_52 q_57 + 6 q_52 q_58 + 6 q_52 q_59 - 2 q_52 q_60 - 2 q_52 q_61 - 2 q_52 q_62 - 2 q_52 q_63 - 2 q_52 q_64 - 2 q_52 q_65 - 2 q_52 q_66 - 2 q_52 q_67 - 2 q_52 q_68 - 2 q_52 q_69 - 2 q_52 q_70 - 2 q_52 q_71 - 2 q_52 q_72 - 2 q_52 q_73 - 2 q_52 q_74 - 2 q_52 q_75 - 2 q_52 q_76 - 2 q_52 q_77 - 2 q_52 q_78 - 2 q_52 q_79 - 2 q_52 q_80 - 2 q_52 q_81 - 2 q_52 q_82 - 2 q_52 q_83 - 2 q_52 q_84 - 2 q_52 q_85 - 2 q_52 q_86 - 2 q_52 q_87 - 2 q_52 q_88 - 2 q_52 q_89 - 2 q_52 q_90 - 2 q_52 q_91 - 2 q_52 q_92 - 2 q_52 q_93 - 2 q_52 q_94 - 2 q_52 q_95 - 2 q_52 q_96 - 2 q_52 q_97 - 2 q_52 q_98 - 2 q_52 q_99 - 2 q_52 q_100 - 2 q_52 q_101 - 2 q_52 q_102 - 2 q_52 q_103 - 2 q_52 q_104 - 2 q_52 q_105 - 2 q_52 q_106 - 2 q_52 q_107 - 2 q_52 q_108 - 2 q_52 q_109 - 2 q_52 q_110 - 2 q_52 q_111 - 2 q_52 q_112 - 2 q_52 q_113 - 2 q_52 q_114 - 2 q_52 q_115 - 2 q_52 q_116 - 2 q_52 q_117 - 2 q_52 q_118 - 2 q_52 q_119 + 6 q_53 q_54 + 6 q_53 q_55 + 6 q_53 q_56 + 6 q_53 q_57 + 6 q_53 q_58 + 6 q_53 q_59 - 2 q_53 q_60 - 2 q_53 q_61 - 2 q_53 q_62 - 2 q_53 q_63 - 2 q_53 q_64 - 2 q_53 q_65 - 2 q_53 q_66 - 2 q_53 q_67 - 2 q_53 q_68 - 2 q_53 q_69 - 2 q_53 q_70 - 2 q_53 q_71 - 2 q_53 q_72 - 2 q_53 q_73 - 2 q_53 q_74 - 2 q_53 q_75 - 2 q_53 q_76 - 2 q_53 q_77 - 2 q_53 q_78 - 2 q_53 q_79 - 2 q_53 q_80 - 2 q_53 q_81 - 2 q_53 q_82 - 2 q_53 q_83 - 2 q_53 q_84 - 2 q_53 q_85 - 2 q_53 q_86 - 2 q_53 q_87 - 2 q_53 q_88 - 2 q_53 q_89 - 2 q_53 q_90 - 2 q_53 q_91 - 2 q_53 q_92 - 2 q_53 q_93 - 2 q_53 q_94 - 2 q_53 q_95 - 2 q_53 q_96 - 2 q_53 q_97 - 2 q_53 q_98 - 2 q_53 q_99 - 2 q_53 q_100 - 2 q_53 q_101 - 2 q_53 q_102 - 2 q_53 q_103 - 2 q_53 q_104 - 2 q_53 q_105 - 2 q_53 q_106 - 2 q_53 q_107 - 2 q_53 q_108 - 2 q_53 q_109 - 2 q_53 q_110 - 2 q_53 q_111 - 2 q_53 q_112 - 2 q_53 q_113 - 2 q_53 q_114 - 2 q_53 q_115 - 2 q_53 q_116 - 2 q_53 q_117 - 2 q_53 q_118 - 2 q_53 q_119 + 6 q_54 q_55 + 6 q_54 q_56 + 6 q_54 q_57 + 6 q_54 q_58 + 6 q_54 q_59 - 2 q_54 q_60 - 2 q_54 q_61 - 2 q_54 q_62 - 2 q_54 q_63 - 2 q_54 q_64 - 2 q_54 q_65 - 2 q_54 q_66 - 2 q_54 q_67 - 2 q_54 q_68 - 2 q_54 q_69 - 2 q_54 q_70 - 2 q_54 q_71 - 2 q_54 q_72 - 2 q_54 q_73 - 2 q_54 q_74 - 2 q_54 q_75 - 2 q_54 q_76 - 2 q_54 q_77 - 2 q_54 q_78 - 2 q_54 q_79 - 2 q_54 q_80 - 2 q_54 q_81 - 2 q_54 q_82 - 2 q_54 q_83 - 2 q_54 q_84 - 2 q_54 q_85 - 2 q_54 q_86 - 2 q_54 q_87 - 2 q_54 q_88 - 2 q_54 q_89 - 2 q_54 q_90 - 2 q_54 q_91 - 2 q_54 q_92 - 2 q_54 q_93 - 2 q_54 q_94 - 2 q_54 q_95 - 2 q_54 q_96 - 2 q_54 q_97 - 2 q_54 q_98 - 2 q_54 q_99 - 2 q_54 q_100 - 2 q_54 q_101 - 2 q_54 q_102 - 2 q_54 q_103 - 2 q_54 q_104 - 2 q_54 q_105 - 2 q_54 q_106 - 2 q_54 q_107 - 2 q_54 q_108 - 2 q_54 q_109 - 2 q_54 q_110 - 2 q_54 q_111 - 2 q_54 q_112 - 2 q_54 q_113 - 2 q_54 q_114 - 2 q_54 q_115 - 2 q_54 q_116 - 2 q_54 q_117 - 2 q_54 q_118 - 2 q_54 q_119 + 6 q_55 q_56 + 6 q_55 q_57 + 6 q_55 q_58 + 6 q_55 q_59 - 2 q_55 q_60 - 2 q_55 q_61 - 2 q_55 q_62 - 2 q_55 q_63 - 2 q_55 q_64 - 2 q_55 q_65 - 2 q_55 q_66 - 2 q_55 q_67 - 2 q_55 q_68 - 2 q_55 q_69 - 2 q_55 q_70 - 2 q_55 q_71 - 2 q_55 q_72 - 2 q_55 q_73 - 2 q_55 q_74 - 2 q_55 q_75 - 2 q_55 q_76 - 2 q_55 q_77 - 2 q_55 q_78 - 2 q_55 q_79 - 2 q_55 q_80 - 2 q_55 q_81 - 2 q_55 q_82 - 2 q_55 q_83 - 2 q_55 q_84 - 2 q_55 q_85 - 2 q_55 q_86 - 2 q_55 q_87 - 2 q_55 q_88 - 2 q_55 q_89 - 2 q_55 q_90 - 2 q_55 q_91 - 2 q_55 q_92 - 2 q_55 q_93 - 2 q_55 q_94 - 2 q_55 q_95 - 2 q_55 q_96 - 2 q_55 q_97 - 2 q_55 q_98 - 2 q_55 q_99 - 2 q_55 q_100 - 2 q_55 q_101 - 2 q_55 q_102 - 2 q_55 q_103 - 2 q_55 q_104 - 2 q_55 q_105 - 2 q_55 q_106 - 2 q_55 q_107 - 2 q_55 q_108 - 2 q_55 q_109 - 2 q_55 q_110 - 2 q_55 q_111 - 2 q_55 q_112 - 2 q_55 q_113 - 2 q_55 q_114 - 2 q_55 q_115 - 2 q_55 q_116 - 2 q_55 q_117 - 2 q_55 q_118 - 2 q_55 q_119 + 6 q_56 q_57 + 6 q_56 q_58 + 6 q_56 q_59 - 2 q_56 q_60 - 2 q_56 q_61 - 2 q_56 q_62 - 2 q_56 q_63 - 2 q_56 q_64 - 2 q_56 q_65 - 2 q_56 q_66 - 2 q_56 q_67 - 2 q_56 q_68 - 2 q_56 q_69 - 2 q_56 q_70 - 2 q_56 q_71 - 2 q_56 q_72 - 2 q_56 q_73 - 2 q_56 q_74 - 2 q_56 q_75 - 2 q_56 q_76 - 2 q_56 q_77 - 2 q_56 q_78 - 2 q_56 q_79 - 2 q_56 q_80 - 2 q_56 q_81 - 2 q_56 q_82 - 2 q_56 q_83 - 2 q_56 q_84 - 2 q_56 q_85 - 2 q_56 q_86 - 2 q_56 q_87 - 2 q_56 q_88 - 2 q_56 q_89 - 2 q_56 q_90 - 2 q_56 q_91 - 2 q_56 q_92 - 2 q_56 q_93 - 2 q_56 q_94 - 2 q_56 q_95 - 2 q_56 q_96 - 2 q_56 q_97 - 2 q_56 q_98 - 2 q_56 q_99 - 2 q_56 q_100 - 2 q_56 q_101 - 2 q_56 q_102 - 2 q_56 q_103 - 2 q_56 q_104 - 2 q_56 q_105 - 2 q_56 q_106 - 2 q_56 q_107 - 2 q_56 q_108 - 2 q_56 q_109 - 2 q_56 q_110 - 2 q_56 q_111 - 2 q_56 q_112 - 2 q_56 q_113 - 2 q_56 q_114 - 2 q_56 q_115 - 2 q_56 q_116 - 2 q_56 q_117 - 2 q_56 q_118 - 2 q_56 q_119 + 6 q_57 q_58 + 6 q_57 q_59 - 2 q_57 q_60 - 2 q_57 q_61 - 2 q_57 q_62 - 2 q_57 q_63 - 2 q_57 q_64 - 2 q_57 q_65 - 2 q_57 q_66 - 2 q_57 q_67 - 2 q_57 q_68 - 2 q_57 q_69 - 2 q_57 q_70 - 2 q_57 q_71 - 2 q_57 q_72 - 2 q_57 q_73 - 2 q_57 q_74 - 2 q_57 q_75 - 2 q_57 q_76 - 2 q_57 q_77 - 2 q_57 q_78 - 2 q_57 q_79 - 2 q_57 q_80 - 2 q_57 q_81 - 2 q_57 q_82 - 2 q_57 q_83 - 2 q_57 q_84 - 2 q_57 q_85 - 2 q_57 q_86 - 2 q_57 q_87 - 2 q_57 q_88 - 2 q_57 q_89 - 2 q_57 q_90 - 2 q_57 q_91 - 2 q_57 q_92 - 2 q_57 q_93 - 2 q_57 q_94 - 2 q_57 q_95 - 2 q_57 q_96 - 2 q_57 q_97 - 2 q_57 q_98 - 2 q_57 q_99 - 2 q_57 q_100 - 2 q_57 q_101 - 2 q_57 q_102 - 2 q_57 q_103 - 2 q_57 q_104 - 2 q_57 q_105 - 2 q_57 q_106 - 2 q_57 q_107 - 2 q_57 q_108 - 2 q_57 q_109 - 2 q_57 q_110 - 2 q_57 q_111 - 2 q_57 q_112 - 2 q_57 q_113 - 2 q_57 q_114 - 2 q_57 q_115 - 2 q_57 q_116 - 2 q_57 q_117 - 2 q_57 q_118 - 2 q_57 q_119 + 6 q_58 q_59 - 2 q_58 q_60 - 2 q_58 q_61 - 2 q_58 q_62 - 2 q_58 q_63 - 2 q_58 q_64 - 2 q_58 q_65 - 2 q_58 q_66 - 2 q_58 q_67 - 2 q_58 q_68 - 2 q_58 q_69 - 2 q_58 q_70 - 2 q_58 q_71 - 2 q_58 q_72 - 2 q_58 q_73 - 2 q_58 q_74 - 2 q_58 q_75 - 2 q_58 q_76 - 2 q_58 q_77 - 2 q_58 q_78 - 2 q_58 q_79 - 2 q_58 q_80 - 2 q_58 q_81 - 2 q_58 q_82 - 2 q_58 q_83 - 2 q_58 q_84 - 2 q_58 q_85 - 2 q_58 q_86 - 2 q_58 q_87 - 2 q_58 q_88 - 2 q_58 q_89 - 2 q_58 q_90 - 2 q_58 q_91 - 2 q_58 q_92 - 2 q_58 q_93 - 2 q_58 q_94 - 2 q_58 q_95 - 2 q_58 q_96 - 2 q_58 q_97 - 2 q_58 q_98 - 2 q_58 q_99 - 2 q_58 q_100 - 2 q_58 q_101 - 2 q_58 q_102 - 2 q_58 q_103 - 2 q_58 q_104 - 2 q_58 q_105 - 2 q_58 q_106 - 2 q_58 q_107 - 2 q_58 q_108 - 2 q_58 q_109 - 2 q_58 q_110 - 2 q_58 q_111 - 2 q_58 q_112 - 2 q_58 q_113 - 2 q_58 q_114 - 2 q_58 q_115 - 2 q_58 q_116 - 2 q_58 q_117 - 2 q_58 q_118 - 2 q_58 q_119 - 2 q_59 q_60 - 2 q_59 q_61 - 2 q_59 q_62 - 2 q_59 q_63 - 2 q_59 q_64 - 2 q_59 q_65 - 2 q_59 q_66 - 2 q_59 q_67 - 2 q_59 q_68 - 2 q_59 q_69 - 2 q_59 q_70 - 2 q_59 q_71 - 2 q_59 q_72 - 2 q_59 q_73 - 2 q_59 q_74 - 2 q_59 q_75 - 2 q_59 q_76 - 2 q_59 q_77 - 2 q_59 q_78 - 2 q_59 q_79 - 2 q_59 q_80 - 2 q_59 q_81 - 2 q_59 q_82 - 2 q_59 q_83 - 2 q_59 q_84 - 2 q_59 q_85 - 2 q_59 q_86 - 2 q_59 q_87 - 2 q_59 q_88 - 2 q_59 q_89 - 2 q_59 q_90 - 2 q_59 q_91 - 2 q_59 q_92 - 2 q_59 q_93 - 2 q_59 q_94 - 2 q_59 q_95 - 2 q_59 q_96 - 2 q_59 q_97 - 2 q_59 q_98 - 2 q_59 q_99 - 2 q_59 q_100 - 2 q_59 q_101 - 2 q_59 q_102 - 2 q_59 q_103 - 2 q_59 q_104 - 2 q_59 q_105 - 2 q_59 q_106 - 2 q_59 q_107 - 2 q_59 q_108 - 2 q_59 q_109 - 2 q_59 q_110 - 2 q_59 q_111 - 2 q_59 q_112 - 2 q_59 q_113 - 2 q_59 q_114 - 2 q_59 q_115 - 2 q_59 q_116 - 2 q_59 q_117 - 2 q_59 q_118 - 2 q_59 q_119 + 6 q_60 q_61 + 6 q_60 q_62 + 6 q_60 q_63 + 6 q_60 q_64 + 6 q_60 q_65 + 6 q_60 q_66 + 6 q_60 q_67 + 6 q_60 q_68 + 6 q_60 q_69 + 6 q_60 q_70 + 6 q_60 q_71 + 6 q_60 q_72 + 6 q_60 q_73 + 6 q_60 q_74 + 6 q_60 q_75 + 6 q_60 q_76 + 6 q_60 q_77 + 6 q_60 q_78 + 6 q_60 q_79 + 6 q_60 q_80 + 6 q_60 q_81 + 6 q_60 q_82 + 6 q_60 q_83 + 6 q_60 q_84 + 6 q_60 q_85 + 6 q_60 q_86 + 6 q_60 q_87 + 6 q_60 q_88 + 6 q_60 q_89 - 2 q_60 q_90 - 2 q_60 q_91 - 2 q_60 q_92 - 2 q_60 q_93 - 2 q_60 q_94 - 2 q_60 q_95 - 2 q_60 q_96 - 2 q_60 q_97 - 2 q_60 q_98 - 2 q_60 q_99 - 2 q_60 q_100 - 2 q_60 q_101 - 2 q_60 q_102 - 2 q_60 q_103 - 2 q_60 q_104 - 2 q_60 q_105 - 2 q_60 q_106 - 2 q_60 q_107 - 2 q_60 q_108 - 2 q_60 q_109 - 2 q_60 q_110 - 2 q_60 q_111 - 2 q_60 q_112 - 2 q_60 q_113 - 2 q_60 q_114 - 2 q_60 q_115 - 2 q_60 q_116 - 2 q_60 q_117 - 2 q_60 q_118 - 2 q_60 q_119 + 6 q_61 q_62 + 6 q_61 q_63 + 6 q_61 q_64 + 6 q_61 q_65 + 6 q_61 q_66 + 6 q_61 q_67 + 6 q_61 q_68 + 6 q_61 q_69 + 6 q_61 q_70 + 6 q_61 q_71 + 6 q_61 q_72 + 6 q_61 q_73 + 6 q_61 q_74 + 6 q_61 q_75 + 6 q_61 q_76 + 6 q_61 q_77 + 6 q_61 q_78 + 6 q_61 q_79 + 6 q_61 q_80 + 6 q_61 q_81 + 6 q_61 q_82 + 6 q_61 q_83 + 6 q_61 q_84 + 6 q_61 q_85 + 6 q_61 q_86 + 6 q_61 q_87 + 6 q_61 q_88 + 6 q_61 q_89 - 2 q_61 q_90 - 2 q_61 q_91 - 2 q_61 q_92 - 2 q_61 q_93 - 2 q_61 q_94 - 2 q_61 q_95 - 2 q_61 q_96 - 2 q_61 q_97 - 2 q_61 q_98 - 2 q_61 q_99 - 2 q_61 q_100 - 2 q_61 q_101 - 2 q_61 q_102 - 2 q_61 q_103 - 2 q_61 q_104 - 2 q_61 q_105 - 2 q_61 q_106 - 2 q_61 q_107 - 2 q_61 q_108 - 2 q_61 q_109 - 2 q_61 q_110 - 2 q_61 q_111 - 2 q_61 q_112 - 2 q_61 q_113 - 2 q_61 q_114 - 2 q_61 q_115 - 2 q_61 q_116 - 2 q_61 q_117 - 2 q_61 q_118 - 2 q_61 q_119 + 6 q_62 q_63 + 6 q_62 q_64 + 6 q_62 q_65 + 6 q_62 q_66 + 6 q_62 q_67 + 6 q_62 q_68 + 6 q_62 q_69 + 6 q_62 q_70 + 6 q_62 q_71 + 6 q_62 q_72 + 6 q_62 q_73 + 6 q_62 q_74 + 6 q_62 q_75 + 6 q_62 q_76 + 6 q_62 q_77 + 6 q_62 q_78 + 6 q_62 q_79 + 6 q_62 q_80 + 6 q_62 q_81 + 6 q_62 q_82 + 6 q_62 q_83 + 6 q_62 q_84 + 6 q_62 q_85 + 6 q_62 q_86 + 6 q_62 q_87 + 6 q_62 q_88 + 6 q_62 q_89 - 2 q_62 q_90 - 2 q_62 q_91 - 2 q_62 q_92 - 2 q_62 q_93 - 2 q_62 q_94 - 2 q_62 q_95 - 2 q_62 q_96 - 2 q_62 q_97 - 2 q_62 q_98 - 2 q_62 q_99 - 2 q_62 q_100 - 2 q_62 q_101 - 2 q_62 q_102 - 2 q_62 q_103 - 2 q_62 q_104 - 2 q_62 q_105 - 2 q_62 q_106 - 2 q_62 q_107 - 2 q_62 q_108 - 2 q_62 q_109 - 2 q_62 q_110 - 2 q_62 q_111 - 2 q_62 q_112 - 2 q_62 q_113 - 2 q_62 q_114 - 2 q_62 q_115 - 2 q_62 q_116 - 2 q_62 q_117 - 2 q_62 q_118 - 2 q_62 q_119 + 6 q_63 q_64 + 6 q_63 q_65 + 6 q_63 q_66 + 6 q_63 q_67 + 6 q_63 q_68 + 6 q_63 q_69 + 6 q_63 q_70 + 6 q_63 q_71 + 6 q_63 q_72 + 6 q_63 q_73 + 6 q_63 q_74 + 6 q_63 q_75 + 6 q_63 q_76 + 6 q_63 q_77 + 6 q_63 q_78 + 6 q_63 q_79 + 6 q_63 q_80 + 6 q_63 q_81 + 6 q_63 q_82 + 6 q_63 q_83 + 6 q_63 q_84 + 6 q_63 q_85 + 6 q_63 q_86 + 6 q_63 q_87 + 6 q_63 q_88 + 6 q_63 q_89 - 2 q_63 q_90 - 2 q_63 q_91 - 2 q_63 q_92 - 2 q_63 q_93 - 2 q_63 q_94 - 2 q_63 q_95 - 2 q_63 q_96 - 2 q_63 q_97 - 2 q_63 q_98 - 2 q_63 q_99 - 2 q_63 q_100 - 2 q_63 q_101 - 2 q_63 q_102 - 2 q_63 q_103 - 2 q_63 q_104 - 2 q_63 q_105 - 2 q_63 q_106 - 2 q_63 q_107 - 2 q_63 q_108 - 2 q_63 q_109 - 2 q_63 q_110 - 2 q_63 q_111 - 2 q_63 q_112 - 2 q_63 q_113 - 2 q_63 q_114 - 2 q_63 q_115 - 2 q_63 q_116 - 2 q_63 q_117 - 2 q_63 q_118 - 2 q_63 q_119 + 6 q_64 q_65 + 6 q_64 q_66 + 6 q_64 q_67 + 6 q_64 q_68 + 6 q_64 q_69 + 6 q_64 q_70 + 6 q_64 q_71 + 6 q_64 q_72 + 6 q_64 q_73 + 6 q_64 q_74 + 6 q_64 q_75 + 6 q_64 q_76 + 6 q_64 q_77 + 6 q_64 q_78 + 6 q_64 q_79 + 6 q_64 q_80 + 6 q_64 q_81 + 6 q_64 q_82 + 6 q_64 q_83 + 6 q_64 q_84 + 6 q_64 q_85 + 6 q_64 q_86 + 6 q_64 q_87 + 6 q_64 q_88 + 6 q_64 q_89 - 2 q_64 q_90 - 2 q_64 q_91 - 2 q_64 q_92 - 2 q_64 q_93 - 2 q_64 q_94 - 2 q_64 q_95 - 2 q_64 q_96 - 2 q_64 q_97 - 2 q_64 q_98 - 2 q_64 q_99 - 2 q_64 q_100 - 2 q_64 q_101 - 2 q_64 q_102 - 2 q_64 q_103 - 2 q_64 q_104 - 2 q_64 q_105 - 2 q_64 q_106 - 2 q_64 q_107 - 2 q_64 q_108 - 2 q_64 q_109 - 2 q_64 q_110 - 2 q_64 q_111 - 2 q_64 q_112 - 2 q_64 q_113 - 2 q_64 q_114 - 2 q_64 q_115 - 2 q_64 q_116 - 2 q_64 q_117 - 2 q_64 q_118 - 2 q_64 q_119 + 6 q_65 q_66 + 6 q_65 q_67 + 6 q_65 q_68 + 6 q_65 q_69 + 6 q_65 q_70 + 6 q_65 q_71 + 6 q_65 q_72 + 6 q_65 q_73 + 6 q_65 q_74 + 6 q_65 q_75 + 6 q_65 q_76 + 6 q_65 q_77 + 6 q_65 q_78 + 6 q_65 q_79 + 6 q_65 q_80 + 6 q_65 q_81 + 6 q_65 q_82 + 6 q_65 q_83 + 6 q_65 q_84 + 6 q_65 q_85 + 6 q_65 q_86 + 6 q_65 q_87 + 6 q_65 q_88 + 6 q_65 q_89 - 2 q_65 q_90 - 2 q_65 q_91 - 2 q_65 q_92 - 2 q_65 q_93 - 2 q_65 q_94 - 2 q_65 q_95 - 2 q_65 q_96 - 2 q_65 q_97 - 2 q_65 q_98 - 2 q_65 q_99 - 2 q_65 q_100 - 2 q_65 q_101 - 2 q_65 q_102 - 2 q_65 q_103 - 2 q_65 q_104 - 2 q_65 q_105 - 2 q_65 q_106 - 2 q_65 q_107 - 2 q_65 q_108 - 2 q_65 q_109 - 2 q_65 q_110 - 2 q_65 q_111 - 2 q_65 q_112 - 2 q_65 q_113 - 2 q_65 q_114 - 2 q_65 q_115 - 2 q_65 q_116 - 2 q_65 q_117 - 2 q_65 q_118 - 2 q_65 q_119 + 6 q_66 q_67 + 6 q_66 q_68 + 6 q_66 q_69 + 6 q_66 q_70 + 6 q_66 q_71 + 6 q_66 q_72 + 6 q_66 q_73 + 6 q_66 q_74 + 6 q_66 q_75 + 6 q_66 q_76 + 6 q_66 q_77 + 6 q_66 q_78 + 6 q_66 q_79 + 6 q_66 q_80 + 6 q_66 q_81 + 6 q_66 q_82 + 6 q_66 q_83 + 6 q_66 q_84 + 6 q_66 q_85 + 6 q_66 q_86 + 6 q_66 q_87 + 6 q_66 q_88 + 6 q_66 q_89 - 2 q_66 q_90 - 2 q_66 q_91 - 2 q_66 q_92 - 2 q_66 q_93 - 2 q_66 q_94 - 2 q_66 q_95 - 2 q_66 q_96 - 2 q_66 q_97 - 2 q_66 q_98 - 2 q_66 q_99 - 2 q_66 q_100 - 2 q_66 q_101 - 2 q_66 q_102 - 2 q_66 q_103 - 2 q_66 q_104 - 2 q_66 q_105 - 2 q_66 q_106 - 2 q_66 q_107 - 2 q_66 q_108 - 2 q_66 q_109 - 2 q_66 q_110 - 2 q_66 q_111 - 2 q_66 q_112 - 2 q_66 q_113 - 2 q_66 q_114 - 2 q_66 q_115 - 2 q_66 q_116 - 2 q_66 q_117 - 2 q_66 q_118 - 2 q_66 q_119 + 6 q_67 q_68 + 6 q_67 q_69 + 6 q_67 q_70 + 6 q_67 q_71 + 6 q_67 q_72 + 6 q_67 q_73 + 6 q_67 q_74 + 6 q_67 q_75 + 6 q_67 q_76 + 6 q_67 q_77 + 6 q_67 q_78 + 6 q_67 q_79 + 6 q_67 q_80 + 6 q_67 q_81 + 6 q_67 q_82 + 6 q_67 q_83 + 6 q_67 q_84 + 6 q_67 q_85 + 6 q_67 q_86 + 6 q_67 q_87 + 6 q_67 q_88 + 6 q_67 q_89 - 2 q_67 q_90 - 2 q_67 q_91 - 2 q_67 q_92 - 2 q_67 q_93 - 2 q_67 q_94 - 2 q_67 q_95 - 2 q_67 q_96 - 2 q_67 q_97 - 2 q_67 q_98 - 2 q_67 q_99 - 2 q_67 q_100 - 2 q_67 q_101 - 2 q_67 q_102 - 2 q_67 q_103 - 2 q_67 q_104 - 2 q_67 q_105 - 2 q_67 q_106 - 2 q_67 q_107 - 2 q_67 q_108 - 2 q_67 q_109 - 2 q_67 q_110 - 2 q_67 q_111 - 2 q_67 q_112 - 2 q_67 q_113 - 2 q_67 q_114 - 2 q_67 q_115 - 2 q_67 q_116 - 2 q_67 q_117 - 2 q_67 q_118 - 2 q_67 q_119 + 6 q_68 q_69 + 6 q_68 q_70 + 6 q_68 q_71 + 6 q_68 q_72 + 6 q_68 q_73 + 6 q_68 q_74 + 6 q_68 q_75 + 6 q_68 q_76 + 6 q_68 q_77 + 6 q_68 q_78 + 6 q_68 q_79 + 6 q_68 q_80 + 6 q_68 q_81 + 6 q_68 q_82 + 6 q_68 q_83 + 6 q_68 q_84 + 6 q_68 q_85 + 6 q_68 q_86 + 6 q_68 q_87 + 6 q_68 q_88 + 6 q_68 q_89 - 2 q_68 q_90 - 2 q_68 q_91 - 2 q_68 q_92 - 2 q_68 q_93 - 2 q_68 q_94 - 2 q_68 q_95 - 2 q_68 q_96 - 2 q_68 q_97 - 2 q_68 q_98 - 2 q_68 q_99 - 2 q_68 q_100 - 2 q_68 q_101 - 2 q_68 q_102 - 2 q_68 q_103 - 2 q_68 q_104 - 2 q_68 q_105 - 2 q_68 q_106 - 2 q_68 q_107 - 2 q_68 q_108 - 2 q_68 q_109 - 2 q_68 q_110 - 2 q_68 q_111 - 2 q_68 q_112 - 2 q_68 q_113 - 2 q_68 q_114 - 2 q_68 q_115 - 2 q_68 q_116 - 2 q_68 q_117 - 2 q_68 q_118 - 2 q_68 q_119 + 6 q_69 q_70 + 6 q_69 q_71 + 6 q_69 q_72 + 6 q_69 q_73 + 6 q_69 q_74 + 6 q_69 q_75 + 6 q_69 q_76 + 6 q_69 q_77 + 6 q_69 q_78 + 6 q_69 q_79 + 6 q_69 q_80 + 6 q_69 q_81 + 6 q_69 q_82 + 6 q_69 q_83 + 6 q_69 q_84 + 6 q_69 q_85 + 6 q_69 q_86 + 6 q_69 q_87 + 6 q_69 q_88 + 6 q_69 q_89 - 2 q_69 q_90 - 2 q_69 q_91 - 2 q_69 q_92 - 2 q_69 q_93 - 2 q_69 q_94 - 2 q_69 q_95 - 2 q_69 q_96 - 2 q_69 q_97 - 2 q_69 q_98 - 2 q_69 q_99 - 2 q_69 q_100 - 2 q_69 q_101 - 2 q_69 q_102 - 2 q_69 q_103 - 2 q_69 q_104 - 2 q_69 q_105 - 2 q_69 q_106 - 2 q_69 q_107 - 2 q_69 q_108 - 2 q_69 q_109 - 2 q_69 q_110 - 2 q_69 q_111 - 2 q_69 q_112 - 2 q_69 q_113 - 2 q_69 q_114 - 2 q_69 q_115 - 2 q_69 q_116 - 2 q_69 q_117 - 2 q_69 q_118 - 2 q_69 q_119 + 6 q_70 q_71 + 6 q_70 q_72 + 6 q_70 q_73 + 6 q_70 q_74 + 6 q_70 q_75 + 6 q_70 q_76 + 6 q_70 q_77 + 6 q_70 q_78 + 6 q_70 q_79 + 6 q_70 q_80 + 6 q_70 q_81 + 6 q_70 q_82 + 6 q_70 q_83 + 6 q_70 q_84 + 6 q_70 q_85 + 6 q_70 q_86 + 6 q_70 q_87 + 6 q_70 q_88 + 6 q_70 q_89 - 2 q_70 q_90 - 2 q_70 q_91 - 2 q_70 q_92 - 2 q_70 q_93 - 2 q_70 q_94 - 2 q_70 q_95 - 2 q_70 q_96 - 2 q_70 q_97 - 2 q_70 q_98 - 2 q_70 q_99 - 2 q_70 q_100 - 2 q_70 q_101 - 2 q_70 q_102 - 2 q_70 q_103 - 2 q_70 q_104 - 2 q_70 q_105 - 2 q_70 q_106 - 2 q_70 q_107 - 2 q_70 q_108 - 2 q_70 q_109 - 2 q_70 q_110 - 2 q_70 q_111 - 2 q_70 q_112 - 2 q_70 q_113 - 2 q_70 q_114 - 2 q_70 q_115 - 2 q_70 q_116 - 2 q_70 q_117 - 2 q_70 q_118 - 2 q_70 q_119 + 6 q_71 q_72 + 6 q_71 q_73 + 6 q_71 q_74 + 6 q_71 q_75 + 6 q_71 q_76 + 6 q_71 q_77 + 6 q_71 q_78 + 6 q_71 q_79 + 6 q_71 q_80 + 6 q_71 q_81 + 6 q_71 q_82 + 6 q_71 q_83 + 6 q_71 q_84 + 6 q_71 q_85 + 6 q_71 q_86 + 6 q_71 q_87 + 6 q_71 q_88 + 6 q_71 q_89 - 2 q_71 q_90 - 2 q_71 q_91 - 2 q_71 q_92 - 2 q_71 q_93 - 2 q_71 q_94 - 2 q_71 q_95 - 2 q_71 q_96 - 2 q_71 q_97 - 2 q_71 q_98 - 2 q_71 q_99 - 2 q_71 q_100 - 2 q_71 q_101 - 2 q_71 q_102 - 2 q_71 q_103 - 2 q_71 q_104 - 2 q_71 q_105 - 2 q_71 q_106 - 2 q_71 q_107 - 2 q_71 q_108 - 2 q_71 q_109 - 2 q_71 q_110 - 2 q_71 q_111 - 2 q_71 q_112 - 2 q_71 q_113 - 2 q_71 q_114 - 2 q_71 q_115 - 2 q_71 q_116 - 2 q_71 q_117 - 2 q_71 q_118 - 2 q_71 q_119 + 6 q_72 q_73 + 6 q_72 q_74 + 6 q_72 q_75 + 6 q_72 q_76 + 6 q_72 q_77 + 6 q_72 q_78 + 6 q_72 q_79 + 6 q_72 q_80 + 6 q_72 q_81 + 6 q_72 q_82 + 6 q_72 q_83 + 6 q_72 q_84 + 6 q_72 q_85 + 6 q_72 q_86 + 6 q_72 q_87 + 6 q_72 q_88 + 6 q_72 q_89 - 2 q_72 q_90 - 2 q_72 q_91 - 2 q_72 q_92 - 2 q_72 q_93 - 2 q_72 q_94 - 2 q_72 q_95 - 2 q_72 q_96 - 2 q_72 q_97 - 2 q_72 q_98 - 2 q_72 q_99 - 2 q_72 q_100 - 2 q_72 q_101 - 2 q_72 q_102 - 2 q_72 q_103 - 2 q_72 q_104 - 2 q_72 q_105 - 2 q_72 q_106 - 2 q_72 q_107 - 2 q_72 q_108 - 2 q_72 q_109 - 2 q_72 q_110 - 2 q_72 q_111 - 2 q_72 q_112 - 2 q_72 q_113 - 2 q_72 q_114 - 2 q_72 q_115 - 2 q_72 q_116 - 2 q_72 q_117 - 2 q_72 q_118 - 2 q_72 q_119 + 6 q_73 q_74 + 6 q_73 q_75 + 6 q_73 q_76 + 6 q_73 q_77 + 6 q_73 q_78 + 6 q_73 q_79 + 6 q_73 q_80 + 6 q_73 q_81 + 6 q_73 q_82 + 6 q_73 q_83 + 6 q_73 q_84 + 6 q_73 q_85 + 6 q_73 q_86 + 6 q_73 q_87 + 6 q_73 q_88 + 6 q_73 q_89 - 2 q_73 q_90 - 2 q_73 q_91 - 2 q_73 q_92 - 2 q_73 q_93 - 2 q_73 q_94 - 2 q_73 q_95 - 2 q_73 q_96 - 2 q_73 q_97 - 2 q_73 q_98 - 2 q_73 q_99 - 2 q_73 q_100 - 2 q_73 q_101 - 2 q_73 q_102 - 2 q_73 q_103 - 2 q_73 q_104 - 2 q_73 q_105 - 2 q_73 q_106 - 2 q_73 q_107 - 2 q_73 q_108 - 2 q_73 q_109 - 2 q_73 q_110 - 2 q_73 q_111 - 2 q_73 q_112 - 2 q_73 q_113 - 2 q_73 q_114 - 2 q_73 q_115 - 2 q_73 q_116 - 2 q_73 q_117 - 2 q_73 q_118 - 2 q_73 q_119 + 6 q_74 q_75 + 6 q_74 q_76 + 6 q_74 q_77 + 6 q_74 q_78 + 6 q_74 q_79 + 6 q_74 q_80 + 6 q_74 q_81 + 6 q_74 q_82 + 6 q_74 q_83 + 6 q_74 q_84 + 6 q_74 q_85 + 6 q_74 q_86 + 6 q_74 q_87 + 6 q_74 q_88 + 6 q_74 q_89 - 2 q_74 q_90 - 2 q_74 q_91 - 2 q_74 q_92 - 2 q_74 q_93 - 2 q_74 q_94 - 2 q_74 q_95 - 2 q_74 q_96 - 2 q_74 q_97 - 2 q_74 q_98 - 2 q_74 q_99 - 2 q_74 q_100 - 2 q_74 q_101 - 2 q_74 q_102 - 2 q_74 q_103 - 2 q_74 q_104 - 2 q_74 q_105 - 2 q_74 q_106 - 2 q_74 q_107 - 2 q_74 q_108 - 2 q_74 q_109 - 2 q_74 q_110 - 2 q_74 q_111 - 2 q_74 q_112 - 2 q_74 q_113 - 2 q_74 q_114 - 2 q_74 q_115 - 2 q_74 q_116 - 2 q_74 q_117 - 2 q_74 q_118 - 2 q_74 q_119 + 6 q_75 q_76 + 6 q_75 q_77 + 6 q_75 q_78 + 6 q_75 q_79 + 6 q_75 q_80 + 6 q_75 q_81 + 6 q_75 q_82 + 6 q_75 q_83 + 6 q_75 q_84 + 6 q_75 q_85 + 6 q_75 q_86 + 6 q_75 q_87 + 6 q_75 q_88 + 6 q_75 q_89 - 2 q_75 q_90 - 2 q_75 q_91 - 2 q_75 q_92 - 2 q_75 q_93 - 2 q_75 q_94 - 2 q_75 q_95 - 2 q_75 q_96 - 2 q_75 q_97 - 2 q_75 q_98 - 2 q_75 q_99 - 2 q_75 q_100 - 2 q_75 q_101 - 2 q_75 q_102 - 2 q_75 q_103 - 2 q_75 q_104 - 2 q_75 q_105 - 2 q_75 q_106 - 2 q_75 q_107 - 2 q_75 q_108 - 2 q_75 q_109 - 2 q_75 q_110 - 2 q_75 q_111 - 2 q_75 q_112 - 2 q_75 q_113 - 2 q_75 q_114 - 2 q_75 q_115 - 2 q_75 q_116 - 2 q_75 q_117 - 2 q_75 q_118 - 2 q_75 q_119 + 6 q_76 q_77 + 6 q_76 q_78 + 6 q_76 q_79 + 6 q_76 q_80 + 6 q_76 q_81 + 6 q_76 q_82 + 6 q_76 q_83 + 6 q_76 q_84 + 6 q_76 q_85 + 6 q_76 q_86 + 6 q_76 q_87 + 6 q_76 q_88 + 6 q_76 q_89 - 2 q_76 q_90 - 2 q_76 q_91 - 2 q_76 q_92 - 2 q_76 q_93 - 2 q_76 q_94 - 2 q_76 q_95 - 2 q_76 q_96 - 2 q_76 q_97 - 2 q_76 q_98 - 2 q_76 q_99 - 2 q_76 q_100 - 2 q_76 q_101 - 2 q_76 q_102 - 2 q_76 q_103 - 2 q_76 q_104 - 2 q_76 q_105 - 2 q_76 q_106 - 2 q_76 q_107 - 2 q_76 q_108 - 2 q_76 q_109 - 2 q_76 q_110 - 2 q_76 q_111 - 2 q_76 q_112 - 2 q_76 q_113 - 2 q_76 q_114 - 2 q_76 q_115 - 2 q_76 q_116 - 2 q_76 q_117 - 2 q_76 q_118 - 2 q_76 q_119 + 6 q_77 q_78 + 6 q_77 q_79 + 6 q_77 q_80 + 6 q_77 q_81 + 6 q_77 q_82 + 6 q_77 q_83 + 6 q_77 q_84 + 6 q_77 q_85 + 6 q_77 q_86 + 6 q_77 q_87 + 6 q_77 q_88 + 6 q_77 q_89 - 2 q_77 q_90 - 2 q_77 q_91 - 2 q_77 q_92 - 2 q_77 q_93 - 2 q_77 q_94 - 2 q_77 q_95 - 2 q_77 q_96 - 2 q_77 q_97 - 2 q_77 q_98 - 2 q_77 q_99 - 2 q_77 q_100 - 2 q_77 q_101 - 2 q_77 q_102 - 2 q_77 q_103 - 2 q_77 q_104 - 2 q_77 q_105 - 2 q_77 q_106 - 2 q_77 q_107 - 2 q_77 q_108 - 2 q_77 q_109 - 2 q_77 q_110 - 2 q_77 q_111 - 2 q_77 q_112 - 2 q_77 q_113 - 2 q_77 q_114 - 2 q_77 q_115 - 2 q_77 q_116 - 2 q_77 q_117 - 2 q_77 q_118 - 2 q_77 q_119 + 6 q_78 q_79 + 6 q_78 q_80 + 6 q_78 q_81 + 6 q_78 q_82 + 6 q_78 q_83 + 6 q_78 q_84 + 6 q_78 q_85 + 6 q_78 q_86 + 6 q_78 q_87 + 6 q_78 q_88 + 6 q_78 q_89 - 2 q_78 q_90 - 2 q_78 q_91 - 2 q_78 q_92 - 2 q_78 q_93 - 2 q_78 q_94 - 2 q_78 q_95 - 2 q_78 q_96 - 2 q_78 q_97 - 2 q_78 q_98 - 2 q_78 q_99 - 2 q_78 q_100 - 2 q_78 q_101 - 2 q_78 q_102 - 2 q_78 q_103 - 2 q_78 q_104 - 2 q_78 q_105 - 2 q_78 q_106 - 2 q_78 q_107 - 2 q_78 q_108 - 2 q_78 q_109 - 2 q_78 q_110 - 2 q_78 q_111 - 2 q_78 q_112 - 2 q_78 q_113 - 2 q_78 q_114 - 2 q_78 q_115 - 2 q_78 q_116 - 2 q_78 q_117 - 2 q_78 q_118 - 2 q_78 q_119 + 6 q_79 q_80 + 6 q_79 q_81 + 6 q_79 q_82 + 6 q_79 q_83 + 6 q_79 q_84 + 6 q_79 q_85 + 6 q_79 q_86 + 6 q_79 q_87 + 6 q_79 q_88 + 6 q_79 q_89 - 2 q_79 q_90 - 2 q_79 q_91 - 2 q_79 q_92 - 2 q_79 q_93 - 2 q_79 q_94 - 2 q_79 q_95 - 2 q_79 q_96 - 2 q_79 q_97 - 2 q_79 q_98 - 2 q_79 q_99 - 2 q_79 q_100 - 2 q_79 q_101 - 2 q_79 q_102 - 2 q_79 q_103 - 2 q_79 q_104 - 2 q_79 q_105 - 2 q_79 q_106 - 2 q_79 q_107 - 2 q_79 q_108 - 2 q_79 q_109 - 2 q_79 q_110 - 2 q_79 q_111 - 2 q_79 q_112 - 2 q_79 q_113 - 2 q_79 q_114 - 2 q_79 q_115 - 2 q_79 q_116 - 2 q_79 q_117 - 2 q_79 q_118 - 2 q_79 q_119 + 6 q_80 q_81 + 6 q_80 q_82 + 6 q_80 q_83 + 6 q_80 q_84 + 6 q_80 q_85 + 6 q_80 q_86 + 6 q_80 q_87 + 6 q_80 q_88 + 6 q_80 q_89 - 2 q_80 q_90 - 2 q_80 q_91 - 2 q_80 q_92 - 2 q_80 q_93 - 2 q_80 q_94 - 2 q_80 q_95 - 2 q_80 q_96 - 2 q_80 q_97 - 2 q_80 q_98 - 2 q_80 q_99 - 2 q_80 q_100 - 2 q_80 q_101 - 2 q_80 q_102 - 2 q_80 q_103 - 2 q_80 q_104 - 2 q_80 q_105 - 2 q_80 q_106 - 2 q_80 q_107 - 2 q_80 q_108 - 2 q_80 q_109 - 2 q_80 q_110 - 2 q_80 q_111 - 2 q_80 q_112 - 2 q_80 q_113 - 2 q_80 q_114 - 2 q_80 q_115 - 2 q_80 q_116 - 2 q_80 q_117 - 2 q_80 q_118 - 2 q_80 q_119 + 6 q_81 q_82 + 6 q_81 q_83 + 6 q_81 q_84 + 6 q_81 q_85 + 6 q_81 q_86 + 6 q_81 q_87 + 6 q_81 q_88 + 6 q_81 q_89 - 2 q_81 q_90 - 2 q_81 q_91 - 2 q_81 q_92 - 2 q_81 q_93 - 2 q_81 q_94 - 2 q_81 q_95 - 2 q_81 q_96 - 2 q_81 q_97 - 2 q_81 q_98 - 2 q_81 q_99 - 2 q_81 q_100 - 2 q_81 q_101 - 2 q_81 q_102 - 2 q_81 q_103 - 2 q_81 q_104 - 2 q_81 q_105 - 2 q_81 q_106 - 2 q_81 q_107 - 2 q_81 q_108 - 2 q_81 q_109 - 2 q_81 q_110 - 2 q_81 q_111 - 2 q_81 q_112 - 2 q_81 q_113 - 2 q_81 q_114 - 2 q_81 q_115 - 2 q_81 q_116 - 2 q_81 q_117 - 2 q_81 q_118 - 2 q_81 q_119 + 6 q_82 q_83 + 6 q_82 q_84 + 6 q_82 q_85 + 6 q_82 q_86 + 6 q_82 q_87 + 6 q_82 q_88 + 6 q_82 q_89 - 2 q_82 q_90 - 2 q_82 q_91 - 2 q_82 q_92 - 2 q_82 q_93 - 2 q_82 q_94 - 2 q_82 q_95 - 2 q_82 q_96 - 2 q_82 q_97 - 2 q_82 q_98 - 2 q_82 q_99 - 2 q_82 q_100 - 2 q_82 q_101 - 2 q_82 q_102 - 2 q_82 q_103 - 2 q_82 q_104 - 2 q_82 q_105 - 2 q_82 q_106 - 2 q_82 q_107 - 2 q_82 q_108 - 2 q_82 q_109 - 2 q_82 q_110 - 2 q_82 q_111 - 2 q_82 q_112 - 2 q_82 q_113 - 2 q_82 q_114 - 2 q_82 q_115 - 2 q_82 q_116 - 2 q_82 q_117 - 2 q_82 q_118 - 2 q_82 q_119 + 6 q_83 q_84 + 6 q_83 q_85 + 6 q_83 q_86 + 6 q_83 q_87 + 6 q_83 q_88 + 6 q_83 q_89 - 2 q_83 q_90 - 2 q_83 q_91 - 2 q_83 q_92 - 2 q_83 q_93 - 2 q_83 q_94 - 2 q_83 q_95 - 2 q_83 q_96 - 2 q_83 q_97 - 2 q_83 q_98 - 2 q_83 q_99 - 2 q_83 q_100 - 2 q_83 q_101 - 2 q_83 q_102 - 2 q_83 q_103 - 2 q_83 q_104 - 2 q_83 q_105 - 2 q_83 q_106 - 2 q_83 q_107 - 2 q_83 q_108 - 2 q_83 q_109 - 2 q_83 q_110 - 2 q_83 q_111 - 2 q_83 q_112 - 2 q_83 q_113 - 2 q_83 q_114 - 2 q_83 q_115 - 2 q_83 q_116 - 2 q_83 q_117 - 2 q_83 q_118 - 2 q_83 q_119 + 6 q_84 q_85 + 6 q_84 q_86 + 6 q_84 q_87 + 6 q_84 q_88 + 6 q_84 q_89 - 2 q_84 q_90 - 2 q_84 q_91 - 2 q_84 q_92 - 2 q_84 q_93 - 2 q_84 q_94 - 2 q_84 q_95 - 2 q_84 q_96 - 2 q_84 q_97 - 2 q_84 q_98 - 2 q_84 q_99 - 2 q_84 q_100 - 2 q_84 q_101 - 2 q_84 q_102 - 2 q_84 q_103 - 2 q_84 q_104 - 2 q_84 q_105 - 2 q_84 q_106 - 2 q_84 q_107 - 2 q_84 q_108 - 2 q_84 q_109 - 2 q_84 q_110 - 2 q_84 q_111 - 2 q_84 q_112 - 2 q_84 q_113 - 2 q_84 q_114 - 2 q_84 q_115 - 2 q_84 q_116 - 2 q_84 q_117 - 2 q_84 q_118 - 2 q_84 q_119 + 6 q_85 q_86 + 6 q_85 q_87 + 6 q_85 q_88 + 6 q_85 q_89 - 2 q_85 q_90 - 2 q_85 q_91 - 2 q_85 q_92 - 2 q_85 q_93 - 2 q_85 q_94 - 2 q_85 q_95 - 2 q_85 q_96 - 2 q_85 q_97 - 2 q_85 q_98 - 2 q_85 q_99 - 2 q_85 q_100 - 2 q_85 q_101 - 2 q_85 q_102 - 2 q_85 q_103 - 2 q_85 q_104 - 2 q_85 q_105 - 2 q_85 q_106 - 2 q_85 q_107 - 2 q_85 q_108 - 2 q_85 q_109 - 2 q_85 q_110 - 2 q_85 q_111 - 2 q_85 q_112 - 2 q_85 q_113 - 2 q_85 q_114 - 2 q_85 q_115 - 2 q_85 q_116 - 2 q_85 q_117 - 2 q_85 q_118 - 2 q_85 q_119 + 6 q_86 q_87 + 6 q_86 q_88 + 6 q_86 q_89 - 2 q_86 q_90 - 2 q_86 q_91 - 2 q_86 q_92 - 2 q_86 q_93 - 2 q_86 q_94 - 2 q_86 q_95 - 2 q_86 q_96 - 2 q_86 q_97 - 2 q_86 q_98 - 2 q_86 q_99 - 2 q_86 q_100 - 2 q_86 q_101 - 2 q_86 q_102 - 2 q_86 q_103 - 2 q_86 q_104 - 2 q_86 q_105 - 2 q_86 q_106 - 2 q_86 q_107 - 2 q_86 q_108 - 2 q_86 q_109 - 2 q_86 q_110 - 2 q_86 q_111 - 2 q_86 q_112 - 2 q_86 q_113 - 2 q_86 q_114 - 2 q_86 q_115 - 2 q_86 q_116 - 2 q_86 q_117 - 2 q_86 q_118 - 2 q_86 q_119 + 6 q_87 q_88 + 6 q_87 q_89 - 2 q_87 q_90 - 2 q_87 q_91 - 2 q_87 q_92 - 2 q_87 q_93 - 2 q_87 q_94 - 2 q_87 q_95 - 2 q_87 q_96 - 2 q_87 q_97 - 2 q_87 q_98 - 2 q_87 q_99 - 2 q_87 q_100 - 2 q_87 q_101 - 2 q_87 q_102 - 2 q_87 q_103 - 2 q_87 q_104 - 2 q_87 q_105 - 2 q_87 q_106 - 2 q_87 q_107 - 2 q_87 q_108 - 2 q_87 q_109 - 2 q_87 q_110 - 2 q_87 q_111 - 2 q_87 q_112 - 2 q_87 q_113 - 2 q_87 q_114 - 2 q_87 q_115 - 2 q_87 q_116 - 2 q_87 q_117 - 2 q_87 q_118 - 2 q_87 q_119 + 6 q_88 q_89 - 2 q_88 q_90 - 2 q_88 q_91 - 2 q_88 q_92 - 2 q_88 q_93 - 2 q_88 q_94 - 2 q_88 q_95 - 2 q_88 q_96 - 2 q_88 q_97 - 2 q_88 q_98 - 2 q_88 q_99 - 2 q_88 q_100 - 2 q_88 q_101 - 2 q_88 q_102 - 2 q_88 q_103 - 2 q_88 q_104 - 2 q_88 q_105 - 2 q_88 q_106 - 2 q_88 q_107 - 2 q_88 q_108 - 2 q_88 q_109 - 2 q_88 q_110 - 2 q_88 q_111 - 2 q_88 q_112 - 2 q_88 q_113 - 2 q_88 q_114 - 2 q_88 q_115 - 2 q_88 q_116 - 2 q_88 q_117 - 2 q_88 q_118 - 2 q_88 q_119 - 2 q_89 q_90 - 2 q_89 q_91 - 2 q_89 q_92 - 2 q_89 q_93 - 2 q_89 q_94 - 2 q_89 q_95 - 2 q_89 q_96 - 2 q_89 q_97 - 2 q_89 q_98 - 2 q_89 q_99 - 2 q_89 q_100 - 2 q_89 q_101 - 2 q_89 q_102 - 2 q_89 q_103 - 2 q_89 q_104 - 2 q_89 q_105 - 2 q_89 q_106 - 2 q_89 q_107 - 2 q_89 q_108 - 2 q_89 q_109 - 2 q_89 q_110 - 2 q_89 q_111 - 2 q_89 q_112 - 2 q_89 q_113 - 2 q_89 q_114 - 2 q_89 q_115 - 2 q_89 q_116 - 2 q_89 q_117 - 2 q_89 q_118 - 2 q_89 q_119 + 6 q_90 q_91 + 6 q_90 q_92 + 6 q_90 q_93 + 6 q_90 q_94 + 6 q_90 q_95 + 6 q_90 q_96 + 6 q_90 q_97 + 6 q_90 q_98 + 6 q_90 q_99 + 6 q_90 q_100 + 6 q_90 q_101 + 6 q_90 q_102 + 6 q_90 q_103 + 6 q_90 q_104 + 6 q_90 q_105 + 6 q_90 q_106 + 6 q_90 q_107 + 6 q_90 q_108 + 6 q_90 q_109 + 6 q_90 q_110 + 6 q_90 q_111 + 6 q_90 q_112 + 6 q_90 q_113 + 6 q_90 q_114 + 6 q_90 q_115 + 6 q_90 q_116 + 6 q_90 q_117 + 6 q_90 q_118 + 6 q_90 q_119 + 6 q_91 q_92 + 6 q_91 q_93 + 6 q_91 q_94 + 6 q_91 q_95 + 6 q_91 q_96 + 6 q_91 q_97 + 6 q_91 q_98 + 6 q_91 q_99 + 6 q_91 q_100 + 6 q_91 q_101 + 6 q_91 q_102 + 6 q_91 q_103 + 6 q_91 q_104 + 6 q_91 q_105 + 6 q_91 q_106 + 6 q_91 q_107 + 6 q_91 q_108 + 6 q_91 q_109 + 6 q_91 q_110 + 6 q_91 q_111 + 6 q_91 q_112 + 6 q_91 q_113 + 6 q_91 q_114 + 6 q_91 q_115 + 6 q_91 q_116 + 6 q_91 q_117 + 6 q_91 q_118 + 6 q_91 q_119 + 6 q_92 q_93 + 6 q_92 q_94 + 6 q_92 q_95 + 6 q_92 q_96 + 6 q_92 q_97 + 6 q_92 q_98 + 6 q_92 q_99 + 6 q_92 q_100 + 6 q_92 q_101 + 6 q_92 q_102 + 6 q_92 q_103 + 6 q_92 q_104 + 6 q_92 q_105 + 6 q_92 q_106 + 6 q_92 q_107 + 6 q_92 q_108 + 6 q_92 q_109 + 6 q_92 q_110 + 6 q_92 q_111 + 6 q_92 q_112 + 6 q_92 q_113 + 6 q_92 q_114 + 6 q_92 q_115 + 6 q_92 q_116 + 6 q_92 q_117 + 6 q_92 q_118 + 6 q_92 q_119 + 6 q_93 q_94 + 6 q_93 q_95 + 6 q_93 q_96 + 6 q_93 q_97 + 6 q_93 q_98 + 6 q_93 q_99 + 6 q_93 q_100 + 6 q_93 q_101 + 6 q_93 q_102 + 6 q_93 q_103 + 6 q_93 q_104 + 6 q_93 q_105 + 6 q_93 q_106 + 6 q_93 q_107 + 6 q_93 q_108 + 6 q_93 q_109 + 6 q_93 q_110 + 6 q_93 q_111 + 6 q_93 q_112 + 6 q_93 q_113 + 6 q_93 q_114 + 6 q_93 q_115 + 6 q_93 q_116 + 6 q_93 q_117 + 6 q_93 q_118 + 6 q_93 q_119 + 6 q_94 q_95 + 6 q_94 q_96 + 6 q_94 q_97 + 6 q_94 q_98 + 6 q_94 q_99 + 6 q_94 q_100 + 6 q_94 q_101 + 6 q_94 q_102 + 6 q_94 q_103 + 6 q_94 q_104 + 6 q_94 q_105 + 6 q_94 q_106 + 6 q_94 q_107 + 6 q_94 q_108 + 6 q_94 q_109 + 6 q_94 q_110 + 6 q_94 q_111 + 6 q_94 q_112 + 6 q_94 q_113 + 6 q_94 q_114 + 6 q_94 q_115 + 6 q_94 q_116 + 6 q_94 q_117 + 6 q_94 q_118 + 6 q_94 q_119 + 6 q_95 q_96 + 6 q_95 q_97 + 6 q_95 q_98 + 6 q_95 q_99 + 6 q_95 q_100 + 6 q_95 q_101 + 6 q_95 q_102 + 6 q_95 q_103 + 6 q_95 q_104 + 6 q_95 q_105 + 6 q_95 q_106 + 6 q_95 q_107 + 6 q_95 q_108 + 6 q_95 q_109 + 6 q_95 q_110 + 6 q_95 q_111 + 6 q_95 q_112 + 6 q_95 q_113 + 6 q_95 q_114 + 6 q_95 q_115 + 6 q_95 q_116 + 6 q_95 q_117 + 6 q_95 q_118 + 6 q_95 q_119 + 6 q_96 q_97 + 6 q_96 q_98 + 6 q_96 q_99 + 6 q_96 q_100 + 6 q_96 q_101 + 6 q_96 q_102 + 6 q_96 q_103 + 6 q_96 q_104 + 6 q_96 q_105 + 6 q_96 q_106 + 6 q_96 q_107 + 6 q_96 q_108 + 6 q_96 q_109 + 6 q_96 q_110 + 6 q_96 q_111 + 6 q_96 q_112 + 6 q_96 q_113 + 6 q_96 q_114 + 6 q_96 q_115 + 6 q_96 q_116 + 6 q_96 q_117 + 6 q_96 q_118 + 6 q_96 q_119 + 6 q_97 q_98 + 6 q_97 q_99 + 6 q_97 q_100 + 6 q_97 q_101 + 6 q_97 q_102 + 6 q_97 q_103 + 6 q_97 q_104 + 6 q_97 q_105 + 6 q_97 q_106 + 6 q_97 q_107 + 6 q_97 q_108 + 6 q_97 q_109 + 6 q_97 q_110 + 6 q_97 q_111 + 6 q_97 q_112 + 6 q_97 q_113 + 6 q_97 q_114 + 6 q_97 q_115 + 6 q_97 q_116 + 6 q_97 q_117 + 6 q_97 q_118 + 6 q_97 q_119 + 6 q_98 q_99 + 6 q_98 q_100 + 6 q_98 q_101 + 6 q_98 q_102 + 6 q_98 q_103 + 6 q_98 q_104 + 6 q_98 q_105 + 6 q_98 q_106 + 6 q_98 q_107 + 6 q_98 q_108 + 6 q_98 q_109 + 6 q_98 q_110 + 6 q_98 q_111 + 6 q_98 q_112 + 6 q_98 q_113 + 6 q_98 q_114 + 6 q_98 q_115 + 6 q_98 q_116 + 6 q_98 q_117 + 6 q_98 q_118 + 6 q_98 q_119 + 6 q_99 q_100 + 6 q_99 q_101 + 6 q_99 q_102 + 6 q_99 q_103 + 6 q_99 q_104 + 6 q_99 q_105 + 6 q_99 q_106 + 6 q_99 q_107 + 6 q_99 q_108 + 6 q_99 q_109 + 6 q_99 q_110 + 6 q_99 q_111 + 6 q_99 q_112 + 6 q_99 q_113 + 6 q_99 q_114 + 6 q_99 q_115 + 6 q_99 q_116 + 6 q_99 q_117 + 6 q_99 q_118 + 6 q_99 q_119 + 6 q_100 q_101 + 6 q_100 q_102 + 6 q_100 q_103 + 6 q_100 q_104 + 6 q_100 q_105 + 6 q_100 q_106 + 6 q_100 q_107 + 6 q_100 q_108 + 6 q_100 q_109 + 6 q_100 q_110 + 6 q_100 q_111 + 6 q_100 q_112 + 6 q_100 q_113 + 6 q_100 q_114 + 6 q_100 q_115 + 6 q_100 q_116 + 6 q_100 q_117 + 6 q_100 q_118 + 6 q_100 q_119 + 6 q_101 q_102 + 6 q_101 q_103 + 6 q_101 q_104 + 6 q_101 q_105 + 6 q_101 q_106 + 6 q_101 q_107 + 6 q_101 q_108 + 6 q_101 q_109 + 6 q_101 q_110 + 6 q_101 q_111 + 6 q_101 q_112 + 6 q_101 q_113 + 6 q_101 q_114 + 6 q_101 q_115 + 6 q_101 q_116 + 6 q_101 q_117 + 6 q_101 q_118 + 6 q_101 q_119 + 6 q_102 q_103 + 6 q_102 q_104 + 6 q_102 q_105 + 6 q_102 q_106 + 6 q_102 q_107 + 6 q_102 q_108 + 6 q_102 q_109 + 6 q_102 q_110 + 6 q_102 q_111 + 6 q_102 q_112 + 6 q_102 q_113 + 6 q_102 q_114 + 6 q_102 q_115 + 6 q_102 q_116 + 6 q_102 q_117 + 6 q_102 q_118 + 6 q_102 q_119 + 6 q_103 q_104 + 6 q_103 q_105 + 6 q_103 q_106 + 6 q_103 q_107 + 6 q_103 q_108 + 6 q_103 q_109 + 6 q_103 q_110 + 6 q_103 q_111 + 6 q_103 q_112 + 6 q_103 q_113 + 6 q_103 q_114 + 6 q_103 q_115 + 6 q_103 q_116 + 6 q_103 q_117 + 6 q_103 q_118 + 6 q_103 q_119 + 6 q_104 q_105 + 6 q_104 q_106 + 6 q_104 q_107 + 6 q_104 q_108 + 6 q_104 q_109 + 6 q_104 q_110 + 6 q_104 q_111 + 6 q_104 q_112 + 6 q_104 q_113 + 6 q_104 q_114 + 6 q_104 q_115 + 6 q_104 q_116 + 6 q_104 q_117 + 6 q_104 q_118 + 6 q_104 q_119 + 6 q_105 q_106 + 6 q_105 q_107 + 6 q_105 q_108 + 6 q_105 q_109 + 6 q_105 q_110 + 6 q_105 q_111 + 6 q_105 q_112 + 6 q_105 q_113 + 6 q_105 q_114 + 6 q_105 q_115 + 6 q_105 q_116 + 6 q_105 q_117 + 6 q_105 q_118 + 6 q_105 q_119 + 6 q_106 q_107 + 6 q_106 q_108 + 6 q_106 q_109 + 6 q_106 q_110 + 6 q_106 q_111 + 6 q_106 q_112 + 6 q_106 q_113 + 6 q_106 q_114 + 6 q_106 q_115 + 6 q_106 q_116 + 6 q_106 q_117 + 6 q_106 q_118 + 6 q_106 q_119 + 6 q_107 q_108 + 6 q_107 q_109 + 6 q_107 q_110 + 6 q_107 q_111 + 6 q_107 q_112 + 6 q_107 q_113 + 6 q_107 q_114 + 6 q_107 q_115 + 6 q_107 q_116 + 6 q_107 q_117 + 6 q_107 q_118 + 6 q_107 q_119 + 6 q_108 q_109 + 6 q_108 q_110 + 6 q_108 q_111 + 6 q_108 q_112 + 6 q_108 q_113 + 6 q_108 q_114 + 6 q_108 q_115 + 6 q_108 q_116 + 6 q_108 q_117 + 6 q_108 q_118 + 6 q_108 q_119 + 6 q_109 q_110 + 6 q_109 q_111 + 6 q_109 q_112 + 6 q_109 q_113 + 6 q_109 q_114 + 6 q_109 q_115 + 6 q_109 q_116 + 6 q_109 q_117 + 6 q_109 q_118 + 6 q_109 q_119 + 6 q_110 q_111 + 6 q_110 q_112 + 6 q_110 q_113 + 6 q_110 q_114 + 6 q_110 q_115 + 6 q_110 q_116 + 6 q_110 q_117 + 6 q_110 q_118 + 6 q_110 q_119 + 6 q_111 q_112 + 6 q_111 q_113 + 6 q_111 q_114 + 6 q_111 q_115 + 6 q_111 q_116 + 6 q_111 q_117 + 6 q_111 q_118 + 6 q_111 q_119 + 6 q_112 q_113 + 6 q_112 q_114 + 6 q_112 q_115 + 6 q_112 q_116 + 6 q_112 q_117 + 6 q_112 q_118 + 6 q_112 q_119 + 6 q_113 q_114 + 6 q_113 q_115 + 6 q_113 q_116 + 6 q_113 q_117 + 6 q_113 q_118 + 6 q_113 q_119 + 6 q_114 q_115 + 6 q_114 q_116 + 6 q_114 q_117 + 6 q_114 q_118 + 6 q_114 q_119 + 6 q_115 q_116 + 6 q_115 q_117 + 6 q_115 q_118 + 6 q_115 q_119 + 6 q_116 q_117 + 6 q_116 q_118 + 6 q_116 q_119 + 6 q_117 q_118 + 6 q_117 q_119 + 6 q_118 q_119 + 3 q_0 + 3 q_1 + 3 q_2 + 3 q_3 + 3 q_4 + 3 q_5 + 3 q_6 + 3 q_7 + 3 q_8 + 3 q_9 + 3 q_10 + 3 q_11 + 3 q_12 + 3 q_13 + 3 q_14 + 3 q_15 + 3 q_16 + 3 q_17 + 3 q_18 + 3 q_19 + 3 q_20 + 3 q_21 + 3 q_22 + 3 q_23 + 3 q_24 + 3 q_25 + 3 q_26 + 3 q_27 + 3 q_28 + 3 q_29 + 3 q_30 + 3 q_31 + 3 q_32 + 3 q_33 + 3 q_34 + 3 q_35 + 3 q_36 + 3 q_37 + 3 q_38 + 3 q_39 + 3 q_40 + 3 q_41 + 3 q_42 + 3 q_43 + 3 q_44 + 3 q_45 + 3 q_46 + 3 q_47 + 3 q_48 + 3 q_49 + 3 q_50 + 3 q_51 + 3 q_52 + 3 q_53 + 3 q_54 + 3 q_55 + 3 q_56 + 3 q_57 + 3 q_58 + 3 q_59 + 3 q_60 + 3 q_61 + 3 q_62 + 3 q_63 + 3 q_64 + 3 q_65 + 3 q_66 + 3 q_67 + 3 q_68 + 3 q_69 + 3 q_70 + 3 q_71 + 3 q_72 + 3 q_73 + 3 q_74 + 3 q_75 + 3 q_76 + 3 q_77 + 3 q_78 + 3 q_79 + 3 q_80 + 3 q_81 + 3 q_82 + 3 q_83 + 3 q_84 + 3 q_85 + 3 q_86 + 3 q_87 + 3 q_88 + 3 q_89 + 3 q_90 + 3 q_91 + 3 q_92 + 3 q_93 + 3 q_94 + 3 q_95 + 3 q_96 + 3 q_97 + 3 q_98 + 3 q_99 + 3 q_100 + 3 q_101 + 3 q_102 + 3 q_103 + 3 q_104 + 3 q_105 + 3 q_106 + 3 q_107 + 3 q_108 + 3 q_109 + 3 q_110 + 3 q_111 + 3 q_112 + 3 q_113 + 3 q_114 + 3 q_115 + 3 q_116 + 3 q_117 + 3 q_118 + 3 q_119"
            ]
          },
          "metadata": {},
          "execution_count": 151
        }
      ]
    },
    {
      "cell_type": "markdown",
      "metadata": {
        "id": "8if6Iz_MqmmN"
      },
      "source": [
        "上記だと、人数変更したときに不便なため、一般化してみました。**itertools.combinations** でリストから組み合わせを作成できます。"
      ]
    },
    {
      "cell_type": "code",
      "metadata": {
        "id": "jsmtbX2fnsCr"
      },
      "source": [
        "import itertools"
      ],
      "execution_count": null,
      "outputs": []
    },
    {
      "cell_type": "code",
      "metadata": {
        "colab": {
          "base_uri": "https://localhost:8080/"
        },
        "id": "HEFdcHba2d_b",
        "outputId": "7f069490-5b67-483e-d046-0fb8fd429462"
      },
      "source": [
        "[t for t in itertools.combinations([p for p in range(Np)], 2)]"
      ],
      "execution_count": null,
      "outputs": [
        {
          "output_type": "execute_result",
          "data": {
            "text/plain": [
              "[(0, 1), (0, 2), (0, 3), (1, 2), (1, 3), (2, 3)]"
            ]
          },
          "metadata": {},
          "execution_count": 154
        }
      ]
    },
    {
      "cell_type": "code",
      "metadata": {
        "id": "RU63ZJGaodkf"
      },
      "source": [
        "c = itertools.combinations([p for p in range(Np)], 2)\n",
        "cost = sum_poly([(sum_poly(Nd, lambda d:q[tp[0]][d]) - sum_poly(Nd, lambda d:q[tp[1]][d]))**2 for tp in c])"
      ],
      "execution_count": null,
      "outputs": []
    },
    {
      "cell_type": "code",
      "metadata": {
        "colab": {
          "base_uri": "https://localhost:8080/"
        },
        "id": "6AonVfsHx7Vh",
        "outputId": "6bea9491-fb24-4a0d-dc92-fd009d64d05e"
      },
      "source": [
        "cost"
      ],
      "execution_count": null,
      "outputs": [
        {
          "output_type": "execute_result",
          "data": {
            "text/plain": [
              "6 q_0 q_1 + 6 q_0 q_2 + 6 q_0 q_3 + 6 q_0 q_4 + 6 q_0 q_5 + 6 q_0 q_6 + 6 q_0 q_7 + 6 q_0 q_8 + 6 q_0 q_9 + 6 q_0 q_10 + 6 q_0 q_11 + 6 q_0 q_12 + 6 q_0 q_13 + 6 q_0 q_14 + 6 q_0 q_15 + 6 q_0 q_16 + 6 q_0 q_17 + 6 q_0 q_18 + 6 q_0 q_19 + 6 q_0 q_20 + 6 q_0 q_21 + 6 q_0 q_22 + 6 q_0 q_23 + 6 q_0 q_24 + 6 q_0 q_25 + 6 q_0 q_26 + 6 q_0 q_27 + 6 q_0 q_28 + 6 q_0 q_29 - 2 q_0 q_30 - 2 q_0 q_31 - 2 q_0 q_32 - 2 q_0 q_33 - 2 q_0 q_34 - 2 q_0 q_35 - 2 q_0 q_36 - 2 q_0 q_37 - 2 q_0 q_38 - 2 q_0 q_39 - 2 q_0 q_40 - 2 q_0 q_41 - 2 q_0 q_42 - 2 q_0 q_43 - 2 q_0 q_44 - 2 q_0 q_45 - 2 q_0 q_46 - 2 q_0 q_47 - 2 q_0 q_48 - 2 q_0 q_49 - 2 q_0 q_50 - 2 q_0 q_51 - 2 q_0 q_52 - 2 q_0 q_53 - 2 q_0 q_54 - 2 q_0 q_55 - 2 q_0 q_56 - 2 q_0 q_57 - 2 q_0 q_58 - 2 q_0 q_59 - 2 q_0 q_60 - 2 q_0 q_61 - 2 q_0 q_62 - 2 q_0 q_63 - 2 q_0 q_64 - 2 q_0 q_65 - 2 q_0 q_66 - 2 q_0 q_67 - 2 q_0 q_68 - 2 q_0 q_69 - 2 q_0 q_70 - 2 q_0 q_71 - 2 q_0 q_72 - 2 q_0 q_73 - 2 q_0 q_74 - 2 q_0 q_75 - 2 q_0 q_76 - 2 q_0 q_77 - 2 q_0 q_78 - 2 q_0 q_79 - 2 q_0 q_80 - 2 q_0 q_81 - 2 q_0 q_82 - 2 q_0 q_83 - 2 q_0 q_84 - 2 q_0 q_85 - 2 q_0 q_86 - 2 q_0 q_87 - 2 q_0 q_88 - 2 q_0 q_89 - 2 q_0 q_90 - 2 q_0 q_91 - 2 q_0 q_92 - 2 q_0 q_93 - 2 q_0 q_94 - 2 q_0 q_95 - 2 q_0 q_96 - 2 q_0 q_97 - 2 q_0 q_98 - 2 q_0 q_99 - 2 q_0 q_100 - 2 q_0 q_101 - 2 q_0 q_102 - 2 q_0 q_103 - 2 q_0 q_104 - 2 q_0 q_105 - 2 q_0 q_106 - 2 q_0 q_107 - 2 q_0 q_108 - 2 q_0 q_109 - 2 q_0 q_110 - 2 q_0 q_111 - 2 q_0 q_112 - 2 q_0 q_113 - 2 q_0 q_114 - 2 q_0 q_115 - 2 q_0 q_116 - 2 q_0 q_117 - 2 q_0 q_118 - 2 q_0 q_119 + 6 q_1 q_2 + 6 q_1 q_3 + 6 q_1 q_4 + 6 q_1 q_5 + 6 q_1 q_6 + 6 q_1 q_7 + 6 q_1 q_8 + 6 q_1 q_9 + 6 q_1 q_10 + 6 q_1 q_11 + 6 q_1 q_12 + 6 q_1 q_13 + 6 q_1 q_14 + 6 q_1 q_15 + 6 q_1 q_16 + 6 q_1 q_17 + 6 q_1 q_18 + 6 q_1 q_19 + 6 q_1 q_20 + 6 q_1 q_21 + 6 q_1 q_22 + 6 q_1 q_23 + 6 q_1 q_24 + 6 q_1 q_25 + 6 q_1 q_26 + 6 q_1 q_27 + 6 q_1 q_28 + 6 q_1 q_29 - 2 q_1 q_30 - 2 q_1 q_31 - 2 q_1 q_32 - 2 q_1 q_33 - 2 q_1 q_34 - 2 q_1 q_35 - 2 q_1 q_36 - 2 q_1 q_37 - 2 q_1 q_38 - 2 q_1 q_39 - 2 q_1 q_40 - 2 q_1 q_41 - 2 q_1 q_42 - 2 q_1 q_43 - 2 q_1 q_44 - 2 q_1 q_45 - 2 q_1 q_46 - 2 q_1 q_47 - 2 q_1 q_48 - 2 q_1 q_49 - 2 q_1 q_50 - 2 q_1 q_51 - 2 q_1 q_52 - 2 q_1 q_53 - 2 q_1 q_54 - 2 q_1 q_55 - 2 q_1 q_56 - 2 q_1 q_57 - 2 q_1 q_58 - 2 q_1 q_59 - 2 q_1 q_60 - 2 q_1 q_61 - 2 q_1 q_62 - 2 q_1 q_63 - 2 q_1 q_64 - 2 q_1 q_65 - 2 q_1 q_66 - 2 q_1 q_67 - 2 q_1 q_68 - 2 q_1 q_69 - 2 q_1 q_70 - 2 q_1 q_71 - 2 q_1 q_72 - 2 q_1 q_73 - 2 q_1 q_74 - 2 q_1 q_75 - 2 q_1 q_76 - 2 q_1 q_77 - 2 q_1 q_78 - 2 q_1 q_79 - 2 q_1 q_80 - 2 q_1 q_81 - 2 q_1 q_82 - 2 q_1 q_83 - 2 q_1 q_84 - 2 q_1 q_85 - 2 q_1 q_86 - 2 q_1 q_87 - 2 q_1 q_88 - 2 q_1 q_89 - 2 q_1 q_90 - 2 q_1 q_91 - 2 q_1 q_92 - 2 q_1 q_93 - 2 q_1 q_94 - 2 q_1 q_95 - 2 q_1 q_96 - 2 q_1 q_97 - 2 q_1 q_98 - 2 q_1 q_99 - 2 q_1 q_100 - 2 q_1 q_101 - 2 q_1 q_102 - 2 q_1 q_103 - 2 q_1 q_104 - 2 q_1 q_105 - 2 q_1 q_106 - 2 q_1 q_107 - 2 q_1 q_108 - 2 q_1 q_109 - 2 q_1 q_110 - 2 q_1 q_111 - 2 q_1 q_112 - 2 q_1 q_113 - 2 q_1 q_114 - 2 q_1 q_115 - 2 q_1 q_116 - 2 q_1 q_117 - 2 q_1 q_118 - 2 q_1 q_119 + 6 q_2 q_3 + 6 q_2 q_4 + 6 q_2 q_5 + 6 q_2 q_6 + 6 q_2 q_7 + 6 q_2 q_8 + 6 q_2 q_9 + 6 q_2 q_10 + 6 q_2 q_11 + 6 q_2 q_12 + 6 q_2 q_13 + 6 q_2 q_14 + 6 q_2 q_15 + 6 q_2 q_16 + 6 q_2 q_17 + 6 q_2 q_18 + 6 q_2 q_19 + 6 q_2 q_20 + 6 q_2 q_21 + 6 q_2 q_22 + 6 q_2 q_23 + 6 q_2 q_24 + 6 q_2 q_25 + 6 q_2 q_26 + 6 q_2 q_27 + 6 q_2 q_28 + 6 q_2 q_29 - 2 q_2 q_30 - 2 q_2 q_31 - 2 q_2 q_32 - 2 q_2 q_33 - 2 q_2 q_34 - 2 q_2 q_35 - 2 q_2 q_36 - 2 q_2 q_37 - 2 q_2 q_38 - 2 q_2 q_39 - 2 q_2 q_40 - 2 q_2 q_41 - 2 q_2 q_42 - 2 q_2 q_43 - 2 q_2 q_44 - 2 q_2 q_45 - 2 q_2 q_46 - 2 q_2 q_47 - 2 q_2 q_48 - 2 q_2 q_49 - 2 q_2 q_50 - 2 q_2 q_51 - 2 q_2 q_52 - 2 q_2 q_53 - 2 q_2 q_54 - 2 q_2 q_55 - 2 q_2 q_56 - 2 q_2 q_57 - 2 q_2 q_58 - 2 q_2 q_59 - 2 q_2 q_60 - 2 q_2 q_61 - 2 q_2 q_62 - 2 q_2 q_63 - 2 q_2 q_64 - 2 q_2 q_65 - 2 q_2 q_66 - 2 q_2 q_67 - 2 q_2 q_68 - 2 q_2 q_69 - 2 q_2 q_70 - 2 q_2 q_71 - 2 q_2 q_72 - 2 q_2 q_73 - 2 q_2 q_74 - 2 q_2 q_75 - 2 q_2 q_76 - 2 q_2 q_77 - 2 q_2 q_78 - 2 q_2 q_79 - 2 q_2 q_80 - 2 q_2 q_81 - 2 q_2 q_82 - 2 q_2 q_83 - 2 q_2 q_84 - 2 q_2 q_85 - 2 q_2 q_86 - 2 q_2 q_87 - 2 q_2 q_88 - 2 q_2 q_89 - 2 q_2 q_90 - 2 q_2 q_91 - 2 q_2 q_92 - 2 q_2 q_93 - 2 q_2 q_94 - 2 q_2 q_95 - 2 q_2 q_96 - 2 q_2 q_97 - 2 q_2 q_98 - 2 q_2 q_99 - 2 q_2 q_100 - 2 q_2 q_101 - 2 q_2 q_102 - 2 q_2 q_103 - 2 q_2 q_104 - 2 q_2 q_105 - 2 q_2 q_106 - 2 q_2 q_107 - 2 q_2 q_108 - 2 q_2 q_109 - 2 q_2 q_110 - 2 q_2 q_111 - 2 q_2 q_112 - 2 q_2 q_113 - 2 q_2 q_114 - 2 q_2 q_115 - 2 q_2 q_116 - 2 q_2 q_117 - 2 q_2 q_118 - 2 q_2 q_119 + 6 q_3 q_4 + 6 q_3 q_5 + 6 q_3 q_6 + 6 q_3 q_7 + 6 q_3 q_8 + 6 q_3 q_9 + 6 q_3 q_10 + 6 q_3 q_11 + 6 q_3 q_12 + 6 q_3 q_13 + 6 q_3 q_14 + 6 q_3 q_15 + 6 q_3 q_16 + 6 q_3 q_17 + 6 q_3 q_18 + 6 q_3 q_19 + 6 q_3 q_20 + 6 q_3 q_21 + 6 q_3 q_22 + 6 q_3 q_23 + 6 q_3 q_24 + 6 q_3 q_25 + 6 q_3 q_26 + 6 q_3 q_27 + 6 q_3 q_28 + 6 q_3 q_29 - 2 q_3 q_30 - 2 q_3 q_31 - 2 q_3 q_32 - 2 q_3 q_33 - 2 q_3 q_34 - 2 q_3 q_35 - 2 q_3 q_36 - 2 q_3 q_37 - 2 q_3 q_38 - 2 q_3 q_39 - 2 q_3 q_40 - 2 q_3 q_41 - 2 q_3 q_42 - 2 q_3 q_43 - 2 q_3 q_44 - 2 q_3 q_45 - 2 q_3 q_46 - 2 q_3 q_47 - 2 q_3 q_48 - 2 q_3 q_49 - 2 q_3 q_50 - 2 q_3 q_51 - 2 q_3 q_52 - 2 q_3 q_53 - 2 q_3 q_54 - 2 q_3 q_55 - 2 q_3 q_56 - 2 q_3 q_57 - 2 q_3 q_58 - 2 q_3 q_59 - 2 q_3 q_60 - 2 q_3 q_61 - 2 q_3 q_62 - 2 q_3 q_63 - 2 q_3 q_64 - 2 q_3 q_65 - 2 q_3 q_66 - 2 q_3 q_67 - 2 q_3 q_68 - 2 q_3 q_69 - 2 q_3 q_70 - 2 q_3 q_71 - 2 q_3 q_72 - 2 q_3 q_73 - 2 q_3 q_74 - 2 q_3 q_75 - 2 q_3 q_76 - 2 q_3 q_77 - 2 q_3 q_78 - 2 q_3 q_79 - 2 q_3 q_80 - 2 q_3 q_81 - 2 q_3 q_82 - 2 q_3 q_83 - 2 q_3 q_84 - 2 q_3 q_85 - 2 q_3 q_86 - 2 q_3 q_87 - 2 q_3 q_88 - 2 q_3 q_89 - 2 q_3 q_90 - 2 q_3 q_91 - 2 q_3 q_92 - 2 q_3 q_93 - 2 q_3 q_94 - 2 q_3 q_95 - 2 q_3 q_96 - 2 q_3 q_97 - 2 q_3 q_98 - 2 q_3 q_99 - 2 q_3 q_100 - 2 q_3 q_101 - 2 q_3 q_102 - 2 q_3 q_103 - 2 q_3 q_104 - 2 q_3 q_105 - 2 q_3 q_106 - 2 q_3 q_107 - 2 q_3 q_108 - 2 q_3 q_109 - 2 q_3 q_110 - 2 q_3 q_111 - 2 q_3 q_112 - 2 q_3 q_113 - 2 q_3 q_114 - 2 q_3 q_115 - 2 q_3 q_116 - 2 q_3 q_117 - 2 q_3 q_118 - 2 q_3 q_119 + 6 q_4 q_5 + 6 q_4 q_6 + 6 q_4 q_7 + 6 q_4 q_8 + 6 q_4 q_9 + 6 q_4 q_10 + 6 q_4 q_11 + 6 q_4 q_12 + 6 q_4 q_13 + 6 q_4 q_14 + 6 q_4 q_15 + 6 q_4 q_16 + 6 q_4 q_17 + 6 q_4 q_18 + 6 q_4 q_19 + 6 q_4 q_20 + 6 q_4 q_21 + 6 q_4 q_22 + 6 q_4 q_23 + 6 q_4 q_24 + 6 q_4 q_25 + 6 q_4 q_26 + 6 q_4 q_27 + 6 q_4 q_28 + 6 q_4 q_29 - 2 q_4 q_30 - 2 q_4 q_31 - 2 q_4 q_32 - 2 q_4 q_33 - 2 q_4 q_34 - 2 q_4 q_35 - 2 q_4 q_36 - 2 q_4 q_37 - 2 q_4 q_38 - 2 q_4 q_39 - 2 q_4 q_40 - 2 q_4 q_41 - 2 q_4 q_42 - 2 q_4 q_43 - 2 q_4 q_44 - 2 q_4 q_45 - 2 q_4 q_46 - 2 q_4 q_47 - 2 q_4 q_48 - 2 q_4 q_49 - 2 q_4 q_50 - 2 q_4 q_51 - 2 q_4 q_52 - 2 q_4 q_53 - 2 q_4 q_54 - 2 q_4 q_55 - 2 q_4 q_56 - 2 q_4 q_57 - 2 q_4 q_58 - 2 q_4 q_59 - 2 q_4 q_60 - 2 q_4 q_61 - 2 q_4 q_62 - 2 q_4 q_63 - 2 q_4 q_64 - 2 q_4 q_65 - 2 q_4 q_66 - 2 q_4 q_67 - 2 q_4 q_68 - 2 q_4 q_69 - 2 q_4 q_70 - 2 q_4 q_71 - 2 q_4 q_72 - 2 q_4 q_73 - 2 q_4 q_74 - 2 q_4 q_75 - 2 q_4 q_76 - 2 q_4 q_77 - 2 q_4 q_78 - 2 q_4 q_79 - 2 q_4 q_80 - 2 q_4 q_81 - 2 q_4 q_82 - 2 q_4 q_83 - 2 q_4 q_84 - 2 q_4 q_85 - 2 q_4 q_86 - 2 q_4 q_87 - 2 q_4 q_88 - 2 q_4 q_89 - 2 q_4 q_90 - 2 q_4 q_91 - 2 q_4 q_92 - 2 q_4 q_93 - 2 q_4 q_94 - 2 q_4 q_95 - 2 q_4 q_96 - 2 q_4 q_97 - 2 q_4 q_98 - 2 q_4 q_99 - 2 q_4 q_100 - 2 q_4 q_101 - 2 q_4 q_102 - 2 q_4 q_103 - 2 q_4 q_104 - 2 q_4 q_105 - 2 q_4 q_106 - 2 q_4 q_107 - 2 q_4 q_108 - 2 q_4 q_109 - 2 q_4 q_110 - 2 q_4 q_111 - 2 q_4 q_112 - 2 q_4 q_113 - 2 q_4 q_114 - 2 q_4 q_115 - 2 q_4 q_116 - 2 q_4 q_117 - 2 q_4 q_118 - 2 q_4 q_119 + 6 q_5 q_6 + 6 q_5 q_7 + 6 q_5 q_8 + 6 q_5 q_9 + 6 q_5 q_10 + 6 q_5 q_11 + 6 q_5 q_12 + 6 q_5 q_13 + 6 q_5 q_14 + 6 q_5 q_15 + 6 q_5 q_16 + 6 q_5 q_17 + 6 q_5 q_18 + 6 q_5 q_19 + 6 q_5 q_20 + 6 q_5 q_21 + 6 q_5 q_22 + 6 q_5 q_23 + 6 q_5 q_24 + 6 q_5 q_25 + 6 q_5 q_26 + 6 q_5 q_27 + 6 q_5 q_28 + 6 q_5 q_29 - 2 q_5 q_30 - 2 q_5 q_31 - 2 q_5 q_32 - 2 q_5 q_33 - 2 q_5 q_34 - 2 q_5 q_35 - 2 q_5 q_36 - 2 q_5 q_37 - 2 q_5 q_38 - 2 q_5 q_39 - 2 q_5 q_40 - 2 q_5 q_41 - 2 q_5 q_42 - 2 q_5 q_43 - 2 q_5 q_44 - 2 q_5 q_45 - 2 q_5 q_46 - 2 q_5 q_47 - 2 q_5 q_48 - 2 q_5 q_49 - 2 q_5 q_50 - 2 q_5 q_51 - 2 q_5 q_52 - 2 q_5 q_53 - 2 q_5 q_54 - 2 q_5 q_55 - 2 q_5 q_56 - 2 q_5 q_57 - 2 q_5 q_58 - 2 q_5 q_59 - 2 q_5 q_60 - 2 q_5 q_61 - 2 q_5 q_62 - 2 q_5 q_63 - 2 q_5 q_64 - 2 q_5 q_65 - 2 q_5 q_66 - 2 q_5 q_67 - 2 q_5 q_68 - 2 q_5 q_69 - 2 q_5 q_70 - 2 q_5 q_71 - 2 q_5 q_72 - 2 q_5 q_73 - 2 q_5 q_74 - 2 q_5 q_75 - 2 q_5 q_76 - 2 q_5 q_77 - 2 q_5 q_78 - 2 q_5 q_79 - 2 q_5 q_80 - 2 q_5 q_81 - 2 q_5 q_82 - 2 q_5 q_83 - 2 q_5 q_84 - 2 q_5 q_85 - 2 q_5 q_86 - 2 q_5 q_87 - 2 q_5 q_88 - 2 q_5 q_89 - 2 q_5 q_90 - 2 q_5 q_91 - 2 q_5 q_92 - 2 q_5 q_93 - 2 q_5 q_94 - 2 q_5 q_95 - 2 q_5 q_96 - 2 q_5 q_97 - 2 q_5 q_98 - 2 q_5 q_99 - 2 q_5 q_100 - 2 q_5 q_101 - 2 q_5 q_102 - 2 q_5 q_103 - 2 q_5 q_104 - 2 q_5 q_105 - 2 q_5 q_106 - 2 q_5 q_107 - 2 q_5 q_108 - 2 q_5 q_109 - 2 q_5 q_110 - 2 q_5 q_111 - 2 q_5 q_112 - 2 q_5 q_113 - 2 q_5 q_114 - 2 q_5 q_115 - 2 q_5 q_116 - 2 q_5 q_117 - 2 q_5 q_118 - 2 q_5 q_119 + 6 q_6 q_7 + 6 q_6 q_8 + 6 q_6 q_9 + 6 q_6 q_10 + 6 q_6 q_11 + 6 q_6 q_12 + 6 q_6 q_13 + 6 q_6 q_14 + 6 q_6 q_15 + 6 q_6 q_16 + 6 q_6 q_17 + 6 q_6 q_18 + 6 q_6 q_19 + 6 q_6 q_20 + 6 q_6 q_21 + 6 q_6 q_22 + 6 q_6 q_23 + 6 q_6 q_24 + 6 q_6 q_25 + 6 q_6 q_26 + 6 q_6 q_27 + 6 q_6 q_28 + 6 q_6 q_29 - 2 q_6 q_30 - 2 q_6 q_31 - 2 q_6 q_32 - 2 q_6 q_33 - 2 q_6 q_34 - 2 q_6 q_35 - 2 q_6 q_36 - 2 q_6 q_37 - 2 q_6 q_38 - 2 q_6 q_39 - 2 q_6 q_40 - 2 q_6 q_41 - 2 q_6 q_42 - 2 q_6 q_43 - 2 q_6 q_44 - 2 q_6 q_45 - 2 q_6 q_46 - 2 q_6 q_47 - 2 q_6 q_48 - 2 q_6 q_49 - 2 q_6 q_50 - 2 q_6 q_51 - 2 q_6 q_52 - 2 q_6 q_53 - 2 q_6 q_54 - 2 q_6 q_55 - 2 q_6 q_56 - 2 q_6 q_57 - 2 q_6 q_58 - 2 q_6 q_59 - 2 q_6 q_60 - 2 q_6 q_61 - 2 q_6 q_62 - 2 q_6 q_63 - 2 q_6 q_64 - 2 q_6 q_65 - 2 q_6 q_66 - 2 q_6 q_67 - 2 q_6 q_68 - 2 q_6 q_69 - 2 q_6 q_70 - 2 q_6 q_71 - 2 q_6 q_72 - 2 q_6 q_73 - 2 q_6 q_74 - 2 q_6 q_75 - 2 q_6 q_76 - 2 q_6 q_77 - 2 q_6 q_78 - 2 q_6 q_79 - 2 q_6 q_80 - 2 q_6 q_81 - 2 q_6 q_82 - 2 q_6 q_83 - 2 q_6 q_84 - 2 q_6 q_85 - 2 q_6 q_86 - 2 q_6 q_87 - 2 q_6 q_88 - 2 q_6 q_89 - 2 q_6 q_90 - 2 q_6 q_91 - 2 q_6 q_92 - 2 q_6 q_93 - 2 q_6 q_94 - 2 q_6 q_95 - 2 q_6 q_96 - 2 q_6 q_97 - 2 q_6 q_98 - 2 q_6 q_99 - 2 q_6 q_100 - 2 q_6 q_101 - 2 q_6 q_102 - 2 q_6 q_103 - 2 q_6 q_104 - 2 q_6 q_105 - 2 q_6 q_106 - 2 q_6 q_107 - 2 q_6 q_108 - 2 q_6 q_109 - 2 q_6 q_110 - 2 q_6 q_111 - 2 q_6 q_112 - 2 q_6 q_113 - 2 q_6 q_114 - 2 q_6 q_115 - 2 q_6 q_116 - 2 q_6 q_117 - 2 q_6 q_118 - 2 q_6 q_119 + 6 q_7 q_8 + 6 q_7 q_9 + 6 q_7 q_10 + 6 q_7 q_11 + 6 q_7 q_12 + 6 q_7 q_13 + 6 q_7 q_14 + 6 q_7 q_15 + 6 q_7 q_16 + 6 q_7 q_17 + 6 q_7 q_18 + 6 q_7 q_19 + 6 q_7 q_20 + 6 q_7 q_21 + 6 q_7 q_22 + 6 q_7 q_23 + 6 q_7 q_24 + 6 q_7 q_25 + 6 q_7 q_26 + 6 q_7 q_27 + 6 q_7 q_28 + 6 q_7 q_29 - 2 q_7 q_30 - 2 q_7 q_31 - 2 q_7 q_32 - 2 q_7 q_33 - 2 q_7 q_34 - 2 q_7 q_35 - 2 q_7 q_36 - 2 q_7 q_37 - 2 q_7 q_38 - 2 q_7 q_39 - 2 q_7 q_40 - 2 q_7 q_41 - 2 q_7 q_42 - 2 q_7 q_43 - 2 q_7 q_44 - 2 q_7 q_45 - 2 q_7 q_46 - 2 q_7 q_47 - 2 q_7 q_48 - 2 q_7 q_49 - 2 q_7 q_50 - 2 q_7 q_51 - 2 q_7 q_52 - 2 q_7 q_53 - 2 q_7 q_54 - 2 q_7 q_55 - 2 q_7 q_56 - 2 q_7 q_57 - 2 q_7 q_58 - 2 q_7 q_59 - 2 q_7 q_60 - 2 q_7 q_61 - 2 q_7 q_62 - 2 q_7 q_63 - 2 q_7 q_64 - 2 q_7 q_65 - 2 q_7 q_66 - 2 q_7 q_67 - 2 q_7 q_68 - 2 q_7 q_69 - 2 q_7 q_70 - 2 q_7 q_71 - 2 q_7 q_72 - 2 q_7 q_73 - 2 q_7 q_74 - 2 q_7 q_75 - 2 q_7 q_76 - 2 q_7 q_77 - 2 q_7 q_78 - 2 q_7 q_79 - 2 q_7 q_80 - 2 q_7 q_81 - 2 q_7 q_82 - 2 q_7 q_83 - 2 q_7 q_84 - 2 q_7 q_85 - 2 q_7 q_86 - 2 q_7 q_87 - 2 q_7 q_88 - 2 q_7 q_89 - 2 q_7 q_90 - 2 q_7 q_91 - 2 q_7 q_92 - 2 q_7 q_93 - 2 q_7 q_94 - 2 q_7 q_95 - 2 q_7 q_96 - 2 q_7 q_97 - 2 q_7 q_98 - 2 q_7 q_99 - 2 q_7 q_100 - 2 q_7 q_101 - 2 q_7 q_102 - 2 q_7 q_103 - 2 q_7 q_104 - 2 q_7 q_105 - 2 q_7 q_106 - 2 q_7 q_107 - 2 q_7 q_108 - 2 q_7 q_109 - 2 q_7 q_110 - 2 q_7 q_111 - 2 q_7 q_112 - 2 q_7 q_113 - 2 q_7 q_114 - 2 q_7 q_115 - 2 q_7 q_116 - 2 q_7 q_117 - 2 q_7 q_118 - 2 q_7 q_119 + 6 q_8 q_9 + 6 q_8 q_10 + 6 q_8 q_11 + 6 q_8 q_12 + 6 q_8 q_13 + 6 q_8 q_14 + 6 q_8 q_15 + 6 q_8 q_16 + 6 q_8 q_17 + 6 q_8 q_18 + 6 q_8 q_19 + 6 q_8 q_20 + 6 q_8 q_21 + 6 q_8 q_22 + 6 q_8 q_23 + 6 q_8 q_24 + 6 q_8 q_25 + 6 q_8 q_26 + 6 q_8 q_27 + 6 q_8 q_28 + 6 q_8 q_29 - 2 q_8 q_30 - 2 q_8 q_31 - 2 q_8 q_32 - 2 q_8 q_33 - 2 q_8 q_34 - 2 q_8 q_35 - 2 q_8 q_36 - 2 q_8 q_37 - 2 q_8 q_38 - 2 q_8 q_39 - 2 q_8 q_40 - 2 q_8 q_41 - 2 q_8 q_42 - 2 q_8 q_43 - 2 q_8 q_44 - 2 q_8 q_45 - 2 q_8 q_46 - 2 q_8 q_47 - 2 q_8 q_48 - 2 q_8 q_49 - 2 q_8 q_50 - 2 q_8 q_51 - 2 q_8 q_52 - 2 q_8 q_53 - 2 q_8 q_54 - 2 q_8 q_55 - 2 q_8 q_56 - 2 q_8 q_57 - 2 q_8 q_58 - 2 q_8 q_59 - 2 q_8 q_60 - 2 q_8 q_61 - 2 q_8 q_62 - 2 q_8 q_63 - 2 q_8 q_64 - 2 q_8 q_65 - 2 q_8 q_66 - 2 q_8 q_67 - 2 q_8 q_68 - 2 q_8 q_69 - 2 q_8 q_70 - 2 q_8 q_71 - 2 q_8 q_72 - 2 q_8 q_73 - 2 q_8 q_74 - 2 q_8 q_75 - 2 q_8 q_76 - 2 q_8 q_77 - 2 q_8 q_78 - 2 q_8 q_79 - 2 q_8 q_80 - 2 q_8 q_81 - 2 q_8 q_82 - 2 q_8 q_83 - 2 q_8 q_84 - 2 q_8 q_85 - 2 q_8 q_86 - 2 q_8 q_87 - 2 q_8 q_88 - 2 q_8 q_89 - 2 q_8 q_90 - 2 q_8 q_91 - 2 q_8 q_92 - 2 q_8 q_93 - 2 q_8 q_94 - 2 q_8 q_95 - 2 q_8 q_96 - 2 q_8 q_97 - 2 q_8 q_98 - 2 q_8 q_99 - 2 q_8 q_100 - 2 q_8 q_101 - 2 q_8 q_102 - 2 q_8 q_103 - 2 q_8 q_104 - 2 q_8 q_105 - 2 q_8 q_106 - 2 q_8 q_107 - 2 q_8 q_108 - 2 q_8 q_109 - 2 q_8 q_110 - 2 q_8 q_111 - 2 q_8 q_112 - 2 q_8 q_113 - 2 q_8 q_114 - 2 q_8 q_115 - 2 q_8 q_116 - 2 q_8 q_117 - 2 q_8 q_118 - 2 q_8 q_119 + 6 q_9 q_10 + 6 q_9 q_11 + 6 q_9 q_12 + 6 q_9 q_13 + 6 q_9 q_14 + 6 q_9 q_15 + 6 q_9 q_16 + 6 q_9 q_17 + 6 q_9 q_18 + 6 q_9 q_19 + 6 q_9 q_20 + 6 q_9 q_21 + 6 q_9 q_22 + 6 q_9 q_23 + 6 q_9 q_24 + 6 q_9 q_25 + 6 q_9 q_26 + 6 q_9 q_27 + 6 q_9 q_28 + 6 q_9 q_29 - 2 q_9 q_30 - 2 q_9 q_31 - 2 q_9 q_32 - 2 q_9 q_33 - 2 q_9 q_34 - 2 q_9 q_35 - 2 q_9 q_36 - 2 q_9 q_37 - 2 q_9 q_38 - 2 q_9 q_39 - 2 q_9 q_40 - 2 q_9 q_41 - 2 q_9 q_42 - 2 q_9 q_43 - 2 q_9 q_44 - 2 q_9 q_45 - 2 q_9 q_46 - 2 q_9 q_47 - 2 q_9 q_48 - 2 q_9 q_49 - 2 q_9 q_50 - 2 q_9 q_51 - 2 q_9 q_52 - 2 q_9 q_53 - 2 q_9 q_54 - 2 q_9 q_55 - 2 q_9 q_56 - 2 q_9 q_57 - 2 q_9 q_58 - 2 q_9 q_59 - 2 q_9 q_60 - 2 q_9 q_61 - 2 q_9 q_62 - 2 q_9 q_63 - 2 q_9 q_64 - 2 q_9 q_65 - 2 q_9 q_66 - 2 q_9 q_67 - 2 q_9 q_68 - 2 q_9 q_69 - 2 q_9 q_70 - 2 q_9 q_71 - 2 q_9 q_72 - 2 q_9 q_73 - 2 q_9 q_74 - 2 q_9 q_75 - 2 q_9 q_76 - 2 q_9 q_77 - 2 q_9 q_78 - 2 q_9 q_79 - 2 q_9 q_80 - 2 q_9 q_81 - 2 q_9 q_82 - 2 q_9 q_83 - 2 q_9 q_84 - 2 q_9 q_85 - 2 q_9 q_86 - 2 q_9 q_87 - 2 q_9 q_88 - 2 q_9 q_89 - 2 q_9 q_90 - 2 q_9 q_91 - 2 q_9 q_92 - 2 q_9 q_93 - 2 q_9 q_94 - 2 q_9 q_95 - 2 q_9 q_96 - 2 q_9 q_97 - 2 q_9 q_98 - 2 q_9 q_99 - 2 q_9 q_100 - 2 q_9 q_101 - 2 q_9 q_102 - 2 q_9 q_103 - 2 q_9 q_104 - 2 q_9 q_105 - 2 q_9 q_106 - 2 q_9 q_107 - 2 q_9 q_108 - 2 q_9 q_109 - 2 q_9 q_110 - 2 q_9 q_111 - 2 q_9 q_112 - 2 q_9 q_113 - 2 q_9 q_114 - 2 q_9 q_115 - 2 q_9 q_116 - 2 q_9 q_117 - 2 q_9 q_118 - 2 q_9 q_119 + 6 q_10 q_11 + 6 q_10 q_12 + 6 q_10 q_13 + 6 q_10 q_14 + 6 q_10 q_15 + 6 q_10 q_16 + 6 q_10 q_17 + 6 q_10 q_18 + 6 q_10 q_19 + 6 q_10 q_20 + 6 q_10 q_21 + 6 q_10 q_22 + 6 q_10 q_23 + 6 q_10 q_24 + 6 q_10 q_25 + 6 q_10 q_26 + 6 q_10 q_27 + 6 q_10 q_28 + 6 q_10 q_29 - 2 q_10 q_30 - 2 q_10 q_31 - 2 q_10 q_32 - 2 q_10 q_33 - 2 q_10 q_34 - 2 q_10 q_35 - 2 q_10 q_36 - 2 q_10 q_37 - 2 q_10 q_38 - 2 q_10 q_39 - 2 q_10 q_40 - 2 q_10 q_41 - 2 q_10 q_42 - 2 q_10 q_43 - 2 q_10 q_44 - 2 q_10 q_45 - 2 q_10 q_46 - 2 q_10 q_47 - 2 q_10 q_48 - 2 q_10 q_49 - 2 q_10 q_50 - 2 q_10 q_51 - 2 q_10 q_52 - 2 q_10 q_53 - 2 q_10 q_54 - 2 q_10 q_55 - 2 q_10 q_56 - 2 q_10 q_57 - 2 q_10 q_58 - 2 q_10 q_59 - 2 q_10 q_60 - 2 q_10 q_61 - 2 q_10 q_62 - 2 q_10 q_63 - 2 q_10 q_64 - 2 q_10 q_65 - 2 q_10 q_66 - 2 q_10 q_67 - 2 q_10 q_68 - 2 q_10 q_69 - 2 q_10 q_70 - 2 q_10 q_71 - 2 q_10 q_72 - 2 q_10 q_73 - 2 q_10 q_74 - 2 q_10 q_75 - 2 q_10 q_76 - 2 q_10 q_77 - 2 q_10 q_78 - 2 q_10 q_79 - 2 q_10 q_80 - 2 q_10 q_81 - 2 q_10 q_82 - 2 q_10 q_83 - 2 q_10 q_84 - 2 q_10 q_85 - 2 q_10 q_86 - 2 q_10 q_87 - 2 q_10 q_88 - 2 q_10 q_89 - 2 q_10 q_90 - 2 q_10 q_91 - 2 q_10 q_92 - 2 q_10 q_93 - 2 q_10 q_94 - 2 q_10 q_95 - 2 q_10 q_96 - 2 q_10 q_97 - 2 q_10 q_98 - 2 q_10 q_99 - 2 q_10 q_100 - 2 q_10 q_101 - 2 q_10 q_102 - 2 q_10 q_103 - 2 q_10 q_104 - 2 q_10 q_105 - 2 q_10 q_106 - 2 q_10 q_107 - 2 q_10 q_108 - 2 q_10 q_109 - 2 q_10 q_110 - 2 q_10 q_111 - 2 q_10 q_112 - 2 q_10 q_113 - 2 q_10 q_114 - 2 q_10 q_115 - 2 q_10 q_116 - 2 q_10 q_117 - 2 q_10 q_118 - 2 q_10 q_119 + 6 q_11 q_12 + 6 q_11 q_13 + 6 q_11 q_14 + 6 q_11 q_15 + 6 q_11 q_16 + 6 q_11 q_17 + 6 q_11 q_18 + 6 q_11 q_19 + 6 q_11 q_20 + 6 q_11 q_21 + 6 q_11 q_22 + 6 q_11 q_23 + 6 q_11 q_24 + 6 q_11 q_25 + 6 q_11 q_26 + 6 q_11 q_27 + 6 q_11 q_28 + 6 q_11 q_29 - 2 q_11 q_30 - 2 q_11 q_31 - 2 q_11 q_32 - 2 q_11 q_33 - 2 q_11 q_34 - 2 q_11 q_35 - 2 q_11 q_36 - 2 q_11 q_37 - 2 q_11 q_38 - 2 q_11 q_39 - 2 q_11 q_40 - 2 q_11 q_41 - 2 q_11 q_42 - 2 q_11 q_43 - 2 q_11 q_44 - 2 q_11 q_45 - 2 q_11 q_46 - 2 q_11 q_47 - 2 q_11 q_48 - 2 q_11 q_49 - 2 q_11 q_50 - 2 q_11 q_51 - 2 q_11 q_52 - 2 q_11 q_53 - 2 q_11 q_54 - 2 q_11 q_55 - 2 q_11 q_56 - 2 q_11 q_57 - 2 q_11 q_58 - 2 q_11 q_59 - 2 q_11 q_60 - 2 q_11 q_61 - 2 q_11 q_62 - 2 q_11 q_63 - 2 q_11 q_64 - 2 q_11 q_65 - 2 q_11 q_66 - 2 q_11 q_67 - 2 q_11 q_68 - 2 q_11 q_69 - 2 q_11 q_70 - 2 q_11 q_71 - 2 q_11 q_72 - 2 q_11 q_73 - 2 q_11 q_74 - 2 q_11 q_75 - 2 q_11 q_76 - 2 q_11 q_77 - 2 q_11 q_78 - 2 q_11 q_79 - 2 q_11 q_80 - 2 q_11 q_81 - 2 q_11 q_82 - 2 q_11 q_83 - 2 q_11 q_84 - 2 q_11 q_85 - 2 q_11 q_86 - 2 q_11 q_87 - 2 q_11 q_88 - 2 q_11 q_89 - 2 q_11 q_90 - 2 q_11 q_91 - 2 q_11 q_92 - 2 q_11 q_93 - 2 q_11 q_94 - 2 q_11 q_95 - 2 q_11 q_96 - 2 q_11 q_97 - 2 q_11 q_98 - 2 q_11 q_99 - 2 q_11 q_100 - 2 q_11 q_101 - 2 q_11 q_102 - 2 q_11 q_103 - 2 q_11 q_104 - 2 q_11 q_105 - 2 q_11 q_106 - 2 q_11 q_107 - 2 q_11 q_108 - 2 q_11 q_109 - 2 q_11 q_110 - 2 q_11 q_111 - 2 q_11 q_112 - 2 q_11 q_113 - 2 q_11 q_114 - 2 q_11 q_115 - 2 q_11 q_116 - 2 q_11 q_117 - 2 q_11 q_118 - 2 q_11 q_119 + 6 q_12 q_13 + 6 q_12 q_14 + 6 q_12 q_15 + 6 q_12 q_16 + 6 q_12 q_17 + 6 q_12 q_18 + 6 q_12 q_19 + 6 q_12 q_20 + 6 q_12 q_21 + 6 q_12 q_22 + 6 q_12 q_23 + 6 q_12 q_24 + 6 q_12 q_25 + 6 q_12 q_26 + 6 q_12 q_27 + 6 q_12 q_28 + 6 q_12 q_29 - 2 q_12 q_30 - 2 q_12 q_31 - 2 q_12 q_32 - 2 q_12 q_33 - 2 q_12 q_34 - 2 q_12 q_35 - 2 q_12 q_36 - 2 q_12 q_37 - 2 q_12 q_38 - 2 q_12 q_39 - 2 q_12 q_40 - 2 q_12 q_41 - 2 q_12 q_42 - 2 q_12 q_43 - 2 q_12 q_44 - 2 q_12 q_45 - 2 q_12 q_46 - 2 q_12 q_47 - 2 q_12 q_48 - 2 q_12 q_49 - 2 q_12 q_50 - 2 q_12 q_51 - 2 q_12 q_52 - 2 q_12 q_53 - 2 q_12 q_54 - 2 q_12 q_55 - 2 q_12 q_56 - 2 q_12 q_57 - 2 q_12 q_58 - 2 q_12 q_59 - 2 q_12 q_60 - 2 q_12 q_61 - 2 q_12 q_62 - 2 q_12 q_63 - 2 q_12 q_64 - 2 q_12 q_65 - 2 q_12 q_66 - 2 q_12 q_67 - 2 q_12 q_68 - 2 q_12 q_69 - 2 q_12 q_70 - 2 q_12 q_71 - 2 q_12 q_72 - 2 q_12 q_73 - 2 q_12 q_74 - 2 q_12 q_75 - 2 q_12 q_76 - 2 q_12 q_77 - 2 q_12 q_78 - 2 q_12 q_79 - 2 q_12 q_80 - 2 q_12 q_81 - 2 q_12 q_82 - 2 q_12 q_83 - 2 q_12 q_84 - 2 q_12 q_85 - 2 q_12 q_86 - 2 q_12 q_87 - 2 q_12 q_88 - 2 q_12 q_89 - 2 q_12 q_90 - 2 q_12 q_91 - 2 q_12 q_92 - 2 q_12 q_93 - 2 q_12 q_94 - 2 q_12 q_95 - 2 q_12 q_96 - 2 q_12 q_97 - 2 q_12 q_98 - 2 q_12 q_99 - 2 q_12 q_100 - 2 q_12 q_101 - 2 q_12 q_102 - 2 q_12 q_103 - 2 q_12 q_104 - 2 q_12 q_105 - 2 q_12 q_106 - 2 q_12 q_107 - 2 q_12 q_108 - 2 q_12 q_109 - 2 q_12 q_110 - 2 q_12 q_111 - 2 q_12 q_112 - 2 q_12 q_113 - 2 q_12 q_114 - 2 q_12 q_115 - 2 q_12 q_116 - 2 q_12 q_117 - 2 q_12 q_118 - 2 q_12 q_119 + 6 q_13 q_14 + 6 q_13 q_15 + 6 q_13 q_16 + 6 q_13 q_17 + 6 q_13 q_18 + 6 q_13 q_19 + 6 q_13 q_20 + 6 q_13 q_21 + 6 q_13 q_22 + 6 q_13 q_23 + 6 q_13 q_24 + 6 q_13 q_25 + 6 q_13 q_26 + 6 q_13 q_27 + 6 q_13 q_28 + 6 q_13 q_29 - 2 q_13 q_30 - 2 q_13 q_31 - 2 q_13 q_32 - 2 q_13 q_33 - 2 q_13 q_34 - 2 q_13 q_35 - 2 q_13 q_36 - 2 q_13 q_37 - 2 q_13 q_38 - 2 q_13 q_39 - 2 q_13 q_40 - 2 q_13 q_41 - 2 q_13 q_42 - 2 q_13 q_43 - 2 q_13 q_44 - 2 q_13 q_45 - 2 q_13 q_46 - 2 q_13 q_47 - 2 q_13 q_48 - 2 q_13 q_49 - 2 q_13 q_50 - 2 q_13 q_51 - 2 q_13 q_52 - 2 q_13 q_53 - 2 q_13 q_54 - 2 q_13 q_55 - 2 q_13 q_56 - 2 q_13 q_57 - 2 q_13 q_58 - 2 q_13 q_59 - 2 q_13 q_60 - 2 q_13 q_61 - 2 q_13 q_62 - 2 q_13 q_63 - 2 q_13 q_64 - 2 q_13 q_65 - 2 q_13 q_66 - 2 q_13 q_67 - 2 q_13 q_68 - 2 q_13 q_69 - 2 q_13 q_70 - 2 q_13 q_71 - 2 q_13 q_72 - 2 q_13 q_73 - 2 q_13 q_74 - 2 q_13 q_75 - 2 q_13 q_76 - 2 q_13 q_77 - 2 q_13 q_78 - 2 q_13 q_79 - 2 q_13 q_80 - 2 q_13 q_81 - 2 q_13 q_82 - 2 q_13 q_83 - 2 q_13 q_84 - 2 q_13 q_85 - 2 q_13 q_86 - 2 q_13 q_87 - 2 q_13 q_88 - 2 q_13 q_89 - 2 q_13 q_90 - 2 q_13 q_91 - 2 q_13 q_92 - 2 q_13 q_93 - 2 q_13 q_94 - 2 q_13 q_95 - 2 q_13 q_96 - 2 q_13 q_97 - 2 q_13 q_98 - 2 q_13 q_99 - 2 q_13 q_100 - 2 q_13 q_101 - 2 q_13 q_102 - 2 q_13 q_103 - 2 q_13 q_104 - 2 q_13 q_105 - 2 q_13 q_106 - 2 q_13 q_107 - 2 q_13 q_108 - 2 q_13 q_109 - 2 q_13 q_110 - 2 q_13 q_111 - 2 q_13 q_112 - 2 q_13 q_113 - 2 q_13 q_114 - 2 q_13 q_115 - 2 q_13 q_116 - 2 q_13 q_117 - 2 q_13 q_118 - 2 q_13 q_119 + 6 q_14 q_15 + 6 q_14 q_16 + 6 q_14 q_17 + 6 q_14 q_18 + 6 q_14 q_19 + 6 q_14 q_20 + 6 q_14 q_21 + 6 q_14 q_22 + 6 q_14 q_23 + 6 q_14 q_24 + 6 q_14 q_25 + 6 q_14 q_26 + 6 q_14 q_27 + 6 q_14 q_28 + 6 q_14 q_29 - 2 q_14 q_30 - 2 q_14 q_31 - 2 q_14 q_32 - 2 q_14 q_33 - 2 q_14 q_34 - 2 q_14 q_35 - 2 q_14 q_36 - 2 q_14 q_37 - 2 q_14 q_38 - 2 q_14 q_39 - 2 q_14 q_40 - 2 q_14 q_41 - 2 q_14 q_42 - 2 q_14 q_43 - 2 q_14 q_44 - 2 q_14 q_45 - 2 q_14 q_46 - 2 q_14 q_47 - 2 q_14 q_48 - 2 q_14 q_49 - 2 q_14 q_50 - 2 q_14 q_51 - 2 q_14 q_52 - 2 q_14 q_53 - 2 q_14 q_54 - 2 q_14 q_55 - 2 q_14 q_56 - 2 q_14 q_57 - 2 q_14 q_58 - 2 q_14 q_59 - 2 q_14 q_60 - 2 q_14 q_61 - 2 q_14 q_62 - 2 q_14 q_63 - 2 q_14 q_64 - 2 q_14 q_65 - 2 q_14 q_66 - 2 q_14 q_67 - 2 q_14 q_68 - 2 q_14 q_69 - 2 q_14 q_70 - 2 q_14 q_71 - 2 q_14 q_72 - 2 q_14 q_73 - 2 q_14 q_74 - 2 q_14 q_75 - 2 q_14 q_76 - 2 q_14 q_77 - 2 q_14 q_78 - 2 q_14 q_79 - 2 q_14 q_80 - 2 q_14 q_81 - 2 q_14 q_82 - 2 q_14 q_83 - 2 q_14 q_84 - 2 q_14 q_85 - 2 q_14 q_86 - 2 q_14 q_87 - 2 q_14 q_88 - 2 q_14 q_89 - 2 q_14 q_90 - 2 q_14 q_91 - 2 q_14 q_92 - 2 q_14 q_93 - 2 q_14 q_94 - 2 q_14 q_95 - 2 q_14 q_96 - 2 q_14 q_97 - 2 q_14 q_98 - 2 q_14 q_99 - 2 q_14 q_100 - 2 q_14 q_101 - 2 q_14 q_102 - 2 q_14 q_103 - 2 q_14 q_104 - 2 q_14 q_105 - 2 q_14 q_106 - 2 q_14 q_107 - 2 q_14 q_108 - 2 q_14 q_109 - 2 q_14 q_110 - 2 q_14 q_111 - 2 q_14 q_112 - 2 q_14 q_113 - 2 q_14 q_114 - 2 q_14 q_115 - 2 q_14 q_116 - 2 q_14 q_117 - 2 q_14 q_118 - 2 q_14 q_119 + 6 q_15 q_16 + 6 q_15 q_17 + 6 q_15 q_18 + 6 q_15 q_19 + 6 q_15 q_20 + 6 q_15 q_21 + 6 q_15 q_22 + 6 q_15 q_23 + 6 q_15 q_24 + 6 q_15 q_25 + 6 q_15 q_26 + 6 q_15 q_27 + 6 q_15 q_28 + 6 q_15 q_29 - 2 q_15 q_30 - 2 q_15 q_31 - 2 q_15 q_32 - 2 q_15 q_33 - 2 q_15 q_34 - 2 q_15 q_35 - 2 q_15 q_36 - 2 q_15 q_37 - 2 q_15 q_38 - 2 q_15 q_39 - 2 q_15 q_40 - 2 q_15 q_41 - 2 q_15 q_42 - 2 q_15 q_43 - 2 q_15 q_44 - 2 q_15 q_45 - 2 q_15 q_46 - 2 q_15 q_47 - 2 q_15 q_48 - 2 q_15 q_49 - 2 q_15 q_50 - 2 q_15 q_51 - 2 q_15 q_52 - 2 q_15 q_53 - 2 q_15 q_54 - 2 q_15 q_55 - 2 q_15 q_56 - 2 q_15 q_57 - 2 q_15 q_58 - 2 q_15 q_59 - 2 q_15 q_60 - 2 q_15 q_61 - 2 q_15 q_62 - 2 q_15 q_63 - 2 q_15 q_64 - 2 q_15 q_65 - 2 q_15 q_66 - 2 q_15 q_67 - 2 q_15 q_68 - 2 q_15 q_69 - 2 q_15 q_70 - 2 q_15 q_71 - 2 q_15 q_72 - 2 q_15 q_73 - 2 q_15 q_74 - 2 q_15 q_75 - 2 q_15 q_76 - 2 q_15 q_77 - 2 q_15 q_78 - 2 q_15 q_79 - 2 q_15 q_80 - 2 q_15 q_81 - 2 q_15 q_82 - 2 q_15 q_83 - 2 q_15 q_84 - 2 q_15 q_85 - 2 q_15 q_86 - 2 q_15 q_87 - 2 q_15 q_88 - 2 q_15 q_89 - 2 q_15 q_90 - 2 q_15 q_91 - 2 q_15 q_92 - 2 q_15 q_93 - 2 q_15 q_94 - 2 q_15 q_95 - 2 q_15 q_96 - 2 q_15 q_97 - 2 q_15 q_98 - 2 q_15 q_99 - 2 q_15 q_100 - 2 q_15 q_101 - 2 q_15 q_102 - 2 q_15 q_103 - 2 q_15 q_104 - 2 q_15 q_105 - 2 q_15 q_106 - 2 q_15 q_107 - 2 q_15 q_108 - 2 q_15 q_109 - 2 q_15 q_110 - 2 q_15 q_111 - 2 q_15 q_112 - 2 q_15 q_113 - 2 q_15 q_114 - 2 q_15 q_115 - 2 q_15 q_116 - 2 q_15 q_117 - 2 q_15 q_118 - 2 q_15 q_119 + 6 q_16 q_17 + 6 q_16 q_18 + 6 q_16 q_19 + 6 q_16 q_20 + 6 q_16 q_21 + 6 q_16 q_22 + 6 q_16 q_23 + 6 q_16 q_24 + 6 q_16 q_25 + 6 q_16 q_26 + 6 q_16 q_27 + 6 q_16 q_28 + 6 q_16 q_29 - 2 q_16 q_30 - 2 q_16 q_31 - 2 q_16 q_32 - 2 q_16 q_33 - 2 q_16 q_34 - 2 q_16 q_35 - 2 q_16 q_36 - 2 q_16 q_37 - 2 q_16 q_38 - 2 q_16 q_39 - 2 q_16 q_40 - 2 q_16 q_41 - 2 q_16 q_42 - 2 q_16 q_43 - 2 q_16 q_44 - 2 q_16 q_45 - 2 q_16 q_46 - 2 q_16 q_47 - 2 q_16 q_48 - 2 q_16 q_49 - 2 q_16 q_50 - 2 q_16 q_51 - 2 q_16 q_52 - 2 q_16 q_53 - 2 q_16 q_54 - 2 q_16 q_55 - 2 q_16 q_56 - 2 q_16 q_57 - 2 q_16 q_58 - 2 q_16 q_59 - 2 q_16 q_60 - 2 q_16 q_61 - 2 q_16 q_62 - 2 q_16 q_63 - 2 q_16 q_64 - 2 q_16 q_65 - 2 q_16 q_66 - 2 q_16 q_67 - 2 q_16 q_68 - 2 q_16 q_69 - 2 q_16 q_70 - 2 q_16 q_71 - 2 q_16 q_72 - 2 q_16 q_73 - 2 q_16 q_74 - 2 q_16 q_75 - 2 q_16 q_76 - 2 q_16 q_77 - 2 q_16 q_78 - 2 q_16 q_79 - 2 q_16 q_80 - 2 q_16 q_81 - 2 q_16 q_82 - 2 q_16 q_83 - 2 q_16 q_84 - 2 q_16 q_85 - 2 q_16 q_86 - 2 q_16 q_87 - 2 q_16 q_88 - 2 q_16 q_89 - 2 q_16 q_90 - 2 q_16 q_91 - 2 q_16 q_92 - 2 q_16 q_93 - 2 q_16 q_94 - 2 q_16 q_95 - 2 q_16 q_96 - 2 q_16 q_97 - 2 q_16 q_98 - 2 q_16 q_99 - 2 q_16 q_100 - 2 q_16 q_101 - 2 q_16 q_102 - 2 q_16 q_103 - 2 q_16 q_104 - 2 q_16 q_105 - 2 q_16 q_106 - 2 q_16 q_107 - 2 q_16 q_108 - 2 q_16 q_109 - 2 q_16 q_110 - 2 q_16 q_111 - 2 q_16 q_112 - 2 q_16 q_113 - 2 q_16 q_114 - 2 q_16 q_115 - 2 q_16 q_116 - 2 q_16 q_117 - 2 q_16 q_118 - 2 q_16 q_119 + 6 q_17 q_18 + 6 q_17 q_19 + 6 q_17 q_20 + 6 q_17 q_21 + 6 q_17 q_22 + 6 q_17 q_23 + 6 q_17 q_24 + 6 q_17 q_25 + 6 q_17 q_26 + 6 q_17 q_27 + 6 q_17 q_28 + 6 q_17 q_29 - 2 q_17 q_30 - 2 q_17 q_31 - 2 q_17 q_32 - 2 q_17 q_33 - 2 q_17 q_34 - 2 q_17 q_35 - 2 q_17 q_36 - 2 q_17 q_37 - 2 q_17 q_38 - 2 q_17 q_39 - 2 q_17 q_40 - 2 q_17 q_41 - 2 q_17 q_42 - 2 q_17 q_43 - 2 q_17 q_44 - 2 q_17 q_45 - 2 q_17 q_46 - 2 q_17 q_47 - 2 q_17 q_48 - 2 q_17 q_49 - 2 q_17 q_50 - 2 q_17 q_51 - 2 q_17 q_52 - 2 q_17 q_53 - 2 q_17 q_54 - 2 q_17 q_55 - 2 q_17 q_56 - 2 q_17 q_57 - 2 q_17 q_58 - 2 q_17 q_59 - 2 q_17 q_60 - 2 q_17 q_61 - 2 q_17 q_62 - 2 q_17 q_63 - 2 q_17 q_64 - 2 q_17 q_65 - 2 q_17 q_66 - 2 q_17 q_67 - 2 q_17 q_68 - 2 q_17 q_69 - 2 q_17 q_70 - 2 q_17 q_71 - 2 q_17 q_72 - 2 q_17 q_73 - 2 q_17 q_74 - 2 q_17 q_75 - 2 q_17 q_76 - 2 q_17 q_77 - 2 q_17 q_78 - 2 q_17 q_79 - 2 q_17 q_80 - 2 q_17 q_81 - 2 q_17 q_82 - 2 q_17 q_83 - 2 q_17 q_84 - 2 q_17 q_85 - 2 q_17 q_86 - 2 q_17 q_87 - 2 q_17 q_88 - 2 q_17 q_89 - 2 q_17 q_90 - 2 q_17 q_91 - 2 q_17 q_92 - 2 q_17 q_93 - 2 q_17 q_94 - 2 q_17 q_95 - 2 q_17 q_96 - 2 q_17 q_97 - 2 q_17 q_98 - 2 q_17 q_99 - 2 q_17 q_100 - 2 q_17 q_101 - 2 q_17 q_102 - 2 q_17 q_103 - 2 q_17 q_104 - 2 q_17 q_105 - 2 q_17 q_106 - 2 q_17 q_107 - 2 q_17 q_108 - 2 q_17 q_109 - 2 q_17 q_110 - 2 q_17 q_111 - 2 q_17 q_112 - 2 q_17 q_113 - 2 q_17 q_114 - 2 q_17 q_115 - 2 q_17 q_116 - 2 q_17 q_117 - 2 q_17 q_118 - 2 q_17 q_119 + 6 q_18 q_19 + 6 q_18 q_20 + 6 q_18 q_21 + 6 q_18 q_22 + 6 q_18 q_23 + 6 q_18 q_24 + 6 q_18 q_25 + 6 q_18 q_26 + 6 q_18 q_27 + 6 q_18 q_28 + 6 q_18 q_29 - 2 q_18 q_30 - 2 q_18 q_31 - 2 q_18 q_32 - 2 q_18 q_33 - 2 q_18 q_34 - 2 q_18 q_35 - 2 q_18 q_36 - 2 q_18 q_37 - 2 q_18 q_38 - 2 q_18 q_39 - 2 q_18 q_40 - 2 q_18 q_41 - 2 q_18 q_42 - 2 q_18 q_43 - 2 q_18 q_44 - 2 q_18 q_45 - 2 q_18 q_46 - 2 q_18 q_47 - 2 q_18 q_48 - 2 q_18 q_49 - 2 q_18 q_50 - 2 q_18 q_51 - 2 q_18 q_52 - 2 q_18 q_53 - 2 q_18 q_54 - 2 q_18 q_55 - 2 q_18 q_56 - 2 q_18 q_57 - 2 q_18 q_58 - 2 q_18 q_59 - 2 q_18 q_60 - 2 q_18 q_61 - 2 q_18 q_62 - 2 q_18 q_63 - 2 q_18 q_64 - 2 q_18 q_65 - 2 q_18 q_66 - 2 q_18 q_67 - 2 q_18 q_68 - 2 q_18 q_69 - 2 q_18 q_70 - 2 q_18 q_71 - 2 q_18 q_72 - 2 q_18 q_73 - 2 q_18 q_74 - 2 q_18 q_75 - 2 q_18 q_76 - 2 q_18 q_77 - 2 q_18 q_78 - 2 q_18 q_79 - 2 q_18 q_80 - 2 q_18 q_81 - 2 q_18 q_82 - 2 q_18 q_83 - 2 q_18 q_84 - 2 q_18 q_85 - 2 q_18 q_86 - 2 q_18 q_87 - 2 q_18 q_88 - 2 q_18 q_89 - 2 q_18 q_90 - 2 q_18 q_91 - 2 q_18 q_92 - 2 q_18 q_93 - 2 q_18 q_94 - 2 q_18 q_95 - 2 q_18 q_96 - 2 q_18 q_97 - 2 q_18 q_98 - 2 q_18 q_99 - 2 q_18 q_100 - 2 q_18 q_101 - 2 q_18 q_102 - 2 q_18 q_103 - 2 q_18 q_104 - 2 q_18 q_105 - 2 q_18 q_106 - 2 q_18 q_107 - 2 q_18 q_108 - 2 q_18 q_109 - 2 q_18 q_110 - 2 q_18 q_111 - 2 q_18 q_112 - 2 q_18 q_113 - 2 q_18 q_114 - 2 q_18 q_115 - 2 q_18 q_116 - 2 q_18 q_117 - 2 q_18 q_118 - 2 q_18 q_119 + 6 q_19 q_20 + 6 q_19 q_21 + 6 q_19 q_22 + 6 q_19 q_23 + 6 q_19 q_24 + 6 q_19 q_25 + 6 q_19 q_26 + 6 q_19 q_27 + 6 q_19 q_28 + 6 q_19 q_29 - 2 q_19 q_30 - 2 q_19 q_31 - 2 q_19 q_32 - 2 q_19 q_33 - 2 q_19 q_34 - 2 q_19 q_35 - 2 q_19 q_36 - 2 q_19 q_37 - 2 q_19 q_38 - 2 q_19 q_39 - 2 q_19 q_40 - 2 q_19 q_41 - 2 q_19 q_42 - 2 q_19 q_43 - 2 q_19 q_44 - 2 q_19 q_45 - 2 q_19 q_46 - 2 q_19 q_47 - 2 q_19 q_48 - 2 q_19 q_49 - 2 q_19 q_50 - 2 q_19 q_51 - 2 q_19 q_52 - 2 q_19 q_53 - 2 q_19 q_54 - 2 q_19 q_55 - 2 q_19 q_56 - 2 q_19 q_57 - 2 q_19 q_58 - 2 q_19 q_59 - 2 q_19 q_60 - 2 q_19 q_61 - 2 q_19 q_62 - 2 q_19 q_63 - 2 q_19 q_64 - 2 q_19 q_65 - 2 q_19 q_66 - 2 q_19 q_67 - 2 q_19 q_68 - 2 q_19 q_69 - 2 q_19 q_70 - 2 q_19 q_71 - 2 q_19 q_72 - 2 q_19 q_73 - 2 q_19 q_74 - 2 q_19 q_75 - 2 q_19 q_76 - 2 q_19 q_77 - 2 q_19 q_78 - 2 q_19 q_79 - 2 q_19 q_80 - 2 q_19 q_81 - 2 q_19 q_82 - 2 q_19 q_83 - 2 q_19 q_84 - 2 q_19 q_85 - 2 q_19 q_86 - 2 q_19 q_87 - 2 q_19 q_88 - 2 q_19 q_89 - 2 q_19 q_90 - 2 q_19 q_91 - 2 q_19 q_92 - 2 q_19 q_93 - 2 q_19 q_94 - 2 q_19 q_95 - 2 q_19 q_96 - 2 q_19 q_97 - 2 q_19 q_98 - 2 q_19 q_99 - 2 q_19 q_100 - 2 q_19 q_101 - 2 q_19 q_102 - 2 q_19 q_103 - 2 q_19 q_104 - 2 q_19 q_105 - 2 q_19 q_106 - 2 q_19 q_107 - 2 q_19 q_108 - 2 q_19 q_109 - 2 q_19 q_110 - 2 q_19 q_111 - 2 q_19 q_112 - 2 q_19 q_113 - 2 q_19 q_114 - 2 q_19 q_115 - 2 q_19 q_116 - 2 q_19 q_117 - 2 q_19 q_118 - 2 q_19 q_119 + 6 q_20 q_21 + 6 q_20 q_22 + 6 q_20 q_23 + 6 q_20 q_24 + 6 q_20 q_25 + 6 q_20 q_26 + 6 q_20 q_27 + 6 q_20 q_28 + 6 q_20 q_29 - 2 q_20 q_30 - 2 q_20 q_31 - 2 q_20 q_32 - 2 q_20 q_33 - 2 q_20 q_34 - 2 q_20 q_35 - 2 q_20 q_36 - 2 q_20 q_37 - 2 q_20 q_38 - 2 q_20 q_39 - 2 q_20 q_40 - 2 q_20 q_41 - 2 q_20 q_42 - 2 q_20 q_43 - 2 q_20 q_44 - 2 q_20 q_45 - 2 q_20 q_46 - 2 q_20 q_47 - 2 q_20 q_48 - 2 q_20 q_49 - 2 q_20 q_50 - 2 q_20 q_51 - 2 q_20 q_52 - 2 q_20 q_53 - 2 q_20 q_54 - 2 q_20 q_55 - 2 q_20 q_56 - 2 q_20 q_57 - 2 q_20 q_58 - 2 q_20 q_59 - 2 q_20 q_60 - 2 q_20 q_61 - 2 q_20 q_62 - 2 q_20 q_63 - 2 q_20 q_64 - 2 q_20 q_65 - 2 q_20 q_66 - 2 q_20 q_67 - 2 q_20 q_68 - 2 q_20 q_69 - 2 q_20 q_70 - 2 q_20 q_71 - 2 q_20 q_72 - 2 q_20 q_73 - 2 q_20 q_74 - 2 q_20 q_75 - 2 q_20 q_76 - 2 q_20 q_77 - 2 q_20 q_78 - 2 q_20 q_79 - 2 q_20 q_80 - 2 q_20 q_81 - 2 q_20 q_82 - 2 q_20 q_83 - 2 q_20 q_84 - 2 q_20 q_85 - 2 q_20 q_86 - 2 q_20 q_87 - 2 q_20 q_88 - 2 q_20 q_89 - 2 q_20 q_90 - 2 q_20 q_91 - 2 q_20 q_92 - 2 q_20 q_93 - 2 q_20 q_94 - 2 q_20 q_95 - 2 q_20 q_96 - 2 q_20 q_97 - 2 q_20 q_98 - 2 q_20 q_99 - 2 q_20 q_100 - 2 q_20 q_101 - 2 q_20 q_102 - 2 q_20 q_103 - 2 q_20 q_104 - 2 q_20 q_105 - 2 q_20 q_106 - 2 q_20 q_107 - 2 q_20 q_108 - 2 q_20 q_109 - 2 q_20 q_110 - 2 q_20 q_111 - 2 q_20 q_112 - 2 q_20 q_113 - 2 q_20 q_114 - 2 q_20 q_115 - 2 q_20 q_116 - 2 q_20 q_117 - 2 q_20 q_118 - 2 q_20 q_119 + 6 q_21 q_22 + 6 q_21 q_23 + 6 q_21 q_24 + 6 q_21 q_25 + 6 q_21 q_26 + 6 q_21 q_27 + 6 q_21 q_28 + 6 q_21 q_29 - 2 q_21 q_30 - 2 q_21 q_31 - 2 q_21 q_32 - 2 q_21 q_33 - 2 q_21 q_34 - 2 q_21 q_35 - 2 q_21 q_36 - 2 q_21 q_37 - 2 q_21 q_38 - 2 q_21 q_39 - 2 q_21 q_40 - 2 q_21 q_41 - 2 q_21 q_42 - 2 q_21 q_43 - 2 q_21 q_44 - 2 q_21 q_45 - 2 q_21 q_46 - 2 q_21 q_47 - 2 q_21 q_48 - 2 q_21 q_49 - 2 q_21 q_50 - 2 q_21 q_51 - 2 q_21 q_52 - 2 q_21 q_53 - 2 q_21 q_54 - 2 q_21 q_55 - 2 q_21 q_56 - 2 q_21 q_57 - 2 q_21 q_58 - 2 q_21 q_59 - 2 q_21 q_60 - 2 q_21 q_61 - 2 q_21 q_62 - 2 q_21 q_63 - 2 q_21 q_64 - 2 q_21 q_65 - 2 q_21 q_66 - 2 q_21 q_67 - 2 q_21 q_68 - 2 q_21 q_69 - 2 q_21 q_70 - 2 q_21 q_71 - 2 q_21 q_72 - 2 q_21 q_73 - 2 q_21 q_74 - 2 q_21 q_75 - 2 q_21 q_76 - 2 q_21 q_77 - 2 q_21 q_78 - 2 q_21 q_79 - 2 q_21 q_80 - 2 q_21 q_81 - 2 q_21 q_82 - 2 q_21 q_83 - 2 q_21 q_84 - 2 q_21 q_85 - 2 q_21 q_86 - 2 q_21 q_87 - 2 q_21 q_88 - 2 q_21 q_89 - 2 q_21 q_90 - 2 q_21 q_91 - 2 q_21 q_92 - 2 q_21 q_93 - 2 q_21 q_94 - 2 q_21 q_95 - 2 q_21 q_96 - 2 q_21 q_97 - 2 q_21 q_98 - 2 q_21 q_99 - 2 q_21 q_100 - 2 q_21 q_101 - 2 q_21 q_102 - 2 q_21 q_103 - 2 q_21 q_104 - 2 q_21 q_105 - 2 q_21 q_106 - 2 q_21 q_107 - 2 q_21 q_108 - 2 q_21 q_109 - 2 q_21 q_110 - 2 q_21 q_111 - 2 q_21 q_112 - 2 q_21 q_113 - 2 q_21 q_114 - 2 q_21 q_115 - 2 q_21 q_116 - 2 q_21 q_117 - 2 q_21 q_118 - 2 q_21 q_119 + 6 q_22 q_23 + 6 q_22 q_24 + 6 q_22 q_25 + 6 q_22 q_26 + 6 q_22 q_27 + 6 q_22 q_28 + 6 q_22 q_29 - 2 q_22 q_30 - 2 q_22 q_31 - 2 q_22 q_32 - 2 q_22 q_33 - 2 q_22 q_34 - 2 q_22 q_35 - 2 q_22 q_36 - 2 q_22 q_37 - 2 q_22 q_38 - 2 q_22 q_39 - 2 q_22 q_40 - 2 q_22 q_41 - 2 q_22 q_42 - 2 q_22 q_43 - 2 q_22 q_44 - 2 q_22 q_45 - 2 q_22 q_46 - 2 q_22 q_47 - 2 q_22 q_48 - 2 q_22 q_49 - 2 q_22 q_50 - 2 q_22 q_51 - 2 q_22 q_52 - 2 q_22 q_53 - 2 q_22 q_54 - 2 q_22 q_55 - 2 q_22 q_56 - 2 q_22 q_57 - 2 q_22 q_58 - 2 q_22 q_59 - 2 q_22 q_60 - 2 q_22 q_61 - 2 q_22 q_62 - 2 q_22 q_63 - 2 q_22 q_64 - 2 q_22 q_65 - 2 q_22 q_66 - 2 q_22 q_67 - 2 q_22 q_68 - 2 q_22 q_69 - 2 q_22 q_70 - 2 q_22 q_71 - 2 q_22 q_72 - 2 q_22 q_73 - 2 q_22 q_74 - 2 q_22 q_75 - 2 q_22 q_76 - 2 q_22 q_77 - 2 q_22 q_78 - 2 q_22 q_79 - 2 q_22 q_80 - 2 q_22 q_81 - 2 q_22 q_82 - 2 q_22 q_83 - 2 q_22 q_84 - 2 q_22 q_85 - 2 q_22 q_86 - 2 q_22 q_87 - 2 q_22 q_88 - 2 q_22 q_89 - 2 q_22 q_90 - 2 q_22 q_91 - 2 q_22 q_92 - 2 q_22 q_93 - 2 q_22 q_94 - 2 q_22 q_95 - 2 q_22 q_96 - 2 q_22 q_97 - 2 q_22 q_98 - 2 q_22 q_99 - 2 q_22 q_100 - 2 q_22 q_101 - 2 q_22 q_102 - 2 q_22 q_103 - 2 q_22 q_104 - 2 q_22 q_105 - 2 q_22 q_106 - 2 q_22 q_107 - 2 q_22 q_108 - 2 q_22 q_109 - 2 q_22 q_110 - 2 q_22 q_111 - 2 q_22 q_112 - 2 q_22 q_113 - 2 q_22 q_114 - 2 q_22 q_115 - 2 q_22 q_116 - 2 q_22 q_117 - 2 q_22 q_118 - 2 q_22 q_119 + 6 q_23 q_24 + 6 q_23 q_25 + 6 q_23 q_26 + 6 q_23 q_27 + 6 q_23 q_28 + 6 q_23 q_29 - 2 q_23 q_30 - 2 q_23 q_31 - 2 q_23 q_32 - 2 q_23 q_33 - 2 q_23 q_34 - 2 q_23 q_35 - 2 q_23 q_36 - 2 q_23 q_37 - 2 q_23 q_38 - 2 q_23 q_39 - 2 q_23 q_40 - 2 q_23 q_41 - 2 q_23 q_42 - 2 q_23 q_43 - 2 q_23 q_44 - 2 q_23 q_45 - 2 q_23 q_46 - 2 q_23 q_47 - 2 q_23 q_48 - 2 q_23 q_49 - 2 q_23 q_50 - 2 q_23 q_51 - 2 q_23 q_52 - 2 q_23 q_53 - 2 q_23 q_54 - 2 q_23 q_55 - 2 q_23 q_56 - 2 q_23 q_57 - 2 q_23 q_58 - 2 q_23 q_59 - 2 q_23 q_60 - 2 q_23 q_61 - 2 q_23 q_62 - 2 q_23 q_63 - 2 q_23 q_64 - 2 q_23 q_65 - 2 q_23 q_66 - 2 q_23 q_67 - 2 q_23 q_68 - 2 q_23 q_69 - 2 q_23 q_70 - 2 q_23 q_71 - 2 q_23 q_72 - 2 q_23 q_73 - 2 q_23 q_74 - 2 q_23 q_75 - 2 q_23 q_76 - 2 q_23 q_77 - 2 q_23 q_78 - 2 q_23 q_79 - 2 q_23 q_80 - 2 q_23 q_81 - 2 q_23 q_82 - 2 q_23 q_83 - 2 q_23 q_84 - 2 q_23 q_85 - 2 q_23 q_86 - 2 q_23 q_87 - 2 q_23 q_88 - 2 q_23 q_89 - 2 q_23 q_90 - 2 q_23 q_91 - 2 q_23 q_92 - 2 q_23 q_93 - 2 q_23 q_94 - 2 q_23 q_95 - 2 q_23 q_96 - 2 q_23 q_97 - 2 q_23 q_98 - 2 q_23 q_99 - 2 q_23 q_100 - 2 q_23 q_101 - 2 q_23 q_102 - 2 q_23 q_103 - 2 q_23 q_104 - 2 q_23 q_105 - 2 q_23 q_106 - 2 q_23 q_107 - 2 q_23 q_108 - 2 q_23 q_109 - 2 q_23 q_110 - 2 q_23 q_111 - 2 q_23 q_112 - 2 q_23 q_113 - 2 q_23 q_114 - 2 q_23 q_115 - 2 q_23 q_116 - 2 q_23 q_117 - 2 q_23 q_118 - 2 q_23 q_119 + 6 q_24 q_25 + 6 q_24 q_26 + 6 q_24 q_27 + 6 q_24 q_28 + 6 q_24 q_29 - 2 q_24 q_30 - 2 q_24 q_31 - 2 q_24 q_32 - 2 q_24 q_33 - 2 q_24 q_34 - 2 q_24 q_35 - 2 q_24 q_36 - 2 q_24 q_37 - 2 q_24 q_38 - 2 q_24 q_39 - 2 q_24 q_40 - 2 q_24 q_41 - 2 q_24 q_42 - 2 q_24 q_43 - 2 q_24 q_44 - 2 q_24 q_45 - 2 q_24 q_46 - 2 q_24 q_47 - 2 q_24 q_48 - 2 q_24 q_49 - 2 q_24 q_50 - 2 q_24 q_51 - 2 q_24 q_52 - 2 q_24 q_53 - 2 q_24 q_54 - 2 q_24 q_55 - 2 q_24 q_56 - 2 q_24 q_57 - 2 q_24 q_58 - 2 q_24 q_59 - 2 q_24 q_60 - 2 q_24 q_61 - 2 q_24 q_62 - 2 q_24 q_63 - 2 q_24 q_64 - 2 q_24 q_65 - 2 q_24 q_66 - 2 q_24 q_67 - 2 q_24 q_68 - 2 q_24 q_69 - 2 q_24 q_70 - 2 q_24 q_71 - 2 q_24 q_72 - 2 q_24 q_73 - 2 q_24 q_74 - 2 q_24 q_75 - 2 q_24 q_76 - 2 q_24 q_77 - 2 q_24 q_78 - 2 q_24 q_79 - 2 q_24 q_80 - 2 q_24 q_81 - 2 q_24 q_82 - 2 q_24 q_83 - 2 q_24 q_84 - 2 q_24 q_85 - 2 q_24 q_86 - 2 q_24 q_87 - 2 q_24 q_88 - 2 q_24 q_89 - 2 q_24 q_90 - 2 q_24 q_91 - 2 q_24 q_92 - 2 q_24 q_93 - 2 q_24 q_94 - 2 q_24 q_95 - 2 q_24 q_96 - 2 q_24 q_97 - 2 q_24 q_98 - 2 q_24 q_99 - 2 q_24 q_100 - 2 q_24 q_101 - 2 q_24 q_102 - 2 q_24 q_103 - 2 q_24 q_104 - 2 q_24 q_105 - 2 q_24 q_106 - 2 q_24 q_107 - 2 q_24 q_108 - 2 q_24 q_109 - 2 q_24 q_110 - 2 q_24 q_111 - 2 q_24 q_112 - 2 q_24 q_113 - 2 q_24 q_114 - 2 q_24 q_115 - 2 q_24 q_116 - 2 q_24 q_117 - 2 q_24 q_118 - 2 q_24 q_119 + 6 q_25 q_26 + 6 q_25 q_27 + 6 q_25 q_28 + 6 q_25 q_29 - 2 q_25 q_30 - 2 q_25 q_31 - 2 q_25 q_32 - 2 q_25 q_33 - 2 q_25 q_34 - 2 q_25 q_35 - 2 q_25 q_36 - 2 q_25 q_37 - 2 q_25 q_38 - 2 q_25 q_39 - 2 q_25 q_40 - 2 q_25 q_41 - 2 q_25 q_42 - 2 q_25 q_43 - 2 q_25 q_44 - 2 q_25 q_45 - 2 q_25 q_46 - 2 q_25 q_47 - 2 q_25 q_48 - 2 q_25 q_49 - 2 q_25 q_50 - 2 q_25 q_51 - 2 q_25 q_52 - 2 q_25 q_53 - 2 q_25 q_54 - 2 q_25 q_55 - 2 q_25 q_56 - 2 q_25 q_57 - 2 q_25 q_58 - 2 q_25 q_59 - 2 q_25 q_60 - 2 q_25 q_61 - 2 q_25 q_62 - 2 q_25 q_63 - 2 q_25 q_64 - 2 q_25 q_65 - 2 q_25 q_66 - 2 q_25 q_67 - 2 q_25 q_68 - 2 q_25 q_69 - 2 q_25 q_70 - 2 q_25 q_71 - 2 q_25 q_72 - 2 q_25 q_73 - 2 q_25 q_74 - 2 q_25 q_75 - 2 q_25 q_76 - 2 q_25 q_77 - 2 q_25 q_78 - 2 q_25 q_79 - 2 q_25 q_80 - 2 q_25 q_81 - 2 q_25 q_82 - 2 q_25 q_83 - 2 q_25 q_84 - 2 q_25 q_85 - 2 q_25 q_86 - 2 q_25 q_87 - 2 q_25 q_88 - 2 q_25 q_89 - 2 q_25 q_90 - 2 q_25 q_91 - 2 q_25 q_92 - 2 q_25 q_93 - 2 q_25 q_94 - 2 q_25 q_95 - 2 q_25 q_96 - 2 q_25 q_97 - 2 q_25 q_98 - 2 q_25 q_99 - 2 q_25 q_100 - 2 q_25 q_101 - 2 q_25 q_102 - 2 q_25 q_103 - 2 q_25 q_104 - 2 q_25 q_105 - 2 q_25 q_106 - 2 q_25 q_107 - 2 q_25 q_108 - 2 q_25 q_109 - 2 q_25 q_110 - 2 q_25 q_111 - 2 q_25 q_112 - 2 q_25 q_113 - 2 q_25 q_114 - 2 q_25 q_115 - 2 q_25 q_116 - 2 q_25 q_117 - 2 q_25 q_118 - 2 q_25 q_119 + 6 q_26 q_27 + 6 q_26 q_28 + 6 q_26 q_29 - 2 q_26 q_30 - 2 q_26 q_31 - 2 q_26 q_32 - 2 q_26 q_33 - 2 q_26 q_34 - 2 q_26 q_35 - 2 q_26 q_36 - 2 q_26 q_37 - 2 q_26 q_38 - 2 q_26 q_39 - 2 q_26 q_40 - 2 q_26 q_41 - 2 q_26 q_42 - 2 q_26 q_43 - 2 q_26 q_44 - 2 q_26 q_45 - 2 q_26 q_46 - 2 q_26 q_47 - 2 q_26 q_48 - 2 q_26 q_49 - 2 q_26 q_50 - 2 q_26 q_51 - 2 q_26 q_52 - 2 q_26 q_53 - 2 q_26 q_54 - 2 q_26 q_55 - 2 q_26 q_56 - 2 q_26 q_57 - 2 q_26 q_58 - 2 q_26 q_59 - 2 q_26 q_60 - 2 q_26 q_61 - 2 q_26 q_62 - 2 q_26 q_63 - 2 q_26 q_64 - 2 q_26 q_65 - 2 q_26 q_66 - 2 q_26 q_67 - 2 q_26 q_68 - 2 q_26 q_69 - 2 q_26 q_70 - 2 q_26 q_71 - 2 q_26 q_72 - 2 q_26 q_73 - 2 q_26 q_74 - 2 q_26 q_75 - 2 q_26 q_76 - 2 q_26 q_77 - 2 q_26 q_78 - 2 q_26 q_79 - 2 q_26 q_80 - 2 q_26 q_81 - 2 q_26 q_82 - 2 q_26 q_83 - 2 q_26 q_84 - 2 q_26 q_85 - 2 q_26 q_86 - 2 q_26 q_87 - 2 q_26 q_88 - 2 q_26 q_89 - 2 q_26 q_90 - 2 q_26 q_91 - 2 q_26 q_92 - 2 q_26 q_93 - 2 q_26 q_94 - 2 q_26 q_95 - 2 q_26 q_96 - 2 q_26 q_97 - 2 q_26 q_98 - 2 q_26 q_99 - 2 q_26 q_100 - 2 q_26 q_101 - 2 q_26 q_102 - 2 q_26 q_103 - 2 q_26 q_104 - 2 q_26 q_105 - 2 q_26 q_106 - 2 q_26 q_107 - 2 q_26 q_108 - 2 q_26 q_109 - 2 q_26 q_110 - 2 q_26 q_111 - 2 q_26 q_112 - 2 q_26 q_113 - 2 q_26 q_114 - 2 q_26 q_115 - 2 q_26 q_116 - 2 q_26 q_117 - 2 q_26 q_118 - 2 q_26 q_119 + 6 q_27 q_28 + 6 q_27 q_29 - 2 q_27 q_30 - 2 q_27 q_31 - 2 q_27 q_32 - 2 q_27 q_33 - 2 q_27 q_34 - 2 q_27 q_35 - 2 q_27 q_36 - 2 q_27 q_37 - 2 q_27 q_38 - 2 q_27 q_39 - 2 q_27 q_40 - 2 q_27 q_41 - 2 q_27 q_42 - 2 q_27 q_43 - 2 q_27 q_44 - 2 q_27 q_45 - 2 q_27 q_46 - 2 q_27 q_47 - 2 q_27 q_48 - 2 q_27 q_49 - 2 q_27 q_50 - 2 q_27 q_51 - 2 q_27 q_52 - 2 q_27 q_53 - 2 q_27 q_54 - 2 q_27 q_55 - 2 q_27 q_56 - 2 q_27 q_57 - 2 q_27 q_58 - 2 q_27 q_59 - 2 q_27 q_60 - 2 q_27 q_61 - 2 q_27 q_62 - 2 q_27 q_63 - 2 q_27 q_64 - 2 q_27 q_65 - 2 q_27 q_66 - 2 q_27 q_67 - 2 q_27 q_68 - 2 q_27 q_69 - 2 q_27 q_70 - 2 q_27 q_71 - 2 q_27 q_72 - 2 q_27 q_73 - 2 q_27 q_74 - 2 q_27 q_75 - 2 q_27 q_76 - 2 q_27 q_77 - 2 q_27 q_78 - 2 q_27 q_79 - 2 q_27 q_80 - 2 q_27 q_81 - 2 q_27 q_82 - 2 q_27 q_83 - 2 q_27 q_84 - 2 q_27 q_85 - 2 q_27 q_86 - 2 q_27 q_87 - 2 q_27 q_88 - 2 q_27 q_89 - 2 q_27 q_90 - 2 q_27 q_91 - 2 q_27 q_92 - 2 q_27 q_93 - 2 q_27 q_94 - 2 q_27 q_95 - 2 q_27 q_96 - 2 q_27 q_97 - 2 q_27 q_98 - 2 q_27 q_99 - 2 q_27 q_100 - 2 q_27 q_101 - 2 q_27 q_102 - 2 q_27 q_103 - 2 q_27 q_104 - 2 q_27 q_105 - 2 q_27 q_106 - 2 q_27 q_107 - 2 q_27 q_108 - 2 q_27 q_109 - 2 q_27 q_110 - 2 q_27 q_111 - 2 q_27 q_112 - 2 q_27 q_113 - 2 q_27 q_114 - 2 q_27 q_115 - 2 q_27 q_116 - 2 q_27 q_117 - 2 q_27 q_118 - 2 q_27 q_119 + 6 q_28 q_29 - 2 q_28 q_30 - 2 q_28 q_31 - 2 q_28 q_32 - 2 q_28 q_33 - 2 q_28 q_34 - 2 q_28 q_35 - 2 q_28 q_36 - 2 q_28 q_37 - 2 q_28 q_38 - 2 q_28 q_39 - 2 q_28 q_40 - 2 q_28 q_41 - 2 q_28 q_42 - 2 q_28 q_43 - 2 q_28 q_44 - 2 q_28 q_45 - 2 q_28 q_46 - 2 q_28 q_47 - 2 q_28 q_48 - 2 q_28 q_49 - 2 q_28 q_50 - 2 q_28 q_51 - 2 q_28 q_52 - 2 q_28 q_53 - 2 q_28 q_54 - 2 q_28 q_55 - 2 q_28 q_56 - 2 q_28 q_57 - 2 q_28 q_58 - 2 q_28 q_59 - 2 q_28 q_60 - 2 q_28 q_61 - 2 q_28 q_62 - 2 q_28 q_63 - 2 q_28 q_64 - 2 q_28 q_65 - 2 q_28 q_66 - 2 q_28 q_67 - 2 q_28 q_68 - 2 q_28 q_69 - 2 q_28 q_70 - 2 q_28 q_71 - 2 q_28 q_72 - 2 q_28 q_73 - 2 q_28 q_74 - 2 q_28 q_75 - 2 q_28 q_76 - 2 q_28 q_77 - 2 q_28 q_78 - 2 q_28 q_79 - 2 q_28 q_80 - 2 q_28 q_81 - 2 q_28 q_82 - 2 q_28 q_83 - 2 q_28 q_84 - 2 q_28 q_85 - 2 q_28 q_86 - 2 q_28 q_87 - 2 q_28 q_88 - 2 q_28 q_89 - 2 q_28 q_90 - 2 q_28 q_91 - 2 q_28 q_92 - 2 q_28 q_93 - 2 q_28 q_94 - 2 q_28 q_95 - 2 q_28 q_96 - 2 q_28 q_97 - 2 q_28 q_98 - 2 q_28 q_99 - 2 q_28 q_100 - 2 q_28 q_101 - 2 q_28 q_102 - 2 q_28 q_103 - 2 q_28 q_104 - 2 q_28 q_105 - 2 q_28 q_106 - 2 q_28 q_107 - 2 q_28 q_108 - 2 q_28 q_109 - 2 q_28 q_110 - 2 q_28 q_111 - 2 q_28 q_112 - 2 q_28 q_113 - 2 q_28 q_114 - 2 q_28 q_115 - 2 q_28 q_116 - 2 q_28 q_117 - 2 q_28 q_118 - 2 q_28 q_119 - 2 q_29 q_30 - 2 q_29 q_31 - 2 q_29 q_32 - 2 q_29 q_33 - 2 q_29 q_34 - 2 q_29 q_35 - 2 q_29 q_36 - 2 q_29 q_37 - 2 q_29 q_38 - 2 q_29 q_39 - 2 q_29 q_40 - 2 q_29 q_41 - 2 q_29 q_42 - 2 q_29 q_43 - 2 q_29 q_44 - 2 q_29 q_45 - 2 q_29 q_46 - 2 q_29 q_47 - 2 q_29 q_48 - 2 q_29 q_49 - 2 q_29 q_50 - 2 q_29 q_51 - 2 q_29 q_52 - 2 q_29 q_53 - 2 q_29 q_54 - 2 q_29 q_55 - 2 q_29 q_56 - 2 q_29 q_57 - 2 q_29 q_58 - 2 q_29 q_59 - 2 q_29 q_60 - 2 q_29 q_61 - 2 q_29 q_62 - 2 q_29 q_63 - 2 q_29 q_64 - 2 q_29 q_65 - 2 q_29 q_66 - 2 q_29 q_67 - 2 q_29 q_68 - 2 q_29 q_69 - 2 q_29 q_70 - 2 q_29 q_71 - 2 q_29 q_72 - 2 q_29 q_73 - 2 q_29 q_74 - 2 q_29 q_75 - 2 q_29 q_76 - 2 q_29 q_77 - 2 q_29 q_78 - 2 q_29 q_79 - 2 q_29 q_80 - 2 q_29 q_81 - 2 q_29 q_82 - 2 q_29 q_83 - 2 q_29 q_84 - 2 q_29 q_85 - 2 q_29 q_86 - 2 q_29 q_87 - 2 q_29 q_88 - 2 q_29 q_89 - 2 q_29 q_90 - 2 q_29 q_91 - 2 q_29 q_92 - 2 q_29 q_93 - 2 q_29 q_94 - 2 q_29 q_95 - 2 q_29 q_96 - 2 q_29 q_97 - 2 q_29 q_98 - 2 q_29 q_99 - 2 q_29 q_100 - 2 q_29 q_101 - 2 q_29 q_102 - 2 q_29 q_103 - 2 q_29 q_104 - 2 q_29 q_105 - 2 q_29 q_106 - 2 q_29 q_107 - 2 q_29 q_108 - 2 q_29 q_109 - 2 q_29 q_110 - 2 q_29 q_111 - 2 q_29 q_112 - 2 q_29 q_113 - 2 q_29 q_114 - 2 q_29 q_115 - 2 q_29 q_116 - 2 q_29 q_117 - 2 q_29 q_118 - 2 q_29 q_119 + 6 q_30 q_31 + 6 q_30 q_32 + 6 q_30 q_33 + 6 q_30 q_34 + 6 q_30 q_35 + 6 q_30 q_36 + 6 q_30 q_37 + 6 q_30 q_38 + 6 q_30 q_39 + 6 q_30 q_40 + 6 q_30 q_41 + 6 q_30 q_42 + 6 q_30 q_43 + 6 q_30 q_44 + 6 q_30 q_45 + 6 q_30 q_46 + 6 q_30 q_47 + 6 q_30 q_48 + 6 q_30 q_49 + 6 q_30 q_50 + 6 q_30 q_51 + 6 q_30 q_52 + 6 q_30 q_53 + 6 q_30 q_54 + 6 q_30 q_55 + 6 q_30 q_56 + 6 q_30 q_57 + 6 q_30 q_58 + 6 q_30 q_59 - 2 q_30 q_60 - 2 q_30 q_61 - 2 q_30 q_62 - 2 q_30 q_63 - 2 q_30 q_64 - 2 q_30 q_65 - 2 q_30 q_66 - 2 q_30 q_67 - 2 q_30 q_68 - 2 q_30 q_69 - 2 q_30 q_70 - 2 q_30 q_71 - 2 q_30 q_72 - 2 q_30 q_73 - 2 q_30 q_74 - 2 q_30 q_75 - 2 q_30 q_76 - 2 q_30 q_77 - 2 q_30 q_78 - 2 q_30 q_79 - 2 q_30 q_80 - 2 q_30 q_81 - 2 q_30 q_82 - 2 q_30 q_83 - 2 q_30 q_84 - 2 q_30 q_85 - 2 q_30 q_86 - 2 q_30 q_87 - 2 q_30 q_88 - 2 q_30 q_89 - 2 q_30 q_90 - 2 q_30 q_91 - 2 q_30 q_92 - 2 q_30 q_93 - 2 q_30 q_94 - 2 q_30 q_95 - 2 q_30 q_96 - 2 q_30 q_97 - 2 q_30 q_98 - 2 q_30 q_99 - 2 q_30 q_100 - 2 q_30 q_101 - 2 q_30 q_102 - 2 q_30 q_103 - 2 q_30 q_104 - 2 q_30 q_105 - 2 q_30 q_106 - 2 q_30 q_107 - 2 q_30 q_108 - 2 q_30 q_109 - 2 q_30 q_110 - 2 q_30 q_111 - 2 q_30 q_112 - 2 q_30 q_113 - 2 q_30 q_114 - 2 q_30 q_115 - 2 q_30 q_116 - 2 q_30 q_117 - 2 q_30 q_118 - 2 q_30 q_119 + 6 q_31 q_32 + 6 q_31 q_33 + 6 q_31 q_34 + 6 q_31 q_35 + 6 q_31 q_36 + 6 q_31 q_37 + 6 q_31 q_38 + 6 q_31 q_39 + 6 q_31 q_40 + 6 q_31 q_41 + 6 q_31 q_42 + 6 q_31 q_43 + 6 q_31 q_44 + 6 q_31 q_45 + 6 q_31 q_46 + 6 q_31 q_47 + 6 q_31 q_48 + 6 q_31 q_49 + 6 q_31 q_50 + 6 q_31 q_51 + 6 q_31 q_52 + 6 q_31 q_53 + 6 q_31 q_54 + 6 q_31 q_55 + 6 q_31 q_56 + 6 q_31 q_57 + 6 q_31 q_58 + 6 q_31 q_59 - 2 q_31 q_60 - 2 q_31 q_61 - 2 q_31 q_62 - 2 q_31 q_63 - 2 q_31 q_64 - 2 q_31 q_65 - 2 q_31 q_66 - 2 q_31 q_67 - 2 q_31 q_68 - 2 q_31 q_69 - 2 q_31 q_70 - 2 q_31 q_71 - 2 q_31 q_72 - 2 q_31 q_73 - 2 q_31 q_74 - 2 q_31 q_75 - 2 q_31 q_76 - 2 q_31 q_77 - 2 q_31 q_78 - 2 q_31 q_79 - 2 q_31 q_80 - 2 q_31 q_81 - 2 q_31 q_82 - 2 q_31 q_83 - 2 q_31 q_84 - 2 q_31 q_85 - 2 q_31 q_86 - 2 q_31 q_87 - 2 q_31 q_88 - 2 q_31 q_89 - 2 q_31 q_90 - 2 q_31 q_91 - 2 q_31 q_92 - 2 q_31 q_93 - 2 q_31 q_94 - 2 q_31 q_95 - 2 q_31 q_96 - 2 q_31 q_97 - 2 q_31 q_98 - 2 q_31 q_99 - 2 q_31 q_100 - 2 q_31 q_101 - 2 q_31 q_102 - 2 q_31 q_103 - 2 q_31 q_104 - 2 q_31 q_105 - 2 q_31 q_106 - 2 q_31 q_107 - 2 q_31 q_108 - 2 q_31 q_109 - 2 q_31 q_110 - 2 q_31 q_111 - 2 q_31 q_112 - 2 q_31 q_113 - 2 q_31 q_114 - 2 q_31 q_115 - 2 q_31 q_116 - 2 q_31 q_117 - 2 q_31 q_118 - 2 q_31 q_119 + 6 q_32 q_33 + 6 q_32 q_34 + 6 q_32 q_35 + 6 q_32 q_36 + 6 q_32 q_37 + 6 q_32 q_38 + 6 q_32 q_39 + 6 q_32 q_40 + 6 q_32 q_41 + 6 q_32 q_42 + 6 q_32 q_43 + 6 q_32 q_44 + 6 q_32 q_45 + 6 q_32 q_46 + 6 q_32 q_47 + 6 q_32 q_48 + 6 q_32 q_49 + 6 q_32 q_50 + 6 q_32 q_51 + 6 q_32 q_52 + 6 q_32 q_53 + 6 q_32 q_54 + 6 q_32 q_55 + 6 q_32 q_56 + 6 q_32 q_57 + 6 q_32 q_58 + 6 q_32 q_59 - 2 q_32 q_60 - 2 q_32 q_61 - 2 q_32 q_62 - 2 q_32 q_63 - 2 q_32 q_64 - 2 q_32 q_65 - 2 q_32 q_66 - 2 q_32 q_67 - 2 q_32 q_68 - 2 q_32 q_69 - 2 q_32 q_70 - 2 q_32 q_71 - 2 q_32 q_72 - 2 q_32 q_73 - 2 q_32 q_74 - 2 q_32 q_75 - 2 q_32 q_76 - 2 q_32 q_77 - 2 q_32 q_78 - 2 q_32 q_79 - 2 q_32 q_80 - 2 q_32 q_81 - 2 q_32 q_82 - 2 q_32 q_83 - 2 q_32 q_84 - 2 q_32 q_85 - 2 q_32 q_86 - 2 q_32 q_87 - 2 q_32 q_88 - 2 q_32 q_89 - 2 q_32 q_90 - 2 q_32 q_91 - 2 q_32 q_92 - 2 q_32 q_93 - 2 q_32 q_94 - 2 q_32 q_95 - 2 q_32 q_96 - 2 q_32 q_97 - 2 q_32 q_98 - 2 q_32 q_99 - 2 q_32 q_100 - 2 q_32 q_101 - 2 q_32 q_102 - 2 q_32 q_103 - 2 q_32 q_104 - 2 q_32 q_105 - 2 q_32 q_106 - 2 q_32 q_107 - 2 q_32 q_108 - 2 q_32 q_109 - 2 q_32 q_110 - 2 q_32 q_111 - 2 q_32 q_112 - 2 q_32 q_113 - 2 q_32 q_114 - 2 q_32 q_115 - 2 q_32 q_116 - 2 q_32 q_117 - 2 q_32 q_118 - 2 q_32 q_119 + 6 q_33 q_34 + 6 q_33 q_35 + 6 q_33 q_36 + 6 q_33 q_37 + 6 q_33 q_38 + 6 q_33 q_39 + 6 q_33 q_40 + 6 q_33 q_41 + 6 q_33 q_42 + 6 q_33 q_43 + 6 q_33 q_44 + 6 q_33 q_45 + 6 q_33 q_46 + 6 q_33 q_47 + 6 q_33 q_48 + 6 q_33 q_49 + 6 q_33 q_50 + 6 q_33 q_51 + 6 q_33 q_52 + 6 q_33 q_53 + 6 q_33 q_54 + 6 q_33 q_55 + 6 q_33 q_56 + 6 q_33 q_57 + 6 q_33 q_58 + 6 q_33 q_59 - 2 q_33 q_60 - 2 q_33 q_61 - 2 q_33 q_62 - 2 q_33 q_63 - 2 q_33 q_64 - 2 q_33 q_65 - 2 q_33 q_66 - 2 q_33 q_67 - 2 q_33 q_68 - 2 q_33 q_69 - 2 q_33 q_70 - 2 q_33 q_71 - 2 q_33 q_72 - 2 q_33 q_73 - 2 q_33 q_74 - 2 q_33 q_75 - 2 q_33 q_76 - 2 q_33 q_77 - 2 q_33 q_78 - 2 q_33 q_79 - 2 q_33 q_80 - 2 q_33 q_81 - 2 q_33 q_82 - 2 q_33 q_83 - 2 q_33 q_84 - 2 q_33 q_85 - 2 q_33 q_86 - 2 q_33 q_87 - 2 q_33 q_88 - 2 q_33 q_89 - 2 q_33 q_90 - 2 q_33 q_91 - 2 q_33 q_92 - 2 q_33 q_93 - 2 q_33 q_94 - 2 q_33 q_95 - 2 q_33 q_96 - 2 q_33 q_97 - 2 q_33 q_98 - 2 q_33 q_99 - 2 q_33 q_100 - 2 q_33 q_101 - 2 q_33 q_102 - 2 q_33 q_103 - 2 q_33 q_104 - 2 q_33 q_105 - 2 q_33 q_106 - 2 q_33 q_107 - 2 q_33 q_108 - 2 q_33 q_109 - 2 q_33 q_110 - 2 q_33 q_111 - 2 q_33 q_112 - 2 q_33 q_113 - 2 q_33 q_114 - 2 q_33 q_115 - 2 q_33 q_116 - 2 q_33 q_117 - 2 q_33 q_118 - 2 q_33 q_119 + 6 q_34 q_35 + 6 q_34 q_36 + 6 q_34 q_37 + 6 q_34 q_38 + 6 q_34 q_39 + 6 q_34 q_40 + 6 q_34 q_41 + 6 q_34 q_42 + 6 q_34 q_43 + 6 q_34 q_44 + 6 q_34 q_45 + 6 q_34 q_46 + 6 q_34 q_47 + 6 q_34 q_48 + 6 q_34 q_49 + 6 q_34 q_50 + 6 q_34 q_51 + 6 q_34 q_52 + 6 q_34 q_53 + 6 q_34 q_54 + 6 q_34 q_55 + 6 q_34 q_56 + 6 q_34 q_57 + 6 q_34 q_58 + 6 q_34 q_59 - 2 q_34 q_60 - 2 q_34 q_61 - 2 q_34 q_62 - 2 q_34 q_63 - 2 q_34 q_64 - 2 q_34 q_65 - 2 q_34 q_66 - 2 q_34 q_67 - 2 q_34 q_68 - 2 q_34 q_69 - 2 q_34 q_70 - 2 q_34 q_71 - 2 q_34 q_72 - 2 q_34 q_73 - 2 q_34 q_74 - 2 q_34 q_75 - 2 q_34 q_76 - 2 q_34 q_77 - 2 q_34 q_78 - 2 q_34 q_79 - 2 q_34 q_80 - 2 q_34 q_81 - 2 q_34 q_82 - 2 q_34 q_83 - 2 q_34 q_84 - 2 q_34 q_85 - 2 q_34 q_86 - 2 q_34 q_87 - 2 q_34 q_88 - 2 q_34 q_89 - 2 q_34 q_90 - 2 q_34 q_91 - 2 q_34 q_92 - 2 q_34 q_93 - 2 q_34 q_94 - 2 q_34 q_95 - 2 q_34 q_96 - 2 q_34 q_97 - 2 q_34 q_98 - 2 q_34 q_99 - 2 q_34 q_100 - 2 q_34 q_101 - 2 q_34 q_102 - 2 q_34 q_103 - 2 q_34 q_104 - 2 q_34 q_105 - 2 q_34 q_106 - 2 q_34 q_107 - 2 q_34 q_108 - 2 q_34 q_109 - 2 q_34 q_110 - 2 q_34 q_111 - 2 q_34 q_112 - 2 q_34 q_113 - 2 q_34 q_114 - 2 q_34 q_115 - 2 q_34 q_116 - 2 q_34 q_117 - 2 q_34 q_118 - 2 q_34 q_119 + 6 q_35 q_36 + 6 q_35 q_37 + 6 q_35 q_38 + 6 q_35 q_39 + 6 q_35 q_40 + 6 q_35 q_41 + 6 q_35 q_42 + 6 q_35 q_43 + 6 q_35 q_44 + 6 q_35 q_45 + 6 q_35 q_46 + 6 q_35 q_47 + 6 q_35 q_48 + 6 q_35 q_49 + 6 q_35 q_50 + 6 q_35 q_51 + 6 q_35 q_52 + 6 q_35 q_53 + 6 q_35 q_54 + 6 q_35 q_55 + 6 q_35 q_56 + 6 q_35 q_57 + 6 q_35 q_58 + 6 q_35 q_59 - 2 q_35 q_60 - 2 q_35 q_61 - 2 q_35 q_62 - 2 q_35 q_63 - 2 q_35 q_64 - 2 q_35 q_65 - 2 q_35 q_66 - 2 q_35 q_67 - 2 q_35 q_68 - 2 q_35 q_69 - 2 q_35 q_70 - 2 q_35 q_71 - 2 q_35 q_72 - 2 q_35 q_73 - 2 q_35 q_74 - 2 q_35 q_75 - 2 q_35 q_76 - 2 q_35 q_77 - 2 q_35 q_78 - 2 q_35 q_79 - 2 q_35 q_80 - 2 q_35 q_81 - 2 q_35 q_82 - 2 q_35 q_83 - 2 q_35 q_84 - 2 q_35 q_85 - 2 q_35 q_86 - 2 q_35 q_87 - 2 q_35 q_88 - 2 q_35 q_89 - 2 q_35 q_90 - 2 q_35 q_91 - 2 q_35 q_92 - 2 q_35 q_93 - 2 q_35 q_94 - 2 q_35 q_95 - 2 q_35 q_96 - 2 q_35 q_97 - 2 q_35 q_98 - 2 q_35 q_99 - 2 q_35 q_100 - 2 q_35 q_101 - 2 q_35 q_102 - 2 q_35 q_103 - 2 q_35 q_104 - 2 q_35 q_105 - 2 q_35 q_106 - 2 q_35 q_107 - 2 q_35 q_108 - 2 q_35 q_109 - 2 q_35 q_110 - 2 q_35 q_111 - 2 q_35 q_112 - 2 q_35 q_113 - 2 q_35 q_114 - 2 q_35 q_115 - 2 q_35 q_116 - 2 q_35 q_117 - 2 q_35 q_118 - 2 q_35 q_119 + 6 q_36 q_37 + 6 q_36 q_38 + 6 q_36 q_39 + 6 q_36 q_40 + 6 q_36 q_41 + 6 q_36 q_42 + 6 q_36 q_43 + 6 q_36 q_44 + 6 q_36 q_45 + 6 q_36 q_46 + 6 q_36 q_47 + 6 q_36 q_48 + 6 q_36 q_49 + 6 q_36 q_50 + 6 q_36 q_51 + 6 q_36 q_52 + 6 q_36 q_53 + 6 q_36 q_54 + 6 q_36 q_55 + 6 q_36 q_56 + 6 q_36 q_57 + 6 q_36 q_58 + 6 q_36 q_59 - 2 q_36 q_60 - 2 q_36 q_61 - 2 q_36 q_62 - 2 q_36 q_63 - 2 q_36 q_64 - 2 q_36 q_65 - 2 q_36 q_66 - 2 q_36 q_67 - 2 q_36 q_68 - 2 q_36 q_69 - 2 q_36 q_70 - 2 q_36 q_71 - 2 q_36 q_72 - 2 q_36 q_73 - 2 q_36 q_74 - 2 q_36 q_75 - 2 q_36 q_76 - 2 q_36 q_77 - 2 q_36 q_78 - 2 q_36 q_79 - 2 q_36 q_80 - 2 q_36 q_81 - 2 q_36 q_82 - 2 q_36 q_83 - 2 q_36 q_84 - 2 q_36 q_85 - 2 q_36 q_86 - 2 q_36 q_87 - 2 q_36 q_88 - 2 q_36 q_89 - 2 q_36 q_90 - 2 q_36 q_91 - 2 q_36 q_92 - 2 q_36 q_93 - 2 q_36 q_94 - 2 q_36 q_95 - 2 q_36 q_96 - 2 q_36 q_97 - 2 q_36 q_98 - 2 q_36 q_99 - 2 q_36 q_100 - 2 q_36 q_101 - 2 q_36 q_102 - 2 q_36 q_103 - 2 q_36 q_104 - 2 q_36 q_105 - 2 q_36 q_106 - 2 q_36 q_107 - 2 q_36 q_108 - 2 q_36 q_109 - 2 q_36 q_110 - 2 q_36 q_111 - 2 q_36 q_112 - 2 q_36 q_113 - 2 q_36 q_114 - 2 q_36 q_115 - 2 q_36 q_116 - 2 q_36 q_117 - 2 q_36 q_118 - 2 q_36 q_119 + 6 q_37 q_38 + 6 q_37 q_39 + 6 q_37 q_40 + 6 q_37 q_41 + 6 q_37 q_42 + 6 q_37 q_43 + 6 q_37 q_44 + 6 q_37 q_45 + 6 q_37 q_46 + 6 q_37 q_47 + 6 q_37 q_48 + 6 q_37 q_49 + 6 q_37 q_50 + 6 q_37 q_51 + 6 q_37 q_52 + 6 q_37 q_53 + 6 q_37 q_54 + 6 q_37 q_55 + 6 q_37 q_56 + 6 q_37 q_57 + 6 q_37 q_58 + 6 q_37 q_59 - 2 q_37 q_60 - 2 q_37 q_61 - 2 q_37 q_62 - 2 q_37 q_63 - 2 q_37 q_64 - 2 q_37 q_65 - 2 q_37 q_66 - 2 q_37 q_67 - 2 q_37 q_68 - 2 q_37 q_69 - 2 q_37 q_70 - 2 q_37 q_71 - 2 q_37 q_72 - 2 q_37 q_73 - 2 q_37 q_74 - 2 q_37 q_75 - 2 q_37 q_76 - 2 q_37 q_77 - 2 q_37 q_78 - 2 q_37 q_79 - 2 q_37 q_80 - 2 q_37 q_81 - 2 q_37 q_82 - 2 q_37 q_83 - 2 q_37 q_84 - 2 q_37 q_85 - 2 q_37 q_86 - 2 q_37 q_87 - 2 q_37 q_88 - 2 q_37 q_89 - 2 q_37 q_90 - 2 q_37 q_91 - 2 q_37 q_92 - 2 q_37 q_93 - 2 q_37 q_94 - 2 q_37 q_95 - 2 q_37 q_96 - 2 q_37 q_97 - 2 q_37 q_98 - 2 q_37 q_99 - 2 q_37 q_100 - 2 q_37 q_101 - 2 q_37 q_102 - 2 q_37 q_103 - 2 q_37 q_104 - 2 q_37 q_105 - 2 q_37 q_106 - 2 q_37 q_107 - 2 q_37 q_108 - 2 q_37 q_109 - 2 q_37 q_110 - 2 q_37 q_111 - 2 q_37 q_112 - 2 q_37 q_113 - 2 q_37 q_114 - 2 q_37 q_115 - 2 q_37 q_116 - 2 q_37 q_117 - 2 q_37 q_118 - 2 q_37 q_119 + 6 q_38 q_39 + 6 q_38 q_40 + 6 q_38 q_41 + 6 q_38 q_42 + 6 q_38 q_43 + 6 q_38 q_44 + 6 q_38 q_45 + 6 q_38 q_46 + 6 q_38 q_47 + 6 q_38 q_48 + 6 q_38 q_49 + 6 q_38 q_50 + 6 q_38 q_51 + 6 q_38 q_52 + 6 q_38 q_53 + 6 q_38 q_54 + 6 q_38 q_55 + 6 q_38 q_56 + 6 q_38 q_57 + 6 q_38 q_58 + 6 q_38 q_59 - 2 q_38 q_60 - 2 q_38 q_61 - 2 q_38 q_62 - 2 q_38 q_63 - 2 q_38 q_64 - 2 q_38 q_65 - 2 q_38 q_66 - 2 q_38 q_67 - 2 q_38 q_68 - 2 q_38 q_69 - 2 q_38 q_70 - 2 q_38 q_71 - 2 q_38 q_72 - 2 q_38 q_73 - 2 q_38 q_74 - 2 q_38 q_75 - 2 q_38 q_76 - 2 q_38 q_77 - 2 q_38 q_78 - 2 q_38 q_79 - 2 q_38 q_80 - 2 q_38 q_81 - 2 q_38 q_82 - 2 q_38 q_83 - 2 q_38 q_84 - 2 q_38 q_85 - 2 q_38 q_86 - 2 q_38 q_87 - 2 q_38 q_88 - 2 q_38 q_89 - 2 q_38 q_90 - 2 q_38 q_91 - 2 q_38 q_92 - 2 q_38 q_93 - 2 q_38 q_94 - 2 q_38 q_95 - 2 q_38 q_96 - 2 q_38 q_97 - 2 q_38 q_98 - 2 q_38 q_99 - 2 q_38 q_100 - 2 q_38 q_101 - 2 q_38 q_102 - 2 q_38 q_103 - 2 q_38 q_104 - 2 q_38 q_105 - 2 q_38 q_106 - 2 q_38 q_107 - 2 q_38 q_108 - 2 q_38 q_109 - 2 q_38 q_110 - 2 q_38 q_111 - 2 q_38 q_112 - 2 q_38 q_113 - 2 q_38 q_114 - 2 q_38 q_115 - 2 q_38 q_116 - 2 q_38 q_117 - 2 q_38 q_118 - 2 q_38 q_119 + 6 q_39 q_40 + 6 q_39 q_41 + 6 q_39 q_42 + 6 q_39 q_43 + 6 q_39 q_44 + 6 q_39 q_45 + 6 q_39 q_46 + 6 q_39 q_47 + 6 q_39 q_48 + 6 q_39 q_49 + 6 q_39 q_50 + 6 q_39 q_51 + 6 q_39 q_52 + 6 q_39 q_53 + 6 q_39 q_54 + 6 q_39 q_55 + 6 q_39 q_56 + 6 q_39 q_57 + 6 q_39 q_58 + 6 q_39 q_59 - 2 q_39 q_60 - 2 q_39 q_61 - 2 q_39 q_62 - 2 q_39 q_63 - 2 q_39 q_64 - 2 q_39 q_65 - 2 q_39 q_66 - 2 q_39 q_67 - 2 q_39 q_68 - 2 q_39 q_69 - 2 q_39 q_70 - 2 q_39 q_71 - 2 q_39 q_72 - 2 q_39 q_73 - 2 q_39 q_74 - 2 q_39 q_75 - 2 q_39 q_76 - 2 q_39 q_77 - 2 q_39 q_78 - 2 q_39 q_79 - 2 q_39 q_80 - 2 q_39 q_81 - 2 q_39 q_82 - 2 q_39 q_83 - 2 q_39 q_84 - 2 q_39 q_85 - 2 q_39 q_86 - 2 q_39 q_87 - 2 q_39 q_88 - 2 q_39 q_89 - 2 q_39 q_90 - 2 q_39 q_91 - 2 q_39 q_92 - 2 q_39 q_93 - 2 q_39 q_94 - 2 q_39 q_95 - 2 q_39 q_96 - 2 q_39 q_97 - 2 q_39 q_98 - 2 q_39 q_99 - 2 q_39 q_100 - 2 q_39 q_101 - 2 q_39 q_102 - 2 q_39 q_103 - 2 q_39 q_104 - 2 q_39 q_105 - 2 q_39 q_106 - 2 q_39 q_107 - 2 q_39 q_108 - 2 q_39 q_109 - 2 q_39 q_110 - 2 q_39 q_111 - 2 q_39 q_112 - 2 q_39 q_113 - 2 q_39 q_114 - 2 q_39 q_115 - 2 q_39 q_116 - 2 q_39 q_117 - 2 q_39 q_118 - 2 q_39 q_119 + 6 q_40 q_41 + 6 q_40 q_42 + 6 q_40 q_43 + 6 q_40 q_44 + 6 q_40 q_45 + 6 q_40 q_46 + 6 q_40 q_47 + 6 q_40 q_48 + 6 q_40 q_49 + 6 q_40 q_50 + 6 q_40 q_51 + 6 q_40 q_52 + 6 q_40 q_53 + 6 q_40 q_54 + 6 q_40 q_55 + 6 q_40 q_56 + 6 q_40 q_57 + 6 q_40 q_58 + 6 q_40 q_59 - 2 q_40 q_60 - 2 q_40 q_61 - 2 q_40 q_62 - 2 q_40 q_63 - 2 q_40 q_64 - 2 q_40 q_65 - 2 q_40 q_66 - 2 q_40 q_67 - 2 q_40 q_68 - 2 q_40 q_69 - 2 q_40 q_70 - 2 q_40 q_71 - 2 q_40 q_72 - 2 q_40 q_73 - 2 q_40 q_74 - 2 q_40 q_75 - 2 q_40 q_76 - 2 q_40 q_77 - 2 q_40 q_78 - 2 q_40 q_79 - 2 q_40 q_80 - 2 q_40 q_81 - 2 q_40 q_82 - 2 q_40 q_83 - 2 q_40 q_84 - 2 q_40 q_85 - 2 q_40 q_86 - 2 q_40 q_87 - 2 q_40 q_88 - 2 q_40 q_89 - 2 q_40 q_90 - 2 q_40 q_91 - 2 q_40 q_92 - 2 q_40 q_93 - 2 q_40 q_94 - 2 q_40 q_95 - 2 q_40 q_96 - 2 q_40 q_97 - 2 q_40 q_98 - 2 q_40 q_99 - 2 q_40 q_100 - 2 q_40 q_101 - 2 q_40 q_102 - 2 q_40 q_103 - 2 q_40 q_104 - 2 q_40 q_105 - 2 q_40 q_106 - 2 q_40 q_107 - 2 q_40 q_108 - 2 q_40 q_109 - 2 q_40 q_110 - 2 q_40 q_111 - 2 q_40 q_112 - 2 q_40 q_113 - 2 q_40 q_114 - 2 q_40 q_115 - 2 q_40 q_116 - 2 q_40 q_117 - 2 q_40 q_118 - 2 q_40 q_119 + 6 q_41 q_42 + 6 q_41 q_43 + 6 q_41 q_44 + 6 q_41 q_45 + 6 q_41 q_46 + 6 q_41 q_47 + 6 q_41 q_48 + 6 q_41 q_49 + 6 q_41 q_50 + 6 q_41 q_51 + 6 q_41 q_52 + 6 q_41 q_53 + 6 q_41 q_54 + 6 q_41 q_55 + 6 q_41 q_56 + 6 q_41 q_57 + 6 q_41 q_58 + 6 q_41 q_59 - 2 q_41 q_60 - 2 q_41 q_61 - 2 q_41 q_62 - 2 q_41 q_63 - 2 q_41 q_64 - 2 q_41 q_65 - 2 q_41 q_66 - 2 q_41 q_67 - 2 q_41 q_68 - 2 q_41 q_69 - 2 q_41 q_70 - 2 q_41 q_71 - 2 q_41 q_72 - 2 q_41 q_73 - 2 q_41 q_74 - 2 q_41 q_75 - 2 q_41 q_76 - 2 q_41 q_77 - 2 q_41 q_78 - 2 q_41 q_79 - 2 q_41 q_80 - 2 q_41 q_81 - 2 q_41 q_82 - 2 q_41 q_83 - 2 q_41 q_84 - 2 q_41 q_85 - 2 q_41 q_86 - 2 q_41 q_87 - 2 q_41 q_88 - 2 q_41 q_89 - 2 q_41 q_90 - 2 q_41 q_91 - 2 q_41 q_92 - 2 q_41 q_93 - 2 q_41 q_94 - 2 q_41 q_95 - 2 q_41 q_96 - 2 q_41 q_97 - 2 q_41 q_98 - 2 q_41 q_99 - 2 q_41 q_100 - 2 q_41 q_101 - 2 q_41 q_102 - 2 q_41 q_103 - 2 q_41 q_104 - 2 q_41 q_105 - 2 q_41 q_106 - 2 q_41 q_107 - 2 q_41 q_108 - 2 q_41 q_109 - 2 q_41 q_110 - 2 q_41 q_111 - 2 q_41 q_112 - 2 q_41 q_113 - 2 q_41 q_114 - 2 q_41 q_115 - 2 q_41 q_116 - 2 q_41 q_117 - 2 q_41 q_118 - 2 q_41 q_119 + 6 q_42 q_43 + 6 q_42 q_44 + 6 q_42 q_45 + 6 q_42 q_46 + 6 q_42 q_47 + 6 q_42 q_48 + 6 q_42 q_49 + 6 q_42 q_50 + 6 q_42 q_51 + 6 q_42 q_52 + 6 q_42 q_53 + 6 q_42 q_54 + 6 q_42 q_55 + 6 q_42 q_56 + 6 q_42 q_57 + 6 q_42 q_58 + 6 q_42 q_59 - 2 q_42 q_60 - 2 q_42 q_61 - 2 q_42 q_62 - 2 q_42 q_63 - 2 q_42 q_64 - 2 q_42 q_65 - 2 q_42 q_66 - 2 q_42 q_67 - 2 q_42 q_68 - 2 q_42 q_69 - 2 q_42 q_70 - 2 q_42 q_71 - 2 q_42 q_72 - 2 q_42 q_73 - 2 q_42 q_74 - 2 q_42 q_75 - 2 q_42 q_76 - 2 q_42 q_77 - 2 q_42 q_78 - 2 q_42 q_79 - 2 q_42 q_80 - 2 q_42 q_81 - 2 q_42 q_82 - 2 q_42 q_83 - 2 q_42 q_84 - 2 q_42 q_85 - 2 q_42 q_86 - 2 q_42 q_87 - 2 q_42 q_88 - 2 q_42 q_89 - 2 q_42 q_90 - 2 q_42 q_91 - 2 q_42 q_92 - 2 q_42 q_93 - 2 q_42 q_94 - 2 q_42 q_95 - 2 q_42 q_96 - 2 q_42 q_97 - 2 q_42 q_98 - 2 q_42 q_99 - 2 q_42 q_100 - 2 q_42 q_101 - 2 q_42 q_102 - 2 q_42 q_103 - 2 q_42 q_104 - 2 q_42 q_105 - 2 q_42 q_106 - 2 q_42 q_107 - 2 q_42 q_108 - 2 q_42 q_109 - 2 q_42 q_110 - 2 q_42 q_111 - 2 q_42 q_112 - 2 q_42 q_113 - 2 q_42 q_114 - 2 q_42 q_115 - 2 q_42 q_116 - 2 q_42 q_117 - 2 q_42 q_118 - 2 q_42 q_119 + 6 q_43 q_44 + 6 q_43 q_45 + 6 q_43 q_46 + 6 q_43 q_47 + 6 q_43 q_48 + 6 q_43 q_49 + 6 q_43 q_50 + 6 q_43 q_51 + 6 q_43 q_52 + 6 q_43 q_53 + 6 q_43 q_54 + 6 q_43 q_55 + 6 q_43 q_56 + 6 q_43 q_57 + 6 q_43 q_58 + 6 q_43 q_59 - 2 q_43 q_60 - 2 q_43 q_61 - 2 q_43 q_62 - 2 q_43 q_63 - 2 q_43 q_64 - 2 q_43 q_65 - 2 q_43 q_66 - 2 q_43 q_67 - 2 q_43 q_68 - 2 q_43 q_69 - 2 q_43 q_70 - 2 q_43 q_71 - 2 q_43 q_72 - 2 q_43 q_73 - 2 q_43 q_74 - 2 q_43 q_75 - 2 q_43 q_76 - 2 q_43 q_77 - 2 q_43 q_78 - 2 q_43 q_79 - 2 q_43 q_80 - 2 q_43 q_81 - 2 q_43 q_82 - 2 q_43 q_83 - 2 q_43 q_84 - 2 q_43 q_85 - 2 q_43 q_86 - 2 q_43 q_87 - 2 q_43 q_88 - 2 q_43 q_89 - 2 q_43 q_90 - 2 q_43 q_91 - 2 q_43 q_92 - 2 q_43 q_93 - 2 q_43 q_94 - 2 q_43 q_95 - 2 q_43 q_96 - 2 q_43 q_97 - 2 q_43 q_98 - 2 q_43 q_99 - 2 q_43 q_100 - 2 q_43 q_101 - 2 q_43 q_102 - 2 q_43 q_103 - 2 q_43 q_104 - 2 q_43 q_105 - 2 q_43 q_106 - 2 q_43 q_107 - 2 q_43 q_108 - 2 q_43 q_109 - 2 q_43 q_110 - 2 q_43 q_111 - 2 q_43 q_112 - 2 q_43 q_113 - 2 q_43 q_114 - 2 q_43 q_115 - 2 q_43 q_116 - 2 q_43 q_117 - 2 q_43 q_118 - 2 q_43 q_119 + 6 q_44 q_45 + 6 q_44 q_46 + 6 q_44 q_47 + 6 q_44 q_48 + 6 q_44 q_49 + 6 q_44 q_50 + 6 q_44 q_51 + 6 q_44 q_52 + 6 q_44 q_53 + 6 q_44 q_54 + 6 q_44 q_55 + 6 q_44 q_56 + 6 q_44 q_57 + 6 q_44 q_58 + 6 q_44 q_59 - 2 q_44 q_60 - 2 q_44 q_61 - 2 q_44 q_62 - 2 q_44 q_63 - 2 q_44 q_64 - 2 q_44 q_65 - 2 q_44 q_66 - 2 q_44 q_67 - 2 q_44 q_68 - 2 q_44 q_69 - 2 q_44 q_70 - 2 q_44 q_71 - 2 q_44 q_72 - 2 q_44 q_73 - 2 q_44 q_74 - 2 q_44 q_75 - 2 q_44 q_76 - 2 q_44 q_77 - 2 q_44 q_78 - 2 q_44 q_79 - 2 q_44 q_80 - 2 q_44 q_81 - 2 q_44 q_82 - 2 q_44 q_83 - 2 q_44 q_84 - 2 q_44 q_85 - 2 q_44 q_86 - 2 q_44 q_87 - 2 q_44 q_88 - 2 q_44 q_89 - 2 q_44 q_90 - 2 q_44 q_91 - 2 q_44 q_92 - 2 q_44 q_93 - 2 q_44 q_94 - 2 q_44 q_95 - 2 q_44 q_96 - 2 q_44 q_97 - 2 q_44 q_98 - 2 q_44 q_99 - 2 q_44 q_100 - 2 q_44 q_101 - 2 q_44 q_102 - 2 q_44 q_103 - 2 q_44 q_104 - 2 q_44 q_105 - 2 q_44 q_106 - 2 q_44 q_107 - 2 q_44 q_108 - 2 q_44 q_109 - 2 q_44 q_110 - 2 q_44 q_111 - 2 q_44 q_112 - 2 q_44 q_113 - 2 q_44 q_114 - 2 q_44 q_115 - 2 q_44 q_116 - 2 q_44 q_117 - 2 q_44 q_118 - 2 q_44 q_119 + 6 q_45 q_46 + 6 q_45 q_47 + 6 q_45 q_48 + 6 q_45 q_49 + 6 q_45 q_50 + 6 q_45 q_51 + 6 q_45 q_52 + 6 q_45 q_53 + 6 q_45 q_54 + 6 q_45 q_55 + 6 q_45 q_56 + 6 q_45 q_57 + 6 q_45 q_58 + 6 q_45 q_59 - 2 q_45 q_60 - 2 q_45 q_61 - 2 q_45 q_62 - 2 q_45 q_63 - 2 q_45 q_64 - 2 q_45 q_65 - 2 q_45 q_66 - 2 q_45 q_67 - 2 q_45 q_68 - 2 q_45 q_69 - 2 q_45 q_70 - 2 q_45 q_71 - 2 q_45 q_72 - 2 q_45 q_73 - 2 q_45 q_74 - 2 q_45 q_75 - 2 q_45 q_76 - 2 q_45 q_77 - 2 q_45 q_78 - 2 q_45 q_79 - 2 q_45 q_80 - 2 q_45 q_81 - 2 q_45 q_82 - 2 q_45 q_83 - 2 q_45 q_84 - 2 q_45 q_85 - 2 q_45 q_86 - 2 q_45 q_87 - 2 q_45 q_88 - 2 q_45 q_89 - 2 q_45 q_90 - 2 q_45 q_91 - 2 q_45 q_92 - 2 q_45 q_93 - 2 q_45 q_94 - 2 q_45 q_95 - 2 q_45 q_96 - 2 q_45 q_97 - 2 q_45 q_98 - 2 q_45 q_99 - 2 q_45 q_100 - 2 q_45 q_101 - 2 q_45 q_102 - 2 q_45 q_103 - 2 q_45 q_104 - 2 q_45 q_105 - 2 q_45 q_106 - 2 q_45 q_107 - 2 q_45 q_108 - 2 q_45 q_109 - 2 q_45 q_110 - 2 q_45 q_111 - 2 q_45 q_112 - 2 q_45 q_113 - 2 q_45 q_114 - 2 q_45 q_115 - 2 q_45 q_116 - 2 q_45 q_117 - 2 q_45 q_118 - 2 q_45 q_119 + 6 q_46 q_47 + 6 q_46 q_48 + 6 q_46 q_49 + 6 q_46 q_50 + 6 q_46 q_51 + 6 q_46 q_52 + 6 q_46 q_53 + 6 q_46 q_54 + 6 q_46 q_55 + 6 q_46 q_56 + 6 q_46 q_57 + 6 q_46 q_58 + 6 q_46 q_59 - 2 q_46 q_60 - 2 q_46 q_61 - 2 q_46 q_62 - 2 q_46 q_63 - 2 q_46 q_64 - 2 q_46 q_65 - 2 q_46 q_66 - 2 q_46 q_67 - 2 q_46 q_68 - 2 q_46 q_69 - 2 q_46 q_70 - 2 q_46 q_71 - 2 q_46 q_72 - 2 q_46 q_73 - 2 q_46 q_74 - 2 q_46 q_75 - 2 q_46 q_76 - 2 q_46 q_77 - 2 q_46 q_78 - 2 q_46 q_79 - 2 q_46 q_80 - 2 q_46 q_81 - 2 q_46 q_82 - 2 q_46 q_83 - 2 q_46 q_84 - 2 q_46 q_85 - 2 q_46 q_86 - 2 q_46 q_87 - 2 q_46 q_88 - 2 q_46 q_89 - 2 q_46 q_90 - 2 q_46 q_91 - 2 q_46 q_92 - 2 q_46 q_93 - 2 q_46 q_94 - 2 q_46 q_95 - 2 q_46 q_96 - 2 q_46 q_97 - 2 q_46 q_98 - 2 q_46 q_99 - 2 q_46 q_100 - 2 q_46 q_101 - 2 q_46 q_102 - 2 q_46 q_103 - 2 q_46 q_104 - 2 q_46 q_105 - 2 q_46 q_106 - 2 q_46 q_107 - 2 q_46 q_108 - 2 q_46 q_109 - 2 q_46 q_110 - 2 q_46 q_111 - 2 q_46 q_112 - 2 q_46 q_113 - 2 q_46 q_114 - 2 q_46 q_115 - 2 q_46 q_116 - 2 q_46 q_117 - 2 q_46 q_118 - 2 q_46 q_119 + 6 q_47 q_48 + 6 q_47 q_49 + 6 q_47 q_50 + 6 q_47 q_51 + 6 q_47 q_52 + 6 q_47 q_53 + 6 q_47 q_54 + 6 q_47 q_55 + 6 q_47 q_56 + 6 q_47 q_57 + 6 q_47 q_58 + 6 q_47 q_59 - 2 q_47 q_60 - 2 q_47 q_61 - 2 q_47 q_62 - 2 q_47 q_63 - 2 q_47 q_64 - 2 q_47 q_65 - 2 q_47 q_66 - 2 q_47 q_67 - 2 q_47 q_68 - 2 q_47 q_69 - 2 q_47 q_70 - 2 q_47 q_71 - 2 q_47 q_72 - 2 q_47 q_73 - 2 q_47 q_74 - 2 q_47 q_75 - 2 q_47 q_76 - 2 q_47 q_77 - 2 q_47 q_78 - 2 q_47 q_79 - 2 q_47 q_80 - 2 q_47 q_81 - 2 q_47 q_82 - 2 q_47 q_83 - 2 q_47 q_84 - 2 q_47 q_85 - 2 q_47 q_86 - 2 q_47 q_87 - 2 q_47 q_88 - 2 q_47 q_89 - 2 q_47 q_90 - 2 q_47 q_91 - 2 q_47 q_92 - 2 q_47 q_93 - 2 q_47 q_94 - 2 q_47 q_95 - 2 q_47 q_96 - 2 q_47 q_97 - 2 q_47 q_98 - 2 q_47 q_99 - 2 q_47 q_100 - 2 q_47 q_101 - 2 q_47 q_102 - 2 q_47 q_103 - 2 q_47 q_104 - 2 q_47 q_105 - 2 q_47 q_106 - 2 q_47 q_107 - 2 q_47 q_108 - 2 q_47 q_109 - 2 q_47 q_110 - 2 q_47 q_111 - 2 q_47 q_112 - 2 q_47 q_113 - 2 q_47 q_114 - 2 q_47 q_115 - 2 q_47 q_116 - 2 q_47 q_117 - 2 q_47 q_118 - 2 q_47 q_119 + 6 q_48 q_49 + 6 q_48 q_50 + 6 q_48 q_51 + 6 q_48 q_52 + 6 q_48 q_53 + 6 q_48 q_54 + 6 q_48 q_55 + 6 q_48 q_56 + 6 q_48 q_57 + 6 q_48 q_58 + 6 q_48 q_59 - 2 q_48 q_60 - 2 q_48 q_61 - 2 q_48 q_62 - 2 q_48 q_63 - 2 q_48 q_64 - 2 q_48 q_65 - 2 q_48 q_66 - 2 q_48 q_67 - 2 q_48 q_68 - 2 q_48 q_69 - 2 q_48 q_70 - 2 q_48 q_71 - 2 q_48 q_72 - 2 q_48 q_73 - 2 q_48 q_74 - 2 q_48 q_75 - 2 q_48 q_76 - 2 q_48 q_77 - 2 q_48 q_78 - 2 q_48 q_79 - 2 q_48 q_80 - 2 q_48 q_81 - 2 q_48 q_82 - 2 q_48 q_83 - 2 q_48 q_84 - 2 q_48 q_85 - 2 q_48 q_86 - 2 q_48 q_87 - 2 q_48 q_88 - 2 q_48 q_89 - 2 q_48 q_90 - 2 q_48 q_91 - 2 q_48 q_92 - 2 q_48 q_93 - 2 q_48 q_94 - 2 q_48 q_95 - 2 q_48 q_96 - 2 q_48 q_97 - 2 q_48 q_98 - 2 q_48 q_99 - 2 q_48 q_100 - 2 q_48 q_101 - 2 q_48 q_102 - 2 q_48 q_103 - 2 q_48 q_104 - 2 q_48 q_105 - 2 q_48 q_106 - 2 q_48 q_107 - 2 q_48 q_108 - 2 q_48 q_109 - 2 q_48 q_110 - 2 q_48 q_111 - 2 q_48 q_112 - 2 q_48 q_113 - 2 q_48 q_114 - 2 q_48 q_115 - 2 q_48 q_116 - 2 q_48 q_117 - 2 q_48 q_118 - 2 q_48 q_119 + 6 q_49 q_50 + 6 q_49 q_51 + 6 q_49 q_52 + 6 q_49 q_53 + 6 q_49 q_54 + 6 q_49 q_55 + 6 q_49 q_56 + 6 q_49 q_57 + 6 q_49 q_58 + 6 q_49 q_59 - 2 q_49 q_60 - 2 q_49 q_61 - 2 q_49 q_62 - 2 q_49 q_63 - 2 q_49 q_64 - 2 q_49 q_65 - 2 q_49 q_66 - 2 q_49 q_67 - 2 q_49 q_68 - 2 q_49 q_69 - 2 q_49 q_70 - 2 q_49 q_71 - 2 q_49 q_72 - 2 q_49 q_73 - 2 q_49 q_74 - 2 q_49 q_75 - 2 q_49 q_76 - 2 q_49 q_77 - 2 q_49 q_78 - 2 q_49 q_79 - 2 q_49 q_80 - 2 q_49 q_81 - 2 q_49 q_82 - 2 q_49 q_83 - 2 q_49 q_84 - 2 q_49 q_85 - 2 q_49 q_86 - 2 q_49 q_87 - 2 q_49 q_88 - 2 q_49 q_89 - 2 q_49 q_90 - 2 q_49 q_91 - 2 q_49 q_92 - 2 q_49 q_93 - 2 q_49 q_94 - 2 q_49 q_95 - 2 q_49 q_96 - 2 q_49 q_97 - 2 q_49 q_98 - 2 q_49 q_99 - 2 q_49 q_100 - 2 q_49 q_101 - 2 q_49 q_102 - 2 q_49 q_103 - 2 q_49 q_104 - 2 q_49 q_105 - 2 q_49 q_106 - 2 q_49 q_107 - 2 q_49 q_108 - 2 q_49 q_109 - 2 q_49 q_110 - 2 q_49 q_111 - 2 q_49 q_112 - 2 q_49 q_113 - 2 q_49 q_114 - 2 q_49 q_115 - 2 q_49 q_116 - 2 q_49 q_117 - 2 q_49 q_118 - 2 q_49 q_119 + 6 q_50 q_51 + 6 q_50 q_52 + 6 q_50 q_53 + 6 q_50 q_54 + 6 q_50 q_55 + 6 q_50 q_56 + 6 q_50 q_57 + 6 q_50 q_58 + 6 q_50 q_59 - 2 q_50 q_60 - 2 q_50 q_61 - 2 q_50 q_62 - 2 q_50 q_63 - 2 q_50 q_64 - 2 q_50 q_65 - 2 q_50 q_66 - 2 q_50 q_67 - 2 q_50 q_68 - 2 q_50 q_69 - 2 q_50 q_70 - 2 q_50 q_71 - 2 q_50 q_72 - 2 q_50 q_73 - 2 q_50 q_74 - 2 q_50 q_75 - 2 q_50 q_76 - 2 q_50 q_77 - 2 q_50 q_78 - 2 q_50 q_79 - 2 q_50 q_80 - 2 q_50 q_81 - 2 q_50 q_82 - 2 q_50 q_83 - 2 q_50 q_84 - 2 q_50 q_85 - 2 q_50 q_86 - 2 q_50 q_87 - 2 q_50 q_88 - 2 q_50 q_89 - 2 q_50 q_90 - 2 q_50 q_91 - 2 q_50 q_92 - 2 q_50 q_93 - 2 q_50 q_94 - 2 q_50 q_95 - 2 q_50 q_96 - 2 q_50 q_97 - 2 q_50 q_98 - 2 q_50 q_99 - 2 q_50 q_100 - 2 q_50 q_101 - 2 q_50 q_102 - 2 q_50 q_103 - 2 q_50 q_104 - 2 q_50 q_105 - 2 q_50 q_106 - 2 q_50 q_107 - 2 q_50 q_108 - 2 q_50 q_109 - 2 q_50 q_110 - 2 q_50 q_111 - 2 q_50 q_112 - 2 q_50 q_113 - 2 q_50 q_114 - 2 q_50 q_115 - 2 q_50 q_116 - 2 q_50 q_117 - 2 q_50 q_118 - 2 q_50 q_119 + 6 q_51 q_52 + 6 q_51 q_53 + 6 q_51 q_54 + 6 q_51 q_55 + 6 q_51 q_56 + 6 q_51 q_57 + 6 q_51 q_58 + 6 q_51 q_59 - 2 q_51 q_60 - 2 q_51 q_61 - 2 q_51 q_62 - 2 q_51 q_63 - 2 q_51 q_64 - 2 q_51 q_65 - 2 q_51 q_66 - 2 q_51 q_67 - 2 q_51 q_68 - 2 q_51 q_69 - 2 q_51 q_70 - 2 q_51 q_71 - 2 q_51 q_72 - 2 q_51 q_73 - 2 q_51 q_74 - 2 q_51 q_75 - 2 q_51 q_76 - 2 q_51 q_77 - 2 q_51 q_78 - 2 q_51 q_79 - 2 q_51 q_80 - 2 q_51 q_81 - 2 q_51 q_82 - 2 q_51 q_83 - 2 q_51 q_84 - 2 q_51 q_85 - 2 q_51 q_86 - 2 q_51 q_87 - 2 q_51 q_88 - 2 q_51 q_89 - 2 q_51 q_90 - 2 q_51 q_91 - 2 q_51 q_92 - 2 q_51 q_93 - 2 q_51 q_94 - 2 q_51 q_95 - 2 q_51 q_96 - 2 q_51 q_97 - 2 q_51 q_98 - 2 q_51 q_99 - 2 q_51 q_100 - 2 q_51 q_101 - 2 q_51 q_102 - 2 q_51 q_103 - 2 q_51 q_104 - 2 q_51 q_105 - 2 q_51 q_106 - 2 q_51 q_107 - 2 q_51 q_108 - 2 q_51 q_109 - 2 q_51 q_110 - 2 q_51 q_111 - 2 q_51 q_112 - 2 q_51 q_113 - 2 q_51 q_114 - 2 q_51 q_115 - 2 q_51 q_116 - 2 q_51 q_117 - 2 q_51 q_118 - 2 q_51 q_119 + 6 q_52 q_53 + 6 q_52 q_54 + 6 q_52 q_55 + 6 q_52 q_56 + 6 q_52 q_57 + 6 q_52 q_58 + 6 q_52 q_59 - 2 q_52 q_60 - 2 q_52 q_61 - 2 q_52 q_62 - 2 q_52 q_63 - 2 q_52 q_64 - 2 q_52 q_65 - 2 q_52 q_66 - 2 q_52 q_67 - 2 q_52 q_68 - 2 q_52 q_69 - 2 q_52 q_70 - 2 q_52 q_71 - 2 q_52 q_72 - 2 q_52 q_73 - 2 q_52 q_74 - 2 q_52 q_75 - 2 q_52 q_76 - 2 q_52 q_77 - 2 q_52 q_78 - 2 q_52 q_79 - 2 q_52 q_80 - 2 q_52 q_81 - 2 q_52 q_82 - 2 q_52 q_83 - 2 q_52 q_84 - 2 q_52 q_85 - 2 q_52 q_86 - 2 q_52 q_87 - 2 q_52 q_88 - 2 q_52 q_89 - 2 q_52 q_90 - 2 q_52 q_91 - 2 q_52 q_92 - 2 q_52 q_93 - 2 q_52 q_94 - 2 q_52 q_95 - 2 q_52 q_96 - 2 q_52 q_97 - 2 q_52 q_98 - 2 q_52 q_99 - 2 q_52 q_100 - 2 q_52 q_101 - 2 q_52 q_102 - 2 q_52 q_103 - 2 q_52 q_104 - 2 q_52 q_105 - 2 q_52 q_106 - 2 q_52 q_107 - 2 q_52 q_108 - 2 q_52 q_109 - 2 q_52 q_110 - 2 q_52 q_111 - 2 q_52 q_112 - 2 q_52 q_113 - 2 q_52 q_114 - 2 q_52 q_115 - 2 q_52 q_116 - 2 q_52 q_117 - 2 q_52 q_118 - 2 q_52 q_119 + 6 q_53 q_54 + 6 q_53 q_55 + 6 q_53 q_56 + 6 q_53 q_57 + 6 q_53 q_58 + 6 q_53 q_59 - 2 q_53 q_60 - 2 q_53 q_61 - 2 q_53 q_62 - 2 q_53 q_63 - 2 q_53 q_64 - 2 q_53 q_65 - 2 q_53 q_66 - 2 q_53 q_67 - 2 q_53 q_68 - 2 q_53 q_69 - 2 q_53 q_70 - 2 q_53 q_71 - 2 q_53 q_72 - 2 q_53 q_73 - 2 q_53 q_74 - 2 q_53 q_75 - 2 q_53 q_76 - 2 q_53 q_77 - 2 q_53 q_78 - 2 q_53 q_79 - 2 q_53 q_80 - 2 q_53 q_81 - 2 q_53 q_82 - 2 q_53 q_83 - 2 q_53 q_84 - 2 q_53 q_85 - 2 q_53 q_86 - 2 q_53 q_87 - 2 q_53 q_88 - 2 q_53 q_89 - 2 q_53 q_90 - 2 q_53 q_91 - 2 q_53 q_92 - 2 q_53 q_93 - 2 q_53 q_94 - 2 q_53 q_95 - 2 q_53 q_96 - 2 q_53 q_97 - 2 q_53 q_98 - 2 q_53 q_99 - 2 q_53 q_100 - 2 q_53 q_101 - 2 q_53 q_102 - 2 q_53 q_103 - 2 q_53 q_104 - 2 q_53 q_105 - 2 q_53 q_106 - 2 q_53 q_107 - 2 q_53 q_108 - 2 q_53 q_109 - 2 q_53 q_110 - 2 q_53 q_111 - 2 q_53 q_112 - 2 q_53 q_113 - 2 q_53 q_114 - 2 q_53 q_115 - 2 q_53 q_116 - 2 q_53 q_117 - 2 q_53 q_118 - 2 q_53 q_119 + 6 q_54 q_55 + 6 q_54 q_56 + 6 q_54 q_57 + 6 q_54 q_58 + 6 q_54 q_59 - 2 q_54 q_60 - 2 q_54 q_61 - 2 q_54 q_62 - 2 q_54 q_63 - 2 q_54 q_64 - 2 q_54 q_65 - 2 q_54 q_66 - 2 q_54 q_67 - 2 q_54 q_68 - 2 q_54 q_69 - 2 q_54 q_70 - 2 q_54 q_71 - 2 q_54 q_72 - 2 q_54 q_73 - 2 q_54 q_74 - 2 q_54 q_75 - 2 q_54 q_76 - 2 q_54 q_77 - 2 q_54 q_78 - 2 q_54 q_79 - 2 q_54 q_80 - 2 q_54 q_81 - 2 q_54 q_82 - 2 q_54 q_83 - 2 q_54 q_84 - 2 q_54 q_85 - 2 q_54 q_86 - 2 q_54 q_87 - 2 q_54 q_88 - 2 q_54 q_89 - 2 q_54 q_90 - 2 q_54 q_91 - 2 q_54 q_92 - 2 q_54 q_93 - 2 q_54 q_94 - 2 q_54 q_95 - 2 q_54 q_96 - 2 q_54 q_97 - 2 q_54 q_98 - 2 q_54 q_99 - 2 q_54 q_100 - 2 q_54 q_101 - 2 q_54 q_102 - 2 q_54 q_103 - 2 q_54 q_104 - 2 q_54 q_105 - 2 q_54 q_106 - 2 q_54 q_107 - 2 q_54 q_108 - 2 q_54 q_109 - 2 q_54 q_110 - 2 q_54 q_111 - 2 q_54 q_112 - 2 q_54 q_113 - 2 q_54 q_114 - 2 q_54 q_115 - 2 q_54 q_116 - 2 q_54 q_117 - 2 q_54 q_118 - 2 q_54 q_119 + 6 q_55 q_56 + 6 q_55 q_57 + 6 q_55 q_58 + 6 q_55 q_59 - 2 q_55 q_60 - 2 q_55 q_61 - 2 q_55 q_62 - 2 q_55 q_63 - 2 q_55 q_64 - 2 q_55 q_65 - 2 q_55 q_66 - 2 q_55 q_67 - 2 q_55 q_68 - 2 q_55 q_69 - 2 q_55 q_70 - 2 q_55 q_71 - 2 q_55 q_72 - 2 q_55 q_73 - 2 q_55 q_74 - 2 q_55 q_75 - 2 q_55 q_76 - 2 q_55 q_77 - 2 q_55 q_78 - 2 q_55 q_79 - 2 q_55 q_80 - 2 q_55 q_81 - 2 q_55 q_82 - 2 q_55 q_83 - 2 q_55 q_84 - 2 q_55 q_85 - 2 q_55 q_86 - 2 q_55 q_87 - 2 q_55 q_88 - 2 q_55 q_89 - 2 q_55 q_90 - 2 q_55 q_91 - 2 q_55 q_92 - 2 q_55 q_93 - 2 q_55 q_94 - 2 q_55 q_95 - 2 q_55 q_96 - 2 q_55 q_97 - 2 q_55 q_98 - 2 q_55 q_99 - 2 q_55 q_100 - 2 q_55 q_101 - 2 q_55 q_102 - 2 q_55 q_103 - 2 q_55 q_104 - 2 q_55 q_105 - 2 q_55 q_106 - 2 q_55 q_107 - 2 q_55 q_108 - 2 q_55 q_109 - 2 q_55 q_110 - 2 q_55 q_111 - 2 q_55 q_112 - 2 q_55 q_113 - 2 q_55 q_114 - 2 q_55 q_115 - 2 q_55 q_116 - 2 q_55 q_117 - 2 q_55 q_118 - 2 q_55 q_119 + 6 q_56 q_57 + 6 q_56 q_58 + 6 q_56 q_59 - 2 q_56 q_60 - 2 q_56 q_61 - 2 q_56 q_62 - 2 q_56 q_63 - 2 q_56 q_64 - 2 q_56 q_65 - 2 q_56 q_66 - 2 q_56 q_67 - 2 q_56 q_68 - 2 q_56 q_69 - 2 q_56 q_70 - 2 q_56 q_71 - 2 q_56 q_72 - 2 q_56 q_73 - 2 q_56 q_74 - 2 q_56 q_75 - 2 q_56 q_76 - 2 q_56 q_77 - 2 q_56 q_78 - 2 q_56 q_79 - 2 q_56 q_80 - 2 q_56 q_81 - 2 q_56 q_82 - 2 q_56 q_83 - 2 q_56 q_84 - 2 q_56 q_85 - 2 q_56 q_86 - 2 q_56 q_87 - 2 q_56 q_88 - 2 q_56 q_89 - 2 q_56 q_90 - 2 q_56 q_91 - 2 q_56 q_92 - 2 q_56 q_93 - 2 q_56 q_94 - 2 q_56 q_95 - 2 q_56 q_96 - 2 q_56 q_97 - 2 q_56 q_98 - 2 q_56 q_99 - 2 q_56 q_100 - 2 q_56 q_101 - 2 q_56 q_102 - 2 q_56 q_103 - 2 q_56 q_104 - 2 q_56 q_105 - 2 q_56 q_106 - 2 q_56 q_107 - 2 q_56 q_108 - 2 q_56 q_109 - 2 q_56 q_110 - 2 q_56 q_111 - 2 q_56 q_112 - 2 q_56 q_113 - 2 q_56 q_114 - 2 q_56 q_115 - 2 q_56 q_116 - 2 q_56 q_117 - 2 q_56 q_118 - 2 q_56 q_119 + 6 q_57 q_58 + 6 q_57 q_59 - 2 q_57 q_60 - 2 q_57 q_61 - 2 q_57 q_62 - 2 q_57 q_63 - 2 q_57 q_64 - 2 q_57 q_65 - 2 q_57 q_66 - 2 q_57 q_67 - 2 q_57 q_68 - 2 q_57 q_69 - 2 q_57 q_70 - 2 q_57 q_71 - 2 q_57 q_72 - 2 q_57 q_73 - 2 q_57 q_74 - 2 q_57 q_75 - 2 q_57 q_76 - 2 q_57 q_77 - 2 q_57 q_78 - 2 q_57 q_79 - 2 q_57 q_80 - 2 q_57 q_81 - 2 q_57 q_82 - 2 q_57 q_83 - 2 q_57 q_84 - 2 q_57 q_85 - 2 q_57 q_86 - 2 q_57 q_87 - 2 q_57 q_88 - 2 q_57 q_89 - 2 q_57 q_90 - 2 q_57 q_91 - 2 q_57 q_92 - 2 q_57 q_93 - 2 q_57 q_94 - 2 q_57 q_95 - 2 q_57 q_96 - 2 q_57 q_97 - 2 q_57 q_98 - 2 q_57 q_99 - 2 q_57 q_100 - 2 q_57 q_101 - 2 q_57 q_102 - 2 q_57 q_103 - 2 q_57 q_104 - 2 q_57 q_105 - 2 q_57 q_106 - 2 q_57 q_107 - 2 q_57 q_108 - 2 q_57 q_109 - 2 q_57 q_110 - 2 q_57 q_111 - 2 q_57 q_112 - 2 q_57 q_113 - 2 q_57 q_114 - 2 q_57 q_115 - 2 q_57 q_116 - 2 q_57 q_117 - 2 q_57 q_118 - 2 q_57 q_119 + 6 q_58 q_59 - 2 q_58 q_60 - 2 q_58 q_61 - 2 q_58 q_62 - 2 q_58 q_63 - 2 q_58 q_64 - 2 q_58 q_65 - 2 q_58 q_66 - 2 q_58 q_67 - 2 q_58 q_68 - 2 q_58 q_69 - 2 q_58 q_70 - 2 q_58 q_71 - 2 q_58 q_72 - 2 q_58 q_73 - 2 q_58 q_74 - 2 q_58 q_75 - 2 q_58 q_76 - 2 q_58 q_77 - 2 q_58 q_78 - 2 q_58 q_79 - 2 q_58 q_80 - 2 q_58 q_81 - 2 q_58 q_82 - 2 q_58 q_83 - 2 q_58 q_84 - 2 q_58 q_85 - 2 q_58 q_86 - 2 q_58 q_87 - 2 q_58 q_88 - 2 q_58 q_89 - 2 q_58 q_90 - 2 q_58 q_91 - 2 q_58 q_92 - 2 q_58 q_93 - 2 q_58 q_94 - 2 q_58 q_95 - 2 q_58 q_96 - 2 q_58 q_97 - 2 q_58 q_98 - 2 q_58 q_99 - 2 q_58 q_100 - 2 q_58 q_101 - 2 q_58 q_102 - 2 q_58 q_103 - 2 q_58 q_104 - 2 q_58 q_105 - 2 q_58 q_106 - 2 q_58 q_107 - 2 q_58 q_108 - 2 q_58 q_109 - 2 q_58 q_110 - 2 q_58 q_111 - 2 q_58 q_112 - 2 q_58 q_113 - 2 q_58 q_114 - 2 q_58 q_115 - 2 q_58 q_116 - 2 q_58 q_117 - 2 q_58 q_118 - 2 q_58 q_119 - 2 q_59 q_60 - 2 q_59 q_61 - 2 q_59 q_62 - 2 q_59 q_63 - 2 q_59 q_64 - 2 q_59 q_65 - 2 q_59 q_66 - 2 q_59 q_67 - 2 q_59 q_68 - 2 q_59 q_69 - 2 q_59 q_70 - 2 q_59 q_71 - 2 q_59 q_72 - 2 q_59 q_73 - 2 q_59 q_74 - 2 q_59 q_75 - 2 q_59 q_76 - 2 q_59 q_77 - 2 q_59 q_78 - 2 q_59 q_79 - 2 q_59 q_80 - 2 q_59 q_81 - 2 q_59 q_82 - 2 q_59 q_83 - 2 q_59 q_84 - 2 q_59 q_85 - 2 q_59 q_86 - 2 q_59 q_87 - 2 q_59 q_88 - 2 q_59 q_89 - 2 q_59 q_90 - 2 q_59 q_91 - 2 q_59 q_92 - 2 q_59 q_93 - 2 q_59 q_94 - 2 q_59 q_95 - 2 q_59 q_96 - 2 q_59 q_97 - 2 q_59 q_98 - 2 q_59 q_99 - 2 q_59 q_100 - 2 q_59 q_101 - 2 q_59 q_102 - 2 q_59 q_103 - 2 q_59 q_104 - 2 q_59 q_105 - 2 q_59 q_106 - 2 q_59 q_107 - 2 q_59 q_108 - 2 q_59 q_109 - 2 q_59 q_110 - 2 q_59 q_111 - 2 q_59 q_112 - 2 q_59 q_113 - 2 q_59 q_114 - 2 q_59 q_115 - 2 q_59 q_116 - 2 q_59 q_117 - 2 q_59 q_118 - 2 q_59 q_119 + 6 q_60 q_61 + 6 q_60 q_62 + 6 q_60 q_63 + 6 q_60 q_64 + 6 q_60 q_65 + 6 q_60 q_66 + 6 q_60 q_67 + 6 q_60 q_68 + 6 q_60 q_69 + 6 q_60 q_70 + 6 q_60 q_71 + 6 q_60 q_72 + 6 q_60 q_73 + 6 q_60 q_74 + 6 q_60 q_75 + 6 q_60 q_76 + 6 q_60 q_77 + 6 q_60 q_78 + 6 q_60 q_79 + 6 q_60 q_80 + 6 q_60 q_81 + 6 q_60 q_82 + 6 q_60 q_83 + 6 q_60 q_84 + 6 q_60 q_85 + 6 q_60 q_86 + 6 q_60 q_87 + 6 q_60 q_88 + 6 q_60 q_89 - 2 q_60 q_90 - 2 q_60 q_91 - 2 q_60 q_92 - 2 q_60 q_93 - 2 q_60 q_94 - 2 q_60 q_95 - 2 q_60 q_96 - 2 q_60 q_97 - 2 q_60 q_98 - 2 q_60 q_99 - 2 q_60 q_100 - 2 q_60 q_101 - 2 q_60 q_102 - 2 q_60 q_103 - 2 q_60 q_104 - 2 q_60 q_105 - 2 q_60 q_106 - 2 q_60 q_107 - 2 q_60 q_108 - 2 q_60 q_109 - 2 q_60 q_110 - 2 q_60 q_111 - 2 q_60 q_112 - 2 q_60 q_113 - 2 q_60 q_114 - 2 q_60 q_115 - 2 q_60 q_116 - 2 q_60 q_117 - 2 q_60 q_118 - 2 q_60 q_119 + 6 q_61 q_62 + 6 q_61 q_63 + 6 q_61 q_64 + 6 q_61 q_65 + 6 q_61 q_66 + 6 q_61 q_67 + 6 q_61 q_68 + 6 q_61 q_69 + 6 q_61 q_70 + 6 q_61 q_71 + 6 q_61 q_72 + 6 q_61 q_73 + 6 q_61 q_74 + 6 q_61 q_75 + 6 q_61 q_76 + 6 q_61 q_77 + 6 q_61 q_78 + 6 q_61 q_79 + 6 q_61 q_80 + 6 q_61 q_81 + 6 q_61 q_82 + 6 q_61 q_83 + 6 q_61 q_84 + 6 q_61 q_85 + 6 q_61 q_86 + 6 q_61 q_87 + 6 q_61 q_88 + 6 q_61 q_89 - 2 q_61 q_90 - 2 q_61 q_91 - 2 q_61 q_92 - 2 q_61 q_93 - 2 q_61 q_94 - 2 q_61 q_95 - 2 q_61 q_96 - 2 q_61 q_97 - 2 q_61 q_98 - 2 q_61 q_99 - 2 q_61 q_100 - 2 q_61 q_101 - 2 q_61 q_102 - 2 q_61 q_103 - 2 q_61 q_104 - 2 q_61 q_105 - 2 q_61 q_106 - 2 q_61 q_107 - 2 q_61 q_108 - 2 q_61 q_109 - 2 q_61 q_110 - 2 q_61 q_111 - 2 q_61 q_112 - 2 q_61 q_113 - 2 q_61 q_114 - 2 q_61 q_115 - 2 q_61 q_116 - 2 q_61 q_117 - 2 q_61 q_118 - 2 q_61 q_119 + 6 q_62 q_63 + 6 q_62 q_64 + 6 q_62 q_65 + 6 q_62 q_66 + 6 q_62 q_67 + 6 q_62 q_68 + 6 q_62 q_69 + 6 q_62 q_70 + 6 q_62 q_71 + 6 q_62 q_72 + 6 q_62 q_73 + 6 q_62 q_74 + 6 q_62 q_75 + 6 q_62 q_76 + 6 q_62 q_77 + 6 q_62 q_78 + 6 q_62 q_79 + 6 q_62 q_80 + 6 q_62 q_81 + 6 q_62 q_82 + 6 q_62 q_83 + 6 q_62 q_84 + 6 q_62 q_85 + 6 q_62 q_86 + 6 q_62 q_87 + 6 q_62 q_88 + 6 q_62 q_89 - 2 q_62 q_90 - 2 q_62 q_91 - 2 q_62 q_92 - 2 q_62 q_93 - 2 q_62 q_94 - 2 q_62 q_95 - 2 q_62 q_96 - 2 q_62 q_97 - 2 q_62 q_98 - 2 q_62 q_99 - 2 q_62 q_100 - 2 q_62 q_101 - 2 q_62 q_102 - 2 q_62 q_103 - 2 q_62 q_104 - 2 q_62 q_105 - 2 q_62 q_106 - 2 q_62 q_107 - 2 q_62 q_108 - 2 q_62 q_109 - 2 q_62 q_110 - 2 q_62 q_111 - 2 q_62 q_112 - 2 q_62 q_113 - 2 q_62 q_114 - 2 q_62 q_115 - 2 q_62 q_116 - 2 q_62 q_117 - 2 q_62 q_118 - 2 q_62 q_119 + 6 q_63 q_64 + 6 q_63 q_65 + 6 q_63 q_66 + 6 q_63 q_67 + 6 q_63 q_68 + 6 q_63 q_69 + 6 q_63 q_70 + 6 q_63 q_71 + 6 q_63 q_72 + 6 q_63 q_73 + 6 q_63 q_74 + 6 q_63 q_75 + 6 q_63 q_76 + 6 q_63 q_77 + 6 q_63 q_78 + 6 q_63 q_79 + 6 q_63 q_80 + 6 q_63 q_81 + 6 q_63 q_82 + 6 q_63 q_83 + 6 q_63 q_84 + 6 q_63 q_85 + 6 q_63 q_86 + 6 q_63 q_87 + 6 q_63 q_88 + 6 q_63 q_89 - 2 q_63 q_90 - 2 q_63 q_91 - 2 q_63 q_92 - 2 q_63 q_93 - 2 q_63 q_94 - 2 q_63 q_95 - 2 q_63 q_96 - 2 q_63 q_97 - 2 q_63 q_98 - 2 q_63 q_99 - 2 q_63 q_100 - 2 q_63 q_101 - 2 q_63 q_102 - 2 q_63 q_103 - 2 q_63 q_104 - 2 q_63 q_105 - 2 q_63 q_106 - 2 q_63 q_107 - 2 q_63 q_108 - 2 q_63 q_109 - 2 q_63 q_110 - 2 q_63 q_111 - 2 q_63 q_112 - 2 q_63 q_113 - 2 q_63 q_114 - 2 q_63 q_115 - 2 q_63 q_116 - 2 q_63 q_117 - 2 q_63 q_118 - 2 q_63 q_119 + 6 q_64 q_65 + 6 q_64 q_66 + 6 q_64 q_67 + 6 q_64 q_68 + 6 q_64 q_69 + 6 q_64 q_70 + 6 q_64 q_71 + 6 q_64 q_72 + 6 q_64 q_73 + 6 q_64 q_74 + 6 q_64 q_75 + 6 q_64 q_76 + 6 q_64 q_77 + 6 q_64 q_78 + 6 q_64 q_79 + 6 q_64 q_80 + 6 q_64 q_81 + 6 q_64 q_82 + 6 q_64 q_83 + 6 q_64 q_84 + 6 q_64 q_85 + 6 q_64 q_86 + 6 q_64 q_87 + 6 q_64 q_88 + 6 q_64 q_89 - 2 q_64 q_90 - 2 q_64 q_91 - 2 q_64 q_92 - 2 q_64 q_93 - 2 q_64 q_94 - 2 q_64 q_95 - 2 q_64 q_96 - 2 q_64 q_97 - 2 q_64 q_98 - 2 q_64 q_99 - 2 q_64 q_100 - 2 q_64 q_101 - 2 q_64 q_102 - 2 q_64 q_103 - 2 q_64 q_104 - 2 q_64 q_105 - 2 q_64 q_106 - 2 q_64 q_107 - 2 q_64 q_108 - 2 q_64 q_109 - 2 q_64 q_110 - 2 q_64 q_111 - 2 q_64 q_112 - 2 q_64 q_113 - 2 q_64 q_114 - 2 q_64 q_115 - 2 q_64 q_116 - 2 q_64 q_117 - 2 q_64 q_118 - 2 q_64 q_119 + 6 q_65 q_66 + 6 q_65 q_67 + 6 q_65 q_68 + 6 q_65 q_69 + 6 q_65 q_70 + 6 q_65 q_71 + 6 q_65 q_72 + 6 q_65 q_73 + 6 q_65 q_74 + 6 q_65 q_75 + 6 q_65 q_76 + 6 q_65 q_77 + 6 q_65 q_78 + 6 q_65 q_79 + 6 q_65 q_80 + 6 q_65 q_81 + 6 q_65 q_82 + 6 q_65 q_83 + 6 q_65 q_84 + 6 q_65 q_85 + 6 q_65 q_86 + 6 q_65 q_87 + 6 q_65 q_88 + 6 q_65 q_89 - 2 q_65 q_90 - 2 q_65 q_91 - 2 q_65 q_92 - 2 q_65 q_93 - 2 q_65 q_94 - 2 q_65 q_95 - 2 q_65 q_96 - 2 q_65 q_97 - 2 q_65 q_98 - 2 q_65 q_99 - 2 q_65 q_100 - 2 q_65 q_101 - 2 q_65 q_102 - 2 q_65 q_103 - 2 q_65 q_104 - 2 q_65 q_105 - 2 q_65 q_106 - 2 q_65 q_107 - 2 q_65 q_108 - 2 q_65 q_109 - 2 q_65 q_110 - 2 q_65 q_111 - 2 q_65 q_112 - 2 q_65 q_113 - 2 q_65 q_114 - 2 q_65 q_115 - 2 q_65 q_116 - 2 q_65 q_117 - 2 q_65 q_118 - 2 q_65 q_119 + 6 q_66 q_67 + 6 q_66 q_68 + 6 q_66 q_69 + 6 q_66 q_70 + 6 q_66 q_71 + 6 q_66 q_72 + 6 q_66 q_73 + 6 q_66 q_74 + 6 q_66 q_75 + 6 q_66 q_76 + 6 q_66 q_77 + 6 q_66 q_78 + 6 q_66 q_79 + 6 q_66 q_80 + 6 q_66 q_81 + 6 q_66 q_82 + 6 q_66 q_83 + 6 q_66 q_84 + 6 q_66 q_85 + 6 q_66 q_86 + 6 q_66 q_87 + 6 q_66 q_88 + 6 q_66 q_89 - 2 q_66 q_90 - 2 q_66 q_91 - 2 q_66 q_92 - 2 q_66 q_93 - 2 q_66 q_94 - 2 q_66 q_95 - 2 q_66 q_96 - 2 q_66 q_97 - 2 q_66 q_98 - 2 q_66 q_99 - 2 q_66 q_100 - 2 q_66 q_101 - 2 q_66 q_102 - 2 q_66 q_103 - 2 q_66 q_104 - 2 q_66 q_105 - 2 q_66 q_106 - 2 q_66 q_107 - 2 q_66 q_108 - 2 q_66 q_109 - 2 q_66 q_110 - 2 q_66 q_111 - 2 q_66 q_112 - 2 q_66 q_113 - 2 q_66 q_114 - 2 q_66 q_115 - 2 q_66 q_116 - 2 q_66 q_117 - 2 q_66 q_118 - 2 q_66 q_119 + 6 q_67 q_68 + 6 q_67 q_69 + 6 q_67 q_70 + 6 q_67 q_71 + 6 q_67 q_72 + 6 q_67 q_73 + 6 q_67 q_74 + 6 q_67 q_75 + 6 q_67 q_76 + 6 q_67 q_77 + 6 q_67 q_78 + 6 q_67 q_79 + 6 q_67 q_80 + 6 q_67 q_81 + 6 q_67 q_82 + 6 q_67 q_83 + 6 q_67 q_84 + 6 q_67 q_85 + 6 q_67 q_86 + 6 q_67 q_87 + 6 q_67 q_88 + 6 q_67 q_89 - 2 q_67 q_90 - 2 q_67 q_91 - 2 q_67 q_92 - 2 q_67 q_93 - 2 q_67 q_94 - 2 q_67 q_95 - 2 q_67 q_96 - 2 q_67 q_97 - 2 q_67 q_98 - 2 q_67 q_99 - 2 q_67 q_100 - 2 q_67 q_101 - 2 q_67 q_102 - 2 q_67 q_103 - 2 q_67 q_104 - 2 q_67 q_105 - 2 q_67 q_106 - 2 q_67 q_107 - 2 q_67 q_108 - 2 q_67 q_109 - 2 q_67 q_110 - 2 q_67 q_111 - 2 q_67 q_112 - 2 q_67 q_113 - 2 q_67 q_114 - 2 q_67 q_115 - 2 q_67 q_116 - 2 q_67 q_117 - 2 q_67 q_118 - 2 q_67 q_119 + 6 q_68 q_69 + 6 q_68 q_70 + 6 q_68 q_71 + 6 q_68 q_72 + 6 q_68 q_73 + 6 q_68 q_74 + 6 q_68 q_75 + 6 q_68 q_76 + 6 q_68 q_77 + 6 q_68 q_78 + 6 q_68 q_79 + 6 q_68 q_80 + 6 q_68 q_81 + 6 q_68 q_82 + 6 q_68 q_83 + 6 q_68 q_84 + 6 q_68 q_85 + 6 q_68 q_86 + 6 q_68 q_87 + 6 q_68 q_88 + 6 q_68 q_89 - 2 q_68 q_90 - 2 q_68 q_91 - 2 q_68 q_92 - 2 q_68 q_93 - 2 q_68 q_94 - 2 q_68 q_95 - 2 q_68 q_96 - 2 q_68 q_97 - 2 q_68 q_98 - 2 q_68 q_99 - 2 q_68 q_100 - 2 q_68 q_101 - 2 q_68 q_102 - 2 q_68 q_103 - 2 q_68 q_104 - 2 q_68 q_105 - 2 q_68 q_106 - 2 q_68 q_107 - 2 q_68 q_108 - 2 q_68 q_109 - 2 q_68 q_110 - 2 q_68 q_111 - 2 q_68 q_112 - 2 q_68 q_113 - 2 q_68 q_114 - 2 q_68 q_115 - 2 q_68 q_116 - 2 q_68 q_117 - 2 q_68 q_118 - 2 q_68 q_119 + 6 q_69 q_70 + 6 q_69 q_71 + 6 q_69 q_72 + 6 q_69 q_73 + 6 q_69 q_74 + 6 q_69 q_75 + 6 q_69 q_76 + 6 q_69 q_77 + 6 q_69 q_78 + 6 q_69 q_79 + 6 q_69 q_80 + 6 q_69 q_81 + 6 q_69 q_82 + 6 q_69 q_83 + 6 q_69 q_84 + 6 q_69 q_85 + 6 q_69 q_86 + 6 q_69 q_87 + 6 q_69 q_88 + 6 q_69 q_89 - 2 q_69 q_90 - 2 q_69 q_91 - 2 q_69 q_92 - 2 q_69 q_93 - 2 q_69 q_94 - 2 q_69 q_95 - 2 q_69 q_96 - 2 q_69 q_97 - 2 q_69 q_98 - 2 q_69 q_99 - 2 q_69 q_100 - 2 q_69 q_101 - 2 q_69 q_102 - 2 q_69 q_103 - 2 q_69 q_104 - 2 q_69 q_105 - 2 q_69 q_106 - 2 q_69 q_107 - 2 q_69 q_108 - 2 q_69 q_109 - 2 q_69 q_110 - 2 q_69 q_111 - 2 q_69 q_112 - 2 q_69 q_113 - 2 q_69 q_114 - 2 q_69 q_115 - 2 q_69 q_116 - 2 q_69 q_117 - 2 q_69 q_118 - 2 q_69 q_119 + 6 q_70 q_71 + 6 q_70 q_72 + 6 q_70 q_73 + 6 q_70 q_74 + 6 q_70 q_75 + 6 q_70 q_76 + 6 q_70 q_77 + 6 q_70 q_78 + 6 q_70 q_79 + 6 q_70 q_80 + 6 q_70 q_81 + 6 q_70 q_82 + 6 q_70 q_83 + 6 q_70 q_84 + 6 q_70 q_85 + 6 q_70 q_86 + 6 q_70 q_87 + 6 q_70 q_88 + 6 q_70 q_89 - 2 q_70 q_90 - 2 q_70 q_91 - 2 q_70 q_92 - 2 q_70 q_93 - 2 q_70 q_94 - 2 q_70 q_95 - 2 q_70 q_96 - 2 q_70 q_97 - 2 q_70 q_98 - 2 q_70 q_99 - 2 q_70 q_100 - 2 q_70 q_101 - 2 q_70 q_102 - 2 q_70 q_103 - 2 q_70 q_104 - 2 q_70 q_105 - 2 q_70 q_106 - 2 q_70 q_107 - 2 q_70 q_108 - 2 q_70 q_109 - 2 q_70 q_110 - 2 q_70 q_111 - 2 q_70 q_112 - 2 q_70 q_113 - 2 q_70 q_114 - 2 q_70 q_115 - 2 q_70 q_116 - 2 q_70 q_117 - 2 q_70 q_118 - 2 q_70 q_119 + 6 q_71 q_72 + 6 q_71 q_73 + 6 q_71 q_74 + 6 q_71 q_75 + 6 q_71 q_76 + 6 q_71 q_77 + 6 q_71 q_78 + 6 q_71 q_79 + 6 q_71 q_80 + 6 q_71 q_81 + 6 q_71 q_82 + 6 q_71 q_83 + 6 q_71 q_84 + 6 q_71 q_85 + 6 q_71 q_86 + 6 q_71 q_87 + 6 q_71 q_88 + 6 q_71 q_89 - 2 q_71 q_90 - 2 q_71 q_91 - 2 q_71 q_92 - 2 q_71 q_93 - 2 q_71 q_94 - 2 q_71 q_95 - 2 q_71 q_96 - 2 q_71 q_97 - 2 q_71 q_98 - 2 q_71 q_99 - 2 q_71 q_100 - 2 q_71 q_101 - 2 q_71 q_102 - 2 q_71 q_103 - 2 q_71 q_104 - 2 q_71 q_105 - 2 q_71 q_106 - 2 q_71 q_107 - 2 q_71 q_108 - 2 q_71 q_109 - 2 q_71 q_110 - 2 q_71 q_111 - 2 q_71 q_112 - 2 q_71 q_113 - 2 q_71 q_114 - 2 q_71 q_115 - 2 q_71 q_116 - 2 q_71 q_117 - 2 q_71 q_118 - 2 q_71 q_119 + 6 q_72 q_73 + 6 q_72 q_74 + 6 q_72 q_75 + 6 q_72 q_76 + 6 q_72 q_77 + 6 q_72 q_78 + 6 q_72 q_79 + 6 q_72 q_80 + 6 q_72 q_81 + 6 q_72 q_82 + 6 q_72 q_83 + 6 q_72 q_84 + 6 q_72 q_85 + 6 q_72 q_86 + 6 q_72 q_87 + 6 q_72 q_88 + 6 q_72 q_89 - 2 q_72 q_90 - 2 q_72 q_91 - 2 q_72 q_92 - 2 q_72 q_93 - 2 q_72 q_94 - 2 q_72 q_95 - 2 q_72 q_96 - 2 q_72 q_97 - 2 q_72 q_98 - 2 q_72 q_99 - 2 q_72 q_100 - 2 q_72 q_101 - 2 q_72 q_102 - 2 q_72 q_103 - 2 q_72 q_104 - 2 q_72 q_105 - 2 q_72 q_106 - 2 q_72 q_107 - 2 q_72 q_108 - 2 q_72 q_109 - 2 q_72 q_110 - 2 q_72 q_111 - 2 q_72 q_112 - 2 q_72 q_113 - 2 q_72 q_114 - 2 q_72 q_115 - 2 q_72 q_116 - 2 q_72 q_117 - 2 q_72 q_118 - 2 q_72 q_119 + 6 q_73 q_74 + 6 q_73 q_75 + 6 q_73 q_76 + 6 q_73 q_77 + 6 q_73 q_78 + 6 q_73 q_79 + 6 q_73 q_80 + 6 q_73 q_81 + 6 q_73 q_82 + 6 q_73 q_83 + 6 q_73 q_84 + 6 q_73 q_85 + 6 q_73 q_86 + 6 q_73 q_87 + 6 q_73 q_88 + 6 q_73 q_89 - 2 q_73 q_90 - 2 q_73 q_91 - 2 q_73 q_92 - 2 q_73 q_93 - 2 q_73 q_94 - 2 q_73 q_95 - 2 q_73 q_96 - 2 q_73 q_97 - 2 q_73 q_98 - 2 q_73 q_99 - 2 q_73 q_100 - 2 q_73 q_101 - 2 q_73 q_102 - 2 q_73 q_103 - 2 q_73 q_104 - 2 q_73 q_105 - 2 q_73 q_106 - 2 q_73 q_107 - 2 q_73 q_108 - 2 q_73 q_109 - 2 q_73 q_110 - 2 q_73 q_111 - 2 q_73 q_112 - 2 q_73 q_113 - 2 q_73 q_114 - 2 q_73 q_115 - 2 q_73 q_116 - 2 q_73 q_117 - 2 q_73 q_118 - 2 q_73 q_119 + 6 q_74 q_75 + 6 q_74 q_76 + 6 q_74 q_77 + 6 q_74 q_78 + 6 q_74 q_79 + 6 q_74 q_80 + 6 q_74 q_81 + 6 q_74 q_82 + 6 q_74 q_83 + 6 q_74 q_84 + 6 q_74 q_85 + 6 q_74 q_86 + 6 q_74 q_87 + 6 q_74 q_88 + 6 q_74 q_89 - 2 q_74 q_90 - 2 q_74 q_91 - 2 q_74 q_92 - 2 q_74 q_93 - 2 q_74 q_94 - 2 q_74 q_95 - 2 q_74 q_96 - 2 q_74 q_97 - 2 q_74 q_98 - 2 q_74 q_99 - 2 q_74 q_100 - 2 q_74 q_101 - 2 q_74 q_102 - 2 q_74 q_103 - 2 q_74 q_104 - 2 q_74 q_105 - 2 q_74 q_106 - 2 q_74 q_107 - 2 q_74 q_108 - 2 q_74 q_109 - 2 q_74 q_110 - 2 q_74 q_111 - 2 q_74 q_112 - 2 q_74 q_113 - 2 q_74 q_114 - 2 q_74 q_115 - 2 q_74 q_116 - 2 q_74 q_117 - 2 q_74 q_118 - 2 q_74 q_119 + 6 q_75 q_76 + 6 q_75 q_77 + 6 q_75 q_78 + 6 q_75 q_79 + 6 q_75 q_80 + 6 q_75 q_81 + 6 q_75 q_82 + 6 q_75 q_83 + 6 q_75 q_84 + 6 q_75 q_85 + 6 q_75 q_86 + 6 q_75 q_87 + 6 q_75 q_88 + 6 q_75 q_89 - 2 q_75 q_90 - 2 q_75 q_91 - 2 q_75 q_92 - 2 q_75 q_93 - 2 q_75 q_94 - 2 q_75 q_95 - 2 q_75 q_96 - 2 q_75 q_97 - 2 q_75 q_98 - 2 q_75 q_99 - 2 q_75 q_100 - 2 q_75 q_101 - 2 q_75 q_102 - 2 q_75 q_103 - 2 q_75 q_104 - 2 q_75 q_105 - 2 q_75 q_106 - 2 q_75 q_107 - 2 q_75 q_108 - 2 q_75 q_109 - 2 q_75 q_110 - 2 q_75 q_111 - 2 q_75 q_112 - 2 q_75 q_113 - 2 q_75 q_114 - 2 q_75 q_115 - 2 q_75 q_116 - 2 q_75 q_117 - 2 q_75 q_118 - 2 q_75 q_119 + 6 q_76 q_77 + 6 q_76 q_78 + 6 q_76 q_79 + 6 q_76 q_80 + 6 q_76 q_81 + 6 q_76 q_82 + 6 q_76 q_83 + 6 q_76 q_84 + 6 q_76 q_85 + 6 q_76 q_86 + 6 q_76 q_87 + 6 q_76 q_88 + 6 q_76 q_89 - 2 q_76 q_90 - 2 q_76 q_91 - 2 q_76 q_92 - 2 q_76 q_93 - 2 q_76 q_94 - 2 q_76 q_95 - 2 q_76 q_96 - 2 q_76 q_97 - 2 q_76 q_98 - 2 q_76 q_99 - 2 q_76 q_100 - 2 q_76 q_101 - 2 q_76 q_102 - 2 q_76 q_103 - 2 q_76 q_104 - 2 q_76 q_105 - 2 q_76 q_106 - 2 q_76 q_107 - 2 q_76 q_108 - 2 q_76 q_109 - 2 q_76 q_110 - 2 q_76 q_111 - 2 q_76 q_112 - 2 q_76 q_113 - 2 q_76 q_114 - 2 q_76 q_115 - 2 q_76 q_116 - 2 q_76 q_117 - 2 q_76 q_118 - 2 q_76 q_119 + 6 q_77 q_78 + 6 q_77 q_79 + 6 q_77 q_80 + 6 q_77 q_81 + 6 q_77 q_82 + 6 q_77 q_83 + 6 q_77 q_84 + 6 q_77 q_85 + 6 q_77 q_86 + 6 q_77 q_87 + 6 q_77 q_88 + 6 q_77 q_89 - 2 q_77 q_90 - 2 q_77 q_91 - 2 q_77 q_92 - 2 q_77 q_93 - 2 q_77 q_94 - 2 q_77 q_95 - 2 q_77 q_96 - 2 q_77 q_97 - 2 q_77 q_98 - 2 q_77 q_99 - 2 q_77 q_100 - 2 q_77 q_101 - 2 q_77 q_102 - 2 q_77 q_103 - 2 q_77 q_104 - 2 q_77 q_105 - 2 q_77 q_106 - 2 q_77 q_107 - 2 q_77 q_108 - 2 q_77 q_109 - 2 q_77 q_110 - 2 q_77 q_111 - 2 q_77 q_112 - 2 q_77 q_113 - 2 q_77 q_114 - 2 q_77 q_115 - 2 q_77 q_116 - 2 q_77 q_117 - 2 q_77 q_118 - 2 q_77 q_119 + 6 q_78 q_79 + 6 q_78 q_80 + 6 q_78 q_81 + 6 q_78 q_82 + 6 q_78 q_83 + 6 q_78 q_84 + 6 q_78 q_85 + 6 q_78 q_86 + 6 q_78 q_87 + 6 q_78 q_88 + 6 q_78 q_89 - 2 q_78 q_90 - 2 q_78 q_91 - 2 q_78 q_92 - 2 q_78 q_93 - 2 q_78 q_94 - 2 q_78 q_95 - 2 q_78 q_96 - 2 q_78 q_97 - 2 q_78 q_98 - 2 q_78 q_99 - 2 q_78 q_100 - 2 q_78 q_101 - 2 q_78 q_102 - 2 q_78 q_103 - 2 q_78 q_104 - 2 q_78 q_105 - 2 q_78 q_106 - 2 q_78 q_107 - 2 q_78 q_108 - 2 q_78 q_109 - 2 q_78 q_110 - 2 q_78 q_111 - 2 q_78 q_112 - 2 q_78 q_113 - 2 q_78 q_114 - 2 q_78 q_115 - 2 q_78 q_116 - 2 q_78 q_117 - 2 q_78 q_118 - 2 q_78 q_119 + 6 q_79 q_80 + 6 q_79 q_81 + 6 q_79 q_82 + 6 q_79 q_83 + 6 q_79 q_84 + 6 q_79 q_85 + 6 q_79 q_86 + 6 q_79 q_87 + 6 q_79 q_88 + 6 q_79 q_89 - 2 q_79 q_90 - 2 q_79 q_91 - 2 q_79 q_92 - 2 q_79 q_93 - 2 q_79 q_94 - 2 q_79 q_95 - 2 q_79 q_96 - 2 q_79 q_97 - 2 q_79 q_98 - 2 q_79 q_99 - 2 q_79 q_100 - 2 q_79 q_101 - 2 q_79 q_102 - 2 q_79 q_103 - 2 q_79 q_104 - 2 q_79 q_105 - 2 q_79 q_106 - 2 q_79 q_107 - 2 q_79 q_108 - 2 q_79 q_109 - 2 q_79 q_110 - 2 q_79 q_111 - 2 q_79 q_112 - 2 q_79 q_113 - 2 q_79 q_114 - 2 q_79 q_115 - 2 q_79 q_116 - 2 q_79 q_117 - 2 q_79 q_118 - 2 q_79 q_119 + 6 q_80 q_81 + 6 q_80 q_82 + 6 q_80 q_83 + 6 q_80 q_84 + 6 q_80 q_85 + 6 q_80 q_86 + 6 q_80 q_87 + 6 q_80 q_88 + 6 q_80 q_89 - 2 q_80 q_90 - 2 q_80 q_91 - 2 q_80 q_92 - 2 q_80 q_93 - 2 q_80 q_94 - 2 q_80 q_95 - 2 q_80 q_96 - 2 q_80 q_97 - 2 q_80 q_98 - 2 q_80 q_99 - 2 q_80 q_100 - 2 q_80 q_101 - 2 q_80 q_102 - 2 q_80 q_103 - 2 q_80 q_104 - 2 q_80 q_105 - 2 q_80 q_106 - 2 q_80 q_107 - 2 q_80 q_108 - 2 q_80 q_109 - 2 q_80 q_110 - 2 q_80 q_111 - 2 q_80 q_112 - 2 q_80 q_113 - 2 q_80 q_114 - 2 q_80 q_115 - 2 q_80 q_116 - 2 q_80 q_117 - 2 q_80 q_118 - 2 q_80 q_119 + 6 q_81 q_82 + 6 q_81 q_83 + 6 q_81 q_84 + 6 q_81 q_85 + 6 q_81 q_86 + 6 q_81 q_87 + 6 q_81 q_88 + 6 q_81 q_89 - 2 q_81 q_90 - 2 q_81 q_91 - 2 q_81 q_92 - 2 q_81 q_93 - 2 q_81 q_94 - 2 q_81 q_95 - 2 q_81 q_96 - 2 q_81 q_97 - 2 q_81 q_98 - 2 q_81 q_99 - 2 q_81 q_100 - 2 q_81 q_101 - 2 q_81 q_102 - 2 q_81 q_103 - 2 q_81 q_104 - 2 q_81 q_105 - 2 q_81 q_106 - 2 q_81 q_107 - 2 q_81 q_108 - 2 q_81 q_109 - 2 q_81 q_110 - 2 q_81 q_111 - 2 q_81 q_112 - 2 q_81 q_113 - 2 q_81 q_114 - 2 q_81 q_115 - 2 q_81 q_116 - 2 q_81 q_117 - 2 q_81 q_118 - 2 q_81 q_119 + 6 q_82 q_83 + 6 q_82 q_84 + 6 q_82 q_85 + 6 q_82 q_86 + 6 q_82 q_87 + 6 q_82 q_88 + 6 q_82 q_89 - 2 q_82 q_90 - 2 q_82 q_91 - 2 q_82 q_92 - 2 q_82 q_93 - 2 q_82 q_94 - 2 q_82 q_95 - 2 q_82 q_96 - 2 q_82 q_97 - 2 q_82 q_98 - 2 q_82 q_99 - 2 q_82 q_100 - 2 q_82 q_101 - 2 q_82 q_102 - 2 q_82 q_103 - 2 q_82 q_104 - 2 q_82 q_105 - 2 q_82 q_106 - 2 q_82 q_107 - 2 q_82 q_108 - 2 q_82 q_109 - 2 q_82 q_110 - 2 q_82 q_111 - 2 q_82 q_112 - 2 q_82 q_113 - 2 q_82 q_114 - 2 q_82 q_115 - 2 q_82 q_116 - 2 q_82 q_117 - 2 q_82 q_118 - 2 q_82 q_119 + 6 q_83 q_84 + 6 q_83 q_85 + 6 q_83 q_86 + 6 q_83 q_87 + 6 q_83 q_88 + 6 q_83 q_89 - 2 q_83 q_90 - 2 q_83 q_91 - 2 q_83 q_92 - 2 q_83 q_93 - 2 q_83 q_94 - 2 q_83 q_95 - 2 q_83 q_96 - 2 q_83 q_97 - 2 q_83 q_98 - 2 q_83 q_99 - 2 q_83 q_100 - 2 q_83 q_101 - 2 q_83 q_102 - 2 q_83 q_103 - 2 q_83 q_104 - 2 q_83 q_105 - 2 q_83 q_106 - 2 q_83 q_107 - 2 q_83 q_108 - 2 q_83 q_109 - 2 q_83 q_110 - 2 q_83 q_111 - 2 q_83 q_112 - 2 q_83 q_113 - 2 q_83 q_114 - 2 q_83 q_115 - 2 q_83 q_116 - 2 q_83 q_117 - 2 q_83 q_118 - 2 q_83 q_119 + 6 q_84 q_85 + 6 q_84 q_86 + 6 q_84 q_87 + 6 q_84 q_88 + 6 q_84 q_89 - 2 q_84 q_90 - 2 q_84 q_91 - 2 q_84 q_92 - 2 q_84 q_93 - 2 q_84 q_94 - 2 q_84 q_95 - 2 q_84 q_96 - 2 q_84 q_97 - 2 q_84 q_98 - 2 q_84 q_99 - 2 q_84 q_100 - 2 q_84 q_101 - 2 q_84 q_102 - 2 q_84 q_103 - 2 q_84 q_104 - 2 q_84 q_105 - 2 q_84 q_106 - 2 q_84 q_107 - 2 q_84 q_108 - 2 q_84 q_109 - 2 q_84 q_110 - 2 q_84 q_111 - 2 q_84 q_112 - 2 q_84 q_113 - 2 q_84 q_114 - 2 q_84 q_115 - 2 q_84 q_116 - 2 q_84 q_117 - 2 q_84 q_118 - 2 q_84 q_119 + 6 q_85 q_86 + 6 q_85 q_87 + 6 q_85 q_88 + 6 q_85 q_89 - 2 q_85 q_90 - 2 q_85 q_91 - 2 q_85 q_92 - 2 q_85 q_93 - 2 q_85 q_94 - 2 q_85 q_95 - 2 q_85 q_96 - 2 q_85 q_97 - 2 q_85 q_98 - 2 q_85 q_99 - 2 q_85 q_100 - 2 q_85 q_101 - 2 q_85 q_102 - 2 q_85 q_103 - 2 q_85 q_104 - 2 q_85 q_105 - 2 q_85 q_106 - 2 q_85 q_107 - 2 q_85 q_108 - 2 q_85 q_109 - 2 q_85 q_110 - 2 q_85 q_111 - 2 q_85 q_112 - 2 q_85 q_113 - 2 q_85 q_114 - 2 q_85 q_115 - 2 q_85 q_116 - 2 q_85 q_117 - 2 q_85 q_118 - 2 q_85 q_119 + 6 q_86 q_87 + 6 q_86 q_88 + 6 q_86 q_89 - 2 q_86 q_90 - 2 q_86 q_91 - 2 q_86 q_92 - 2 q_86 q_93 - 2 q_86 q_94 - 2 q_86 q_95 - 2 q_86 q_96 - 2 q_86 q_97 - 2 q_86 q_98 - 2 q_86 q_99 - 2 q_86 q_100 - 2 q_86 q_101 - 2 q_86 q_102 - 2 q_86 q_103 - 2 q_86 q_104 - 2 q_86 q_105 - 2 q_86 q_106 - 2 q_86 q_107 - 2 q_86 q_108 - 2 q_86 q_109 - 2 q_86 q_110 - 2 q_86 q_111 - 2 q_86 q_112 - 2 q_86 q_113 - 2 q_86 q_114 - 2 q_86 q_115 - 2 q_86 q_116 - 2 q_86 q_117 - 2 q_86 q_118 - 2 q_86 q_119 + 6 q_87 q_88 + 6 q_87 q_89 - 2 q_87 q_90 - 2 q_87 q_91 - 2 q_87 q_92 - 2 q_87 q_93 - 2 q_87 q_94 - 2 q_87 q_95 - 2 q_87 q_96 - 2 q_87 q_97 - 2 q_87 q_98 - 2 q_87 q_99 - 2 q_87 q_100 - 2 q_87 q_101 - 2 q_87 q_102 - 2 q_87 q_103 - 2 q_87 q_104 - 2 q_87 q_105 - 2 q_87 q_106 - 2 q_87 q_107 - 2 q_87 q_108 - 2 q_87 q_109 - 2 q_87 q_110 - 2 q_87 q_111 - 2 q_87 q_112 - 2 q_87 q_113 - 2 q_87 q_114 - 2 q_87 q_115 - 2 q_87 q_116 - 2 q_87 q_117 - 2 q_87 q_118 - 2 q_87 q_119 + 6 q_88 q_89 - 2 q_88 q_90 - 2 q_88 q_91 - 2 q_88 q_92 - 2 q_88 q_93 - 2 q_88 q_94 - 2 q_88 q_95 - 2 q_88 q_96 - 2 q_88 q_97 - 2 q_88 q_98 - 2 q_88 q_99 - 2 q_88 q_100 - 2 q_88 q_101 - 2 q_88 q_102 - 2 q_88 q_103 - 2 q_88 q_104 - 2 q_88 q_105 - 2 q_88 q_106 - 2 q_88 q_107 - 2 q_88 q_108 - 2 q_88 q_109 - 2 q_88 q_110 - 2 q_88 q_111 - 2 q_88 q_112 - 2 q_88 q_113 - 2 q_88 q_114 - 2 q_88 q_115 - 2 q_88 q_116 - 2 q_88 q_117 - 2 q_88 q_118 - 2 q_88 q_119 - 2 q_89 q_90 - 2 q_89 q_91 - 2 q_89 q_92 - 2 q_89 q_93 - 2 q_89 q_94 - 2 q_89 q_95 - 2 q_89 q_96 - 2 q_89 q_97 - 2 q_89 q_98 - 2 q_89 q_99 - 2 q_89 q_100 - 2 q_89 q_101 - 2 q_89 q_102 - 2 q_89 q_103 - 2 q_89 q_104 - 2 q_89 q_105 - 2 q_89 q_106 - 2 q_89 q_107 - 2 q_89 q_108 - 2 q_89 q_109 - 2 q_89 q_110 - 2 q_89 q_111 - 2 q_89 q_112 - 2 q_89 q_113 - 2 q_89 q_114 - 2 q_89 q_115 - 2 q_89 q_116 - 2 q_89 q_117 - 2 q_89 q_118 - 2 q_89 q_119 + 6 q_90 q_91 + 6 q_90 q_92 + 6 q_90 q_93 + 6 q_90 q_94 + 6 q_90 q_95 + 6 q_90 q_96 + 6 q_90 q_97 + 6 q_90 q_98 + 6 q_90 q_99 + 6 q_90 q_100 + 6 q_90 q_101 + 6 q_90 q_102 + 6 q_90 q_103 + 6 q_90 q_104 + 6 q_90 q_105 + 6 q_90 q_106 + 6 q_90 q_107 + 6 q_90 q_108 + 6 q_90 q_109 + 6 q_90 q_110 + 6 q_90 q_111 + 6 q_90 q_112 + 6 q_90 q_113 + 6 q_90 q_114 + 6 q_90 q_115 + 6 q_90 q_116 + 6 q_90 q_117 + 6 q_90 q_118 + 6 q_90 q_119 + 6 q_91 q_92 + 6 q_91 q_93 + 6 q_91 q_94 + 6 q_91 q_95 + 6 q_91 q_96 + 6 q_91 q_97 + 6 q_91 q_98 + 6 q_91 q_99 + 6 q_91 q_100 + 6 q_91 q_101 + 6 q_91 q_102 + 6 q_91 q_103 + 6 q_91 q_104 + 6 q_91 q_105 + 6 q_91 q_106 + 6 q_91 q_107 + 6 q_91 q_108 + 6 q_91 q_109 + 6 q_91 q_110 + 6 q_91 q_111 + 6 q_91 q_112 + 6 q_91 q_113 + 6 q_91 q_114 + 6 q_91 q_115 + 6 q_91 q_116 + 6 q_91 q_117 + 6 q_91 q_118 + 6 q_91 q_119 + 6 q_92 q_93 + 6 q_92 q_94 + 6 q_92 q_95 + 6 q_92 q_96 + 6 q_92 q_97 + 6 q_92 q_98 + 6 q_92 q_99 + 6 q_92 q_100 + 6 q_92 q_101 + 6 q_92 q_102 + 6 q_92 q_103 + 6 q_92 q_104 + 6 q_92 q_105 + 6 q_92 q_106 + 6 q_92 q_107 + 6 q_92 q_108 + 6 q_92 q_109 + 6 q_92 q_110 + 6 q_92 q_111 + 6 q_92 q_112 + 6 q_92 q_113 + 6 q_92 q_114 + 6 q_92 q_115 + 6 q_92 q_116 + 6 q_92 q_117 + 6 q_92 q_118 + 6 q_92 q_119 + 6 q_93 q_94 + 6 q_93 q_95 + 6 q_93 q_96 + 6 q_93 q_97 + 6 q_93 q_98 + 6 q_93 q_99 + 6 q_93 q_100 + 6 q_93 q_101 + 6 q_93 q_102 + 6 q_93 q_103 + 6 q_93 q_104 + 6 q_93 q_105 + 6 q_93 q_106 + 6 q_93 q_107 + 6 q_93 q_108 + 6 q_93 q_109 + 6 q_93 q_110 + 6 q_93 q_111 + 6 q_93 q_112 + 6 q_93 q_113 + 6 q_93 q_114 + 6 q_93 q_115 + 6 q_93 q_116 + 6 q_93 q_117 + 6 q_93 q_118 + 6 q_93 q_119 + 6 q_94 q_95 + 6 q_94 q_96 + 6 q_94 q_97 + 6 q_94 q_98 + 6 q_94 q_99 + 6 q_94 q_100 + 6 q_94 q_101 + 6 q_94 q_102 + 6 q_94 q_103 + 6 q_94 q_104 + 6 q_94 q_105 + 6 q_94 q_106 + 6 q_94 q_107 + 6 q_94 q_108 + 6 q_94 q_109 + 6 q_94 q_110 + 6 q_94 q_111 + 6 q_94 q_112 + 6 q_94 q_113 + 6 q_94 q_114 + 6 q_94 q_115 + 6 q_94 q_116 + 6 q_94 q_117 + 6 q_94 q_118 + 6 q_94 q_119 + 6 q_95 q_96 + 6 q_95 q_97 + 6 q_95 q_98 + 6 q_95 q_99 + 6 q_95 q_100 + 6 q_95 q_101 + 6 q_95 q_102 + 6 q_95 q_103 + 6 q_95 q_104 + 6 q_95 q_105 + 6 q_95 q_106 + 6 q_95 q_107 + 6 q_95 q_108 + 6 q_95 q_109 + 6 q_95 q_110 + 6 q_95 q_111 + 6 q_95 q_112 + 6 q_95 q_113 + 6 q_95 q_114 + 6 q_95 q_115 + 6 q_95 q_116 + 6 q_95 q_117 + 6 q_95 q_118 + 6 q_95 q_119 + 6 q_96 q_97 + 6 q_96 q_98 + 6 q_96 q_99 + 6 q_96 q_100 + 6 q_96 q_101 + 6 q_96 q_102 + 6 q_96 q_103 + 6 q_96 q_104 + 6 q_96 q_105 + 6 q_96 q_106 + 6 q_96 q_107 + 6 q_96 q_108 + 6 q_96 q_109 + 6 q_96 q_110 + 6 q_96 q_111 + 6 q_96 q_112 + 6 q_96 q_113 + 6 q_96 q_114 + 6 q_96 q_115 + 6 q_96 q_116 + 6 q_96 q_117 + 6 q_96 q_118 + 6 q_96 q_119 + 6 q_97 q_98 + 6 q_97 q_99 + 6 q_97 q_100 + 6 q_97 q_101 + 6 q_97 q_102 + 6 q_97 q_103 + 6 q_97 q_104 + 6 q_97 q_105 + 6 q_97 q_106 + 6 q_97 q_107 + 6 q_97 q_108 + 6 q_97 q_109 + 6 q_97 q_110 + 6 q_97 q_111 + 6 q_97 q_112 + 6 q_97 q_113 + 6 q_97 q_114 + 6 q_97 q_115 + 6 q_97 q_116 + 6 q_97 q_117 + 6 q_97 q_118 + 6 q_97 q_119 + 6 q_98 q_99 + 6 q_98 q_100 + 6 q_98 q_101 + 6 q_98 q_102 + 6 q_98 q_103 + 6 q_98 q_104 + 6 q_98 q_105 + 6 q_98 q_106 + 6 q_98 q_107 + 6 q_98 q_108 + 6 q_98 q_109 + 6 q_98 q_110 + 6 q_98 q_111 + 6 q_98 q_112 + 6 q_98 q_113 + 6 q_98 q_114 + 6 q_98 q_115 + 6 q_98 q_116 + 6 q_98 q_117 + 6 q_98 q_118 + 6 q_98 q_119 + 6 q_99 q_100 + 6 q_99 q_101 + 6 q_99 q_102 + 6 q_99 q_103 + 6 q_99 q_104 + 6 q_99 q_105 + 6 q_99 q_106 + 6 q_99 q_107 + 6 q_99 q_108 + 6 q_99 q_109 + 6 q_99 q_110 + 6 q_99 q_111 + 6 q_99 q_112 + 6 q_99 q_113 + 6 q_99 q_114 + 6 q_99 q_115 + 6 q_99 q_116 + 6 q_99 q_117 + 6 q_99 q_118 + 6 q_99 q_119 + 6 q_100 q_101 + 6 q_100 q_102 + 6 q_100 q_103 + 6 q_100 q_104 + 6 q_100 q_105 + 6 q_100 q_106 + 6 q_100 q_107 + 6 q_100 q_108 + 6 q_100 q_109 + 6 q_100 q_110 + 6 q_100 q_111 + 6 q_100 q_112 + 6 q_100 q_113 + 6 q_100 q_114 + 6 q_100 q_115 + 6 q_100 q_116 + 6 q_100 q_117 + 6 q_100 q_118 + 6 q_100 q_119 + 6 q_101 q_102 + 6 q_101 q_103 + 6 q_101 q_104 + 6 q_101 q_105 + 6 q_101 q_106 + 6 q_101 q_107 + 6 q_101 q_108 + 6 q_101 q_109 + 6 q_101 q_110 + 6 q_101 q_111 + 6 q_101 q_112 + 6 q_101 q_113 + 6 q_101 q_114 + 6 q_101 q_115 + 6 q_101 q_116 + 6 q_101 q_117 + 6 q_101 q_118 + 6 q_101 q_119 + 6 q_102 q_103 + 6 q_102 q_104 + 6 q_102 q_105 + 6 q_102 q_106 + 6 q_102 q_107 + 6 q_102 q_108 + 6 q_102 q_109 + 6 q_102 q_110 + 6 q_102 q_111 + 6 q_102 q_112 + 6 q_102 q_113 + 6 q_102 q_114 + 6 q_102 q_115 + 6 q_102 q_116 + 6 q_102 q_117 + 6 q_102 q_118 + 6 q_102 q_119 + 6 q_103 q_104 + 6 q_103 q_105 + 6 q_103 q_106 + 6 q_103 q_107 + 6 q_103 q_108 + 6 q_103 q_109 + 6 q_103 q_110 + 6 q_103 q_111 + 6 q_103 q_112 + 6 q_103 q_113 + 6 q_103 q_114 + 6 q_103 q_115 + 6 q_103 q_116 + 6 q_103 q_117 + 6 q_103 q_118 + 6 q_103 q_119 + 6 q_104 q_105 + 6 q_104 q_106 + 6 q_104 q_107 + 6 q_104 q_108 + 6 q_104 q_109 + 6 q_104 q_110 + 6 q_104 q_111 + 6 q_104 q_112 + 6 q_104 q_113 + 6 q_104 q_114 + 6 q_104 q_115 + 6 q_104 q_116 + 6 q_104 q_117 + 6 q_104 q_118 + 6 q_104 q_119 + 6 q_105 q_106 + 6 q_105 q_107 + 6 q_105 q_108 + 6 q_105 q_109 + 6 q_105 q_110 + 6 q_105 q_111 + 6 q_105 q_112 + 6 q_105 q_113 + 6 q_105 q_114 + 6 q_105 q_115 + 6 q_105 q_116 + 6 q_105 q_117 + 6 q_105 q_118 + 6 q_105 q_119 + 6 q_106 q_107 + 6 q_106 q_108 + 6 q_106 q_109 + 6 q_106 q_110 + 6 q_106 q_111 + 6 q_106 q_112 + 6 q_106 q_113 + 6 q_106 q_114 + 6 q_106 q_115 + 6 q_106 q_116 + 6 q_106 q_117 + 6 q_106 q_118 + 6 q_106 q_119 + 6 q_107 q_108 + 6 q_107 q_109 + 6 q_107 q_110 + 6 q_107 q_111 + 6 q_107 q_112 + 6 q_107 q_113 + 6 q_107 q_114 + 6 q_107 q_115 + 6 q_107 q_116 + 6 q_107 q_117 + 6 q_107 q_118 + 6 q_107 q_119 + 6 q_108 q_109 + 6 q_108 q_110 + 6 q_108 q_111 + 6 q_108 q_112 + 6 q_108 q_113 + 6 q_108 q_114 + 6 q_108 q_115 + 6 q_108 q_116 + 6 q_108 q_117 + 6 q_108 q_118 + 6 q_108 q_119 + 6 q_109 q_110 + 6 q_109 q_111 + 6 q_109 q_112 + 6 q_109 q_113 + 6 q_109 q_114 + 6 q_109 q_115 + 6 q_109 q_116 + 6 q_109 q_117 + 6 q_109 q_118 + 6 q_109 q_119 + 6 q_110 q_111 + 6 q_110 q_112 + 6 q_110 q_113 + 6 q_110 q_114 + 6 q_110 q_115 + 6 q_110 q_116 + 6 q_110 q_117 + 6 q_110 q_118 + 6 q_110 q_119 + 6 q_111 q_112 + 6 q_111 q_113 + 6 q_111 q_114 + 6 q_111 q_115 + 6 q_111 q_116 + 6 q_111 q_117 + 6 q_111 q_118 + 6 q_111 q_119 + 6 q_112 q_113 + 6 q_112 q_114 + 6 q_112 q_115 + 6 q_112 q_116 + 6 q_112 q_117 + 6 q_112 q_118 + 6 q_112 q_119 + 6 q_113 q_114 + 6 q_113 q_115 + 6 q_113 q_116 + 6 q_113 q_117 + 6 q_113 q_118 + 6 q_113 q_119 + 6 q_114 q_115 + 6 q_114 q_116 + 6 q_114 q_117 + 6 q_114 q_118 + 6 q_114 q_119 + 6 q_115 q_116 + 6 q_115 q_117 + 6 q_115 q_118 + 6 q_115 q_119 + 6 q_116 q_117 + 6 q_116 q_118 + 6 q_116 q_119 + 6 q_117 q_118 + 6 q_117 q_119 + 6 q_118 q_119 + 3 q_0 + 3 q_1 + 3 q_2 + 3 q_3 + 3 q_4 + 3 q_5 + 3 q_6 + 3 q_7 + 3 q_8 + 3 q_9 + 3 q_10 + 3 q_11 + 3 q_12 + 3 q_13 + 3 q_14 + 3 q_15 + 3 q_16 + 3 q_17 + 3 q_18 + 3 q_19 + 3 q_20 + 3 q_21 + 3 q_22 + 3 q_23 + 3 q_24 + 3 q_25 + 3 q_26 + 3 q_27 + 3 q_28 + 3 q_29 + 3 q_30 + 3 q_31 + 3 q_32 + 3 q_33 + 3 q_34 + 3 q_35 + 3 q_36 + 3 q_37 + 3 q_38 + 3 q_39 + 3 q_40 + 3 q_41 + 3 q_42 + 3 q_43 + 3 q_44 + 3 q_45 + 3 q_46 + 3 q_47 + 3 q_48 + 3 q_49 + 3 q_50 + 3 q_51 + 3 q_52 + 3 q_53 + 3 q_54 + 3 q_55 + 3 q_56 + 3 q_57 + 3 q_58 + 3 q_59 + 3 q_60 + 3 q_61 + 3 q_62 + 3 q_63 + 3 q_64 + 3 q_65 + 3 q_66 + 3 q_67 + 3 q_68 + 3 q_69 + 3 q_70 + 3 q_71 + 3 q_72 + 3 q_73 + 3 q_74 + 3 q_75 + 3 q_76 + 3 q_77 + 3 q_78 + 3 q_79 + 3 q_80 + 3 q_81 + 3 q_82 + 3 q_83 + 3 q_84 + 3 q_85 + 3 q_86 + 3 q_87 + 3 q_88 + 3 q_89 + 3 q_90 + 3 q_91 + 3 q_92 + 3 q_93 + 3 q_94 + 3 q_95 + 3 q_96 + 3 q_97 + 3 q_98 + 3 q_99 + 3 q_100 + 3 q_101 + 3 q_102 + 3 q_103 + 3 q_104 + 3 q_105 + 3 q_106 + 3 q_107 + 3 q_108 + 3 q_109 + 3 q_110 + 3 q_111 + 3 q_112 + 3 q_113 + 3 q_114 + 3 q_115 + 3 q_116 + 3 q_117 + 3 q_118 + 3 q_119"
            ]
          },
          "metadata": {},
          "execution_count": 167
        }
      ]
    },
    {
      "cell_type": "markdown",
      "metadata": {
        "id": "pBMr1x64a7QO"
      },
      "source": [
        "### イジングマシンの実行\n",
        "\n",
        "イジングマシンのクライアントを `FixstarsClient` に設定し、さらにソルバーを作成して、以下のように問題を解きます。"
      ]
    },
    {
      "cell_type": "code",
      "metadata": {
        "id": "lDiP94MFaoya"
      },
      "source": [
        "# クライアントを設定\n",
        "client = FixstarsClient()\n",
        "client.parameters.timeout = 1000  # タイムアウト1秒\n",
        "client.parameters.outputs.duplicate = True # 同じエネルギー値の解を列挙\n",
        "client.token = \"***************\"  # Amplify AEのアクセストークンを入力してください\n",
        "\n",
        "# ソルバーを設定\n",
        "solver = Solver(client)"
      ],
      "execution_count": null,
      "outputs": []
    },
    {
      "cell_type": "markdown",
      "metadata": {
        "id": "GL3fikw-beSF"
      },
      "source": [
        "目的関数と制約条件を結合します。  \n",
        "数値の10は、制約条件の強さの係数です。10は適当に決めました。"
      ]
    },
    {
      "cell_type": "code",
      "metadata": {
        "id": "LmvD1QfQbS0D"
      },
      "source": [
        "model = cost + 10 * day_constraints"
      ],
      "execution_count": null,
      "outputs": []
    },
    {
      "cell_type": "markdown",
      "metadata": {
        "id": "uPiZzEOIb5Yz"
      },
      "source": [
        "問題をときます。\n",
        "\n",
        "解けない場合、例外を発生させます。"
      ]
    },
    {
      "cell_type": "code",
      "metadata": {
        "id": "-vHVw5m1bjJH"
      },
      "source": [
        "result = solver.solve(model)\n",
        "if len(result) == 0:\n",
        "    raise RuntimeError(\"条件を満たす解は見つかりませんでした。\")"
      ],
      "execution_count": null,
      "outputs": []
    },
    {
      "cell_type": "code",
      "metadata": {
        "colab": {
          "base_uri": "https://localhost:8080/"
        },
        "id": "TmhFJYb-dsZ_",
        "outputId": "0f052f11-677a-4304-e35b-3364ee1047f9"
      },
      "source": [
        "# 解の数\n",
        "len(result)"
      ],
      "execution_count": null,
      "outputs": [
        {
          "output_type": "execute_result",
          "data": {
            "text/plain": [
              "7145"
            ]
          },
          "metadata": {},
          "execution_count": 170
        }
      ]
    },
    {
      "cell_type": "code",
      "metadata": {
        "colab": {
          "base_uri": "https://localhost:8080/",
          "height": 255
        },
        "id": "QkPiKupucKbm",
        "outputId": "241f38f5-6f91-40fd-fde8-6fc916b0c005"
      },
      "source": [
        "# 解0の結果\n",
        "r0 = decode_solution(q, result[0].values)\n",
        "print(f\"f={result[0].energy}\") # 最適化関数の値\n",
        "get_calendar(r0)"
      ],
      "execution_count": null,
      "outputs": [
        {
          "output_type": "stream",
          "name": "stdout",
          "text": [
            "f=0.0\n"
          ]
        },
        {
          "output_type": "execute_result",
          "data": {
            "text/html": [
              "<div>\n",
              "<style scoped>\n",
              "    .dataframe tbody tr th:only-of-type {\n",
              "        vertical-align: middle;\n",
              "    }\n",
              "\n",
              "    .dataframe tbody tr th {\n",
              "        vertical-align: top;\n",
              "    }\n",
              "\n",
              "    .dataframe thead th {\n",
              "        text-align: right;\n",
              "    }\n",
              "</style>\n",
              "<table border=\"1\" class=\"dataframe\">\n",
              "  <thead>\n",
              "    <tr style=\"text-align: right;\">\n",
              "      <th></th>\n",
              "      <th>1(日)</th>\n",
              "      <th>2(月)</th>\n",
              "      <th>3(火)</th>\n",
              "      <th>4(水)</th>\n",
              "      <th>5(木)</th>\n",
              "      <th>6(金)</th>\n",
              "      <th>7(土)</th>\n",
              "      <th>8(日)</th>\n",
              "      <th>9(月)</th>\n",
              "      <th>10(火)</th>\n",
              "      <th>11(水)</th>\n",
              "      <th>12(木)</th>\n",
              "      <th>13(金)</th>\n",
              "      <th>14(土)</th>\n",
              "      <th>15(日)</th>\n",
              "      <th>16(月)</th>\n",
              "      <th>17(火)</th>\n",
              "      <th>18(水)</th>\n",
              "      <th>19(木)</th>\n",
              "      <th>20(金)</th>\n",
              "      <th>21(土)</th>\n",
              "      <th>22(日)</th>\n",
              "      <th>23(月)</th>\n",
              "      <th>24(火)</th>\n",
              "      <th>25(水)</th>\n",
              "      <th>26(木)</th>\n",
              "      <th>27(金)</th>\n",
              "      <th>28(土)</th>\n",
              "      <th>29(日)</th>\n",
              "      <th>30(月)</th>\n",
              "      <th>出勤日数</th>\n",
              "    </tr>\n",
              "  </thead>\n",
              "  <tbody>\n",
              "    <tr>\n",
              "      <th>A</th>\n",
              "      <td>0</td>\n",
              "      <td>0</td>\n",
              "      <td>0</td>\n",
              "      <td>0</td>\n",
              "      <td>0</td>\n",
              "      <td>1</td>\n",
              "      <td>1</td>\n",
              "      <td>1</td>\n",
              "      <td>0</td>\n",
              "      <td>0</td>\n",
              "      <td>1</td>\n",
              "      <td>1</td>\n",
              "      <td>1</td>\n",
              "      <td>0</td>\n",
              "      <td>1</td>\n",
              "      <td>1</td>\n",
              "      <td>0</td>\n",
              "      <td>0</td>\n",
              "      <td>1</td>\n",
              "      <td>1</td>\n",
              "      <td>0</td>\n",
              "      <td>1</td>\n",
              "      <td>0</td>\n",
              "      <td>1</td>\n",
              "      <td>0</td>\n",
              "      <td>0</td>\n",
              "      <td>1</td>\n",
              "      <td>1</td>\n",
              "      <td>1</td>\n",
              "      <td>0</td>\n",
              "      <td>15</td>\n",
              "    </tr>\n",
              "    <tr>\n",
              "      <th>B</th>\n",
              "      <td>1</td>\n",
              "      <td>1</td>\n",
              "      <td>1</td>\n",
              "      <td>1</td>\n",
              "      <td>1</td>\n",
              "      <td>1</td>\n",
              "      <td>0</td>\n",
              "      <td>0</td>\n",
              "      <td>0</td>\n",
              "      <td>0</td>\n",
              "      <td>1</td>\n",
              "      <td>0</td>\n",
              "      <td>0</td>\n",
              "      <td>1</td>\n",
              "      <td>1</td>\n",
              "      <td>0</td>\n",
              "      <td>0</td>\n",
              "      <td>0</td>\n",
              "      <td>0</td>\n",
              "      <td>0</td>\n",
              "      <td>1</td>\n",
              "      <td>1</td>\n",
              "      <td>1</td>\n",
              "      <td>1</td>\n",
              "      <td>1</td>\n",
              "      <td>0</td>\n",
              "      <td>0</td>\n",
              "      <td>1</td>\n",
              "      <td>0</td>\n",
              "      <td>0</td>\n",
              "      <td>15</td>\n",
              "    </tr>\n",
              "    <tr>\n",
              "      <th>C</th>\n",
              "      <td>1</td>\n",
              "      <td>1</td>\n",
              "      <td>0</td>\n",
              "      <td>1</td>\n",
              "      <td>1</td>\n",
              "      <td>0</td>\n",
              "      <td>0</td>\n",
              "      <td>1</td>\n",
              "      <td>1</td>\n",
              "      <td>1</td>\n",
              "      <td>0</td>\n",
              "      <td>1</td>\n",
              "      <td>1</td>\n",
              "      <td>0</td>\n",
              "      <td>0</td>\n",
              "      <td>0</td>\n",
              "      <td>1</td>\n",
              "      <td>1</td>\n",
              "      <td>0</td>\n",
              "      <td>0</td>\n",
              "      <td>0</td>\n",
              "      <td>0</td>\n",
              "      <td>0</td>\n",
              "      <td>0</td>\n",
              "      <td>0</td>\n",
              "      <td>1</td>\n",
              "      <td>1</td>\n",
              "      <td>0</td>\n",
              "      <td>1</td>\n",
              "      <td>1</td>\n",
              "      <td>15</td>\n",
              "    </tr>\n",
              "    <tr>\n",
              "      <th>D</th>\n",
              "      <td>0</td>\n",
              "      <td>0</td>\n",
              "      <td>1</td>\n",
              "      <td>0</td>\n",
              "      <td>0</td>\n",
              "      <td>0</td>\n",
              "      <td>1</td>\n",
              "      <td>0</td>\n",
              "      <td>1</td>\n",
              "      <td>1</td>\n",
              "      <td>0</td>\n",
              "      <td>0</td>\n",
              "      <td>0</td>\n",
              "      <td>1</td>\n",
              "      <td>0</td>\n",
              "      <td>1</td>\n",
              "      <td>1</td>\n",
              "      <td>1</td>\n",
              "      <td>1</td>\n",
              "      <td>1</td>\n",
              "      <td>1</td>\n",
              "      <td>0</td>\n",
              "      <td>1</td>\n",
              "      <td>0</td>\n",
              "      <td>1</td>\n",
              "      <td>1</td>\n",
              "      <td>0</td>\n",
              "      <td>0</td>\n",
              "      <td>0</td>\n",
              "      <td>1</td>\n",
              "      <td>15</td>\n",
              "    </tr>\n",
              "    <tr>\n",
              "      <th>出勤者数</th>\n",
              "      <td>2</td>\n",
              "      <td>2</td>\n",
              "      <td>2</td>\n",
              "      <td>2</td>\n",
              "      <td>2</td>\n",
              "      <td>2</td>\n",
              "      <td>2</td>\n",
              "      <td>2</td>\n",
              "      <td>2</td>\n",
              "      <td>2</td>\n",
              "      <td>2</td>\n",
              "      <td>2</td>\n",
              "      <td>2</td>\n",
              "      <td>2</td>\n",
              "      <td>2</td>\n",
              "      <td>2</td>\n",
              "      <td>2</td>\n",
              "      <td>2</td>\n",
              "      <td>2</td>\n",
              "      <td>2</td>\n",
              "      <td>2</td>\n",
              "      <td>2</td>\n",
              "      <td>2</td>\n",
              "      <td>2</td>\n",
              "      <td>2</td>\n",
              "      <td>2</td>\n",
              "      <td>2</td>\n",
              "      <td>2</td>\n",
              "      <td>2</td>\n",
              "      <td>2</td>\n",
              "      <td>60</td>\n",
              "    </tr>\n",
              "  </tbody>\n",
              "</table>\n",
              "</div>"
            ],
            "text/plain": [
              "      1(日)  2(月)  3(火)  4(水)  5(木)  ...  27(金)  28(土)  29(日)  30(月)  出勤日数\n",
              "A        0     0     0     0     0  ...      1      1      1      0    15\n",
              "B        1     1     1     1     1  ...      0      1      0      0    15\n",
              "C        1     1     0     1     1  ...      1      0      1      1    15\n",
              "D        0     0     1     0     0  ...      0      0      0      1    15\n",
              "出勤者数     2     2     2     2     2  ...      2      2      2      2    60\n",
              "\n",
              "[5 rows x 31 columns]"
            ]
          },
          "metadata": {},
          "execution_count": 171
        }
      ]
    },
    {
      "cell_type": "code",
      "metadata": {
        "colab": {
          "base_uri": "https://localhost:8080/",
          "height": 238
        },
        "id": "5yefFS3ddhoP",
        "outputId": "0932f37c-8e71-4545-c77b-034b330e04a9"
      },
      "source": [
        "# 解1の結果\n",
        "r1 = decode_solution(q, result[1].values)\n",
        "get_calendar(r1)"
      ],
      "execution_count": null,
      "outputs": [
        {
          "output_type": "execute_result",
          "data": {
            "text/html": [
              "<div>\n",
              "<style scoped>\n",
              "    .dataframe tbody tr th:only-of-type {\n",
              "        vertical-align: middle;\n",
              "    }\n",
              "\n",
              "    .dataframe tbody tr th {\n",
              "        vertical-align: top;\n",
              "    }\n",
              "\n",
              "    .dataframe thead th {\n",
              "        text-align: right;\n",
              "    }\n",
              "</style>\n",
              "<table border=\"1\" class=\"dataframe\">\n",
              "  <thead>\n",
              "    <tr style=\"text-align: right;\">\n",
              "      <th></th>\n",
              "      <th>1(日)</th>\n",
              "      <th>2(月)</th>\n",
              "      <th>3(火)</th>\n",
              "      <th>4(水)</th>\n",
              "      <th>5(木)</th>\n",
              "      <th>6(金)</th>\n",
              "      <th>7(土)</th>\n",
              "      <th>8(日)</th>\n",
              "      <th>9(月)</th>\n",
              "      <th>10(火)</th>\n",
              "      <th>11(水)</th>\n",
              "      <th>12(木)</th>\n",
              "      <th>13(金)</th>\n",
              "      <th>14(土)</th>\n",
              "      <th>15(日)</th>\n",
              "      <th>16(月)</th>\n",
              "      <th>17(火)</th>\n",
              "      <th>18(水)</th>\n",
              "      <th>19(木)</th>\n",
              "      <th>20(金)</th>\n",
              "      <th>21(土)</th>\n",
              "      <th>22(日)</th>\n",
              "      <th>23(月)</th>\n",
              "      <th>24(火)</th>\n",
              "      <th>25(水)</th>\n",
              "      <th>26(木)</th>\n",
              "      <th>27(金)</th>\n",
              "      <th>28(土)</th>\n",
              "      <th>29(日)</th>\n",
              "      <th>30(月)</th>\n",
              "      <th>出勤日数</th>\n",
              "    </tr>\n",
              "  </thead>\n",
              "  <tbody>\n",
              "    <tr>\n",
              "      <th>A</th>\n",
              "      <td>0</td>\n",
              "      <td>1</td>\n",
              "      <td>1</td>\n",
              "      <td>1</td>\n",
              "      <td>1</td>\n",
              "      <td>0</td>\n",
              "      <td>1</td>\n",
              "      <td>1</td>\n",
              "      <td>0</td>\n",
              "      <td>1</td>\n",
              "      <td>1</td>\n",
              "      <td>0</td>\n",
              "      <td>0</td>\n",
              "      <td>0</td>\n",
              "      <td>1</td>\n",
              "      <td>0</td>\n",
              "      <td>0</td>\n",
              "      <td>0</td>\n",
              "      <td>1</td>\n",
              "      <td>1</td>\n",
              "      <td>0</td>\n",
              "      <td>0</td>\n",
              "      <td>0</td>\n",
              "      <td>0</td>\n",
              "      <td>0</td>\n",
              "      <td>0</td>\n",
              "      <td>1</td>\n",
              "      <td>1</td>\n",
              "      <td>1</td>\n",
              "      <td>1</td>\n",
              "      <td>15</td>\n",
              "    </tr>\n",
              "    <tr>\n",
              "      <th>B</th>\n",
              "      <td>0</td>\n",
              "      <td>0</td>\n",
              "      <td>0</td>\n",
              "      <td>0</td>\n",
              "      <td>0</td>\n",
              "      <td>1</td>\n",
              "      <td>1</td>\n",
              "      <td>0</td>\n",
              "      <td>0</td>\n",
              "      <td>1</td>\n",
              "      <td>1</td>\n",
              "      <td>0</td>\n",
              "      <td>1</td>\n",
              "      <td>1</td>\n",
              "      <td>0</td>\n",
              "      <td>0</td>\n",
              "      <td>1</td>\n",
              "      <td>1</td>\n",
              "      <td>0</td>\n",
              "      <td>0</td>\n",
              "      <td>1</td>\n",
              "      <td>1</td>\n",
              "      <td>1</td>\n",
              "      <td>1</td>\n",
              "      <td>1</td>\n",
              "      <td>0</td>\n",
              "      <td>1</td>\n",
              "      <td>0</td>\n",
              "      <td>1</td>\n",
              "      <td>0</td>\n",
              "      <td>15</td>\n",
              "    </tr>\n",
              "    <tr>\n",
              "      <th>C</th>\n",
              "      <td>1</td>\n",
              "      <td>0</td>\n",
              "      <td>1</td>\n",
              "      <td>0</td>\n",
              "      <td>1</td>\n",
              "      <td>1</td>\n",
              "      <td>0</td>\n",
              "      <td>0</td>\n",
              "      <td>1</td>\n",
              "      <td>0</td>\n",
              "      <td>0</td>\n",
              "      <td>1</td>\n",
              "      <td>1</td>\n",
              "      <td>0</td>\n",
              "      <td>0</td>\n",
              "      <td>1</td>\n",
              "      <td>0</td>\n",
              "      <td>0</td>\n",
              "      <td>1</td>\n",
              "      <td>0</td>\n",
              "      <td>1</td>\n",
              "      <td>1</td>\n",
              "      <td>0</td>\n",
              "      <td>0</td>\n",
              "      <td>1</td>\n",
              "      <td>1</td>\n",
              "      <td>0</td>\n",
              "      <td>1</td>\n",
              "      <td>0</td>\n",
              "      <td>1</td>\n",
              "      <td>15</td>\n",
              "    </tr>\n",
              "    <tr>\n",
              "      <th>D</th>\n",
              "      <td>1</td>\n",
              "      <td>1</td>\n",
              "      <td>0</td>\n",
              "      <td>1</td>\n",
              "      <td>0</td>\n",
              "      <td>0</td>\n",
              "      <td>0</td>\n",
              "      <td>1</td>\n",
              "      <td>1</td>\n",
              "      <td>0</td>\n",
              "      <td>0</td>\n",
              "      <td>1</td>\n",
              "      <td>0</td>\n",
              "      <td>1</td>\n",
              "      <td>1</td>\n",
              "      <td>1</td>\n",
              "      <td>1</td>\n",
              "      <td>1</td>\n",
              "      <td>0</td>\n",
              "      <td>1</td>\n",
              "      <td>0</td>\n",
              "      <td>0</td>\n",
              "      <td>1</td>\n",
              "      <td>1</td>\n",
              "      <td>0</td>\n",
              "      <td>1</td>\n",
              "      <td>0</td>\n",
              "      <td>0</td>\n",
              "      <td>0</td>\n",
              "      <td>0</td>\n",
              "      <td>15</td>\n",
              "    </tr>\n",
              "    <tr>\n",
              "      <th>出勤者数</th>\n",
              "      <td>2</td>\n",
              "      <td>2</td>\n",
              "      <td>2</td>\n",
              "      <td>2</td>\n",
              "      <td>2</td>\n",
              "      <td>2</td>\n",
              "      <td>2</td>\n",
              "      <td>2</td>\n",
              "      <td>2</td>\n",
              "      <td>2</td>\n",
              "      <td>2</td>\n",
              "      <td>2</td>\n",
              "      <td>2</td>\n",
              "      <td>2</td>\n",
              "      <td>2</td>\n",
              "      <td>2</td>\n",
              "      <td>2</td>\n",
              "      <td>2</td>\n",
              "      <td>2</td>\n",
              "      <td>2</td>\n",
              "      <td>2</td>\n",
              "      <td>2</td>\n",
              "      <td>2</td>\n",
              "      <td>2</td>\n",
              "      <td>2</td>\n",
              "      <td>2</td>\n",
              "      <td>2</td>\n",
              "      <td>2</td>\n",
              "      <td>2</td>\n",
              "      <td>2</td>\n",
              "      <td>60</td>\n",
              "    </tr>\n",
              "  </tbody>\n",
              "</table>\n",
              "</div>"
            ],
            "text/plain": [
              "      1(日)  2(月)  3(火)  4(水)  5(木)  ...  27(金)  28(土)  29(日)  30(月)  出勤日数\n",
              "A        0     1     1     1     1  ...      1      1      1      1    15\n",
              "B        0     0     0     0     0  ...      1      0      1      0    15\n",
              "C        1     0     1     0     1  ...      0      1      0      1    15\n",
              "D        1     1     0     1     0  ...      0      0      0      0    15\n",
              "出勤者数     2     2     2     2     2  ...      2      2      2      2    60\n",
              "\n",
              "[5 rows x 31 columns]"
            ]
          },
          "metadata": {},
          "execution_count": 172
        }
      ]
    },
    {
      "cell_type": "markdown",
      "metadata": {
        "id": "9NrU_NhKeCMg"
      },
      "source": [
        "次に、以下の条件を追加します。\n",
        "\n",
        "* 連続６勤務以上は禁止\n",
        "* 担当者A：どの日でもOK\n",
        "* 担当者B：土日のみ出勤可\n",
        "* 担当者C：土日以外のみ出勤可\n",
        "* 担当者D：1日〜5日は休み"
      ]
    },
    {
      "cell_type": "markdown",
      "metadata": {
        "id": "khhHXZJTrTTV"
      },
      "source": [
        "## 連続６勤務以上は禁止の制約"
      ]
    },
    {
      "cell_type": "code",
      "metadata": {
        "id": "mRfZTy38rcat"
      },
      "source": [
        "# 連続6勤務だと、q[p][d] * q[p][d+1] * q[p][d+2] * q[p][d+3]  * q[p][d+4] * q[p][d+5] ≠ 0 になる\n",
        "# penalty関数で0とする\n",
        "overwork_constraints =  sum(\n",
        "    [penalty(q[p][d] * q[p][d+1] * q[p][d+2] * q[p][d+3]  * q[p][d+4] * q[p][d+5]) for d in range(Nd - 5) for p in range(Np)]\n",
        ")"
      ],
      "execution_count": null,
      "outputs": []
    },
    {
      "cell_type": "code",
      "metadata": {
        "colab": {
          "base_uri": "https://localhost:8080/"
        },
        "id": "9jaMAN7rtuQ2",
        "outputId": "3a53fd15-3e4e-4743-a737-713aa58c36f9"
      },
      "source": [
        "overwork_constraints"
      ],
      "execution_count": null,
      "outputs": [
        {
          "output_type": "execute_result",
          "data": {
            "text/plain": [
              "[(q_0 q_1 q_2 q_3 q_4 q_5 == 0, 1), (q_30 q_31 q_32 q_33 q_34 q_35 == 0, 1), (q_60 q_61 q_62 q_63 q_64 q_65 == 0, 1), (q_90 q_91 q_92 q_93 q_94 q_95 == 0, 1), (q_1 q_2 q_3 q_4 q_5 q_6 == 0, 1), (q_31 q_32 q_33 q_34 q_35 q_36 == 0, 1), (q_61 q_62 q_63 q_64 q_65 q_66 == 0, 1), (q_91 q_92 q_93 q_94 q_95 q_96 == 0, 1), (q_2 q_3 q_4 q_5 q_6 q_7 == 0, 1), (q_32 q_33 q_34 q_35 q_36 q_37 == 0, 1), (q_62 q_63 q_64 q_65 q_66 q_67 == 0, 1), (q_92 q_93 q_94 q_95 q_96 q_97 == 0, 1), (q_3 q_4 q_5 q_6 q_7 q_8 == 0, 1), (q_33 q_34 q_35 q_36 q_37 q_38 == 0, 1), (q_63 q_64 q_65 q_66 q_67 q_68 == 0, 1), (q_93 q_94 q_95 q_96 q_97 q_98 == 0, 1), (q_4 q_5 q_6 q_7 q_8 q_9 == 0, 1), (q_34 q_35 q_36 q_37 q_38 q_39 == 0, 1), (q_64 q_65 q_66 q_67 q_68 q_69 == 0, 1), (q_94 q_95 q_96 q_97 q_98 q_99 == 0, 1), (q_5 q_6 q_7 q_8 q_9 q_10 == 0, 1), (q_35 q_36 q_37 q_38 q_39 q_40 == 0, 1), (q_65 q_66 q_67 q_68 q_69 q_70 == 0, 1), (q_95 q_96 q_97 q_98 q_99 q_100 == 0, 1), (q_6 q_7 q_8 q_9 q_10 q_11 == 0, 1), (q_36 q_37 q_38 q_39 q_40 q_41 == 0, 1), (q_66 q_67 q_68 q_69 q_70 q_71 == 0, 1), (q_96 q_97 q_98 q_99 q_100 q_101 == 0, 1), (q_7 q_8 q_9 q_10 q_11 q_12 == 0, 1), (q_37 q_38 q_39 q_40 q_41 q_42 == 0, 1), (q_67 q_68 q_69 q_70 q_71 q_72 == 0, 1), (q_97 q_98 q_99 q_100 q_101 q_102 == 0, 1), (q_8 q_9 q_10 q_11 q_12 q_13 == 0, 1), (q_38 q_39 q_40 q_41 q_42 q_43 == 0, 1), (q_68 q_69 q_70 q_71 q_72 q_73 == 0, 1), (q_98 q_99 q_100 q_101 q_102 q_103 == 0, 1), (q_9 q_10 q_11 q_12 q_13 q_14 == 0, 1), (q_39 q_40 q_41 q_42 q_43 q_44 == 0, 1), (q_69 q_70 q_71 q_72 q_73 q_74 == 0, 1), (q_99 q_100 q_101 q_102 q_103 q_104 == 0, 1), (q_10 q_11 q_12 q_13 q_14 q_15 == 0, 1), (q_40 q_41 q_42 q_43 q_44 q_45 == 0, 1), (q_70 q_71 q_72 q_73 q_74 q_75 == 0, 1), (q_100 q_101 q_102 q_103 q_104 q_105 == 0, 1), (q_11 q_12 q_13 q_14 q_15 q_16 == 0, 1), (q_41 q_42 q_43 q_44 q_45 q_46 == 0, 1), (q_71 q_72 q_73 q_74 q_75 q_76 == 0, 1), (q_101 q_102 q_103 q_104 q_105 q_106 == 0, 1), (q_12 q_13 q_14 q_15 q_16 q_17 == 0, 1), (q_42 q_43 q_44 q_45 q_46 q_47 == 0, 1), (q_72 q_73 q_74 q_75 q_76 q_77 == 0, 1), (q_102 q_103 q_104 q_105 q_106 q_107 == 0, 1), (q_13 q_14 q_15 q_16 q_17 q_18 == 0, 1), (q_43 q_44 q_45 q_46 q_47 q_48 == 0, 1), (q_73 q_74 q_75 q_76 q_77 q_78 == 0, 1), (q_103 q_104 q_105 q_106 q_107 q_108 == 0, 1), (q_14 q_15 q_16 q_17 q_18 q_19 == 0, 1), (q_44 q_45 q_46 q_47 q_48 q_49 == 0, 1), (q_74 q_75 q_76 q_77 q_78 q_79 == 0, 1), (q_104 q_105 q_106 q_107 q_108 q_109 == 0, 1), (q_15 q_16 q_17 q_18 q_19 q_20 == 0, 1), (q_45 q_46 q_47 q_48 q_49 q_50 == 0, 1), (q_75 q_76 q_77 q_78 q_79 q_80 == 0, 1), (q_105 q_106 q_107 q_108 q_109 q_110 == 0, 1), (q_16 q_17 q_18 q_19 q_20 q_21 == 0, 1), (q_46 q_47 q_48 q_49 q_50 q_51 == 0, 1), (q_76 q_77 q_78 q_79 q_80 q_81 == 0, 1), (q_106 q_107 q_108 q_109 q_110 q_111 == 0, 1), (q_17 q_18 q_19 q_20 q_21 q_22 == 0, 1), (q_47 q_48 q_49 q_50 q_51 q_52 == 0, 1), (q_77 q_78 q_79 q_80 q_81 q_82 == 0, 1), (q_107 q_108 q_109 q_110 q_111 q_112 == 0, 1), (q_18 q_19 q_20 q_21 q_22 q_23 == 0, 1), (q_48 q_49 q_50 q_51 q_52 q_53 == 0, 1), (q_78 q_79 q_80 q_81 q_82 q_83 == 0, 1), (q_108 q_109 q_110 q_111 q_112 q_113 == 0, 1), (q_19 q_20 q_21 q_22 q_23 q_24 == 0, 1), (q_49 q_50 q_51 q_52 q_53 q_54 == 0, 1), (q_79 q_80 q_81 q_82 q_83 q_84 == 0, 1), (q_109 q_110 q_111 q_112 q_113 q_114 == 0, 1), (q_20 q_21 q_22 q_23 q_24 q_25 == 0, 1), (q_50 q_51 q_52 q_53 q_54 q_55 == 0, 1), (q_80 q_81 q_82 q_83 q_84 q_85 == 0, 1), (q_110 q_111 q_112 q_113 q_114 q_115 == 0, 1), (q_21 q_22 q_23 q_24 q_25 q_26 == 0, 1), (q_51 q_52 q_53 q_54 q_55 q_56 == 0, 1), (q_81 q_82 q_83 q_84 q_85 q_86 == 0, 1), (q_111 q_112 q_113 q_114 q_115 q_116 == 0, 1), (q_22 q_23 q_24 q_25 q_26 q_27 == 0, 1), (q_52 q_53 q_54 q_55 q_56 q_57 == 0, 1), (q_82 q_83 q_84 q_85 q_86 q_87 == 0, 1), (q_112 q_113 q_114 q_115 q_116 q_117 == 0, 1), (q_23 q_24 q_25 q_26 q_27 q_28 == 0, 1), (q_53 q_54 q_55 q_56 q_57 q_58 == 0, 1), (q_83 q_84 q_85 q_86 q_87 q_88 == 0, 1), (q_113 q_114 q_115 q_116 q_117 q_118 == 0, 1), (q_24 q_25 q_26 q_27 q_28 q_29 == 0, 1), (q_54 q_55 q_56 q_57 q_58 q_59 == 0, 1), (q_84 q_85 q_86 q_87 q_88 q_89 == 0, 1), (q_114 q_115 q_116 q_117 q_118 q_119 == 0, 1)]"
            ]
          },
          "metadata": {},
          "execution_count": 124
        }
      ]
    },
    {
      "cell_type": "markdown",
      "metadata": {
        "id": "IOz1_ZGsfCa6"
      },
      "source": [
        "## 担当者Bの制約"
      ]
    },
    {
      "cell_type": "code",
      "metadata": {
        "colab": {
          "base_uri": "https://localhost:8080/"
        },
        "id": "mid3VTw9dlKp",
        "outputId": "2eb30f5d-ba9b-4225-cc05-26244e74140d"
      },
      "source": [
        "# 土日のみの配列\n",
        "[d for d in range(Nd) if (d % 7 == 0 or (d + 1) % 7 == 0)]"
      ],
      "execution_count": null,
      "outputs": [
        {
          "output_type": "execute_result",
          "data": {
            "text/plain": [
              "[0, 6, 7, 13, 14, 20, 21, 27, 28]"
            ]
          },
          "metadata": {},
          "execution_count": 125
        }
      ]
    },
    {
      "cell_type": "code",
      "metadata": {
        "colab": {
          "base_uri": "https://localhost:8080/"
        },
        "id": "QvzhICmrfwYO",
        "outputId": "2d404730-2a97-4031-eaa5-b537c2f7bbbd"
      },
      "source": [
        "# 土日以外の配列\n",
        "[d for d in range(Nd) if (d % 7 != 0 and (d + 1) % 7 != 0)]"
      ],
      "execution_count": null,
      "outputs": [
        {
          "output_type": "execute_result",
          "data": {
            "text/plain": [
              "[1, 2, 3, 4, 5, 8, 9, 10, 11, 12, 15, 16, 17, 18, 19, 22, 23, 24, 25, 26, 29]"
            ]
          },
          "metadata": {},
          "execution_count": 126
        }
      ]
    },
    {
      "cell_type": "code",
      "metadata": {
        "id": "5W05FqE6fIet"
      },
      "source": [
        "# B:土日のみ出勤する制約条件\n",
        "# 土日以外は、penalty関数で0とする\n",
        "b_constraints =  sum(\n",
        "    [penalty(q[1][d]) for d in range(Nd) if (d % 7 != 0 and (d + 1) % 7 != 0)]\n",
        ")"
      ],
      "execution_count": null,
      "outputs": []
    },
    {
      "cell_type": "code",
      "metadata": {
        "colab": {
          "base_uri": "https://localhost:8080/"
        },
        "id": "BbGeti8U0_A2",
        "outputId": "b7f0e72f-29dd-49d9-b1d8-024e86e82dd5"
      },
      "source": [
        "b_constraints"
      ],
      "execution_count": null,
      "outputs": [
        {
          "output_type": "execute_result",
          "data": {
            "text/plain": [
              "[(q_31 == 0, 1), (q_32 == 0, 1), (q_33 == 0, 1), (q_34 == 0, 1), (q_35 == 0, 1), (q_38 == 0, 1), (q_39 == 0, 1), (q_40 == 0, 1), (q_41 == 0, 1), (q_42 == 0, 1), (q_45 == 0, 1), (q_46 == 0, 1), (q_47 == 0, 1), (q_48 == 0, 1), (q_49 == 0, 1), (q_52 == 0, 1), (q_53 == 0, 1), (q_54 == 0, 1), (q_55 == 0, 1), (q_56 == 0, 1), (q_59 == 0, 1)]"
            ]
          },
          "metadata": {},
          "execution_count": 141
        }
      ]
    },
    {
      "cell_type": "markdown",
      "metadata": {
        "id": "fsibeGRWfSya"
      },
      "source": [
        "## 担当者Cの制約"
      ]
    },
    {
      "cell_type": "code",
      "metadata": {
        "id": "3Bi7WWIjfZ8j"
      },
      "source": [
        "# C:土日以外のみ出勤する制約条件\n",
        "# 土日はequal_to関数で0とする、equal_to(q[2][d], 0)はpenalty(q[2][d])と同じ\n",
        "c_constraints =  sum(\n",
        "    [equal_to(q[2][d], 0) for d in range(Nd) if (d % 7 == 0 or (d + 1) % 7 == 0)]\n",
        ")"
      ],
      "execution_count": null,
      "outputs": []
    },
    {
      "cell_type": "code",
      "metadata": {
        "colab": {
          "base_uri": "https://localhost:8080/"
        },
        "id": "E4kUPWxa1Bn2",
        "outputId": "2d850a73-0ad8-43c8-829f-6141c7470c74"
      },
      "source": [
        "c_constraints"
      ],
      "execution_count": null,
      "outputs": [
        {
          "output_type": "execute_result",
          "data": {
            "text/plain": [
              "[(q_60 == 0, 1), (q_66 == 0, 1), (q_67 == 0, 1), (q_73 == 0, 1), (q_74 == 0, 1), (q_80 == 0, 1), (q_81 == 0, 1), (q_87 == 0, 1), (q_88 == 0, 1)]"
            ]
          },
          "metadata": {},
          "execution_count": 144
        }
      ]
    },
    {
      "cell_type": "markdown",
      "metadata": {
        "id": "CylpHVn9e46d"
      },
      "source": [
        "## 担当者Dの制約\n"
      ]
    },
    {
      "cell_type": "code",
      "metadata": {
        "id": "GwV2qydqek0_"
      },
      "source": [
        "# 0-4はpenalty関数で0とする\n",
        "d_constraints =  sum(\n",
        "    [penalty(q[3][d]) for d in range(5)]\n",
        ")"
      ],
      "execution_count": null,
      "outputs": []
    },
    {
      "cell_type": "code",
      "metadata": {
        "colab": {
          "base_uri": "https://localhost:8080/"
        },
        "id": "HKtYqt0Z1g3L",
        "outputId": "460c1009-8417-4933-d0b9-af5e4d999cb6"
      },
      "source": [
        "d_constraints"
      ],
      "execution_count": null,
      "outputs": [
        {
          "output_type": "execute_result",
          "data": {
            "text/plain": [
              "[(q_90 == 0, 1), (q_91 == 0, 1), (q_92 == 0, 1), (q_93 == 0, 1), (q_94 == 0, 1)]"
            ]
          },
          "metadata": {},
          "execution_count": 146
        }
      ]
    },
    {
      "cell_type": "markdown",
      "metadata": {
        "id": "lnIFVyc1gqFY"
      },
      "source": [
        "### イジングマシンの実行"
      ]
    },
    {
      "cell_type": "code",
      "metadata": {
        "colab": {
          "base_uri": "https://localhost:8080/"
        },
        "id": "ZqpkgPRZgXLt",
        "outputId": "4e91ac13-d960-4820-a0a6-faacf8d9d3f4"
      },
      "source": [
        "# 目的関数と制約条件を結合\n",
        "model = cost + 1 * overwork_constraints +10 * day_constraints + 100 * b_constraints+ 10 * c_constraints + 20 * d_constraints\n",
        "result = solver.solve(model)\n",
        "if len(result) == 0:\n",
        "    raise RuntimeError(\"条件を満たす解は見つかりませんでした。\")\n",
        "print(f\"f={result[0].energy}\") # 最適化関数の値"
      ],
      "execution_count": null,
      "outputs": [
        {
          "output_type": "stream",
          "name": "stdout",
          "text": [
            "f=192.0\n"
          ]
        }
      ]
    },
    {
      "cell_type": "code",
      "metadata": {
        "colab": {
          "base_uri": "https://localhost:8080/"
        },
        "id": "kkEyfv7royRR",
        "outputId": "a688f582-14ef-49f2-cc73-ca0257f0aae0"
      },
      "source": [
        "# 解の数\n",
        "len(result)"
      ],
      "execution_count": null,
      "outputs": [
        {
          "output_type": "execute_result",
          "data": {
            "text/plain": [
              "492"
            ]
          },
          "metadata": {},
          "execution_count": 148
        }
      ]
    },
    {
      "cell_type": "code",
      "metadata": {
        "colab": {
          "base_uri": "https://localhost:8080/",
          "height": 238
        },
        "id": "GluWfjjwnSwT",
        "outputId": "e990b074-b53f-4cce-e1b7-8ee221c19a53"
      },
      "source": [
        "# 解0の結果\n",
        "r0 = decode_solution(q, result[0].values)\n",
        "get_calendar(r0)"
      ],
      "execution_count": null,
      "outputs": [
        {
          "output_type": "execute_result",
          "data": {
            "text/html": [
              "<div>\n",
              "<style scoped>\n",
              "    .dataframe tbody tr th:only-of-type {\n",
              "        vertical-align: middle;\n",
              "    }\n",
              "\n",
              "    .dataframe tbody tr th {\n",
              "        vertical-align: top;\n",
              "    }\n",
              "\n",
              "    .dataframe thead th {\n",
              "        text-align: right;\n",
              "    }\n",
              "</style>\n",
              "<table border=\"1\" class=\"dataframe\">\n",
              "  <thead>\n",
              "    <tr style=\"text-align: right;\">\n",
              "      <th></th>\n",
              "      <th>1(日)</th>\n",
              "      <th>2(月)</th>\n",
              "      <th>3(火)</th>\n",
              "      <th>4(水)</th>\n",
              "      <th>5(木)</th>\n",
              "      <th>6(金)</th>\n",
              "      <th>7(土)</th>\n",
              "      <th>8(日)</th>\n",
              "      <th>9(月)</th>\n",
              "      <th>10(火)</th>\n",
              "      <th>11(水)</th>\n",
              "      <th>12(木)</th>\n",
              "      <th>13(金)</th>\n",
              "      <th>14(土)</th>\n",
              "      <th>15(日)</th>\n",
              "      <th>16(月)</th>\n",
              "      <th>17(火)</th>\n",
              "      <th>18(水)</th>\n",
              "      <th>19(木)</th>\n",
              "      <th>20(金)</th>\n",
              "      <th>21(土)</th>\n",
              "      <th>22(日)</th>\n",
              "      <th>23(月)</th>\n",
              "      <th>24(火)</th>\n",
              "      <th>25(水)</th>\n",
              "      <th>26(木)</th>\n",
              "      <th>27(金)</th>\n",
              "      <th>28(土)</th>\n",
              "      <th>29(日)</th>\n",
              "      <th>30(月)</th>\n",
              "      <th>出勤日数</th>\n",
              "    </tr>\n",
              "  </thead>\n",
              "  <tbody>\n",
              "    <tr>\n",
              "      <th>A</th>\n",
              "      <td>1</td>\n",
              "      <td>1</td>\n",
              "      <td>1</td>\n",
              "      <td>1</td>\n",
              "      <td>1</td>\n",
              "      <td>0</td>\n",
              "      <td>0</td>\n",
              "      <td>0</td>\n",
              "      <td>1</td>\n",
              "      <td>1</td>\n",
              "      <td>1</td>\n",
              "      <td>1</td>\n",
              "      <td>0</td>\n",
              "      <td>0</td>\n",
              "      <td>1</td>\n",
              "      <td>1</td>\n",
              "      <td>0</td>\n",
              "      <td>1</td>\n",
              "      <td>1</td>\n",
              "      <td>0</td>\n",
              "      <td>1</td>\n",
              "      <td>0</td>\n",
              "      <td>0</td>\n",
              "      <td>1</td>\n",
              "      <td>1</td>\n",
              "      <td>1</td>\n",
              "      <td>0</td>\n",
              "      <td>0</td>\n",
              "      <td>0</td>\n",
              "      <td>0</td>\n",
              "      <td>17</td>\n",
              "    </tr>\n",
              "    <tr>\n",
              "      <th>B</th>\n",
              "      <td>1</td>\n",
              "      <td>0</td>\n",
              "      <td>0</td>\n",
              "      <td>0</td>\n",
              "      <td>0</td>\n",
              "      <td>0</td>\n",
              "      <td>1</td>\n",
              "      <td>1</td>\n",
              "      <td>0</td>\n",
              "      <td>0</td>\n",
              "      <td>0</td>\n",
              "      <td>0</td>\n",
              "      <td>0</td>\n",
              "      <td>1</td>\n",
              "      <td>1</td>\n",
              "      <td>0</td>\n",
              "      <td>0</td>\n",
              "      <td>0</td>\n",
              "      <td>0</td>\n",
              "      <td>0</td>\n",
              "      <td>1</td>\n",
              "      <td>1</td>\n",
              "      <td>0</td>\n",
              "      <td>0</td>\n",
              "      <td>0</td>\n",
              "      <td>0</td>\n",
              "      <td>0</td>\n",
              "      <td>1</td>\n",
              "      <td>1</td>\n",
              "      <td>0</td>\n",
              "      <td>9</td>\n",
              "    </tr>\n",
              "    <tr>\n",
              "      <th>C</th>\n",
              "      <td>0</td>\n",
              "      <td>1</td>\n",
              "      <td>1</td>\n",
              "      <td>1</td>\n",
              "      <td>1</td>\n",
              "      <td>1</td>\n",
              "      <td>0</td>\n",
              "      <td>0</td>\n",
              "      <td>0</td>\n",
              "      <td>1</td>\n",
              "      <td>1</td>\n",
              "      <td>0</td>\n",
              "      <td>1</td>\n",
              "      <td>0</td>\n",
              "      <td>0</td>\n",
              "      <td>1</td>\n",
              "      <td>1</td>\n",
              "      <td>1</td>\n",
              "      <td>1</td>\n",
              "      <td>1</td>\n",
              "      <td>0</td>\n",
              "      <td>0</td>\n",
              "      <td>1</td>\n",
              "      <td>0</td>\n",
              "      <td>0</td>\n",
              "      <td>1</td>\n",
              "      <td>1</td>\n",
              "      <td>0</td>\n",
              "      <td>0</td>\n",
              "      <td>1</td>\n",
              "      <td>17</td>\n",
              "    </tr>\n",
              "    <tr>\n",
              "      <th>D</th>\n",
              "      <td>0</td>\n",
              "      <td>0</td>\n",
              "      <td>0</td>\n",
              "      <td>0</td>\n",
              "      <td>0</td>\n",
              "      <td>1</td>\n",
              "      <td>1</td>\n",
              "      <td>1</td>\n",
              "      <td>1</td>\n",
              "      <td>0</td>\n",
              "      <td>0</td>\n",
              "      <td>1</td>\n",
              "      <td>1</td>\n",
              "      <td>1</td>\n",
              "      <td>0</td>\n",
              "      <td>0</td>\n",
              "      <td>1</td>\n",
              "      <td>0</td>\n",
              "      <td>0</td>\n",
              "      <td>1</td>\n",
              "      <td>0</td>\n",
              "      <td>1</td>\n",
              "      <td>1</td>\n",
              "      <td>1</td>\n",
              "      <td>1</td>\n",
              "      <td>0</td>\n",
              "      <td>1</td>\n",
              "      <td>1</td>\n",
              "      <td>1</td>\n",
              "      <td>1</td>\n",
              "      <td>17</td>\n",
              "    </tr>\n",
              "    <tr>\n",
              "      <th>出勤者数</th>\n",
              "      <td>2</td>\n",
              "      <td>2</td>\n",
              "      <td>2</td>\n",
              "      <td>2</td>\n",
              "      <td>2</td>\n",
              "      <td>2</td>\n",
              "      <td>2</td>\n",
              "      <td>2</td>\n",
              "      <td>2</td>\n",
              "      <td>2</td>\n",
              "      <td>2</td>\n",
              "      <td>2</td>\n",
              "      <td>2</td>\n",
              "      <td>2</td>\n",
              "      <td>2</td>\n",
              "      <td>2</td>\n",
              "      <td>2</td>\n",
              "      <td>2</td>\n",
              "      <td>2</td>\n",
              "      <td>2</td>\n",
              "      <td>2</td>\n",
              "      <td>2</td>\n",
              "      <td>2</td>\n",
              "      <td>2</td>\n",
              "      <td>2</td>\n",
              "      <td>2</td>\n",
              "      <td>2</td>\n",
              "      <td>2</td>\n",
              "      <td>2</td>\n",
              "      <td>2</td>\n",
              "      <td>60</td>\n",
              "    </tr>\n",
              "  </tbody>\n",
              "</table>\n",
              "</div>"
            ],
            "text/plain": [
              "      1(日)  2(月)  3(火)  4(水)  5(木)  ...  27(金)  28(土)  29(日)  30(月)  出勤日数\n",
              "A        1     1     1     1     1  ...      0      0      0      0    17\n",
              "B        1     0     0     0     0  ...      0      1      1      0     9\n",
              "C        0     1     1     1     1  ...      1      0      0      1    17\n",
              "D        0     0     0     0     0  ...      1      1      1      1    17\n",
              "出勤者数     2     2     2     2     2  ...      2      2      2      2    60\n",
              "\n",
              "[5 rows x 31 columns]"
            ]
          },
          "metadata": {},
          "execution_count": 149
        }
      ]
    },
    {
      "cell_type": "code",
      "metadata": {
        "colab": {
          "base_uri": "https://localhost:8080/",
          "height": 238
        },
        "id": "4t2uSb_Sg6LZ",
        "outputId": "b297fdb3-1c38-43c9-9571-0dcb02fed034"
      },
      "source": [
        "# 解1の結果\n",
        "r1 = decode_solution(q, result[1].values)\n",
        "get_calendar(r1)"
      ],
      "execution_count": null,
      "outputs": [
        {
          "output_type": "execute_result",
          "data": {
            "text/html": [
              "<div>\n",
              "<style scoped>\n",
              "    .dataframe tbody tr th:only-of-type {\n",
              "        vertical-align: middle;\n",
              "    }\n",
              "\n",
              "    .dataframe tbody tr th {\n",
              "        vertical-align: top;\n",
              "    }\n",
              "\n",
              "    .dataframe thead th {\n",
              "        text-align: right;\n",
              "    }\n",
              "</style>\n",
              "<table border=\"1\" class=\"dataframe\">\n",
              "  <thead>\n",
              "    <tr style=\"text-align: right;\">\n",
              "      <th></th>\n",
              "      <th>1(日)</th>\n",
              "      <th>2(月)</th>\n",
              "      <th>3(火)</th>\n",
              "      <th>4(水)</th>\n",
              "      <th>5(木)</th>\n",
              "      <th>6(金)</th>\n",
              "      <th>7(土)</th>\n",
              "      <th>8(日)</th>\n",
              "      <th>9(月)</th>\n",
              "      <th>10(火)</th>\n",
              "      <th>11(水)</th>\n",
              "      <th>12(木)</th>\n",
              "      <th>13(金)</th>\n",
              "      <th>14(土)</th>\n",
              "      <th>15(日)</th>\n",
              "      <th>16(月)</th>\n",
              "      <th>17(火)</th>\n",
              "      <th>18(水)</th>\n",
              "      <th>19(木)</th>\n",
              "      <th>20(金)</th>\n",
              "      <th>21(土)</th>\n",
              "      <th>22(日)</th>\n",
              "      <th>23(月)</th>\n",
              "      <th>24(火)</th>\n",
              "      <th>25(水)</th>\n",
              "      <th>26(木)</th>\n",
              "      <th>27(金)</th>\n",
              "      <th>28(土)</th>\n",
              "      <th>29(日)</th>\n",
              "      <th>30(月)</th>\n",
              "      <th>出勤日数</th>\n",
              "    </tr>\n",
              "  </thead>\n",
              "  <tbody>\n",
              "    <tr>\n",
              "      <th>A</th>\n",
              "      <td>1</td>\n",
              "      <td>1</td>\n",
              "      <td>1</td>\n",
              "      <td>1</td>\n",
              "      <td>1</td>\n",
              "      <td>0</td>\n",
              "      <td>0</td>\n",
              "      <td>1</td>\n",
              "      <td>0</td>\n",
              "      <td>0</td>\n",
              "      <td>1</td>\n",
              "      <td>1</td>\n",
              "      <td>0</td>\n",
              "      <td>1</td>\n",
              "      <td>1</td>\n",
              "      <td>0</td>\n",
              "      <td>1</td>\n",
              "      <td>0</td>\n",
              "      <td>1</td>\n",
              "      <td>1</td>\n",
              "      <td>1</td>\n",
              "      <td>0</td>\n",
              "      <td>1</td>\n",
              "      <td>0</td>\n",
              "      <td>1</td>\n",
              "      <td>0</td>\n",
              "      <td>1</td>\n",
              "      <td>0</td>\n",
              "      <td>0</td>\n",
              "      <td>0</td>\n",
              "      <td>17</td>\n",
              "    </tr>\n",
              "    <tr>\n",
              "      <th>B</th>\n",
              "      <td>1</td>\n",
              "      <td>0</td>\n",
              "      <td>0</td>\n",
              "      <td>0</td>\n",
              "      <td>0</td>\n",
              "      <td>0</td>\n",
              "      <td>1</td>\n",
              "      <td>1</td>\n",
              "      <td>0</td>\n",
              "      <td>0</td>\n",
              "      <td>0</td>\n",
              "      <td>0</td>\n",
              "      <td>0</td>\n",
              "      <td>1</td>\n",
              "      <td>1</td>\n",
              "      <td>0</td>\n",
              "      <td>0</td>\n",
              "      <td>0</td>\n",
              "      <td>0</td>\n",
              "      <td>0</td>\n",
              "      <td>1</td>\n",
              "      <td>1</td>\n",
              "      <td>0</td>\n",
              "      <td>0</td>\n",
              "      <td>0</td>\n",
              "      <td>0</td>\n",
              "      <td>0</td>\n",
              "      <td>1</td>\n",
              "      <td>1</td>\n",
              "      <td>0</td>\n",
              "      <td>9</td>\n",
              "    </tr>\n",
              "    <tr>\n",
              "      <th>C</th>\n",
              "      <td>0</td>\n",
              "      <td>1</td>\n",
              "      <td>1</td>\n",
              "      <td>1</td>\n",
              "      <td>1</td>\n",
              "      <td>1</td>\n",
              "      <td>0</td>\n",
              "      <td>0</td>\n",
              "      <td>1</td>\n",
              "      <td>1</td>\n",
              "      <td>0</td>\n",
              "      <td>0</td>\n",
              "      <td>1</td>\n",
              "      <td>0</td>\n",
              "      <td>0</td>\n",
              "      <td>1</td>\n",
              "      <td>1</td>\n",
              "      <td>1</td>\n",
              "      <td>1</td>\n",
              "      <td>1</td>\n",
              "      <td>0</td>\n",
              "      <td>0</td>\n",
              "      <td>0</td>\n",
              "      <td>1</td>\n",
              "      <td>0</td>\n",
              "      <td>1</td>\n",
              "      <td>1</td>\n",
              "      <td>0</td>\n",
              "      <td>0</td>\n",
              "      <td>1</td>\n",
              "      <td>17</td>\n",
              "    </tr>\n",
              "    <tr>\n",
              "      <th>D</th>\n",
              "      <td>0</td>\n",
              "      <td>0</td>\n",
              "      <td>0</td>\n",
              "      <td>0</td>\n",
              "      <td>0</td>\n",
              "      <td>1</td>\n",
              "      <td>1</td>\n",
              "      <td>0</td>\n",
              "      <td>1</td>\n",
              "      <td>1</td>\n",
              "      <td>1</td>\n",
              "      <td>1</td>\n",
              "      <td>1</td>\n",
              "      <td>0</td>\n",
              "      <td>0</td>\n",
              "      <td>1</td>\n",
              "      <td>0</td>\n",
              "      <td>1</td>\n",
              "      <td>0</td>\n",
              "      <td>0</td>\n",
              "      <td>0</td>\n",
              "      <td>1</td>\n",
              "      <td>1</td>\n",
              "      <td>1</td>\n",
              "      <td>1</td>\n",
              "      <td>1</td>\n",
              "      <td>0</td>\n",
              "      <td>1</td>\n",
              "      <td>1</td>\n",
              "      <td>1</td>\n",
              "      <td>17</td>\n",
              "    </tr>\n",
              "    <tr>\n",
              "      <th>出勤者数</th>\n",
              "      <td>2</td>\n",
              "      <td>2</td>\n",
              "      <td>2</td>\n",
              "      <td>2</td>\n",
              "      <td>2</td>\n",
              "      <td>2</td>\n",
              "      <td>2</td>\n",
              "      <td>2</td>\n",
              "      <td>2</td>\n",
              "      <td>2</td>\n",
              "      <td>2</td>\n",
              "      <td>2</td>\n",
              "      <td>2</td>\n",
              "      <td>2</td>\n",
              "      <td>2</td>\n",
              "      <td>2</td>\n",
              "      <td>2</td>\n",
              "      <td>2</td>\n",
              "      <td>2</td>\n",
              "      <td>2</td>\n",
              "      <td>2</td>\n",
              "      <td>2</td>\n",
              "      <td>2</td>\n",
              "      <td>2</td>\n",
              "      <td>2</td>\n",
              "      <td>2</td>\n",
              "      <td>2</td>\n",
              "      <td>2</td>\n",
              "      <td>2</td>\n",
              "      <td>2</td>\n",
              "      <td>60</td>\n",
              "    </tr>\n",
              "  </tbody>\n",
              "</table>\n",
              "</div>"
            ],
            "text/plain": [
              "      1(日)  2(月)  3(火)  4(水)  5(木)  ...  27(金)  28(土)  29(日)  30(月)  出勤日数\n",
              "A        1     1     1     1     1  ...      1      0      0      0    17\n",
              "B        1     0     0     0     0  ...      0      1      1      0     9\n",
              "C        0     1     1     1     1  ...      1      0      0      1    17\n",
              "D        0     0     0     0     0  ...      0      1      1      1    17\n",
              "出勤者数     2     2     2     2     2  ...      2      2      2      2    60\n",
              "\n",
              "[5 rows x 31 columns]"
            ]
          },
          "metadata": {},
          "execution_count": 139
        }
      ]
    },
    {
      "cell_type": "markdown",
      "metadata": {
        "id": "IE44xdzTveFO"
      },
      "source": [
        "## 課題\n",
        "\n",
        "* 制約にかける係数の値次第で解が見つからない場合があり、適切な係数の値をどう見つけるのかよく分かっていないです。"
      ]
    }
  ]
}